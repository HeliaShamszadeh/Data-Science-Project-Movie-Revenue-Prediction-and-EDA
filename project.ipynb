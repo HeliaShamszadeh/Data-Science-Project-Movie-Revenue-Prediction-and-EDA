{
 "cells": [
  {
   "cell_type": "markdown",
   "metadata": {},
   "source": [
    "Revenue Prediction\n",
    "==================\n",
    "In this project the goal is to predict movies revenue using their features. revenue is given by ( box_office - budget ) so the main goal is to predict box office. \n",
    "\n",
    "1. Prepare and preprocess the given data. \n",
    "\n",
    "2. After exploring data find, select and especially create new features. ignore others.\n",
    "\n",
    "3. Prepare features to feed the model. \n",
    "\n",
    "4. Select and try different models.\n",
    "\n",
    "5. Document and report each step using relative plots and a brief explanation. finally report the best suited model and justify why did it performed well.\n",
    "\n",
    "\n",
    "\n",
    "- Keep in mind that in this task accuracy itself only has only part of score.\n",
    "\n",
    "- Hint: to create new features you can use credit attributes. Think of it this way, what affects box office?  "
   ]
  },
  {
   "cell_type": "markdown",
   "metadata": {},
   "source": [
    "**Tools** \n",
    "\n",
    "importing useful tools and libraries. you may use any other library as well."
   ]
  },
  {
   "cell_type": "code",
   "execution_count": null,
   "metadata": {},
   "outputs": [],
   "source": [
    "import pandas as pd\n",
    "import matplotlib.pyplot as plt\n",
    "import seaborn as sns\n",
    "import numpy as np\n",
    "\n",
    "# Modelling\n",
    "from sklearn import preprocessing, svm \n",
    "from sklearn.model_selection import train_test_split, GridSearchCV, RandomizedSearchCV, KFold\n",
    "from sklearn.linear_model import LinearRegression\n",
    "from sklearn.neural_network import MLPRegressor\n",
    "from xgboost import XGBRegressor\n",
    "from sklearn.linear_model import LogisticRegression\n",
    "from sklearn.pipeline import Pipeline\n",
    "from sklearn.compose import ColumnTransformer\n",
    "from sklearn.ensemble import RandomForestRegressor, GradientBoostingRegressor, StackingRegressor\n",
    "from sklearn.preprocessing import OneHotEncoder, StandardScaler\n",
    "from sklearn.metrics import accuracy_score, confusion_matrix, precision_score, recall_score, ConfusionMatrixDisplay\n",
    "from sklearn.model_selection import RandomizedSearchCV\n",
    "from sklearn.impute import SimpleImputer\n",
    "from sklearn.metrics import mean_squared_error, r2_score, mean_absolute_error, mean_absolute_percentage_error\n",
    "from collections import Counter\n",
    "from scipy.stats import randint\n",
    "from wordcloud import WordCloud\n",
    "\n",
    "# Tree Visualisation\n",
    "from sklearn.tree import export_graphviz\n",
    "from IPython.display import Image\n",
    "import graphviz\n",
    "import plotly.express as px\n",
    "\n",
    "import ast"
   ]
  },
  {
   "cell_type": "code",
   "execution_count": null,
   "metadata": {},
   "outputs": [],
   "source": [
    "np.random.seed(101)"
   ]
  },
  {
   "cell_type": "code",
   "execution_count": null,
   "metadata": {},
   "outputs": [],
   "source": [
    "# Your project struct must look like this,\n",
    "\n",
    "\n",
    "# |── Name_SID.zip\n",
    "# │   ├── data\n",
    "# │   │       ├── rotten_tomatoes_5000_movies.csv\n",
    "# │   │       ├── rotten_tomatoes_5000_movies.csv\n",
    "# │   ├── *.ipynb\n",
    "# │   ├── document.pdf\n",
    "\n",
    "df_movies = pd.read_csv(r\"data/rotten_tomatoes_5000_movies.csv\")\n",
    "df_credit = pd.read_csv(r\"data/rotten_tomatoes_5000_credits.csv\")\n"
   ]
  },
  {
   "cell_type": "code",
   "execution_count": null,
   "metadata": {},
   "outputs": [],
   "source": [
    "df_movies = df_movies[df_movies['rt_box_office']!=0]\n",
    "y = df_movies['rt_box_office']\n",
    "X = df_movies.drop(columns='rt_box_office')\n",
    "\n",
    "X_train, X_test, y_train, y_test = train_test_split(X, y, test_size = 0.25) "
   ]
  },
  {
   "cell_type": "code",
   "execution_count": null,
   "metadata": {},
   "outputs": [],
   "source": [
    "df_movies.info()"
   ]
  },
  {
   "cell_type": "code",
   "execution_count": null,
   "metadata": {},
   "outputs": [],
   "source": [
    "df_credit.info()"
   ]
  },
  {
   "cell_type": "code",
   "execution_count": null,
   "metadata": {},
   "outputs": [],
   "source": [
    "df_credit.head()"
   ]
  },
  {
   "cell_type": "code",
   "execution_count": null,
   "metadata": {},
   "outputs": [],
   "source": [
    "df_movies.head()"
   ]
  },
  {
   "cell_type": "markdown",
   "metadata": {},
   "source": [
    "\n",
    "\n",
    "\n",
    "\n",
    "\n",
    "# First Part: EDA"
   ]
  },
  {
   "cell_type": "code",
   "execution_count": null,
   "metadata": {},
   "outputs": [],
   "source": [
    "# Helper function to parse the 'rt_actors' column\n",
    "def parse_list_column(column):\n",
    "    \"\"\"Convert string representation of list to actual list.\"\"\"\n",
    "    return column.apply(lambda x: ast.literal_eval(x) if isinstance(x, str) else [])\n",
    "\n",
    "def extract_dict_field(column, field_name):\n",
    "    \"\"\"Extract a specific field from a dictionary within a column.\"\"\"\n",
    "    return column.apply(lambda x: x[field_name] if isinstance(x, dict) else None)\n",
    "\n",
    "# Create a temporary DataFrame for processing\n",
    "temp_df = df_movies.copy()\n",
    "\n"
   ]
  },
  {
   "cell_type": "markdown",
   "metadata": {},
   "source": [
    "### Calculate the number of possible genres"
   ]
  },
  {
   "cell_type": "code",
   "execution_count": null,
   "metadata": {},
   "outputs": [],
   "source": [
    "# Safely convert the genre column\n",
    "df_movies_genres = temp_df['rt_genres'].apply(\n",
    "    lambda x: ast.literal_eval(x) if isinstance(x, str) and x.startswith('[') else []\n",
    ")\n",
    "\n",
    "# Expand the genres\n",
    "all_genres = df_movies_genres.explode().dropna()\n",
    "\n",
    "# Extract genre names\n",
    "unique_genres = all_genres.apply(lambda x: x['name'] if isinstance(x, dict) else None).dropna().unique()\n",
    "\n",
    "# Count unique genres\n",
    "num_genres = len(unique_genres)\n",
    "\n",
    "print(f\"The number of unique genres is: {num_genres}\")\n"
   ]
  },
  {
   "cell_type": "markdown",
   "metadata": {},
   "source": [
    "### 1) What is the average earning of each movie genre?"
   ]
  },
  {
   "cell_type": "code",
   "execution_count": null,
   "metadata": {},
   "outputs": [],
   "source": [
    "df_genres_expanded = df_movies.copy()\n",
    "df_genres_expanded['rt_genres'] = parse_list_column(df_genres_expanded['rt_genres'])\n",
    "\n",
    "# Expand genres into separate rows\n",
    "genres_expanded = df_genres_expanded.explode('rt_genres')\n",
    "genres_expanded['genre_name'] = extract_dict_field(genres_expanded['rt_genres'], 'name')\n",
    "genres_expanded = genres_expanded.dropna(subset=['genre_name'])\n",
    "\n",
    "# Calculate average production budget by genre\n",
    "average_budget_by_genre = genres_expanded.groupby('genre_name')['rt_production_budget'].mean().reset_index()"
   ]
  },
  {
   "cell_type": "markdown",
   "metadata": {},
   "source": [
    "Plot"
   ]
  },
  {
   "cell_type": "code",
   "execution_count": null,
   "metadata": {},
   "outputs": [],
   "source": [
    "fig = px.bar(\n",
    "    average_budget_by_genre,\n",
    "    x='genre_name',\n",
    "    y='rt_production_budget',\n",
    "    title='Average Production Budget by Genre',\n",
    "    labels={'genre_name': 'Genre', 'rt_production_budget': 'Production Budget (USD)'},\n",
    "    text='rt_production_budget'\n",
    ")\n",
    "fig.update_traces(texttemplate='%{text:.2s}', textposition='outside')\n",
    "fig.update_layout(xaxis_title='Genre', yaxis_title='Average Production Budget (USD)', title_x=0.5)\n",
    "fig.show()"
   ]
  },
  {
   "cell_type": "markdown",
   "metadata": {},
   "source": [
    "### 2) What is the share of each country in the total cost for each genre? (List the top 5 most expensive genres by country.)"
   ]
  },
  {
   "cell_type": "code",
   "execution_count": null,
   "metadata": {},
   "outputs": [],
   "source": [
    "temp_df['rt_genres'] = parse_list_column(temp_df['rt_genres'])\n",
    "temp_df['rt_production_countries'] = parse_list_column(temp_df['rt_production_countries'])\n",
    "\n",
    "# Expand genres and countries into separate rows\n",
    "countries_expanded = temp_df.explode('rt_genres').explode('rt_production_countries')\n",
    "countries_expanded['genre_name'] = extract_dict_field(countries_expanded['rt_genres'], 'name')\n",
    "countries_expanded['country_name'] = extract_dict_field(countries_expanded['rt_production_countries'], 'name')\n",
    "\n",
    "valid_data = countries_expanded.dropna(subset=['genre_name', 'country_name'])\n",
    "\n",
    "# Group by country and genre, calculate budget and share\n",
    "country_genre_budget = valid_data.groupby(['country_name', 'genre_name'])['rt_production_budget'].sum().reset_index()\n",
    "total_budget_by_genre = country_genre_budget.groupby('genre_name')['rt_production_budget'].sum().reset_index()\n",
    "total_budget_by_genre.rename(columns={'rt_production_budget': 'total_genre_budget'}, inplace=True)\n",
    "\n",
    "country_genre_budget = country_genre_budget.merge(total_budget_by_genre, on='genre_name', how='left')\n",
    "country_genre_budget['share'] = (country_genre_budget['rt_production_budget'] / country_genre_budget['total_genre_budget']) * 100\n",
    "\n",
    "# Top 5 most expensive genres by country\n",
    "top_5_genres_per_country = country_genre_budget.sort_values(by=['country_name', 'rt_production_budget'], ascending=[True, False]).groupby('country_name').head(5)"
   ]
  },
  {
   "cell_type": "markdown",
   "metadata": {},
   "source": [
    "Plot"
   ]
  },
  {
   "cell_type": "code",
   "execution_count": null,
   "metadata": {},
   "outputs": [],
   "source": [
    "fig = px.bar(\n",
    "    top_5_genres_per_country,\n",
    "    x='genre_name',\n",
    "    y='share',\n",
    "    color='country_name',\n",
    "    title='Share of Each Country in Total Cost for Top 5 Most Expensive Genres',\n",
    "    labels={'genre_name': 'Genre', 'share': 'Share (%)', 'country_name': 'Country'},\n",
    "    text='share'\n",
    ")\n",
    "fig.update_traces(texttemplate='%{text:.2f}%', textposition='outside')\n",
    "fig.update_layout(xaxis_title='Genre', yaxis_title='Share in Total Cost (%)', title_x=0.5)\n",
    "fig.show()"
   ]
  },
  {
   "cell_type": "markdown",
   "metadata": {},
   "source": [
    "Plot for Genre \"Adventure\""
   ]
  },
  {
   "cell_type": "code",
   "execution_count": null,
   "metadata": {},
   "outputs": [],
   "source": [
    "# Filter data for the genre \"Adventure\"\n",
    "adventure_data = country_genre_budget[country_genre_budget['genre_name'] == 'Adventure']\n",
    "\n",
    "# Sort by production budget to identify the top contributing countries\n",
    "adventure_data_sorted = adventure_data.sort_values(by='rt_production_budget', ascending=False)\n",
    "\n",
    "# Plot a pie chart\n",
    "fig = px.pie(\n",
    "    adventure_data_sorted.head(10),\n",
    "    names='country_name',\n",
    "    values='rt_production_budget',\n",
    "    title='Production Budget Contribution by Country (Adventure Genre)',\n",
    "    labels={'country_name': 'Country', 'rt_production_budget': 'Production Budget (USD)'}\n",
    ")\n",
    "\n",
    "# Customize layout\n",
    "fig.update_traces(textposition='inside', textinfo='percent+label')\n",
    "fig.update_layout(title_x=0.5)\n",
    "\n",
    "# Show the plot\n",
    "fig.show()"
   ]
  },
  {
   "cell_type": "markdown",
   "metadata": {},
   "source": [
    "### 3) Compare the number of movies produced in 3 genres over the past 10 years."
   ]
  },
  {
   "cell_type": "code",
   "execution_count": null,
   "metadata": {},
   "outputs": [],
   "source": [
    "temp_df['rt_release_date'] = pd.to_datetime(temp_df['rt_release_date'], errors='coerce')\n",
    "temp_df['release_year'] = temp_df['rt_release_date'].dt.year\n",
    "\n",
    "last_10_years = temp_df[temp_df['release_year'].between(2007, 2016)]\n",
    "genres_expanded = last_10_years.explode('rt_genres')\n",
    "genres_expanded['genre_name'] = extract_dict_field(genres_expanded['rt_genres'], 'name')\n",
    "\n",
    "selected_genres = ['Action', 'Comedy', 'Drama']\n",
    "filtered_genres = genres_expanded[genres_expanded['genre_name'].isin(selected_genres)]\n",
    "genre_counts = filtered_genres.groupby(['release_year', 'genre_name']).size().reset_index(name='movie_count')"
   ]
  },
  {
   "cell_type": "markdown",
   "metadata": {},
   "source": [
    "Plot"
   ]
  },
  {
   "cell_type": "code",
   "execution_count": null,
   "metadata": {},
   "outputs": [],
   "source": [
    "fig = px.line(\n",
    "    genre_counts,\n",
    "    x='release_year',\n",
    "    y='movie_count',\n",
    "    color='genre_name',\n",
    "    title='Number of Movies Produced in Selected Genres (2007-2016)',\n",
    "    labels={'release_year': 'Year', 'movie_count': 'Number of Movies', 'genre_name': 'Genre'}\n",
    ")\n",
    "fig.update_layout(xaxis=dict(tickmode='linear', dtick=1), yaxis_title='Number of Movies', xaxis_title='Year', title_x=0.5)\n",
    "fig.show()"
   ]
  },
  {
   "cell_type": "markdown",
   "metadata": {},
   "source": [
    "### 4) On average, which country produces the longest and shortest movies?"
   ]
  },
  {
   "cell_type": "code",
   "execution_count": null,
   "metadata": {},
   "outputs": [],
   "source": [
    "temp_df = df_movies.copy()\n",
    "\n",
    "# Convert the 'rt_production_countries' column to a list of dictionaries\n",
    "temp_df['rt_production_countries'] = temp_df['rt_production_countries'].apply(\n",
    "    lambda x: ast.literal_eval(x) if isinstance(x, str) else []\n",
    ")\n",
    "\n",
    "# Expand the 'rt_production_countries' column into separate rows\n",
    "countries_expanded = temp_df.explode('rt_production_countries')\n",
    "\n",
    "# Extract country names from the dictionary\n",
    "countries_expanded['country_name'] = countries_expanded['rt_production_countries'].apply(\n",
    "    lambda x: x['name'] if isinstance(x, dict) else None\n",
    ")\n",
    "\n",
    "# Drop rows with invalid or missing data\n",
    "countries_expanded = countries_expanded.dropna(subset=['country_name', 'rt_runtime'])\n",
    "\n",
    "# Group by country and calculate the average runtime\n",
    "average_runtime_by_country = countries_expanded.groupby('country_name')['rt_runtime'].mean().reset_index()\n",
    "\n",
    "# Find the country with the longest and shortest average runtime\n",
    "longest_runtime_country = average_runtime_by_country.loc[average_runtime_by_country['rt_runtime'].idxmax()]\n",
    "shortest_runtime_country = average_runtime_by_country.loc[average_runtime_by_country['rt_runtime'].idxmin()]\n"
   ]
  },
  {
   "cell_type": "code",
   "execution_count": null,
   "metadata": {},
   "outputs": [],
   "source": [
    "print(f\"The country with the longest movies on average is: {longest_runtime_country['country_name']} ({longest_runtime_country['rt_runtime']:.2f} minutes).\")\n",
    "print(f\"The country with the shortest movies on average is: {shortest_runtime_country['country_name']} ({shortest_runtime_country['rt_runtime']:.2f} minutes).\")\n"
   ]
  },
  {
   "cell_type": "code",
   "execution_count": null,
   "metadata": {},
   "outputs": [],
   "source": [
    "fig = px.box(\n",
    "    countries_expanded,\n",
    "    x='country_name',\n",
    "    y='rt_runtime',\n",
    "    title='Distribution of Movie Runtimes by Country',\n",
    "    labels={'rt_runtime': 'Runtime (minutes)', 'country_name': 'Country'},\n",
    "    points='all'\n",
    ")\n",
    "fig.update_layout(xaxis_title='Country', yaxis_title='Runtime (minutes)', title_x=0.5)\n",
    "fig.show()"
   ]
  },
  {
   "cell_type": "code",
   "execution_count": null,
   "metadata": {},
   "outputs": [],
   "source": [
    "# Sort by runtime to get top 10 longest and shortest countries\n",
    "top_10_longest = average_runtime_by_country.nlargest(10, 'rt_runtime')\n",
    "top_10_shortest = average_runtime_by_country.nsmallest(10, 'rt_runtime')\n",
    "\n",
    "# Plot for top 10 longest runtimes\n",
    "plt.figure(figsize=(10, 5))\n",
    "plt.bar(top_10_longest['country_name'], top_10_longest['rt_runtime'], color='royalblue')\n",
    "plt.xlabel('Country')\n",
    "plt.ylabel('Average Runtime (minutes)')\n",
    "plt.title('Top 10 Countries with Longest Average Movie Runtimes')\n",
    "plt.xticks(rotation=45, ha='right')\n",
    "plt.grid(axis='y', linestyle='--', alpha=0.7)\n",
    "\n",
    "# Show runtime values on bars\n",
    "for i, v in enumerate(top_10_longest['rt_runtime']):\n",
    "    plt.text(i, v + 2, f\"{v:.2f}\", ha='center', fontsize=10)\n",
    "\n",
    "plt.show()\n",
    "\n",
    "# Plot for top 10 shortest runtimes\n",
    "plt.figure(figsize=(10, 5))\n",
    "plt.bar(top_10_shortest['country_name'], top_10_shortest['rt_runtime'], color='tomato')\n",
    "plt.xlabel('Country')\n",
    "plt.ylabel('Average Runtime (minutes)')\n",
    "plt.title('Top 10 Countries with Shortest Average Movie Runtimes')\n",
    "plt.xticks(rotation=45, ha='right')\n",
    "plt.grid(axis='y', linestyle='--', alpha=0.7)\n",
    "\n",
    "# Show runtime values on bars\n",
    "for i, v in enumerate(top_10_shortest['rt_runtime']):\n",
    "    plt.text(i, v + 2, f\"{v:.2f}\", ha='center', fontsize=10)\n",
    "\n",
    "plt.show()\n"
   ]
  },
  {
   "cell_type": "markdown",
   "metadata": {},
   "source": [
    "### 5) Apart from English, what are the most frequently used languages in movies?"
   ]
  },
  {
   "cell_type": "code",
   "execution_count": null,
   "metadata": {},
   "outputs": [],
   "source": [
    "# Create a temporary DataFrame for processing\n",
    "temp_df = df_movies.copy()\n",
    "\n",
    "# Parse the 'rt_languages' column\n",
    "temp_df['rt_languages'] = parse_list_column(temp_df['rt_languages'])\n",
    "\n",
    "# Expand the languages into separate rows\n",
    "languages_expanded = temp_df.explode('rt_languages')\n",
    "\n",
    "# Extract the language names from the dictionaries\n",
    "languages_expanded['language_name'] = languages_expanded['rt_languages'].apply(\n",
    "    lambda x: x['name'] if isinstance(x, dict) else None\n",
    ")\n",
    "\n",
    "# Drop rows with missing or invalid languages\n",
    "languages_expanded = languages_expanded.dropna(subset=['language_name'])\n",
    "\n",
    "# Exclude English\n",
    "non_english_languages = languages_expanded[languages_expanded['language_name'] != 'English']\n",
    "\n",
    "# Count the occurrences of each language\n",
    "language_counts = non_english_languages['language_name'].value_counts().reset_index()\n",
    "language_counts.columns = ['language_name', 'movie_count']\n"
   ]
  },
  {
   "cell_type": "code",
   "execution_count": null,
   "metadata": {},
   "outputs": [],
   "source": [
    "# Display the top 10 most frequently used languages\n",
    "print(\"Top 10 Most Frequently Used Languages (Excluding English):\")\n",
    "print(language_counts.head(10))"
   ]
  },
  {
   "cell_type": "markdown",
   "metadata": {},
   "source": [
    "Plot"
   ]
  },
  {
   "cell_type": "code",
   "execution_count": null,
   "metadata": {},
   "outputs": [],
   "source": [
    "# Plot a pie chart for the top 10 languages\n",
    "fig = px.pie(\n",
    "    language_counts.head(10), \n",
    "    values='movie_count', \n",
    "    names='language_name',\n",
    "    title='Top 10 Most Frequently Used Languages in Movies (Excluding English)',\n",
    "    hole=0.4  # To create a donut chart (optional)\n",
    ")\n",
    "\n",
    "# Show the chart\n",
    "fig.show()"
   ]
  },
  {
   "cell_type": "markdown",
   "metadata": {},
   "source": [
    "### 6) In the past 10 years, what has been the average annual cost of the film industry in the United States? (with a yearly breakdown) HANDLE NAN"
   ]
  },
  {
   "cell_type": "code",
   "execution_count": null,
   "metadata": {},
   "outputs": [],
   "source": [
    "countries_expanded['rt_release_date'] = pd.to_datetime(countries_expanded['rt_release_date'], errors='coerce')\n",
    "# Extract only year\n",
    "countries_expanded['release_year'] = countries_expanded['rt_release_date'].dt.year\n",
    "\n",
    "# Filter U.S. movies\n",
    "us_movies = countries_expanded[countries_expanded['country_name'] == 'United States of America']\n",
    "\n",
    "# Filter last 10 years\n",
    "current_year = pd.Timestamp.now().year\n",
    "us_movies = us_movies[us_movies['release_year'].between(countries_expanded['release_year'].max() - 10, current_year)]\n",
    "\n",
    "# Compute yearly average production budget\n",
    "yearly_cost = us_movies.groupby('release_year')['rt_production_budget'].mean().reset_index()\n",
    "yearly_cost.fillna(0, inplace=True)"
   ]
  },
  {
   "cell_type": "markdown",
   "metadata": {},
   "source": [
    "Line Chart"
   ]
  },
  {
   "cell_type": "code",
   "execution_count": null,
   "metadata": {},
   "outputs": [],
   "source": [
    "fig = px.line(\n",
    "    yearly_cost,\n",
    "    x='release_year',\n",
    "    y='rt_production_budget',\n",
    "    title='Average Annual Cost of the Film Industry in the U.S. (Last 10 Years)',\n",
    "    labels={'release_year': 'Year', 'rt_production_budget': 'Average Production Budget (USD)'}\n",
    ")\n",
    "\n",
    "fig.update_traces(mode=\"lines+markers\")\n",
    "\n",
    "# Automatically determine y-axis tick interval based on the data range\n",
    "y_min = yearly_cost['rt_production_budget'].min()\n",
    "y_max = yearly_cost['rt_production_budget'].max()\n",
    "y_interval = (y_max - y_min) / 10  # Reduce the interval for finer tick spacing\n",
    "\n",
    "fig.update_layout(\n",
    "    xaxis=dict(tickmode='linear', dtick=1),\n",
    "    yaxis=dict(tickmode='linear', dtick=y_interval),  # Adjust y-axis tick spacing\n",
    "    yaxis_title='Production Budget (USD)', \n",
    "    xaxis_title='Year', \n",
    "    title_x=0.5\n",
    ")\n",
    "\n",
    "fig.show()"
   ]
  },
  {
   "cell_type": "markdown",
   "metadata": {},
   "source": [
    "### 7) Compare the cost trend for other countries over the past 10 years (excluding the U.S.).  BUGGY"
   ]
  },
  {
   "cell_type": "code",
   "execution_count": null,
   "metadata": {},
   "outputs": [],
   "source": [
    "temp_df = df_movies.copy()\n",
    "temp_df['rt_release_date'] = pd.to_datetime(temp_df['rt_release_date'], errors='coerce')\n",
    "temp_df = temp_df.dropna(subset=['rt_release_date'])  # Drop rows with invalid release dates\n",
    "temp_df['release_year'] = temp_df['rt_release_date'].dt.year\n",
    "\n",
    "temp_df['rt_production_countries'] = parse_list_column(temp_df['rt_production_countries'])\n",
    "\n",
    "countries_expanded = temp_df.explode('rt_production_countries')\n",
    "\n",
    "countries_expanded['country_name'] = countries_expanded['rt_production_countries'].apply(\n",
    "    lambda x: x['name'] if isinstance(x, dict) else None\n",
    ")\n",
    "\n",
    "non_us_movies = countries_expanded[countries_expanded['country_name'] != 'United States of America']\n",
    "\n",
    "# filter movies released in the past 10 years\n",
    "max_year = pd.Timestamp.now().year\n",
    "non_us_movies_last_10_years = non_us_movies[non_us_movies['release_year'].between(current_year - 10, current_year)]\n",
    "\n",
    "# group by release year and country, calculate the average production budget\n",
    "yearly_cost_non_us = (\n",
    "    non_us_movies_last_10_years.groupby(['release_year', 'country_name'])['rt_production_budget']\n",
    "    .mean()\n",
    "    .reset_index()\n",
    "    .rename(columns={'rt_production_budget': 'average_production_budget'})\n",
    ")\n",
    "\n",
    "time_span = 10 \n",
    "non_us_movies_last_10_years = non_us_movies[non_us_movies['release_year'].between(current_year - time_span, current_year)]\n",
    "\n",
    "\n",
    "# group by release year and country, calculate the average production budget\n",
    "yearly_cost_non_us = (\n",
    "    non_us_movies_last_10_years.groupby(['release_year', 'country_name'])['rt_production_budget']\n",
    "    .mean()\n",
    "    .reset_index()\n",
    "    .rename(columns={'rt_production_budget': 'average_production_budget'})\n",
    ")"
   ]
  },
  {
   "cell_type": "markdown",
   "metadata": {},
   "source": [
    "Plot"
   ]
  },
  {
   "cell_type": "code",
   "execution_count": null,
   "metadata": {},
   "outputs": [],
   "source": [
    "fig = px.line(\n",
    "    yearly_cost_non_us,\n",
    "    x='release_year',\n",
    "    y='average_production_budget',\n",
    "    color='country_name',\n",
    "    title=f'Average Annual Cost of the Film Industry (Excluding U.S.) Over the Past {time_span} Years',\n",
    "    labels={'release_year': 'Year', 'average_production_budget': 'Average Production Budget (USD)', 'country_name': 'Country'}\n",
    ")\n",
    "\n",
    "fig.update_traces(mode=\"lines+markers\")  \n",
    "fig.update_layout(\n",
    "    xaxis=dict(tickmode='linear', dtick=1),  # Show yearly ticks\n",
    "    yaxis_title='Average Production Budget (USD)',\n",
    "    xaxis_title='Year',\n",
    "    title_x=0.5\n",
    ")\n",
    "\n",
    "fig.show()\n"
   ]
  },
  {
   "cell_type": "markdown",
   "metadata": {},
   "source": [
    "- Explanation: Since the maximum year in the dataset is 2016, as a result, data is shown for 2015 (2025 - 10) and 2016 (maximum available year)."
   ]
  },
  {
   "cell_type": "markdown",
   "metadata": {},
   "source": [
    "Plot for last 10 years from 2016:"
   ]
  },
  {
   "cell_type": "code",
   "execution_count": null,
   "metadata": {},
   "outputs": [],
   "source": [
    "time_span = 10 \n",
    "non_us_movies_last_10_years = non_us_movies[non_us_movies['release_year'].between(non_us_movies['release_year'].max() - time_span, current_year)]\n",
    "\n",
    "\n",
    "# group by release year and country, calculate the average production budget\n",
    "yearly_cost_non_us = (\n",
    "    non_us_movies_last_10_years.groupby(['release_year', 'country_name'])['rt_production_budget']\n",
    "    .mean()\n",
    "    .reset_index()\n",
    "    .rename(columns={'rt_production_budget': 'average_production_budget'})\n",
    ")\n",
    "\n",
    "fig = px.line(\n",
    "    yearly_cost_non_us,\n",
    "    x='release_year',\n",
    "    y='average_production_budget',\n",
    "    color='country_name',\n",
    "    title=f'Average Annual Cost of the Film Industry (Excluding U.S.) Over the Past {time_span} Years',\n",
    "    labels={'release_year': 'Year', 'average_production_budget': 'Average Production Budget (USD)', 'country_name': 'Country'}\n",
    ")\n",
    "\n",
    "fig.update_traces(mode=\"lines+markers\")  \n",
    "fig.update_layout(\n",
    "    xaxis=dict(tickmode='linear', dtick=1),  # Show yearly ticks\n",
    "    yaxis_title='Average Production Budget (USD)',\n",
    "    xaxis_title='Year',\n",
    "    title_x=0.5\n",
    ")\n",
    "\n",
    "fig.show()\n"
   ]
  },
  {
   "cell_type": "code",
   "execution_count": null,
   "metadata": {},
   "outputs": [],
   "source": [
    "temp_df = df_movies.copy()\n",
    "temp_df['rt_release_date'] = pd.to_datetime(temp_df['rt_release_date'], errors='coerce')\n",
    "temp_df = temp_df.dropna(subset=['rt_release_date'])  # Drop rows with invalid release dates\n",
    "temp_df['release_year'] = temp_df['rt_release_date'].dt.year\n",
    "\n",
    "# Parse country data\n",
    "temp_df['rt_production_countries'] = parse_list_column(temp_df['rt_production_countries'])\n",
    "countries_expanded = temp_df.explode('rt_production_countries')\n",
    "\n",
    "# Extract country names\n",
    "countries_expanded['country_name'] = countries_expanded['rt_production_countries'].apply(\n",
    "    lambda x: x['name'] if isinstance(x, dict) else None\n",
    ")\n",
    "\n",
    "# Exclude US movies\n",
    "non_us_movies = countries_expanded[countries_expanded['country_name'] != 'United States of America']\n",
    "\n",
    "# Define current year and time span\n",
    "current_year = pd.Timestamp.now().year\n",
    "time_span = 10\n",
    "\n",
    "# Filter movies released in the past 10 years\n",
    "non_us_movies_last_10_years = non_us_movies[\n",
    "    non_us_movies['release_year'].between(non_us_movies['release_year'].max() - time_span, current_year)\n",
    "]\n",
    "\n",
    "# Group by release year and sum the production budgets\n",
    "yearly_cumulative_budget_non_us = (\n",
    "    non_us_movies_last_10_years.groupby('release_year')['rt_production_budget']\n",
    "    .sum()\n",
    "    .reset_index()\n",
    "    .rename(columns={'rt_production_budget': 'cumulative_production_budget'})\n",
    ")\n",
    "\n",
    "# Ensure budgets are non-negative (optional safety check)\n",
    "yearly_cumulative_budget_non_us['cumulative_production_budget'] = yearly_cumulative_budget_non_us['cumulative_production_budget'].clip(lower=0)\n",
    "\n",
    "print(yearly_cumulative_budget_non_us)\n"
   ]
  },
  {
   "cell_type": "code",
   "execution_count": null,
   "metadata": {},
   "outputs": [],
   "source": [
    "\n",
    "# Plot cumulative production budget over the years\n",
    "plt.figure(figsize=(10, 5))\n",
    "plt.plot(\n",
    "    yearly_cumulative_budget_non_us['release_year'],\n",
    "    yearly_cumulative_budget_non_us['cumulative_production_budget'],\n",
    "    marker='o',\n",
    "    linestyle='-',\n",
    "    color='royalblue',\n",
    "    linewidth=2\n",
    ")\n",
    "\n",
    "# Labels and title\n",
    "plt.xlabel('Year')\n",
    "plt.ylabel('Cumulative Production Budget (USD)')\n",
    "plt.title('Cumulative Production Budget of Non-U.S. Movies (Last 10 Years)')\n",
    "plt.xticks(yearly_cumulative_budget_non_us['release_year'], rotation=45)\n",
    "plt.grid(True, linestyle='--', alpha=0.6)\n",
    "\n",
    "# Show plot\n",
    "plt.show()\n"
   ]
  },
  {
   "cell_type": "markdown",
   "metadata": {},
   "source": [
    "### 8) What movies has Johnny Depp acted in?"
   ]
  },
  {
   "cell_type": "code",
   "execution_count": null,
   "metadata": {},
   "outputs": [],
   "source": [
    "temp_df = df_credit.copy()\n",
    "\n",
    "temp_df['rt_actors'] = parse_list_column(temp_df['rt_actors'])\n",
    "johnny_depp_movies = temp_df[temp_df['rt_actors'].apply(\n",
    "    lambda actors: any(actor['name'] == 'Johnny Depp' for actor in actors if isinstance(actor, dict))\n",
    ")]\n",
    "\n",
    "johnny_depp_movies = johnny_depp_movies[['rt_title', 'rt_movie_id']]\n",
    "print(\"Movies Johnny Depp has acted in:\")\n",
    "print(johnny_depp_movies)\n"
   ]
  },
  {
   "cell_type": "markdown",
   "metadata": {},
   "source": [
    "Plot"
   ]
  },
  {
   "cell_type": "code",
   "execution_count": null,
   "metadata": {},
   "outputs": [],
   "source": [
    "movie_titles = \" \".join(johnny_depp_movies['rt_title'])\n",
    "wordcloud = WordCloud(width=800, height=400, background_color='white').generate(movie_titles)\n",
    "\n",
    "plt.figure(figsize=(10, 6))\n",
    "plt.imshow(wordcloud, interpolation='bilinear')\n",
    "plt.axis('off')\n",
    "plt.title(\"Movies Johnny Depp Has Acted In\", fontsize=16)\n",
    "plt.show()\n"
   ]
  },
  {
   "cell_type": "markdown",
   "metadata": {},
   "source": [
    "### 9) On average, what percentage of lead roles (top 5 in movies) are played by men and what percentage by women?"
   ]
  },
  {
   "cell_type": "code",
   "execution_count": null,
   "metadata": {},
   "outputs": [],
   "source": [
    "temp_df = df_credit.copy()\n",
    "\n",
    "temp_df['parsed_actors'] = temp_df['rt_actors'].apply(\n",
    "    lambda x: ast.literal_eval(x) if isinstance(x, str) else []\n",
    ")\n",
    "\n",
    "actors_expanded = temp_df.explode('parsed_actors')\n",
    "actors_expanded['gender'] = actors_expanded['parsed_actors'].apply(\n",
    "    lambda x: x['gender'] if isinstance(x, dict) else None\n",
    ")\n",
    "actors_expanded['order'] = actors_expanded['parsed_actors'].apply(\n",
    "    lambda x: x['order'] if isinstance(x, dict) else None\n",
    ")\n",
    "\n",
    "# (top 5 by order)\n",
    "lead_roles = actors_expanded[actors_expanded['order'] < 5]\n",
    "\n",
    "gender_distribution = lead_roles['gender'].value_counts(normalize=True) * 100\n",
    "\n",
    "gender_labels = {1: 'Female', 2: 'Male', 0: 'Unknown'}\n",
    "gender_distribution.index = gender_distribution.index.map(gender_labels)"
   ]
  },
  {
   "cell_type": "code",
   "execution_count": null,
   "metadata": {},
   "outputs": [],
   "source": [
    "# the results\n",
    "print(\"Average Percentage of Lead Roles by Gender:\")\n",
    "print(gender_distribution)"
   ]
  },
  {
   "cell_type": "markdown",
   "metadata": {},
   "source": [
    "Plot"
   ]
  },
  {
   "cell_type": "code",
   "execution_count": null,
   "metadata": {},
   "outputs": [],
   "source": [
    "fig = px.pie(\n",
    "    names=gender_distribution.index,\n",
    "    values=gender_distribution.values,\n",
    "    title='Average Percentage of Lead Roles by Gender',\n",
    "    labels={'value': 'Percentage', 'index': 'Gender'}\n",
    ")\n",
    "\n",
    "fig.update_traces(textposition='inside', textinfo='percent+label')\n",
    "fig.show()"
   ]
  },
  {
   "cell_type": "markdown",
   "metadata": {},
   "source": [
    "Each Role Separately:"
   ]
  },
  {
   "cell_type": "code",
   "execution_count": null,
   "metadata": {},
   "outputs": [],
   "source": [
    "# Create a temporary copy of the dataset\n",
    "temp_df = df_credit.copy()\n",
    "\n",
    "# Parse the actors list into proper format\n",
    "temp_df['parsed_actors'] = temp_df['rt_actors'].apply(\n",
    "    lambda x: ast.literal_eval(x) if isinstance(x, str) else []\n",
    ")\n",
    "\n",
    "# Expand the actors list\n",
    "actors_expanded = temp_df.explode('parsed_actors')\n",
    "\n",
    "# Extract gender and order from the parsed actor data\n",
    "actors_expanded['gender'] = actors_expanded['parsed_actors'].apply(\n",
    "    lambda x: x['gender'] if isinstance(x, dict) else None\n",
    ")\n",
    "actors_expanded['order'] = actors_expanded['parsed_actors'].apply(\n",
    "    lambda x: x['order'] if isinstance(x, dict) else None\n",
    ")\n",
    "\n",
    "# Filter out the top 5 by order (lead roles)\n",
    "lead_roles = actors_expanded[actors_expanded['order'] < 5]\n",
    "\n",
    "# Gender labels for readability\n",
    "gender_labels = {1: 'Female', 2: 'Male', 0: 'Unknown'}\n",
    "lead_roles['gender'] = lead_roles['gender'].map(gender_labels)\n",
    "\n",
    "# Find the percentage gender distribution for each order (e.g., order 1, order 2)\n",
    "gender_distribution_by_order = lead_roles.groupby('order')['gender'].value_counts(normalize=True) * 100\n"
   ]
  },
  {
   "cell_type": "markdown",
   "metadata": {},
   "source": [
    "Plot"
   ]
  },
  {
   "cell_type": "code",
   "execution_count": null,
   "metadata": {},
   "outputs": [],
   "source": [
    "# Gender distribution by role order\n",
    "gender_distribution_by_order = lead_roles.groupby('order')['gender'].value_counts(normalize=True) * 100\n",
    "\n",
    "# Reset the index for easier plotting\n",
    "gender_distribution_by_order = gender_distribution_by_order.reset_index(name='percentage')\n",
    "\n",
    "# Plot\n",
    "plt.figure(figsize=(10, 6))\n",
    "sns.barplot(\n",
    "    data=gender_distribution_by_order,\n",
    "    x='order', \n",
    "    y='percentage', \n",
    "    hue='gender', \n",
    "    palette='Set2'\n",
    ")\n",
    "\n",
    "# Title and labels\n",
    "plt.title('Gender Distribution by Role Order (Top 5 Roles)', fontsize=14)\n",
    "plt.xlabel('Role Order', fontsize=12)\n",
    "plt.ylabel('Percentage (%)', fontsize=12)\n",
    "plt.xticks(rotation=0)\n",
    "plt.legend(title='Gender', loc='upper right')\n",
    "\n",
    "# Show the plot\n",
    "plt.tight_layout()\n",
    "plt.show()"
   ]
  },
  {
   "cell_type": "markdown",
   "metadata": {},
   "source": [
    "### 11) What are the most popular genres of movies in the past 10 years? (Once based on the number of reviews and once based on the critics' scores.) (SHOULD BE RECHECKED)"
   ]
  },
  {
   "cell_type": "code",
   "execution_count": null,
   "metadata": {},
   "outputs": [],
   "source": [
    "temp_df = df_movies.copy()\n",
    "\n",
    "temp_df['rt_genres'] = temp_df['rt_genres'].apply(\n",
    "    lambda x: ast.literal_eval(x) if isinstance(x, str) else []\n",
    ")\n",
    "\n",
    "genres_expanded = temp_df.explode('rt_genres')\n",
    "\n",
    "genres_expanded['genre_name'] = genres_expanded['rt_genres'].apply(\n",
    "    lambda x: x['name'] if isinstance(x, dict) else None\n",
    ")\n",
    "\n",
    "genres_expanded['release_year'] = pd.to_datetime(genres_expanded['rt_release_date'], errors='coerce').dt.year\n",
    "genres_expanded = genres_expanded[genres_expanded['release_year'].between(genres_expanded['release_year'].max() - 11, genres_expanded['release_year'].max() - 1)]\n",
    "\n",
    "reviews_popularity = genres_expanded.groupby('genre_name')['rt_review_count'].sum().reset_index()\n",
    "reviews_popularity = reviews_popularity.sort_values(by='rt_review_count', ascending=False)\n",
    "\n",
    "critics_popularity = genres_expanded.groupby('genre_name')['rt_critics_score'].mean().reset_index()\n",
    "critics_popularity = critics_popularity.sort_values(by='rt_critics_score', ascending=False)\n"
   ]
  },
  {
   "cell_type": "markdown",
   "metadata": {},
   "source": [
    "Plot 1"
   ]
  },
  {
   "cell_type": "code",
   "execution_count": null,
   "metadata": {},
   "outputs": [],
   "source": [
    "fig_reviews = px.bar(\n",
    "    reviews_popularity,\n",
    "    x='genre_name',\n",
    "    y='rt_review_count',\n",
    "    title='Most Popular Genres (Based on Number of Reviews - Past 10 Years)',\n",
    "    labels={'genre_name': 'Genre', 'rt_review_count': 'Number of Reviews'},\n",
    "    text='rt_review_count'\n",
    ")\n",
    "fig_reviews.update_traces(textposition='outside')\n",
    "fig_reviews.update_layout(\n",
    "    xaxis_title='Genre',\n",
    "    yaxis_title='Number of Reviews',\n",
    "    title_x=0.5\n",
    ")\n",
    "\n",
    "fig_reviews.show()"
   ]
  },
  {
   "cell_type": "markdown",
   "metadata": {},
   "source": [
    "Plot 2"
   ]
  },
  {
   "cell_type": "code",
   "execution_count": null,
   "metadata": {},
   "outputs": [],
   "source": [
    "# Plot 2: Popular genres based on critics' scores\n",
    "fig_critics = px.bar(\n",
    "    critics_popularity,\n",
    "    x='genre_name',\n",
    "    y='rt_critics_score',\n",
    "    title='Most Popular Genres (Based on Critics\\' Scores - Past 10 Years)',\n",
    "    labels={'genre_name': 'Genre', 'rt_critics_score': 'Average Critics\\' Score'},\n",
    "    text='rt_critics_score'\n",
    ")\n",
    "\n",
    "# Update trace to format text to show 2 decimal places\n",
    "fig_critics.update_traces(\n",
    "    texttemplate='%{text:.2f}',  # Format text to 2 decimal places\n",
    "    textposition='outside'\n",
    ")\n",
    "\n",
    "# Update layout\n",
    "fig_critics.update_layout(\n",
    "    xaxis_title='Genre',\n",
    "    yaxis_title='Average Critics\\' Score',\n",
    "    title_x=0.5\n",
    ")\n",
    "\n",
    "# Show the plot\n",
    "fig_critics.show()\n"
   ]
  },
  {
   "cell_type": "code",
   "execution_count": null,
   "metadata": {},
   "outputs": [],
   "source": [
    "# Group by release year and genre, calculating the sum of reviews and average critics score\n",
    "reviews_yearly = genres_expanded.groupby(['release_year', 'genre_name'])['rt_review_count'].sum().reset_index()\n",
    "critics_yearly = genres_expanded.groupby(['release_year', 'genre_name'])['rt_critics_score'].mean().reset_index()"
   ]
  },
  {
   "cell_type": "code",
   "execution_count": 58,
   "metadata": {},
   "outputs": [
    {
     "data": {
      "application/vnd.plotly.v1+json": {
       "config": {
        "plotlyServerURL": "https://plot.ly"
       },
       "data": [
        {
         "alignmentgroup": "True",
         "hovertemplate": "genre_name=Action<br>Year=%{x}<br>Number of Reviews=%{y}<extra></extra>",
         "legendgroup": "Action",
         "marker": {
          "color": "#636efa",
          "pattern": {
           "shape": ""
          }
         },
         "name": "Action",
         "offsetgroup": "Action",
         "orientation": "v",
         "showlegend": true,
         "textposition": "auto",
         "type": "bar",
         "x": [
          2006,
          2007,
          2008,
          2009,
          2010,
          2011,
          2012,
          2013,
          2014,
          2015,
          2016
         ],
         "xaxis": "x",
         "y": [
          47302,
          41112,
          60696,
          64760,
          69542,
          80611,
          98082,
          118207,
          121176,
          82814,
          64769
         ],
         "yaxis": "y"
        },
        {
         "alignmentgroup": "True",
         "hovertemplate": "genre_name=Adventure<br>Year=%{x}<br>Number of Reviews=%{y}<extra></extra>",
         "legendgroup": "Adventure",
         "marker": {
          "color": "#EF553B",
          "pattern": {
           "shape": ""
          }
         },
         "name": "Adventure",
         "offsetgroup": "Adventure",
         "orientation": "v",
         "showlegend": true,
         "textposition": "auto",
         "type": "bar",
         "x": [
          2006,
          2007,
          2008,
          2009,
          2010,
          2011,
          2012,
          2013,
          2014,
          2015,
          2016
         ],
         "xaxis": "x",
         "y": [
          41482,
          33974,
          40644,
          69392,
          67136,
          58819,
          84767,
          85753,
          92108,
          91138,
          63591
         ],
         "yaxis": "y"
        },
        {
         "alignmentgroup": "True",
         "hovertemplate": "genre_name=Animation<br>Year=%{x}<br>Number of Reviews=%{y}<extra></extra>",
         "legendgroup": "Animation",
         "marker": {
          "color": "#00cc96",
          "pattern": {
           "shape": ""
          }
         },
         "name": "Animation",
         "offsetgroup": "Animation",
         "orientation": "v",
         "showlegend": true,
         "textposition": "auto",
         "type": "bar",
         "x": [
          2006,
          2007,
          2008,
          2009,
          2010,
          2011,
          2012,
          2013,
          2014,
          2015,
          2016
         ],
         "xaxis": "x",
         "y": [
          14229,
          13531,
          14757,
          20305,
          23834,
          14248,
          20559,
          21516,
          17248,
          18990,
          8325
         ],
         "yaxis": "y"
        },
        {
         "alignmentgroup": "True",
         "hovertemplate": "genre_name=Comedy<br>Year=%{x}<br>Number of Reviews=%{y}<extra></extra>",
         "legendgroup": "Comedy",
         "marker": {
          "color": "#ab63fa",
          "pattern": {
           "shape": ""
          }
         },
         "name": "Comedy",
         "offsetgroup": "Comedy",
         "orientation": "v",
         "showlegend": true,
         "textposition": "auto",
         "type": "bar",
         "x": [
          2006,
          2007,
          2008,
          2009,
          2010,
          2011,
          2012,
          2013,
          2014,
          2015,
          2016
         ],
         "xaxis": "x",
         "y": [
          41186,
          34610,
          37865,
          50244,
          47442,
          52885,
          64396,
          59712,
          60311,
          47916,
          34230
         ],
         "yaxis": "y"
        },
        {
         "alignmentgroup": "True",
         "hovertemplate": "genre_name=Crime<br>Year=%{x}<br>Number of Reviews=%{y}<extra></extra>",
         "legendgroup": "Crime",
         "marker": {
          "color": "#FFA15A",
          "pattern": {
           "shape": ""
          }
         },
         "name": "Crime",
         "offsetgroup": "Crime",
         "orientation": "v",
         "showlegend": true,
         "textposition": "auto",
         "type": "bar",
         "x": [
          2006,
          2007,
          2008,
          2009,
          2010,
          2011,
          2012,
          2013,
          2014,
          2015,
          2016
         ],
         "xaxis": "x",
         "y": [
          19314,
          20895,
          29514,
          15619,
          19071,
          24657,
          30962,
          50933,
          20783,
          26176,
          15969
         ],
         "yaxis": "y"
        },
        {
         "alignmentgroup": "True",
         "hovertemplate": "genre_name=Documentary<br>Year=%{x}<br>Number of Reviews=%{y}<extra></extra>",
         "legendgroup": "Documentary",
         "marker": {
          "color": "#19d3f3",
          "pattern": {
           "shape": ""
          }
         },
         "name": "Documentary",
         "offsetgroup": "Documentary",
         "orientation": "v",
         "showlegend": true,
         "textposition": "auto",
         "type": "bar",
         "x": [
          2006,
          2007,
          2008,
          2009,
          2010,
          2011,
          2012,
          2013,
          2014,
          2015
         ],
         "xaxis": "x",
         "y": [
          664,
          366,
          754,
          532,
          819,
          537,
          588,
          494,
          17,
          67
         ],
         "yaxis": "y"
        },
        {
         "alignmentgroup": "True",
         "hovertemplate": "genre_name=Drama<br>Year=%{x}<br>Number of Reviews=%{y}<extra></extra>",
         "legendgroup": "Drama",
         "marker": {
          "color": "#FF6692",
          "pattern": {
           "shape": ""
          }
         },
         "name": "Drama",
         "offsetgroup": "Drama",
         "orientation": "v",
         "showlegend": true,
         "textposition": "auto",
         "type": "bar",
         "x": [
          2006,
          2007,
          2008,
          2009,
          2010,
          2011,
          2012,
          2013,
          2014,
          2015,
          2016
         ],
         "xaxis": "x",
         "y": [
          58045,
          47862,
          60574,
          48795,
          60120,
          54920,
          84322,
          99838,
          98973,
          88773,
          19565
         ],
         "yaxis": "y"
        },
        {
         "alignmentgroup": "True",
         "hovertemplate": "genre_name=Family<br>Year=%{x}<br>Number of Reviews=%{y}<extra></extra>",
         "legendgroup": "Family",
         "marker": {
          "color": "#B6E880",
          "pattern": {
           "shape": ""
          }
         },
         "name": "Family",
         "offsetgroup": "Family",
         "orientation": "v",
         "showlegend": true,
         "textposition": "auto",
         "type": "bar",
         "x": [
          2006,
          2007,
          2008,
          2009,
          2010,
          2011,
          2012,
          2013,
          2014,
          2015,
          2016
         ],
         "xaxis": "x",
         "y": [
          21360,
          25628,
          24358,
          30718,
          35408,
          17931,
          22301,
          28740,
          26169,
          24220,
          10993
         ],
         "yaxis": "y"
        },
        {
         "alignmentgroup": "True",
         "hovertemplate": "genre_name=Fantasy<br>Year=%{x}<br>Number of Reviews=%{y}<extra></extra>",
         "legendgroup": "Fantasy",
         "marker": {
          "color": "#FF97FF",
          "pattern": {
           "shape": ""
          }
         },
         "name": "Fantasy",
         "offsetgroup": "Fantasy",
         "orientation": "v",
         "showlegend": true,
         "textposition": "auto",
         "type": "bar",
         "x": [
          2006,
          2007,
          2008,
          2009,
          2010,
          2011,
          2012,
          2013,
          2014,
          2015,
          2016
         ],
         "xaxis": "x",
         "y": [
          29886,
          32265,
          20571,
          31101,
          27365,
          23578,
          51682,
          43545,
          37128,
          12316,
          29772
         ],
         "yaxis": "y"
        },
        {
         "alignmentgroup": "True",
         "hovertemplate": "genre_name=Foreign<br>Year=%{x}<br>Number of Reviews=%{y}<extra></extra>",
         "legendgroup": "Foreign",
         "marker": {
          "color": "#FECB52",
          "pattern": {
           "shape": ""
          }
         },
         "name": "Foreign",
         "offsetgroup": "Foreign",
         "orientation": "v",
         "showlegend": true,
         "textposition": "auto",
         "type": "bar",
         "x": [
          2006,
          2007,
          2008,
          2009,
          2010,
          2011,
          2012
         ],
         "xaxis": "x",
         "y": [
          7,
          37,
          19,
          43,
          29,
          25,
          6
         ],
         "yaxis": "y"
        },
        {
         "alignmentgroup": "True",
         "hovertemplate": "genre_name=History<br>Year=%{x}<br>Number of Reviews=%{y}<extra></extra>",
         "legendgroup": "History",
         "marker": {
          "color": "#636efa",
          "pattern": {
           "shape": ""
          }
         },
         "name": "History",
         "offsetgroup": "History",
         "orientation": "v",
         "showlegend": true,
         "textposition": "auto",
         "type": "bar",
         "x": [
          2006,
          2007,
          2008,
          2009,
          2010,
          2011,
          2012,
          2013,
          2014,
          2015,
          2016
         ],
         "xaxis": "x",
         "y": [
          2561,
          1415,
          3420,
          3663,
          3223,
          2041,
          3344,
          8625,
          9539,
          6597,
          2701
         ],
         "yaxis": "y"
        },
        {
         "alignmentgroup": "True",
         "hovertemplate": "genre_name=Horror<br>Year=%{x}<br>Number of Reviews=%{y}<extra></extra>",
         "legendgroup": "Horror",
         "marker": {
          "color": "#EF553B",
          "pattern": {
           "shape": ""
          }
         },
         "name": "Horror",
         "offsetgroup": "Horror",
         "orientation": "v",
         "showlegend": true,
         "textposition": "auto",
         "type": "bar",
         "x": [
          2006,
          2007,
          2008,
          2009,
          2010,
          2011,
          2012,
          2013,
          2014,
          2015,
          2016
         ],
         "xaxis": "x",
         "y": [
          7371,
          20011,
          4217,
          15201,
          12742,
          8639,
          14548,
          27220,
          11351,
          10886,
          11928
         ],
         "yaxis": "y"
        },
        {
         "alignmentgroup": "True",
         "hovertemplate": "genre_name=Music<br>Year=%{x}<br>Number of Reviews=%{y}<extra></extra>",
         "legendgroup": "Music",
         "marker": {
          "color": "#00cc96",
          "pattern": {
           "shape": ""
          }
         },
         "name": "Music",
         "offsetgroup": "Music",
         "orientation": "v",
         "showlegend": true,
         "textposition": "auto",
         "type": "bar",
         "x": [
          2006,
          2007,
          2008,
          2009,
          2010,
          2011,
          2012,
          2013,
          2014,
          2015,
          2016
         ],
         "xaxis": "x",
         "y": [
          2334,
          4692,
          2333,
          3514,
          260,
          1234,
          5333,
          2649,
          3101,
          4890,
          2
         ],
         "yaxis": "y"
        },
        {
         "alignmentgroup": "True",
         "hovertemplate": "genre_name=Mystery<br>Year=%{x}<br>Number of Reviews=%{y}<extra></extra>",
         "legendgroup": "Mystery",
         "marker": {
          "color": "#ab63fa",
          "pattern": {
           "shape": ""
          }
         },
         "name": "Mystery",
         "offsetgroup": "Mystery",
         "orientation": "v",
         "showlegend": true,
         "textposition": "auto",
         "type": "bar",
         "x": [
          2006,
          2007,
          2008,
          2009,
          2010,
          2011,
          2012,
          2013,
          2014,
          2015,
          2016
         ],
         "xaxis": "x",
         "y": [
          12962,
          19071,
          8518,
          21748,
          28288,
          19282,
          8032,
          8073,
          19524,
          17121,
          9511
         ],
         "yaxis": "y"
        },
        {
         "alignmentgroup": "True",
         "hovertemplate": "genre_name=Romance<br>Year=%{x}<br>Number of Reviews=%{y}<extra></extra>",
         "legendgroup": "Romance",
         "marker": {
          "color": "#FFA15A",
          "pattern": {
           "shape": ""
          }
         },
         "name": "Romance",
         "offsetgroup": "Romance",
         "orientation": "v",
         "showlegend": true,
         "textposition": "auto",
         "type": "bar",
         "x": [
          2006,
          2007,
          2008,
          2009,
          2010,
          2011,
          2012,
          2013,
          2014,
          2015,
          2016
         ],
         "xaxis": "x",
         "y": [
          17928,
          13359,
          25476,
          20627,
          24309,
          21931,
          28421,
          23055,
          20293,
          18649,
          5140
         ],
         "yaxis": "y"
        },
        {
         "alignmentgroup": "True",
         "hovertemplate": "genre_name=Science Fiction<br>Year=%{x}<br>Number of Reviews=%{y}<extra></extra>",
         "legendgroup": "Science Fiction",
         "marker": {
          "color": "#19d3f3",
          "pattern": {
           "shape": ""
          }
         },
         "name": "Science Fiction",
         "offsetgroup": "Science Fiction",
         "orientation": "v",
         "showlegend": true,
         "textposition": "auto",
         "type": "bar",
         "x": [
          2006,
          2007,
          2008,
          2009,
          2010,
          2011,
          2012,
          2013,
          2014,
          2015,
          2016
         ],
         "xaxis": "x",
         "y": [
          13124,
          16493,
          26027,
          54794,
          34100,
          45682,
          52771,
          80499,
          79520,
          72602,
          31752
         ],
         "yaxis": "y"
        },
        {
         "alignmentgroup": "True",
         "hovertemplate": "genre_name=TV Movie<br>Year=%{x}<br>Number of Reviews=%{y}<extra></extra>",
         "legendgroup": "TV Movie",
         "marker": {
          "color": "#FF6692",
          "pattern": {
           "shape": ""
          }
         },
         "name": "TV Movie",
         "offsetgroup": "TV Movie",
         "orientation": "v",
         "showlegend": true,
         "textposition": "auto",
         "type": "bar",
         "x": [
          2006,
          2011,
          2012,
          2013
         ],
         "xaxis": "x",
         "y": [
          1012,
          3,
          28,
          482
         ],
         "yaxis": "y"
        },
        {
         "alignmentgroup": "True",
         "hovertemplate": "genre_name=Thriller<br>Year=%{x}<br>Number of Reviews=%{y}<extra></extra>",
         "legendgroup": "Thriller",
         "marker": {
          "color": "#B6E880",
          "pattern": {
           "shape": ""
          }
         },
         "name": "Thriller",
         "offsetgroup": "Thriller",
         "orientation": "v",
         "showlegend": true,
         "textposition": "auto",
         "type": "bar",
         "x": [
          2006,
          2007,
          2008,
          2009,
          2010,
          2011,
          2012,
          2013,
          2014,
          2015,
          2016
         ],
         "xaxis": "x",
         "y": [
          50912,
          42353,
          48293,
          40860,
          60205,
          58824,
          65839,
          71710,
          62983,
          73874,
          22504
         ],
         "yaxis": "y"
        },
        {
         "alignmentgroup": "True",
         "hovertemplate": "genre_name=War<br>Year=%{x}<br>Number of Reviews=%{y}<extra></extra>",
         "legendgroup": "War",
         "marker": {
          "color": "#FF97FF",
          "pattern": {
           "shape": ""
          }
         },
         "name": "War",
         "offsetgroup": "War",
         "orientation": "v",
         "showlegend": true,
         "textposition": "auto",
         "type": "bar",
         "x": [
          2006,
          2007,
          2008,
          2009,
          2010,
          2011,
          2012,
          2013,
          2014,
          2015,
          2016
         ],
         "xaxis": "x",
         "y": [
          10229,
          244,
          5161,
          7860,
          2696,
          1535,
          595,
          1547,
          22323,
          320,
          1395
         ],
         "yaxis": "y"
        },
        {
         "alignmentgroup": "True",
         "hovertemplate": "genre_name=Western<br>Year=%{x}<br>Number of Reviews=%{y}<extra></extra>",
         "legendgroup": "Western",
         "marker": {
          "color": "#FECB52",
          "pattern": {
           "shape": ""
          }
         },
         "name": "Western",
         "offsetgroup": "Western",
         "orientation": "v",
         "showlegend": true,
         "textposition": "auto",
         "type": "bar",
         "x": [
          2006,
          2007,
          2008,
          2010,
          2011,
          2012,
          2013,
          2014,
          2015,
          2016
         ],
         "xaxis": "x",
         "y": [
          307,
          1981,
          492,
          2328,
          2132,
          10202,
          2311,
          1729,
          11541,
          285
         ],
         "yaxis": "y"
        }
       ],
       "layout": {
        "barmode": "group",
        "legend": {
         "title": {
          "text": "genre_name"
         },
         "tracegroupgap": 0
        },
        "template": {
         "data": {
          "bar": [
           {
            "error_x": {
             "color": "#2a3f5f"
            },
            "error_y": {
             "color": "#2a3f5f"
            },
            "marker": {
             "line": {
              "color": "#E5ECF6",
              "width": 0.5
             },
             "pattern": {
              "fillmode": "overlay",
              "size": 10,
              "solidity": 0.2
             }
            },
            "type": "bar"
           }
          ],
          "barpolar": [
           {
            "marker": {
             "line": {
              "color": "#E5ECF6",
              "width": 0.5
             },
             "pattern": {
              "fillmode": "overlay",
              "size": 10,
              "solidity": 0.2
             }
            },
            "type": "barpolar"
           }
          ],
          "carpet": [
           {
            "aaxis": {
             "endlinecolor": "#2a3f5f",
             "gridcolor": "white",
             "linecolor": "white",
             "minorgridcolor": "white",
             "startlinecolor": "#2a3f5f"
            },
            "baxis": {
             "endlinecolor": "#2a3f5f",
             "gridcolor": "white",
             "linecolor": "white",
             "minorgridcolor": "white",
             "startlinecolor": "#2a3f5f"
            },
            "type": "carpet"
           }
          ],
          "choropleth": [
           {
            "colorbar": {
             "outlinewidth": 0,
             "ticks": ""
            },
            "type": "choropleth"
           }
          ],
          "contour": [
           {
            "colorbar": {
             "outlinewidth": 0,
             "ticks": ""
            },
            "colorscale": [
             [
              0,
              "#0d0887"
             ],
             [
              0.1111111111111111,
              "#46039f"
             ],
             [
              0.2222222222222222,
              "#7201a8"
             ],
             [
              0.3333333333333333,
              "#9c179e"
             ],
             [
              0.4444444444444444,
              "#bd3786"
             ],
             [
              0.5555555555555556,
              "#d8576b"
             ],
             [
              0.6666666666666666,
              "#ed7953"
             ],
             [
              0.7777777777777778,
              "#fb9f3a"
             ],
             [
              0.8888888888888888,
              "#fdca26"
             ],
             [
              1,
              "#f0f921"
             ]
            ],
            "type": "contour"
           }
          ],
          "contourcarpet": [
           {
            "colorbar": {
             "outlinewidth": 0,
             "ticks": ""
            },
            "type": "contourcarpet"
           }
          ],
          "heatmap": [
           {
            "colorbar": {
             "outlinewidth": 0,
             "ticks": ""
            },
            "colorscale": [
             [
              0,
              "#0d0887"
             ],
             [
              0.1111111111111111,
              "#46039f"
             ],
             [
              0.2222222222222222,
              "#7201a8"
             ],
             [
              0.3333333333333333,
              "#9c179e"
             ],
             [
              0.4444444444444444,
              "#bd3786"
             ],
             [
              0.5555555555555556,
              "#d8576b"
             ],
             [
              0.6666666666666666,
              "#ed7953"
             ],
             [
              0.7777777777777778,
              "#fb9f3a"
             ],
             [
              0.8888888888888888,
              "#fdca26"
             ],
             [
              1,
              "#f0f921"
             ]
            ],
            "type": "heatmap"
           }
          ],
          "heatmapgl": [
           {
            "colorbar": {
             "outlinewidth": 0,
             "ticks": ""
            },
            "colorscale": [
             [
              0,
              "#0d0887"
             ],
             [
              0.1111111111111111,
              "#46039f"
             ],
             [
              0.2222222222222222,
              "#7201a8"
             ],
             [
              0.3333333333333333,
              "#9c179e"
             ],
             [
              0.4444444444444444,
              "#bd3786"
             ],
             [
              0.5555555555555556,
              "#d8576b"
             ],
             [
              0.6666666666666666,
              "#ed7953"
             ],
             [
              0.7777777777777778,
              "#fb9f3a"
             ],
             [
              0.8888888888888888,
              "#fdca26"
             ],
             [
              1,
              "#f0f921"
             ]
            ],
            "type": "heatmapgl"
           }
          ],
          "histogram": [
           {
            "marker": {
             "pattern": {
              "fillmode": "overlay",
              "size": 10,
              "solidity": 0.2
             }
            },
            "type": "histogram"
           }
          ],
          "histogram2d": [
           {
            "colorbar": {
             "outlinewidth": 0,
             "ticks": ""
            },
            "colorscale": [
             [
              0,
              "#0d0887"
             ],
             [
              0.1111111111111111,
              "#46039f"
             ],
             [
              0.2222222222222222,
              "#7201a8"
             ],
             [
              0.3333333333333333,
              "#9c179e"
             ],
             [
              0.4444444444444444,
              "#bd3786"
             ],
             [
              0.5555555555555556,
              "#d8576b"
             ],
             [
              0.6666666666666666,
              "#ed7953"
             ],
             [
              0.7777777777777778,
              "#fb9f3a"
             ],
             [
              0.8888888888888888,
              "#fdca26"
             ],
             [
              1,
              "#f0f921"
             ]
            ],
            "type": "histogram2d"
           }
          ],
          "histogram2dcontour": [
           {
            "colorbar": {
             "outlinewidth": 0,
             "ticks": ""
            },
            "colorscale": [
             [
              0,
              "#0d0887"
             ],
             [
              0.1111111111111111,
              "#46039f"
             ],
             [
              0.2222222222222222,
              "#7201a8"
             ],
             [
              0.3333333333333333,
              "#9c179e"
             ],
             [
              0.4444444444444444,
              "#bd3786"
             ],
             [
              0.5555555555555556,
              "#d8576b"
             ],
             [
              0.6666666666666666,
              "#ed7953"
             ],
             [
              0.7777777777777778,
              "#fb9f3a"
             ],
             [
              0.8888888888888888,
              "#fdca26"
             ],
             [
              1,
              "#f0f921"
             ]
            ],
            "type": "histogram2dcontour"
           }
          ],
          "mesh3d": [
           {
            "colorbar": {
             "outlinewidth": 0,
             "ticks": ""
            },
            "type": "mesh3d"
           }
          ],
          "parcoords": [
           {
            "line": {
             "colorbar": {
              "outlinewidth": 0,
              "ticks": ""
             }
            },
            "type": "parcoords"
           }
          ],
          "pie": [
           {
            "automargin": true,
            "type": "pie"
           }
          ],
          "scatter": [
           {
            "fillpattern": {
             "fillmode": "overlay",
             "size": 10,
             "solidity": 0.2
            },
            "type": "scatter"
           }
          ],
          "scatter3d": [
           {
            "line": {
             "colorbar": {
              "outlinewidth": 0,
              "ticks": ""
             }
            },
            "marker": {
             "colorbar": {
              "outlinewidth": 0,
              "ticks": ""
             }
            },
            "type": "scatter3d"
           }
          ],
          "scattercarpet": [
           {
            "marker": {
             "colorbar": {
              "outlinewidth": 0,
              "ticks": ""
             }
            },
            "type": "scattercarpet"
           }
          ],
          "scattergeo": [
           {
            "marker": {
             "colorbar": {
              "outlinewidth": 0,
              "ticks": ""
             }
            },
            "type": "scattergeo"
           }
          ],
          "scattergl": [
           {
            "marker": {
             "colorbar": {
              "outlinewidth": 0,
              "ticks": ""
             }
            },
            "type": "scattergl"
           }
          ],
          "scattermapbox": [
           {
            "marker": {
             "colorbar": {
              "outlinewidth": 0,
              "ticks": ""
             }
            },
            "type": "scattermapbox"
           }
          ],
          "scatterpolar": [
           {
            "marker": {
             "colorbar": {
              "outlinewidth": 0,
              "ticks": ""
             }
            },
            "type": "scatterpolar"
           }
          ],
          "scatterpolargl": [
           {
            "marker": {
             "colorbar": {
              "outlinewidth": 0,
              "ticks": ""
             }
            },
            "type": "scatterpolargl"
           }
          ],
          "scatterternary": [
           {
            "marker": {
             "colorbar": {
              "outlinewidth": 0,
              "ticks": ""
             }
            },
            "type": "scatterternary"
           }
          ],
          "surface": [
           {
            "colorbar": {
             "outlinewidth": 0,
             "ticks": ""
            },
            "colorscale": [
             [
              0,
              "#0d0887"
             ],
             [
              0.1111111111111111,
              "#46039f"
             ],
             [
              0.2222222222222222,
              "#7201a8"
             ],
             [
              0.3333333333333333,
              "#9c179e"
             ],
             [
              0.4444444444444444,
              "#bd3786"
             ],
             [
              0.5555555555555556,
              "#d8576b"
             ],
             [
              0.6666666666666666,
              "#ed7953"
             ],
             [
              0.7777777777777778,
              "#fb9f3a"
             ],
             [
              0.8888888888888888,
              "#fdca26"
             ],
             [
              1,
              "#f0f921"
             ]
            ],
            "type": "surface"
           }
          ],
          "table": [
           {
            "cells": {
             "fill": {
              "color": "#EBF0F8"
             },
             "line": {
              "color": "white"
             }
            },
            "header": {
             "fill": {
              "color": "#C8D4E3"
             },
             "line": {
              "color": "white"
             }
            },
            "type": "table"
           }
          ]
         },
         "layout": {
          "annotationdefaults": {
           "arrowcolor": "#2a3f5f",
           "arrowhead": 0,
           "arrowwidth": 1
          },
          "autotypenumbers": "strict",
          "coloraxis": {
           "colorbar": {
            "outlinewidth": 0,
            "ticks": ""
           }
          },
          "colorscale": {
           "diverging": [
            [
             0,
             "#8e0152"
            ],
            [
             0.1,
             "#c51b7d"
            ],
            [
             0.2,
             "#de77ae"
            ],
            [
             0.3,
             "#f1b6da"
            ],
            [
             0.4,
             "#fde0ef"
            ],
            [
             0.5,
             "#f7f7f7"
            ],
            [
             0.6,
             "#e6f5d0"
            ],
            [
             0.7,
             "#b8e186"
            ],
            [
             0.8,
             "#7fbc41"
            ],
            [
             0.9,
             "#4d9221"
            ],
            [
             1,
             "#276419"
            ]
           ],
           "sequential": [
            [
             0,
             "#0d0887"
            ],
            [
             0.1111111111111111,
             "#46039f"
            ],
            [
             0.2222222222222222,
             "#7201a8"
            ],
            [
             0.3333333333333333,
             "#9c179e"
            ],
            [
             0.4444444444444444,
             "#bd3786"
            ],
            [
             0.5555555555555556,
             "#d8576b"
            ],
            [
             0.6666666666666666,
             "#ed7953"
            ],
            [
             0.7777777777777778,
             "#fb9f3a"
            ],
            [
             0.8888888888888888,
             "#fdca26"
            ],
            [
             1,
             "#f0f921"
            ]
           ],
           "sequentialminus": [
            [
             0,
             "#0d0887"
            ],
            [
             0.1111111111111111,
             "#46039f"
            ],
            [
             0.2222222222222222,
             "#7201a8"
            ],
            [
             0.3333333333333333,
             "#9c179e"
            ],
            [
             0.4444444444444444,
             "#bd3786"
            ],
            [
             0.5555555555555556,
             "#d8576b"
            ],
            [
             0.6666666666666666,
             "#ed7953"
            ],
            [
             0.7777777777777778,
             "#fb9f3a"
            ],
            [
             0.8888888888888888,
             "#fdca26"
            ],
            [
             1,
             "#f0f921"
            ]
           ]
          },
          "colorway": [
           "#636efa",
           "#EF553B",
           "#00cc96",
           "#ab63fa",
           "#FFA15A",
           "#19d3f3",
           "#FF6692",
           "#B6E880",
           "#FF97FF",
           "#FECB52"
          ],
          "font": {
           "color": "#2a3f5f"
          },
          "geo": {
           "bgcolor": "white",
           "lakecolor": "white",
           "landcolor": "#E5ECF6",
           "showlakes": true,
           "showland": true,
           "subunitcolor": "white"
          },
          "hoverlabel": {
           "align": "left"
          },
          "hovermode": "closest",
          "mapbox": {
           "style": "light"
          },
          "paper_bgcolor": "white",
          "plot_bgcolor": "#E5ECF6",
          "polar": {
           "angularaxis": {
            "gridcolor": "white",
            "linecolor": "white",
            "ticks": ""
           },
           "bgcolor": "#E5ECF6",
           "radialaxis": {
            "gridcolor": "white",
            "linecolor": "white",
            "ticks": ""
           }
          },
          "scene": {
           "xaxis": {
            "backgroundcolor": "#E5ECF6",
            "gridcolor": "white",
            "gridwidth": 2,
            "linecolor": "white",
            "showbackground": true,
            "ticks": "",
            "zerolinecolor": "white"
           },
           "yaxis": {
            "backgroundcolor": "#E5ECF6",
            "gridcolor": "white",
            "gridwidth": 2,
            "linecolor": "white",
            "showbackground": true,
            "ticks": "",
            "zerolinecolor": "white"
           },
           "zaxis": {
            "backgroundcolor": "#E5ECF6",
            "gridcolor": "white",
            "gridwidth": 2,
            "linecolor": "white",
            "showbackground": true,
            "ticks": "",
            "zerolinecolor": "white"
           }
          },
          "shapedefaults": {
           "line": {
            "color": "#2a3f5f"
           }
          },
          "ternary": {
           "aaxis": {
            "gridcolor": "white",
            "linecolor": "white",
            "ticks": ""
           },
           "baxis": {
            "gridcolor": "white",
            "linecolor": "white",
            "ticks": ""
           },
           "bgcolor": "#E5ECF6",
           "caxis": {
            "gridcolor": "white",
            "linecolor": "white",
            "ticks": ""
           }
          },
          "title": {
           "x": 0.05
          },
          "xaxis": {
           "automargin": true,
           "gridcolor": "white",
           "linecolor": "white",
           "ticks": "",
           "title": {
            "standoff": 15
           },
           "zerolinecolor": "white",
           "zerolinewidth": 2
          },
          "yaxis": {
           "automargin": true,
           "gridcolor": "white",
           "linecolor": "white",
           "ticks": "",
           "title": {
            "standoff": 15
           },
           "zerolinecolor": "white",
           "zerolinewidth": 2
          }
         }
        },
        "title": {
         "text": "Most Popular Genres Based on Number of Reviews (Per Year)",
         "x": 0.5
        },
        "xaxis": {
         "anchor": "y",
         "domain": [
          0,
          1
         ],
         "dtick": 1,
         "tickmode": "linear",
         "title": {
          "text": "Year"
         }
        },
        "yaxis": {
         "anchor": "x",
         "domain": [
          0,
          1
         ],
         "title": {
          "text": "Number of Reviews"
         }
        }
       }
      }
     },
     "metadata": {},
     "output_type": "display_data"
    }
   ],
   "source": [
    "# Plot 1: Most Popular Genres Based on Number of Reviews (Per Year)\n",
    "fig_reviews = px.bar(\n",
    "    reviews_yearly,\n",
    "    x='release_year',\n",
    "    y='rt_review_count',\n",
    "    color='genre_name',\n",
    "    title='Most Popular Genres Based on Number of Reviews (Per Year)',\n",
    "    labels={'release_year': 'Year', 'rt_review_count': 'Number of Reviews'},\n",
    "    barmode='group'\n",
    ")\n",
    "\n",
    "fig_reviews.update_layout(\n",
    "    xaxis_title='Year',\n",
    "    yaxis_title='Number of Reviews',\n",
    "    title_x=0.5,\n",
    "    xaxis=dict(tickmode='linear', dtick=1)\n",
    ")\n",
    "\n",
    "# Show plot\n",
    "fig_reviews.show()"
   ]
  },
  {
   "cell_type": "code",
   "execution_count": 57,
   "metadata": {},
   "outputs": [
    {
     "data": {
      "application/vnd.plotly.v1+json": {
       "config": {
        "plotlyServerURL": "https://plot.ly"
       },
       "data": [
        {
         "alignmentgroup": "True",
         "hovertemplate": "genre_name=Action<br>Year=%{x}<br>Average Critics' Score=%{y}<extra></extra>",
         "legendgroup": "Action",
         "marker": {
          "color": "#636efa",
          "pattern": {
           "shape": ""
          }
         },
         "name": "Action",
         "offsetgroup": "Action",
         "orientation": "v",
         "showlegend": true,
         "textposition": "auto",
         "type": "bar",
         "x": [
          2006,
          2007,
          2008,
          2009,
          2010,
          2011,
          2012,
          2013,
          2014,
          2015,
          2016
         ],
         "xaxis": "x",
         "y": [
          6.046,
          5.6431818181818185,
          6.017391304347826,
          5.894117647058824,
          6.038775510204081,
          5.968965517241379,
          5.879069767441861,
          6.044642857142857,
          5.857407407407408,
          5.684782608695652,
          5.866666666666667
         ],
         "yaxis": "y"
        },
        {
         "alignmentgroup": "True",
         "hovertemplate": "genre_name=Adventure<br>Year=%{x}<br>Average Critics' Score=%{y}<extra></extra>",
         "legendgroup": "Adventure",
         "marker": {
          "color": "#EF553B",
          "pattern": {
           "shape": ""
          }
         },
         "name": "Adventure",
         "offsetgroup": "Adventure",
         "orientation": "v",
         "showlegend": true,
         "textposition": "auto",
         "type": "bar",
         "x": [
          2006,
          2007,
          2008,
          2009,
          2010,
          2011,
          2012,
          2013,
          2014,
          2015,
          2016
         ],
         "xaxis": "x",
         "y": [
          6.055882352941176,
          5.944,
          5.978378378378378,
          5.955555555555556,
          6.2266666666666675,
          6.034375,
          6.164,
          6.225,
          6.335135135135135,
          6.268571428571429,
          6.256521739130435
         ],
         "yaxis": "y"
        },
        {
         "alignmentgroup": "True",
         "hovertemplate": "genre_name=Animation<br>Year=%{x}<br>Average Critics' Score=%{y}<extra></extra>",
         "legendgroup": "Animation",
         "marker": {
          "color": "#00cc96",
          "pattern": {
           "shape": ""
          }
         },
         "name": "Animation",
         "offsetgroup": "Animation",
         "orientation": "v",
         "showlegend": true,
         "textposition": "auto",
         "type": "bar",
         "x": [
          2006,
          2007,
          2008,
          2009,
          2010,
          2011,
          2012,
          2013,
          2014,
          2015,
          2016
         ],
         "xaxis": "x",
         "y": [
          5.993333333333334,
          6.32,
          6.376923076923077,
          6.48,
          6.300000000000001,
          5.882352941176471,
          6.176923076923076,
          6.323529411764706,
          6.078571428571428,
          6.476923076923077,
          6.025
         ],
         "yaxis": "y"
        },
        {
         "alignmentgroup": "True",
         "hovertemplate": "genre_name=Comedy<br>Year=%{x}<br>Average Critics' Score=%{y}<extra></extra>",
         "legendgroup": "Comedy",
         "marker": {
          "color": "#ab63fa",
          "pattern": {
           "shape": ""
          }
         },
         "name": "Comedy",
         "offsetgroup": "Comedy",
         "orientation": "v",
         "showlegend": true,
         "textposition": "auto",
         "type": "bar",
         "x": [
          2006,
          2007,
          2008,
          2009,
          2010,
          2011,
          2012,
          2013,
          2014,
          2015,
          2016
         ],
         "xaxis": "x",
         "y": [
          5.931111111111111,
          5.68955223880597,
          5.804878048780488,
          5.852577319587629,
          5.779310344827587,
          5.924390243902439,
          5.751250000000001,
          6.073239436619718,
          5.945161290322581,
          6.017307692307692,
          5.592307692307693
         ],
         "yaxis": "y"
        },
        {
         "alignmentgroup": "True",
         "hovertemplate": "genre_name=Crime<br>Year=%{x}<br>Average Critics' Score=%{y}<extra></extra>",
         "legendgroup": "Crime",
         "marker": {
          "color": "#FFA15A",
          "pattern": {
           "shape": ""
          }
         },
         "name": "Crime",
         "offsetgroup": "Crime",
         "orientation": "v",
         "showlegend": true,
         "textposition": "auto",
         "type": "bar",
         "x": [
          2006,
          2007,
          2008,
          2009,
          2010,
          2011,
          2012,
          2013,
          2014,
          2015,
          2016
         ],
         "xaxis": "x",
         "y": [
          6.205882352941177,
          6.446428571428571,
          6.154545454545454,
          6.021875,
          6.123333333333333,
          6.295833333333333,
          5.955555555555556,
          6.183783783783784,
          5.762962962962963,
          5.4192307692307695,
          5.55
         ],
         "yaxis": "y"
        },
        {
         "alignmentgroup": "True",
         "hovertemplate": "genre_name=Documentary<br>Year=%{x}<br>Average Critics' Score=%{y}<extra></extra>",
         "legendgroup": "Documentary",
         "marker": {
          "color": "#19d3f3",
          "pattern": {
           "shape": ""
          }
         },
         "name": "Documentary",
         "offsetgroup": "Documentary",
         "orientation": "v",
         "showlegend": true,
         "textposition": "auto",
         "type": "bar",
         "x": [
          2006,
          2007,
          2008,
          2009,
          2010,
          2011,
          2012,
          2013,
          2014,
          2015
         ],
         "xaxis": "x",
         "y": [
          6.529999999999999,
          6.871428571428572,
          7.3625,
          6.540000000000001,
          6.142857142857143,
          5.785714285714286,
          6.711111111111111,
          6.4,
          3.5285714285714285,
          3.542857142857143
         ],
         "yaxis": "y"
        },
        {
         "alignmentgroup": "True",
         "hovertemplate": "genre_name=Drama<br>Year=%{x}<br>Average Critics' Score=%{y}<extra></extra>",
         "legendgroup": "Drama",
         "marker": {
          "color": "#FF6692",
          "pattern": {
           "shape": ""
          }
         },
         "name": "Drama",
         "offsetgroup": "Drama",
         "orientation": "v",
         "showlegend": true,
         "textposition": "auto",
         "type": "bar",
         "x": [
          2006,
          2007,
          2008,
          2009,
          2010,
          2011,
          2012,
          2013,
          2014,
          2015,
          2016
         ],
         "xaxis": "x",
         "y": [
          6.38421052631579,
          6.441237113402061,
          6.378301886792453,
          6.3,
          6.19304347826087,
          6.273737373737374,
          6.256962025316456,
          6.364545454545455,
          5.930909090909091,
          5.9936842105263155,
          6.013513513513513
         ],
         "yaxis": "y"
        },
        {
         "alignmentgroup": "True",
         "hovertemplate": "genre_name=Family<br>Year=%{x}<br>Average Critics' Score=%{y}<extra></extra>",
         "legendgroup": "Family",
         "marker": {
          "color": "#B6E880",
          "pattern": {
           "shape": ""
          }
         },
         "name": "Family",
         "offsetgroup": "Family",
         "orientation": "v",
         "showlegend": true,
         "textposition": "auto",
         "type": "bar",
         "x": [
          2006,
          2007,
          2008,
          2009,
          2010,
          2011,
          2012,
          2013,
          2014,
          2015,
          2016
         ],
         "xaxis": "x",
         "y": [
          5.66,
          6.17,
          6.096551724137932,
          6.160714285714286,
          5.7620689655172415,
          5.892857142857143,
          5.970588235294118,
          6.013636363636365,
          6.156521739130435,
          5.8999999999999995,
          6.211111111111111
         ],
         "yaxis": "y"
        },
        {
         "alignmentgroup": "True",
         "hovertemplate": "genre_name=Fantasy<br>Year=%{x}<br>Average Critics' Score=%{y}<extra></extra>",
         "legendgroup": "Fantasy",
         "marker": {
          "color": "#FF97FF",
          "pattern": {
           "shape": ""
          }
         },
         "name": "Fantasy",
         "offsetgroup": "Fantasy",
         "orientation": "v",
         "showlegend": true,
         "textposition": "auto",
         "type": "bar",
         "x": [
          2006,
          2007,
          2008,
          2009,
          2010,
          2011,
          2012,
          2013,
          2014,
          2015,
          2016
         ],
         "xaxis": "x",
         "y": [
          6.1,
          5.752631578947368,
          5.87,
          6.013636363636365,
          5.909523809523809,
          5.953333333333333,
          6.273684210526316,
          5.947619047619048,
          6.48125,
          6.42,
          5.846153846153846
         ],
         "yaxis": "y"
        },
        {
         "alignmentgroup": "True",
         "hovertemplate": "genre_name=Foreign<br>Year=%{x}<br>Average Critics' Score=%{y}<extra></extra>",
         "legendgroup": "Foreign",
         "marker": {
          "color": "#FECB52",
          "pattern": {
           "shape": ""
          }
         },
         "name": "Foreign",
         "offsetgroup": "Foreign",
         "orientation": "v",
         "showlegend": true,
         "textposition": "auto",
         "type": "bar",
         "x": [
          2006,
          2007,
          2008,
          2009,
          2010,
          2011,
          2012
         ],
         "xaxis": "x",
         "y": [
          6.1,
          6.333333333333333,
          6.75,
          6.35,
          5.2,
          5.75,
          6.9
         ],
         "yaxis": "y"
        },
        {
         "alignmentgroup": "True",
         "hovertemplate": "genre_name=History<br>Year=%{x}<br>Average Critics' Score=%{y}<extra></extra>",
         "legendgroup": "History",
         "marker": {
          "color": "#636efa",
          "pattern": {
           "shape": ""
          }
         },
         "name": "History",
         "offsetgroup": "History",
         "orientation": "v",
         "showlegend": true,
         "textposition": "auto",
         "type": "bar",
         "x": [
          2006,
          2007,
          2008,
          2009,
          2010,
          2011,
          2012,
          2013,
          2014,
          2015,
          2016
         ],
         "xaxis": "x",
         "y": [
          6.525,
          6.277777777777778,
          6.776923076923077,
          6.9,
          6.7,
          5.75,
          6.425000000000001,
          7.025,
          6.285714285714286,
          6.566666666666666,
          6.7
         ],
         "yaxis": "y"
        },
        {
         "alignmentgroup": "True",
         "hovertemplate": "genre_name=Horror<br>Year=%{x}<br>Average Critics' Score=%{y}<extra></extra>",
         "legendgroup": "Horror",
         "marker": {
          "color": "#EF553B",
          "pattern": {
           "shape": ""
          }
         },
         "name": "Horror",
         "offsetgroup": "Horror",
         "orientation": "v",
         "showlegend": true,
         "textposition": "auto",
         "type": "bar",
         "x": [
          2006,
          2007,
          2008,
          2009,
          2010,
          2011,
          2012,
          2013,
          2014,
          2015,
          2016
         ],
         "xaxis": "x",
         "y": [
          5.6450000000000005,
          5.703703703703703,
          5.428571428571429,
          5.706666666666666,
          5.52962962962963,
          5.4125000000000005,
          5.181818181818182,
          5.207999999999999,
          4.914285714285715,
          4.984848484848484,
          5.6
         ],
         "yaxis": "y"
        },
        {
         "alignmentgroup": "True",
         "hovertemplate": "genre_name=Music<br>Year=%{x}<br>Average Critics' Score=%{y}<extra></extra>",
         "legendgroup": "Music",
         "marker": {
          "color": "#00cc96",
          "pattern": {
           "shape": ""
          }
         },
         "name": "Music",
         "offsetgroup": "Music",
         "orientation": "v",
         "showlegend": true,
         "textposition": "auto",
         "type": "bar",
         "x": [
          2006,
          2007,
          2008,
          2009,
          2010,
          2011,
          2012,
          2013,
          2014,
          2015,
          2016
         ],
         "xaxis": "x",
         "y": [
          6.3999999999999995,
          6.4,
          6.34,
          5.818181818181818,
          5.1,
          5.5600000000000005,
          6.585714285714286,
          6.675,
          6.2444444444444445,
          5.6875,
          6
         ],
         "yaxis": "y"
        },
        {
         "alignmentgroup": "True",
         "hovertemplate": "genre_name=Mystery<br>Year=%{x}<br>Average Critics' Score=%{y}<extra></extra>",
         "legendgroup": "Mystery",
         "marker": {
          "color": "#ab63fa",
          "pattern": {
           "shape": ""
          }
         },
         "name": "Mystery",
         "offsetgroup": "Mystery",
         "orientation": "v",
         "showlegend": true,
         "textposition": "auto",
         "type": "bar",
         "x": [
          2006,
          2007,
          2008,
          2009,
          2010,
          2011,
          2012,
          2013,
          2014,
          2015,
          2016
         ],
         "xaxis": "x",
         "y": [
          6.166666666666667,
          6.164705882352941,
          6.0600000000000005,
          6.107142857142857,
          6.329411764705882,
          6.2125,
          5.7375,
          6.24,
          5.4399999999999995,
          5.505,
          6.466666666666666
         ],
         "yaxis": "y"
        },
        {
         "alignmentgroup": "True",
         "hovertemplate": "genre_name=Romance<br>Year=%{x}<br>Average Critics' Score=%{y}<extra></extra>",
         "legendgroup": "Romance",
         "marker": {
          "color": "#FFA15A",
          "pattern": {
           "shape": ""
          }
         },
         "name": "Romance",
         "offsetgroup": "Romance",
         "orientation": "v",
         "showlegend": true,
         "textposition": "auto",
         "type": "bar",
         "x": [
          2006,
          2007,
          2008,
          2009,
          2010,
          2011,
          2012,
          2013,
          2014,
          2015,
          2016
         ],
         "xaxis": "x",
         "y": [
          6.171739130434782,
          6.0864864864864865,
          6.2,
          6.129824561403509,
          6.055555555555555,
          6.180000000000001,
          6.2384615384615385,
          6.54,
          6.270833333333333,
          6.352173913043478,
          5.944444444444445
         ],
         "yaxis": "y"
        },
        {
         "alignmentgroup": "True",
         "hovertemplate": "genre_name=Science Fiction<br>Year=%{x}<br>Average Critics' Score=%{y}<extra></extra>",
         "legendgroup": "Science Fiction",
         "marker": {
          "color": "#19d3f3",
          "pattern": {
           "shape": ""
          }
         },
         "name": "Science Fiction",
         "offsetgroup": "Science Fiction",
         "orientation": "v",
         "showlegend": true,
         "textposition": "auto",
         "type": "bar",
         "x": [
          2006,
          2007,
          2008,
          2009,
          2010,
          2011,
          2012,
          2013,
          2014,
          2015,
          2016
         ],
         "xaxis": "x",
         "y": [
          6,
          6.161538461538461,
          5.78888888888889,
          5.878125,
          5.947368421052632,
          6.065384615384615,
          6.068181818181818,
          6.2592592592592595,
          6.088461538461539,
          5.807142857142857,
          6.118181818181818
         ],
         "yaxis": "y"
        },
        {
         "alignmentgroup": "True",
         "hovertemplate": "genre_name=TV Movie<br>Year=%{x}<br>Average Critics' Score=%{y}<extra></extra>",
         "legendgroup": "TV Movie",
         "marker": {
          "color": "#FF6692",
          "pattern": {
           "shape": ""
          }
         },
         "name": "TV Movie",
         "offsetgroup": "TV Movie",
         "orientation": "v",
         "showlegend": true,
         "textposition": "auto",
         "type": "bar",
         "x": [
          2006,
          2011,
          2012,
          2013
         ],
         "xaxis": "x",
         "y": [
          5.949999999999999,
          5,
          5.050000000000001,
          5.4
         ],
         "yaxis": "y"
        },
        {
         "alignmentgroup": "True",
         "hovertemplate": "genre_name=Thriller<br>Year=%{x}<br>Average Critics' Score=%{y}<extra></extra>",
         "legendgroup": "Thriller",
         "marker": {
          "color": "#B6E880",
          "pattern": {
           "shape": ""
          }
         },
         "name": "Thriller",
         "offsetgroup": "Thriller",
         "orientation": "v",
         "showlegend": true,
         "textposition": "auto",
         "type": "bar",
         "x": [
          2006,
          2007,
          2008,
          2009,
          2010,
          2011,
          2012,
          2013,
          2014,
          2015,
          2016
         ],
         "xaxis": "x",
         "y": [
          6.120689655172414,
          6.1113207547169806,
          6.009090909090909,
          5.850847457627118,
          6.066071428571428,
          6.017391304347826,
          5.746551724137931,
          5.926415094339623,
          5.50909090909091,
          5.444776119402985,
          5.785185185185185
         ],
         "yaxis": "y"
        },
        {
         "alignmentgroup": "True",
         "hovertemplate": "genre_name=War<br>Year=%{x}<br>Average Critics' Score=%{y}<extra></extra>",
         "legendgroup": "War",
         "marker": {
          "color": "#FF97FF",
          "pattern": {
           "shape": ""
          }
         },
         "name": "War",
         "offsetgroup": "War",
         "orientation": "v",
         "showlegend": true,
         "textposition": "auto",
         "type": "bar",
         "x": [
          2006,
          2007,
          2008,
          2009,
          2010,
          2011,
          2012,
          2013,
          2014,
          2015,
          2016
         ],
         "xaxis": "x",
         "y": [
          6.877777777777777,
          5.6,
          6.781818181818181,
          7.05,
          6.8999999999999995,
          6.2,
          6.1,
          5.766666666666667,
          6.790000000000001,
          7.25,
          6.466666666666666
         ],
         "yaxis": "y"
        },
        {
         "alignmentgroup": "True",
         "hovertemplate": "genre_name=Western<br>Year=%{x}<br>Average Critics' Score=%{y}<extra></extra>",
         "legendgroup": "Western",
         "marker": {
          "color": "#FECB52",
          "pattern": {
           "shape": ""
          }
         },
         "name": "Western",
         "offsetgroup": "Western",
         "orientation": "v",
         "showlegend": true,
         "textposition": "auto",
         "type": "bar",
         "x": [
          2006,
          2007,
          2008,
          2010,
          2011,
          2012,
          2013,
          2014,
          2015,
          2016
         ],
         "xaxis": "x",
         "y": [
          5.8,
          3.9799999999999995,
          6.699999999999999,
          6.220000000000001,
          5.699999999999999,
          6.65,
          5.9,
          5.133333333333334,
          5.185714285714285,
          5.4
         ],
         "yaxis": "y"
        }
       ],
       "layout": {
        "barmode": "group",
        "legend": {
         "title": {
          "text": "genre_name"
         },
         "tracegroupgap": 0
        },
        "template": {
         "data": {
          "bar": [
           {
            "error_x": {
             "color": "#2a3f5f"
            },
            "error_y": {
             "color": "#2a3f5f"
            },
            "marker": {
             "line": {
              "color": "#E5ECF6",
              "width": 0.5
             },
             "pattern": {
              "fillmode": "overlay",
              "size": 10,
              "solidity": 0.2
             }
            },
            "type": "bar"
           }
          ],
          "barpolar": [
           {
            "marker": {
             "line": {
              "color": "#E5ECF6",
              "width": 0.5
             },
             "pattern": {
              "fillmode": "overlay",
              "size": 10,
              "solidity": 0.2
             }
            },
            "type": "barpolar"
           }
          ],
          "carpet": [
           {
            "aaxis": {
             "endlinecolor": "#2a3f5f",
             "gridcolor": "white",
             "linecolor": "white",
             "minorgridcolor": "white",
             "startlinecolor": "#2a3f5f"
            },
            "baxis": {
             "endlinecolor": "#2a3f5f",
             "gridcolor": "white",
             "linecolor": "white",
             "minorgridcolor": "white",
             "startlinecolor": "#2a3f5f"
            },
            "type": "carpet"
           }
          ],
          "choropleth": [
           {
            "colorbar": {
             "outlinewidth": 0,
             "ticks": ""
            },
            "type": "choropleth"
           }
          ],
          "contour": [
           {
            "colorbar": {
             "outlinewidth": 0,
             "ticks": ""
            },
            "colorscale": [
             [
              0,
              "#0d0887"
             ],
             [
              0.1111111111111111,
              "#46039f"
             ],
             [
              0.2222222222222222,
              "#7201a8"
             ],
             [
              0.3333333333333333,
              "#9c179e"
             ],
             [
              0.4444444444444444,
              "#bd3786"
             ],
             [
              0.5555555555555556,
              "#d8576b"
             ],
             [
              0.6666666666666666,
              "#ed7953"
             ],
             [
              0.7777777777777778,
              "#fb9f3a"
             ],
             [
              0.8888888888888888,
              "#fdca26"
             ],
             [
              1,
              "#f0f921"
             ]
            ],
            "type": "contour"
           }
          ],
          "contourcarpet": [
           {
            "colorbar": {
             "outlinewidth": 0,
             "ticks": ""
            },
            "type": "contourcarpet"
           }
          ],
          "heatmap": [
           {
            "colorbar": {
             "outlinewidth": 0,
             "ticks": ""
            },
            "colorscale": [
             [
              0,
              "#0d0887"
             ],
             [
              0.1111111111111111,
              "#46039f"
             ],
             [
              0.2222222222222222,
              "#7201a8"
             ],
             [
              0.3333333333333333,
              "#9c179e"
             ],
             [
              0.4444444444444444,
              "#bd3786"
             ],
             [
              0.5555555555555556,
              "#d8576b"
             ],
             [
              0.6666666666666666,
              "#ed7953"
             ],
             [
              0.7777777777777778,
              "#fb9f3a"
             ],
             [
              0.8888888888888888,
              "#fdca26"
             ],
             [
              1,
              "#f0f921"
             ]
            ],
            "type": "heatmap"
           }
          ],
          "heatmapgl": [
           {
            "colorbar": {
             "outlinewidth": 0,
             "ticks": ""
            },
            "colorscale": [
             [
              0,
              "#0d0887"
             ],
             [
              0.1111111111111111,
              "#46039f"
             ],
             [
              0.2222222222222222,
              "#7201a8"
             ],
             [
              0.3333333333333333,
              "#9c179e"
             ],
             [
              0.4444444444444444,
              "#bd3786"
             ],
             [
              0.5555555555555556,
              "#d8576b"
             ],
             [
              0.6666666666666666,
              "#ed7953"
             ],
             [
              0.7777777777777778,
              "#fb9f3a"
             ],
             [
              0.8888888888888888,
              "#fdca26"
             ],
             [
              1,
              "#f0f921"
             ]
            ],
            "type": "heatmapgl"
           }
          ],
          "histogram": [
           {
            "marker": {
             "pattern": {
              "fillmode": "overlay",
              "size": 10,
              "solidity": 0.2
             }
            },
            "type": "histogram"
           }
          ],
          "histogram2d": [
           {
            "colorbar": {
             "outlinewidth": 0,
             "ticks": ""
            },
            "colorscale": [
             [
              0,
              "#0d0887"
             ],
             [
              0.1111111111111111,
              "#46039f"
             ],
             [
              0.2222222222222222,
              "#7201a8"
             ],
             [
              0.3333333333333333,
              "#9c179e"
             ],
             [
              0.4444444444444444,
              "#bd3786"
             ],
             [
              0.5555555555555556,
              "#d8576b"
             ],
             [
              0.6666666666666666,
              "#ed7953"
             ],
             [
              0.7777777777777778,
              "#fb9f3a"
             ],
             [
              0.8888888888888888,
              "#fdca26"
             ],
             [
              1,
              "#f0f921"
             ]
            ],
            "type": "histogram2d"
           }
          ],
          "histogram2dcontour": [
           {
            "colorbar": {
             "outlinewidth": 0,
             "ticks": ""
            },
            "colorscale": [
             [
              0,
              "#0d0887"
             ],
             [
              0.1111111111111111,
              "#46039f"
             ],
             [
              0.2222222222222222,
              "#7201a8"
             ],
             [
              0.3333333333333333,
              "#9c179e"
             ],
             [
              0.4444444444444444,
              "#bd3786"
             ],
             [
              0.5555555555555556,
              "#d8576b"
             ],
             [
              0.6666666666666666,
              "#ed7953"
             ],
             [
              0.7777777777777778,
              "#fb9f3a"
             ],
             [
              0.8888888888888888,
              "#fdca26"
             ],
             [
              1,
              "#f0f921"
             ]
            ],
            "type": "histogram2dcontour"
           }
          ],
          "mesh3d": [
           {
            "colorbar": {
             "outlinewidth": 0,
             "ticks": ""
            },
            "type": "mesh3d"
           }
          ],
          "parcoords": [
           {
            "line": {
             "colorbar": {
              "outlinewidth": 0,
              "ticks": ""
             }
            },
            "type": "parcoords"
           }
          ],
          "pie": [
           {
            "automargin": true,
            "type": "pie"
           }
          ],
          "scatter": [
           {
            "fillpattern": {
             "fillmode": "overlay",
             "size": 10,
             "solidity": 0.2
            },
            "type": "scatter"
           }
          ],
          "scatter3d": [
           {
            "line": {
             "colorbar": {
              "outlinewidth": 0,
              "ticks": ""
             }
            },
            "marker": {
             "colorbar": {
              "outlinewidth": 0,
              "ticks": ""
             }
            },
            "type": "scatter3d"
           }
          ],
          "scattercarpet": [
           {
            "marker": {
             "colorbar": {
              "outlinewidth": 0,
              "ticks": ""
             }
            },
            "type": "scattercarpet"
           }
          ],
          "scattergeo": [
           {
            "marker": {
             "colorbar": {
              "outlinewidth": 0,
              "ticks": ""
             }
            },
            "type": "scattergeo"
           }
          ],
          "scattergl": [
           {
            "marker": {
             "colorbar": {
              "outlinewidth": 0,
              "ticks": ""
             }
            },
            "type": "scattergl"
           }
          ],
          "scattermapbox": [
           {
            "marker": {
             "colorbar": {
              "outlinewidth": 0,
              "ticks": ""
             }
            },
            "type": "scattermapbox"
           }
          ],
          "scatterpolar": [
           {
            "marker": {
             "colorbar": {
              "outlinewidth": 0,
              "ticks": ""
             }
            },
            "type": "scatterpolar"
           }
          ],
          "scatterpolargl": [
           {
            "marker": {
             "colorbar": {
              "outlinewidth": 0,
              "ticks": ""
             }
            },
            "type": "scatterpolargl"
           }
          ],
          "scatterternary": [
           {
            "marker": {
             "colorbar": {
              "outlinewidth": 0,
              "ticks": ""
             }
            },
            "type": "scatterternary"
           }
          ],
          "surface": [
           {
            "colorbar": {
             "outlinewidth": 0,
             "ticks": ""
            },
            "colorscale": [
             [
              0,
              "#0d0887"
             ],
             [
              0.1111111111111111,
              "#46039f"
             ],
             [
              0.2222222222222222,
              "#7201a8"
             ],
             [
              0.3333333333333333,
              "#9c179e"
             ],
             [
              0.4444444444444444,
              "#bd3786"
             ],
             [
              0.5555555555555556,
              "#d8576b"
             ],
             [
              0.6666666666666666,
              "#ed7953"
             ],
             [
              0.7777777777777778,
              "#fb9f3a"
             ],
             [
              0.8888888888888888,
              "#fdca26"
             ],
             [
              1,
              "#f0f921"
             ]
            ],
            "type": "surface"
           }
          ],
          "table": [
           {
            "cells": {
             "fill": {
              "color": "#EBF0F8"
             },
             "line": {
              "color": "white"
             }
            },
            "header": {
             "fill": {
              "color": "#C8D4E3"
             },
             "line": {
              "color": "white"
             }
            },
            "type": "table"
           }
          ]
         },
         "layout": {
          "annotationdefaults": {
           "arrowcolor": "#2a3f5f",
           "arrowhead": 0,
           "arrowwidth": 1
          },
          "autotypenumbers": "strict",
          "coloraxis": {
           "colorbar": {
            "outlinewidth": 0,
            "ticks": ""
           }
          },
          "colorscale": {
           "diverging": [
            [
             0,
             "#8e0152"
            ],
            [
             0.1,
             "#c51b7d"
            ],
            [
             0.2,
             "#de77ae"
            ],
            [
             0.3,
             "#f1b6da"
            ],
            [
             0.4,
             "#fde0ef"
            ],
            [
             0.5,
             "#f7f7f7"
            ],
            [
             0.6,
             "#e6f5d0"
            ],
            [
             0.7,
             "#b8e186"
            ],
            [
             0.8,
             "#7fbc41"
            ],
            [
             0.9,
             "#4d9221"
            ],
            [
             1,
             "#276419"
            ]
           ],
           "sequential": [
            [
             0,
             "#0d0887"
            ],
            [
             0.1111111111111111,
             "#46039f"
            ],
            [
             0.2222222222222222,
             "#7201a8"
            ],
            [
             0.3333333333333333,
             "#9c179e"
            ],
            [
             0.4444444444444444,
             "#bd3786"
            ],
            [
             0.5555555555555556,
             "#d8576b"
            ],
            [
             0.6666666666666666,
             "#ed7953"
            ],
            [
             0.7777777777777778,
             "#fb9f3a"
            ],
            [
             0.8888888888888888,
             "#fdca26"
            ],
            [
             1,
             "#f0f921"
            ]
           ],
           "sequentialminus": [
            [
             0,
             "#0d0887"
            ],
            [
             0.1111111111111111,
             "#46039f"
            ],
            [
             0.2222222222222222,
             "#7201a8"
            ],
            [
             0.3333333333333333,
             "#9c179e"
            ],
            [
             0.4444444444444444,
             "#bd3786"
            ],
            [
             0.5555555555555556,
             "#d8576b"
            ],
            [
             0.6666666666666666,
             "#ed7953"
            ],
            [
             0.7777777777777778,
             "#fb9f3a"
            ],
            [
             0.8888888888888888,
             "#fdca26"
            ],
            [
             1,
             "#f0f921"
            ]
           ]
          },
          "colorway": [
           "#636efa",
           "#EF553B",
           "#00cc96",
           "#ab63fa",
           "#FFA15A",
           "#19d3f3",
           "#FF6692",
           "#B6E880",
           "#FF97FF",
           "#FECB52"
          ],
          "font": {
           "color": "#2a3f5f"
          },
          "geo": {
           "bgcolor": "white",
           "lakecolor": "white",
           "landcolor": "#E5ECF6",
           "showlakes": true,
           "showland": true,
           "subunitcolor": "white"
          },
          "hoverlabel": {
           "align": "left"
          },
          "hovermode": "closest",
          "mapbox": {
           "style": "light"
          },
          "paper_bgcolor": "white",
          "plot_bgcolor": "#E5ECF6",
          "polar": {
           "angularaxis": {
            "gridcolor": "white",
            "linecolor": "white",
            "ticks": ""
           },
           "bgcolor": "#E5ECF6",
           "radialaxis": {
            "gridcolor": "white",
            "linecolor": "white",
            "ticks": ""
           }
          },
          "scene": {
           "xaxis": {
            "backgroundcolor": "#E5ECF6",
            "gridcolor": "white",
            "gridwidth": 2,
            "linecolor": "white",
            "showbackground": true,
            "ticks": "",
            "zerolinecolor": "white"
           },
           "yaxis": {
            "backgroundcolor": "#E5ECF6",
            "gridcolor": "white",
            "gridwidth": 2,
            "linecolor": "white",
            "showbackground": true,
            "ticks": "",
            "zerolinecolor": "white"
           },
           "zaxis": {
            "backgroundcolor": "#E5ECF6",
            "gridcolor": "white",
            "gridwidth": 2,
            "linecolor": "white",
            "showbackground": true,
            "ticks": "",
            "zerolinecolor": "white"
           }
          },
          "shapedefaults": {
           "line": {
            "color": "#2a3f5f"
           }
          },
          "ternary": {
           "aaxis": {
            "gridcolor": "white",
            "linecolor": "white",
            "ticks": ""
           },
           "baxis": {
            "gridcolor": "white",
            "linecolor": "white",
            "ticks": ""
           },
           "bgcolor": "#E5ECF6",
           "caxis": {
            "gridcolor": "white",
            "linecolor": "white",
            "ticks": ""
           }
          },
          "title": {
           "x": 0.05
          },
          "xaxis": {
           "automargin": true,
           "gridcolor": "white",
           "linecolor": "white",
           "ticks": "",
           "title": {
            "standoff": 15
           },
           "zerolinecolor": "white",
           "zerolinewidth": 2
          },
          "yaxis": {
           "automargin": true,
           "gridcolor": "white",
           "linecolor": "white",
           "ticks": "",
           "title": {
            "standoff": 15
           },
           "zerolinecolor": "white",
           "zerolinewidth": 2
          }
         }
        },
        "title": {
         "text": "Most Popular Genres Based on Critics' Scores (Per Year)",
         "x": 0.5
        },
        "xaxis": {
         "anchor": "y",
         "domain": [
          0,
          1
         ],
         "dtick": 1,
         "tickmode": "linear",
         "title": {
          "text": "Year"
         }
        },
        "yaxis": {
         "anchor": "x",
         "domain": [
          0,
          1
         ],
         "title": {
          "text": "Average Critics' Score"
         }
        }
       }
      }
     },
     "metadata": {},
     "output_type": "display_data"
    }
   ],
   "source": [
    "fig_critics = px.bar(\n",
    "    critics_yearly,\n",
    "    x='release_year',\n",
    "    y='rt_critics_score',\n",
    "    color='genre_name',\n",
    "    title='Most Popular Genres Based on Critics\\' Scores (Per Year)',\n",
    "    labels={'release_year': 'Year', 'rt_critics_score': 'Average Critics\\' Score'},\n",
    "    barmode='group'\n",
    ")\n",
    "\n",
    "fig_critics.update_layout(\n",
    "    xaxis_title='Year',\n",
    "    yaxis_title='Average Critics\\' Score',\n",
    "    title_x=0.5,\n",
    "    xaxis=dict(tickmode='linear', dtick=1)\n",
    ")\n",
    "\n",
    "# Show plot\n",
    "fig_critics.show()"
   ]
  },
  {
   "cell_type": "markdown",
   "metadata": {},
   "source": [
    "# Second Part: Movie Revenue Prediction"
   ]
  },
  {
   "cell_type": "markdown",
   "metadata": {},
   "source": [
    "## Preprocessing and Creating New Features"
   ]
  },
  {
   "cell_type": "markdown",
   "metadata": {},
   "source": [
    "### Feature Engineering"
   ]
  },
  {
   "cell_type": "code",
   "execution_count": null,
   "metadata": {},
   "outputs": [],
   "source": [
    "# Parse genres, actors, and directors safely\n",
    "def parse_genres(genres_str):\n",
    "    try:\n",
    "        genres = ast.literal_eval(genres_str)\n",
    "        return [genre['name'] for genre in genres]\n",
    "    except:\n",
    "        return []\n",
    "\n",
    "def parse_actors(actors_str):\n",
    "    try:\n",
    "        actors = ast.literal_eval(actors_str)\n",
    "        return [actor['name'] for actor in actors]\n",
    "    except:\n",
    "        return []\n",
    "\n",
    "def parse_directors(staff_str):\n",
    "    try:\n",
    "        staff = ast.literal_eval(staff_str)\n",
    "        return [staff_member['name'] for staff_member in staff if staff_member['job'] == 'Director']\n",
    "    except:\n",
    "        return []"
   ]
  },
  {
   "cell_type": "code",
   "execution_count": null,
   "metadata": {},
   "outputs": [],
   "source": [
    "# Merge datasets\n",
    "df = pd.merge(df_movies, df_credit, on='rt_movie_id', how='left')\n",
    "df = df[df['rt_box_office'] != 0]  # Remove rows with zero box office"
   ]
  },
  {
   "cell_type": "code",
   "execution_count": null,
   "metadata": {},
   "outputs": [],
   "source": [
    "# Parse columns\n",
    "df['parsed_genres'] = df['rt_genres'].apply(parse_genres)\n",
    "df['parsed_actors'] = df['rt_actors'].apply(parse_actors)\n",
    "df['parsed_directors'] = df['rt_staff'].apply(parse_directors)"
   ]
  },
  {
   "cell_type": "code",
   "execution_count": null,
   "metadata": {},
   "outputs": [],
   "source": [
    "# Create genre combinations as a single feature\n",
    "df['genre_combination'] = df['parsed_genres'].apply(lambda x: ', '.join(sorted(x)) if x else '')"
   ]
  },
  {
   "cell_type": "code",
   "execution_count": null,
   "metadata": {},
   "outputs": [],
   "source": [
    "# Famous actors and directors\n",
    "all_actors = [actor for actors_list in df['parsed_actors'] for actor in actors_list]\n",
    "actor_counts = Counter(all_actors)\n",
    "top_actors = [actor for actor, _ in actor_counts.most_common(15)]\n",
    "\n",
    "all_directors = [director for directors_list in df['parsed_directors'] for director in directors_list]\n",
    "director_counts = Counter(all_directors)\n",
    "top_directors = [director for director, _ in director_counts.most_common(8)]"
   ]
  },
  {
   "cell_type": "code",
   "execution_count": null,
   "metadata": {},
   "outputs": [],
   "source": [
    "df['num_famous_actors'] = df['parsed_actors'].apply(lambda x: sum(actor in top_actors for actor in x))\n",
    "df['num_famous_directors'] = df['parsed_directors'].apply(lambda x: sum(director in top_directors for director in x))"
   ]
  },
  {
   "cell_type": "code",
   "execution_count": null,
   "metadata": {},
   "outputs": [],
   "source": [
    "# Create derived features\n",
    "df['log_budget'] = np.log1p(df['rt_production_budget'])\n",
    "df['log_runtime'] = np.log1p(df['rt_runtime'])\n",
    "df['budget_per_minute'] = df['rt_production_budget'] / df['rt_runtime']\n",
    "df['release_year'] = pd.to_datetime(df['rt_release_date']).dt.year\n",
    "df['release_month'] = pd.to_datetime(df['rt_release_date']).dt.month\n",
    "df['age_of_movie'] = 2025 - df['release_year']\n",
    "df['decade'] = (df['release_year'] // 10) * 10"
   ]
  },
  {
   "cell_type": "code",
   "execution_count": null,
   "metadata": {},
   "outputs": [],
   "source": [
    "# Interaction features\n",
    "df['critic_audience_interaction'] = df['rt_critics_score'] * df['rt_audience_score']\n",
    "df['budget_runtime_interaction'] = df['log_budget'] * df['log_runtime']"
   ]
  },
  {
   "cell_type": "code",
   "execution_count": null,
   "metadata": {},
   "outputs": [],
   "source": [
    "# Remove invalid rows\n",
    "df = df.dropna(subset=['rt_box_office', 'budget_per_minute', 'rt_critics_score', 'rt_audience_score'])"
   ]
  },
  {
   "cell_type": "code",
   "execution_count": null,
   "metadata": {},
   "outputs": [],
   "source": [
    "# Target and features\n",
    "y = np.log1p(df['rt_box_office'])\n",
    "X = df[['log_budget', 'log_runtime', 'budget_per_minute', 'release_year', 'release_month',\n",
    "        'age_of_movie', 'decade', 'rt_critics_score', 'rt_audience_score', 'rt_review_count',\n",
    "        'num_famous_actors', 'num_famous_directors', 'genre_combination',\n",
    "        'critic_audience_interaction', 'budget_runtime_interaction']]"
   ]
  },
  {
   "cell_type": "code",
   "execution_count": null,
   "metadata": {},
   "outputs": [],
   "source": [
    "# Reset index to ensure alignment\n",
    "X = X.reset_index(drop=True)\n",
    "y = y.reset_index(drop=True)"
   ]
  },
  {
   "cell_type": "markdown",
   "metadata": {},
   "source": [
    "### Preprocessing"
   ]
  },
  {
   "cell_type": "code",
   "execution_count": null,
   "metadata": {},
   "outputs": [],
   "source": [
    "numerical_cols = X.select_dtypes(include=['float64', 'int64']).columns\n",
    "categorical_cols = ['genre_combination', 'decade']  # Specify categorical columns explicitly\n",
    "\n",
    "numerical_transformer = Pipeline(steps=[\n",
    "    ('imputer', SimpleImputer(strategy='mean')),\n",
    "    ('scaler', StandardScaler())\n",
    "])\n",
    "\n",
    "categorical_transformer = Pipeline(steps=[\n",
    "    ('imputer', SimpleImputer(strategy='most_frequent')),\n",
    "    ('onehot', OneHotEncoder(handle_unknown='ignore'))\n",
    "])\n",
    "\n",
    "preprocessor = ColumnTransformer(\n",
    "    transformers=[\n",
    "        ('num', numerical_transformer, numerical_cols),\n",
    "        ('cat', categorical_transformer, categorical_cols)\n",
    "    ])"
   ]
  },
  {
   "cell_type": "markdown",
   "metadata": {},
   "source": [
    "## Training"
   ]
  },
  {
   "cell_type": "code",
   "execution_count": null,
   "metadata": {},
   "outputs": [],
   "source": [
    "models = [\n",
    "    ('Random Forest', RandomForestRegressor(random_state=42)),\n",
    "    ('Gradient Boosting', GradientBoostingRegressor(random_state=42)),\n",
    "    ('XGBoost', XGBRegressor(random_state=42)),\n",
    "    ('Linear Regression', LinearRegression()),\n",
    "    ('Neural Network', MLPRegressor(hidden_layer_sizes=(50, 50), max_iter=1000, random_state=42))  # Added MLPRegressor\n",
    "]"
   ]
  },
  {
   "cell_type": "code",
   "execution_count": null,
   "metadata": {},
   "outputs": [],
   "source": [
    "results = []\n",
    "kf = KFold(n_splits=5, shuffle=True, random_state=42)\n",
    "for model_name, model in models:\n",
    "    pipeline = Pipeline(steps=[('preprocessor', preprocessor), ('model', model)])\n",
    "    model_mse, model_r2 = [], []\n",
    "    for train_idx, test_idx in kf.split(X):\n",
    "        X_train, X_test = X.iloc[train_idx], X.iloc[test_idx]\n",
    "        y_train, y_test = y.iloc[train_idx], y.iloc[test_idx]\n",
    "        pipeline.fit(X_train, y_train)\n",
    "        y_pred = pipeline.predict(X_test)\n",
    "        model_mse.append(mean_squared_error(y_test, y_pred))\n",
    "        model_r2.append(r2_score(y_test, y_pred))\n",
    "    results.append((model_name, np.mean(model_mse), np.mean(model_r2)))"
   ]
  },
  {
   "cell_type": "markdown",
   "metadata": {},
   "source": [
    "## Model Comparison"
   ]
  },
  {
   "cell_type": "code",
   "execution_count": null,
   "metadata": {},
   "outputs": [],
   "source": [
    "results_df = pd.DataFrame(results, columns=['Model', 'MSE', 'R²'])\n",
    "print(results_df)"
   ]
  },
  {
   "cell_type": "markdown",
   "metadata": {},
   "source": [
    "## Hyperparameter Tuning for the Best Model"
   ]
  },
  {
   "cell_type": "code",
   "execution_count": null,
   "metadata": {},
   "outputs": [],
   "source": [
    "best_model_name = results_df.loc[results_df['R²'].idxmax(), 'Model']\n",
    "best_model = [model for name, model in models if name == best_model_name][0]\n",
    "\n",
    "param_grids = {\n",
    "    'Random Forest': {\n",
    "        'model__n_estimators': [100, 200, 300],\n",
    "        'model__max_depth': [10, 20, None],\n",
    "        'model__min_samples_split': [2, 5, 10]\n",
    "    },\n",
    "    'Gradient Boosting': {\n",
    "        'model__n_estimators': [100, 200],\n",
    "        'model__learning_rate': [0.05, 0.1],\n",
    "        'model__max_depth': [3, 5, 10]\n",
    "    },\n",
    "    'XGBoost': {\n",
    "        'model__n_estimators': [100, 200],\n",
    "        'model__max_depth': [3, 5, 10],\n",
    "        'model__learning_rate': [0.05, 0.1],\n",
    "        'model__min_child_weight': [1, 3]\n",
    "    },\n",
    "    'Neural Network': {\n",
    "        'model__hidden_layer_sizes': [(50, 50), (100,)],\n",
    "        'model__max_iter': [500, 1000]\n",
    "    }\n",
    "}"
   ]
  },
  {
   "cell_type": "code",
   "execution_count": null,
   "metadata": {},
   "outputs": [],
   "source": [
    "pipeline = Pipeline(steps=[('preprocessor', preprocessor), ('model', best_model)])\n",
    "grid_search = GridSearchCV(pipeline, param_grids[best_model_name], cv=kf, scoring='neg_mean_squared_error')\n",
    "grid_search.fit(X, y)"
   ]
  },
  {
   "cell_type": "markdown",
   "metadata": {},
   "source": [
    "## Evaluation of the Best Model"
   ]
  },
  {
   "cell_type": "code",
   "execution_count": null,
   "metadata": {},
   "outputs": [],
   "source": [
    "best_model = grid_search.best_estimator_\n",
    "y_pred = best_model.predict(X)\n",
    "print(f\"Best Parameters: {grid_search.best_params_}\")\n",
    "print(f\"Final R²: {r2_score(y, y_pred)}\")\n",
    "print(f\"Final MSE: {mean_squared_error(y, y_pred)}\")\n",
    "print(f\"Final MAE: {mean_absolute_error(y, y_pred)}\")"
   ]
  },
  {
   "cell_type": "code",
   "execution_count": null,
   "metadata": {},
   "outputs": [],
   "source": [
    "# Train Set Evaluation\n",
    "y_pred_train = best_model.predict(X_train)\n",
    "train_mse = mean_squared_error(y_train, y_pred_train)\n",
    "train_r2 = r2_score(y_train, y_pred_train)\n",
    "train_mae = mean_absolute_error(y_train, y_pred_train)\n",
    "train_rmse = np.sqrt(train_mse)\n",
    "train_mape = mean_absolute_percentage_error(y_train, y_pred_train)\n",
    "\n",
    "# Test Set Evaluation\n",
    "y_pred_test = best_model.predict(X_test)\n",
    "test_mse = mean_squared_error(y_test, y_pred_test)\n",
    "test_r2 = r2_score(y_test, y_pred_test)\n",
    "test_mae = mean_absolute_error(y_test, y_pred_test)\n",
    "test_rmse = np.sqrt(test_mse)\n",
    "test_mape = mean_absolute_percentage_error(y_test, y_pred_test)\n",
    "\n",
    "# Display the results\n",
    "print(f\"Train Set Evaluation: MSE={train_mse}, R²={train_r2}, MAE={train_mae}, RMSE={train_rmse}, MAPE={train_mape}\")\n",
    "print(f\"Test Set Evaluation: MSE={test_mse}, R²={test_r2}, MAE={test_mae}, RMSE={test_rmse}, MAPE={test_mape}\")\n"
   ]
  },
  {
   "cell_type": "markdown",
   "metadata": {},
   "source": [
    "## Feature Importance"
   ]
  },
  {
   "cell_type": "code",
   "execution_count": null,
   "metadata": {},
   "outputs": [],
   "source": [
    "if hasattr(best_model.named_steps['model'], 'feature_importances_'):\n",
    "    feature_names = numerical_cols.tolist() + list(best_model.named_steps['preprocessor'].transformers_[1][1].named_steps['onehot'].get_feature_names_out())\n",
    "    feature_importances = best_model.named_steps['model'].feature_importances_\n",
    "    plt.figure(figsize=(10, 6))\n",
    "    sorted_idx = np.argsort(feature_importances)[::-1]\n",
    "    plt.barh(np.array(feature_names)[sorted_idx][:20], feature_importances[sorted_idx][:20])\n",
    "    plt.title('Top 20 Feature Importance')\n",
    "    plt.xlabel('Importance')\n",
    "    plt.tight_layout()\n",
    "    plt.show()"
   ]
  },
  {
   "cell_type": "markdown",
   "metadata": {},
   "source": [
    "## Conclusion"
   ]
  },
  {
   "cell_type": "code",
   "execution_count": null,
   "metadata": {},
   "outputs": [],
   "source": [
    "plt.figure(figsize=(10, 6))\n",
    "plt.scatter(y, y_pred, alpha=0.7, color='blue')\n",
    "plt.plot([y.min(), y.max()], [y.min(), y.max()], 'r--')\n",
    "plt.title('Predictions vs Actual Values')\n",
    "plt.xlabel('Actual')\n",
    "plt.ylabel('Predicted')\n",
    "plt.tight_layout()\n",
    "plt.show()"
   ]
  },
  {
   "cell_type": "markdown",
   "metadata": {},
   "source": [
    "### Conclusion:\n",
    "\n",
    "1. **Model Performance Evaluation**:\n",
    "   - **Train Set Evaluation**:\n",
    "     The model performed well on the training data, with an **R²** of **0.8697**, which indicates a high level of prediction accuracy. The **MSE** of **0.6353** and **RMSE** of **0.7970** suggest that the model is quite accurate in predicting box office values. The **MAE** of **0.5771** further indicates that, on average, the model's predictions are within a reasonable error range. The **MAPE** of **0.0397** shows that the model's predictions are on average 3.97% off from the actual values.\n",
    "\n",
    "   - **Test Set Evaluation**:\n",
    "     On the test set, the model still demonstrates strong performance with an **R²** of **0.8467**, which shows that the model generalizes well. The **MSE** of **0.7120** and **RMSE** of **0.8438** indicate a slightly higher error than on the training data, but the model still provides reasonably accurate predictions. The **MAE** of **0.5983** suggests that the model is able to predict box office values within a fairly acceptable range of error on unseen data. The **MAPE** value of **0.0400** is similar to the training set, indicating stable performance.\n",
    "\n",
    "2. **Hyperparameter Tuning**:\n",
    "   The **best model** parameters found through grid search are:\n",
    "   - **Learning Rate**: **0.1**\n",
    "   - **Max Depth**: **5**\n",
    "   - **Number of Estimators**: **200**\n",
    "   \n",
    "   These parameters contributed to the final model's performance, resulting in a **final R²** of **0.8653**, showing the model's ability to explain approximately 86.5% of the variance in the box office revenue data. \n",
    "\n",
    "   The **final MSE** of **0.6506** indicates a significant improvement compared to earlier models, and the **final MAE** of **0.5813** reflects the model's ability to predict the box office revenue more accurately than before.\n",
    "\n",
    "3. **Feature Importance**:\n",
    "   The most influential features in predicting the box office revenue are:\n",
    "   - **Budget and Runtime Interaction**: This feature has the highest importance in determining box office revenue, suggesting that movies with higher budgets and longer runtimes tend to generate more revenue.\n",
    "   - **Review Count**: The number of reviews also plays a significant role, as movies with more reviews likely attract more audience attention and have better revenues.\n",
    "   - **Critics' Scores and Audience Scores**: Positive interactions between critics' and audience scores are essential, reflecting a movie's reputation and the likelihood of higher revenue.\n",
    "\n",
    "4. **Evaluation Metrics**:\n",
    "   The metrics show that the model is performing well, with strong prediction accuracy on both the training and test sets. The improvement in **R²** and decrease in **MSE** and **RMSE** after hyperparameter tuning reflects the model’s ability to predict box office revenue with higher precision and generalizability.\n",
    "\n",
    "5. **Visualization and Report**:\n",
    "   - The **Feature Importance** chart highlights the top features, emphasizing how movie attributes like **review count** and **budget-runtime interactions** significantly affect box office performance.\n",
    "   - The **Predictions vs Actual Values** plot shows a positive correlation between the predicted and actual values, confirming the model’s ability to predict box office revenue with a reasonable level of accuracy.\n",
    "\n",
    "In summary, the model is well-suited for predicting movie revenue based on available features, and its performance improves with hyperparameter tuning. The model's accuracy and error metrics show solid results, with the most important factors being movie budget, runtime, review count, and critic/audience interaction."
   ]
  },
  {
   "cell_type": "markdown",
   "metadata": {},
   "source": [
    "### Report on the Best Model Based on Accuracy and Generalization Capability\n",
    "\n",
    "#### Model Accuracy\n",
    "In this project, the goal was to predict movie revenue (or box office) using various features of the movies, such as budget, runtime, critic scores, audience scores, and the number of reviews. After testing various models, the **Gradient Boosting** model emerged as the best based on its predictive accuracy.\n",
    "\n",
    "- **The final R² score** of the best model is **0.8653**, which indicates that the model can explain 86.5% of the variance in box office revenue. This suggests that the model can predict box office revenue with high accuracy.\n",
    "- **MSE** and **RMSE** for the final model are **0.6506** and **0.7970**, respectively, reflecting the model's ability to predict movie revenue with minimal error.\n",
    "- **MAE** for the final model is **0.5813**, which indicates the average error in the predictions.\n",
    "\n",
    "#### Model Generalization Capability\n",
    "The **Gradient Boosting** model performed very well on the **test data**, achieving an **R² of 0.8467**. This suggests that the model generalizes well to new, unseen data, making it a robust choice for predicting movie revenue.\n",
    "\n",
    "#### Data Exploration and Feature Analysis\n",
    "To provide a clearer understanding, several plots were created to analyze the model's performance and the impact of different features:\n",
    "\n",
    "1. **Feature Importance Plot**: This plot shows the features that have the greatest impact on the model’s predictions.\n",
    "   - **Interaction between budget and runtime** was the most influential feature, suggesting that movies with higher budgets and longer runtimes tend to have higher box office revenues.\n",
    "   - **Number of reviews** also appeared as a key factor in determining box office success, indicating that films with more reviews tend to have greater visibility and higher earnings.\n",
    "\n",
    "2. **Predictions vs. Actual Values Plot**: This scatter plot shows the relationship between predicted box office revenues and actual revenues. The close alignment of the points with the red dashed line demonstrates the model's ability to make accurate predictions.\n",
    "\n",
    "#### Analysis of Key Factors Affecting Movie Revenue\n",
    "\n",
    "1. **Budget and Runtime**: As indicated by the feature importance plot, movies with higher budgets and longer runtimes tend to perform better at the box office. This is likely because such films often have more extensive marketing and distribution efforts, thus attracting a larger audience.\n",
    "\n",
    "2. **Critic and Audience Scores**: Positive critic and audience reviews are directly correlated with higher box office earnings. Films with higher ratings are more likely to attract a larger number of viewers.\n",
    "\n",
    "3. **Number of Reviews**: Films that receive more reviews are generally more well-known and thus have a better chance of succeeding at the box office. Positive reviews tend to draw in more viewers, resulting in higher revenue.\n",
    "\n",
    "#### Recommendations for Performance Improvement\n",
    "\n",
    "1. **Additional Features**: Incorporating additional features like **advertising budget** and **release timing** could improve the model. These factors have a significant impact on movie revenue.\n",
    "\n",
    "2. **Advanced Models**: Exploring more complex models, such as **neural networks** or **ensemble models**, may help improve the predictive power of the model.\n",
    "\n",
    "3. **Hyperparameter Optimization**: Utilizing more advanced hyperparameter tuning techniques, such as **RandomizedSearchCV** and **Bayesian Optimization**, could further enhance the model’s performance.\n",
    "\n",
    "4. **Expanding the Dataset**: Increasing the amount of training data could help improve the model. More data from various films would allow the model to learn more complex relationships and improve prediction accuracy.\n",
    "\n",
    "### Conclusion\n",
    "The **Gradient Boosting** model, with its hyperparameter tuning and careful feature engineering, has demonstrated strong performance in predicting movie revenue. It was chosen as the best model due to its high accuracy and generalization capability. This model is well-suited for predicting box office performance, and with further optimization and additional features, its performance could be even more refined."
   ]
  }
 ],
 "metadata": {
  "kernelspec": {
   "display_name": "Python 3",
   "language": "python",
   "name": "python3"
  },
  "language_info": {
   "codemirror_mode": {
    "name": "ipython",
    "version": 3
   },
   "file_extension": ".py",
   "mimetype": "text/x-python",
   "name": "python",
   "nbconvert_exporter": "python",
   "pygments_lexer": "ipython3",
   "version": "3.12.0"
  }
 },
 "nbformat": 4,
 "nbformat_minor": 2
}
