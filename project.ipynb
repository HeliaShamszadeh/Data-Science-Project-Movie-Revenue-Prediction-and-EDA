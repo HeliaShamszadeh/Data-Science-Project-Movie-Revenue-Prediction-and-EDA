{
 "cells": [
  {
   "cell_type": "markdown",
   "metadata": {},
   "source": [
    "Revenue Prediction\n",
    "==================\n",
    "In this project the goal is to predict movies revenue using their features. revenue is given by ( box_office - budget ) so the main goal is to predict box office. \n",
    "\n",
    "1. Prepare and preprocess the given data. \n",
    "\n",
    "2. After exploring data find, select and especially create new features. ignore others.\n",
    "\n",
    "3. Prepare features to feed the model. \n",
    "\n",
    "4. Select and try different models.\n",
    "\n",
    "5. Document and report each step using relative plots and a brief explanation. finally report the best suited model and justify why did it performed well.\n",
    "\n",
    "\n",
    "\n",
    "- Keep in mind that in this task accuracy itself only has only part of score.\n",
    "\n",
    "- Hint: to create new features you can use credit attributes. Think of it this way, what affects box office?  "
   ]
  },
  {
   "cell_type": "markdown",
   "metadata": {},
   "source": [
    "**Tools** \n",
    "\n",
    "importing useful tools and libraries. you may use any other library as well."
   ]
  },
  {
   "cell_type": "code",
   "execution_count": 2,
   "metadata": {},
   "outputs": [
    {
     "name": "stderr",
     "output_type": "stream",
     "text": [
      "C:\\Users\\hsham\\AppData\\Local\\Temp\\ipykernel_17980\\688000513.py:1: DeprecationWarning: \n",
      "Pyarrow will become a required dependency of pandas in the next major release of pandas (pandas 3.0),\n",
      "(to allow more performant data types, such as the Arrow string type, and better interoperability with other libraries)\n",
      "but was not found to be installed on your system.\n",
      "If this would cause problems for you,\n",
      "please provide us feedback at https://github.com/pandas-dev/pandas/issues/54466\n",
      "        \n",
      "  import pandas as pd\n"
     ]
    }
   ],
   "source": [
    "import pandas as pd\n",
    "import matplotlib.pyplot as plt\n",
    "import seaborn as sns\n",
    "import numpy as np\n",
    "\n",
    "# Modelling\n",
    "from sklearn import preprocessing, svm \n",
    "from sklearn.model_selection import train_test_split \n",
    "from sklearn.linear_model import LinearRegression\n",
    "from sklearn.linear_model import LogisticRegression\n",
    "from sklearn.ensemble import RandomForestClassifier\n",
    "from sklearn.metrics import accuracy_score, confusion_matrix, precision_score, recall_score, ConfusionMatrixDisplay\n",
    "from sklearn.model_selection import RandomizedSearchCV\n",
    "from scipy.stats import randint\n",
    "\n",
    "# Tree Visualisation\n",
    "from sklearn.tree import export_graphviz\n",
    "from IPython.display import Image\n",
    "import graphviz\n",
    "import plotly.express as px\n",
    "\n",
    "import ast"
   ]
  },
  {
   "cell_type": "code",
   "execution_count": 3,
   "metadata": {},
   "outputs": [],
   "source": [
    "np.random.seed(101)"
   ]
  },
  {
   "cell_type": "code",
   "execution_count": 4,
   "metadata": {},
   "outputs": [],
   "source": [
    "# Your project struct must look like this,\n",
    "\n",
    "\n",
    "# |── Name_SID.zip\n",
    "# │   ├── data\n",
    "# │   │       ├── rotten_tomatoes_5000_movies.csv\n",
    "# │   │       ├── rotten_tomatoes_5000_movies.csv\n",
    "# │   ├── *.ipynb\n",
    "# │   ├── document.pdf\n",
    "\n",
    "df_movies = pd.read_csv(r\"data/rotten_tomatoes_5000_movies.csv\")\n",
    "df_credit = pd.read_csv(r\"data/rotten_tomatoes_5000_credits.csv\")\n"
   ]
  },
  {
   "cell_type": "code",
   "execution_count": 5,
   "metadata": {},
   "outputs": [],
   "source": [
    "df_movies = df_movies[df_movies['rt_box_office']!=0]\n",
    "y = df_movies['rt_box_office']\n",
    "X = df_movies.drop(columns='rt_box_office')\n",
    "\n",
    "X_train, X_test, y_train, y_test = train_test_split(X, y, test_size = 0.25) "
   ]
  },
  {
   "cell_type": "code",
   "execution_count": 6,
   "metadata": {},
   "outputs": [
    {
     "name": "stdout",
     "output_type": "stream",
     "text": [
      "<class 'pandas.core.frame.DataFrame'>\n",
      "Index: 3376 entries, 0 to 4798\n",
      "Data columns (total 20 columns):\n",
      " #   Column                   Non-Null Count  Dtype  \n",
      "---  ------                   --------------  -----  \n",
      " 0   rt_production_budget     3376 non-null   int64  \n",
      " 1   rt_genres                3376 non-null   object \n",
      " 2   rt_website               1396 non-null   object \n",
      " 3   rt_movie_id              3376 non-null   int64  \n",
      " 4   rt_keywords              3376 non-null   object \n",
      " 5   rt_original_language     3376 non-null   object \n",
      " 6   rt_original_title        3376 non-null   object \n",
      " 7   rt_synopsis              3376 non-null   object \n",
      " 8   rt_audience_score        3376 non-null   float64\n",
      " 9   rt_studios               3376 non-null   object \n",
      " 10  rt_production_countries  3376 non-null   object \n",
      " 11  rt_release_date          3376 non-null   object \n",
      " 12  rt_box_office            3376 non-null   int64  \n",
      " 13  rt_runtime               3376 non-null   float64\n",
      " 14  rt_languages             3376 non-null   object \n",
      " 15  rt_release_status        3376 non-null   object \n",
      " 16  rt_tagline               3094 non-null   object \n",
      " 17  rt_title                 3376 non-null   object \n",
      " 18  rt_critics_score         3376 non-null   float64\n",
      " 19  rt_review_count          3376 non-null   int64  \n",
      "dtypes: float64(3), int64(4), object(13)\n",
      "memory usage: 553.9+ KB\n"
     ]
    }
   ],
   "source": [
    "df_movies.info()"
   ]
  },
  {
   "cell_type": "code",
   "execution_count": 7,
   "metadata": {},
   "outputs": [
    {
     "name": "stdout",
     "output_type": "stream",
     "text": [
      "<class 'pandas.core.frame.DataFrame'>\n",
      "RangeIndex: 4803 entries, 0 to 4802\n",
      "Data columns (total 4 columns):\n",
      " #   Column       Non-Null Count  Dtype \n",
      "---  ------       --------------  ----- \n",
      " 0   rt_movie_id  4803 non-null   int64 \n",
      " 1   rt_title     4803 non-null   object\n",
      " 2   rt_actors    4803 non-null   object\n",
      " 3   rt_staff     4803 non-null   object\n",
      "dtypes: int64(1), object(3)\n",
      "memory usage: 150.2+ KB\n"
     ]
    }
   ],
   "source": [
    "df_credit.info()"
   ]
  },
  {
   "cell_type": "code",
   "execution_count": 8,
   "metadata": {},
   "outputs": [
    {
     "data": {
      "text/html": [
       "<div>\n",
       "<style scoped>\n",
       "    .dataframe tbody tr th:only-of-type {\n",
       "        vertical-align: middle;\n",
       "    }\n",
       "\n",
       "    .dataframe tbody tr th {\n",
       "        vertical-align: top;\n",
       "    }\n",
       "\n",
       "    .dataframe thead th {\n",
       "        text-align: right;\n",
       "    }\n",
       "</style>\n",
       "<table border=\"1\" class=\"dataframe\">\n",
       "  <thead>\n",
       "    <tr style=\"text-align: right;\">\n",
       "      <th></th>\n",
       "      <th>rt_movie_id</th>\n",
       "      <th>rt_title</th>\n",
       "      <th>rt_actors</th>\n",
       "      <th>rt_staff</th>\n",
       "    </tr>\n",
       "  </thead>\n",
       "  <tbody>\n",
       "    <tr>\n",
       "      <th>0</th>\n",
       "      <td>19995</td>\n",
       "      <td>Avatar</td>\n",
       "      <td>[{\"cast_id\": 242, \"character\": \"Jake Sully\", \"...</td>\n",
       "      <td>[{\"credit_id\": \"52fe48009251416c750aca23\", \"de...</td>\n",
       "    </tr>\n",
       "    <tr>\n",
       "      <th>1</th>\n",
       "      <td>285</td>\n",
       "      <td>Pirates of the Caribbean: At World's End</td>\n",
       "      <td>[{\"cast_id\": 4, \"character\": \"Captain Jack Spa...</td>\n",
       "      <td>[{\"credit_id\": \"52fe4232c3a36847f800b579\", \"de...</td>\n",
       "    </tr>\n",
       "    <tr>\n",
       "      <th>2</th>\n",
       "      <td>206647</td>\n",
       "      <td>Spectre</td>\n",
       "      <td>[{\"cast_id\": 1, \"character\": \"James Bond\", \"cr...</td>\n",
       "      <td>[{\"credit_id\": \"54805967c3a36829b5002c41\", \"de...</td>\n",
       "    </tr>\n",
       "    <tr>\n",
       "      <th>3</th>\n",
       "      <td>49026</td>\n",
       "      <td>The Dark Knight Rises</td>\n",
       "      <td>[{\"cast_id\": 2, \"character\": \"Bruce Wayne / Ba...</td>\n",
       "      <td>[{\"credit_id\": \"52fe4781c3a36847f81398c3\", \"de...</td>\n",
       "    </tr>\n",
       "    <tr>\n",
       "      <th>4</th>\n",
       "      <td>49529</td>\n",
       "      <td>John Carter</td>\n",
       "      <td>[{\"cast_id\": 5, \"character\": \"John Carter\", \"c...</td>\n",
       "      <td>[{\"credit_id\": \"52fe479ac3a36847f813eaa3\", \"de...</td>\n",
       "    </tr>\n",
       "  </tbody>\n",
       "</table>\n",
       "</div>"
      ],
      "text/plain": [
       "   rt_movie_id                                  rt_title  \\\n",
       "0        19995                                    Avatar   \n",
       "1          285  Pirates of the Caribbean: At World's End   \n",
       "2       206647                                   Spectre   \n",
       "3        49026                     The Dark Knight Rises   \n",
       "4        49529                               John Carter   \n",
       "\n",
       "                                           rt_actors  \\\n",
       "0  [{\"cast_id\": 242, \"character\": \"Jake Sully\", \"...   \n",
       "1  [{\"cast_id\": 4, \"character\": \"Captain Jack Spa...   \n",
       "2  [{\"cast_id\": 1, \"character\": \"James Bond\", \"cr...   \n",
       "3  [{\"cast_id\": 2, \"character\": \"Bruce Wayne / Ba...   \n",
       "4  [{\"cast_id\": 5, \"character\": \"John Carter\", \"c...   \n",
       "\n",
       "                                            rt_staff  \n",
       "0  [{\"credit_id\": \"52fe48009251416c750aca23\", \"de...  \n",
       "1  [{\"credit_id\": \"52fe4232c3a36847f800b579\", \"de...  \n",
       "2  [{\"credit_id\": \"54805967c3a36829b5002c41\", \"de...  \n",
       "3  [{\"credit_id\": \"52fe4781c3a36847f81398c3\", \"de...  \n",
       "4  [{\"credit_id\": \"52fe479ac3a36847f813eaa3\", \"de...  "
      ]
     },
     "execution_count": 8,
     "metadata": {},
     "output_type": "execute_result"
    }
   ],
   "source": [
    "df_credit.head()"
   ]
  },
  {
   "cell_type": "code",
   "execution_count": 9,
   "metadata": {},
   "outputs": [
    {
     "data": {
      "text/html": [
       "<div>\n",
       "<style scoped>\n",
       "    .dataframe tbody tr th:only-of-type {\n",
       "        vertical-align: middle;\n",
       "    }\n",
       "\n",
       "    .dataframe tbody tr th {\n",
       "        vertical-align: top;\n",
       "    }\n",
       "\n",
       "    .dataframe thead th {\n",
       "        text-align: right;\n",
       "    }\n",
       "</style>\n",
       "<table border=\"1\" class=\"dataframe\">\n",
       "  <thead>\n",
       "    <tr style=\"text-align: right;\">\n",
       "      <th></th>\n",
       "      <th>rt_production_budget</th>\n",
       "      <th>rt_genres</th>\n",
       "      <th>rt_website</th>\n",
       "      <th>rt_movie_id</th>\n",
       "      <th>rt_keywords</th>\n",
       "      <th>rt_original_language</th>\n",
       "      <th>rt_original_title</th>\n",
       "      <th>rt_synopsis</th>\n",
       "      <th>rt_audience_score</th>\n",
       "      <th>rt_studios</th>\n",
       "      <th>rt_production_countries</th>\n",
       "      <th>rt_release_date</th>\n",
       "      <th>rt_box_office</th>\n",
       "      <th>rt_runtime</th>\n",
       "      <th>rt_languages</th>\n",
       "      <th>rt_release_status</th>\n",
       "      <th>rt_tagline</th>\n",
       "      <th>rt_title</th>\n",
       "      <th>rt_critics_score</th>\n",
       "      <th>rt_review_count</th>\n",
       "    </tr>\n",
       "  </thead>\n",
       "  <tbody>\n",
       "    <tr>\n",
       "      <th>0</th>\n",
       "      <td>237000000</td>\n",
       "      <td>[{\"id\": 28, \"name\": \"Action\"}, {\"id\": 12, \"nam...</td>\n",
       "      <td>http://www.avatarmovie.com/</td>\n",
       "      <td>19995</td>\n",
       "      <td>[{\"id\": 1463, \"name\": \"culture clash\"}, {\"id\":...</td>\n",
       "      <td>en</td>\n",
       "      <td>Avatar</td>\n",
       "      <td>In the 22nd century, a paraplegic Marine is di...</td>\n",
       "      <td>150.437577</td>\n",
       "      <td>[{\"name\": \"Ingenious Film Partners\", \"id\": 289...</td>\n",
       "      <td>[{\"iso_3166_1\": \"US\", \"name\": \"United States o...</td>\n",
       "      <td>2009-12-10</td>\n",
       "      <td>2787965087</td>\n",
       "      <td>162.0</td>\n",
       "      <td>[{\"iso_639_1\": \"en\", \"name\": \"English\"}, {\"iso...</td>\n",
       "      <td>Released</td>\n",
       "      <td>Enter the World of Pandora.</td>\n",
       "      <td>Avatar</td>\n",
       "      <td>7.2</td>\n",
       "      <td>11800</td>\n",
       "    </tr>\n",
       "    <tr>\n",
       "      <th>1</th>\n",
       "      <td>300000000</td>\n",
       "      <td>[{\"id\": 12, \"name\": \"Adventure\"}, {\"id\": 14, \"...</td>\n",
       "      <td>http://disney.go.com/disneypictures/pirates/</td>\n",
       "      <td>285</td>\n",
       "      <td>[{\"id\": 270, \"name\": \"ocean\"}, {\"id\": 726, \"na...</td>\n",
       "      <td>en</td>\n",
       "      <td>Pirates of the Caribbean: At World's End</td>\n",
       "      <td>Captain Barbossa, long believed to be dead, ha...</td>\n",
       "      <td>139.082615</td>\n",
       "      <td>[{\"name\": \"Walt Disney Pictures\", \"id\": 2}, {\"...</td>\n",
       "      <td>[{\"iso_3166_1\": \"US\", \"name\": \"United States o...</td>\n",
       "      <td>2007-05-19</td>\n",
       "      <td>961000000</td>\n",
       "      <td>169.0</td>\n",
       "      <td>[{\"iso_639_1\": \"en\", \"name\": \"English\"}]</td>\n",
       "      <td>Released</td>\n",
       "      <td>At the end of the world, the adventure begins.</td>\n",
       "      <td>Pirates of the Caribbean: At World's End</td>\n",
       "      <td>6.9</td>\n",
       "      <td>4500</td>\n",
       "    </tr>\n",
       "    <tr>\n",
       "      <th>2</th>\n",
       "      <td>245000000</td>\n",
       "      <td>[{\"id\": 28, \"name\": \"Action\"}, {\"id\": 12, \"nam...</td>\n",
       "      <td>http://www.sonypictures.com/movies/spectre/</td>\n",
       "      <td>206647</td>\n",
       "      <td>[{\"id\": 470, \"name\": \"spy\"}, {\"id\": 818, \"name...</td>\n",
       "      <td>en</td>\n",
       "      <td>Spectre</td>\n",
       "      <td>A cryptic message from Bond’s past sends him o...</td>\n",
       "      <td>107.376788</td>\n",
       "      <td>[{\"name\": \"Columbia Pictures\", \"id\": 5}, {\"nam...</td>\n",
       "      <td>[{\"iso_3166_1\": \"GB\", \"name\": \"United Kingdom\"...</td>\n",
       "      <td>2015-10-26</td>\n",
       "      <td>880674609</td>\n",
       "      <td>148.0</td>\n",
       "      <td>[{\"iso_639_1\": \"fr\", \"name\": \"Fran\\u00e7ais\"},...</td>\n",
       "      <td>Released</td>\n",
       "      <td>A Plan No One Escapes</td>\n",
       "      <td>Spectre</td>\n",
       "      <td>6.3</td>\n",
       "      <td>4466</td>\n",
       "    </tr>\n",
       "    <tr>\n",
       "      <th>3</th>\n",
       "      <td>250000000</td>\n",
       "      <td>[{\"id\": 28, \"name\": \"Action\"}, {\"id\": 80, \"nam...</td>\n",
       "      <td>http://www.thedarkknightrises.com/</td>\n",
       "      <td>49026</td>\n",
       "      <td>[{\"id\": 849, \"name\": \"dc comics\"}, {\"id\": 853,...</td>\n",
       "      <td>en</td>\n",
       "      <td>The Dark Knight Rises</td>\n",
       "      <td>Following the death of District Attorney Harve...</td>\n",
       "      <td>112.312950</td>\n",
       "      <td>[{\"name\": \"Legendary Pictures\", \"id\": 923}, {\"...</td>\n",
       "      <td>[{\"iso_3166_1\": \"US\", \"name\": \"United States o...</td>\n",
       "      <td>2012-07-16</td>\n",
       "      <td>1084939099</td>\n",
       "      <td>165.0</td>\n",
       "      <td>[{\"iso_639_1\": \"en\", \"name\": \"English\"}]</td>\n",
       "      <td>Released</td>\n",
       "      <td>The Legend Ends</td>\n",
       "      <td>The Dark Knight Rises</td>\n",
       "      <td>7.6</td>\n",
       "      <td>9106</td>\n",
       "    </tr>\n",
       "    <tr>\n",
       "      <th>4</th>\n",
       "      <td>260000000</td>\n",
       "      <td>[{\"id\": 28, \"name\": \"Action\"}, {\"id\": 12, \"nam...</td>\n",
       "      <td>http://movies.disney.com/john-carter</td>\n",
       "      <td>49529</td>\n",
       "      <td>[{\"id\": 818, \"name\": \"based on novel\"}, {\"id\":...</td>\n",
       "      <td>en</td>\n",
       "      <td>John Carter</td>\n",
       "      <td>John Carter is a war-weary, former military ca...</td>\n",
       "      <td>43.926995</td>\n",
       "      <td>[{\"name\": \"Walt Disney Pictures\", \"id\": 2}]</td>\n",
       "      <td>[{\"iso_3166_1\": \"US\", \"name\": \"United States o...</td>\n",
       "      <td>2012-03-07</td>\n",
       "      <td>284139100</td>\n",
       "      <td>132.0</td>\n",
       "      <td>[{\"iso_639_1\": \"en\", \"name\": \"English\"}]</td>\n",
       "      <td>Released</td>\n",
       "      <td>Lost in our world, found in another.</td>\n",
       "      <td>John Carter</td>\n",
       "      <td>6.1</td>\n",
       "      <td>2124</td>\n",
       "    </tr>\n",
       "  </tbody>\n",
       "</table>\n",
       "</div>"
      ],
      "text/plain": [
       "   rt_production_budget                                          rt_genres  \\\n",
       "0             237000000  [{\"id\": 28, \"name\": \"Action\"}, {\"id\": 12, \"nam...   \n",
       "1             300000000  [{\"id\": 12, \"name\": \"Adventure\"}, {\"id\": 14, \"...   \n",
       "2             245000000  [{\"id\": 28, \"name\": \"Action\"}, {\"id\": 12, \"nam...   \n",
       "3             250000000  [{\"id\": 28, \"name\": \"Action\"}, {\"id\": 80, \"nam...   \n",
       "4             260000000  [{\"id\": 28, \"name\": \"Action\"}, {\"id\": 12, \"nam...   \n",
       "\n",
       "                                     rt_website  rt_movie_id  \\\n",
       "0                   http://www.avatarmovie.com/        19995   \n",
       "1  http://disney.go.com/disneypictures/pirates/          285   \n",
       "2   http://www.sonypictures.com/movies/spectre/       206647   \n",
       "3            http://www.thedarkknightrises.com/        49026   \n",
       "4          http://movies.disney.com/john-carter        49529   \n",
       "\n",
       "                                         rt_keywords rt_original_language  \\\n",
       "0  [{\"id\": 1463, \"name\": \"culture clash\"}, {\"id\":...                   en   \n",
       "1  [{\"id\": 270, \"name\": \"ocean\"}, {\"id\": 726, \"na...                   en   \n",
       "2  [{\"id\": 470, \"name\": \"spy\"}, {\"id\": 818, \"name...                   en   \n",
       "3  [{\"id\": 849, \"name\": \"dc comics\"}, {\"id\": 853,...                   en   \n",
       "4  [{\"id\": 818, \"name\": \"based on novel\"}, {\"id\":...                   en   \n",
       "\n",
       "                          rt_original_title  \\\n",
       "0                                    Avatar   \n",
       "1  Pirates of the Caribbean: At World's End   \n",
       "2                                   Spectre   \n",
       "3                     The Dark Knight Rises   \n",
       "4                               John Carter   \n",
       "\n",
       "                                         rt_synopsis  rt_audience_score  \\\n",
       "0  In the 22nd century, a paraplegic Marine is di...         150.437577   \n",
       "1  Captain Barbossa, long believed to be dead, ha...         139.082615   \n",
       "2  A cryptic message from Bond’s past sends him o...         107.376788   \n",
       "3  Following the death of District Attorney Harve...         112.312950   \n",
       "4  John Carter is a war-weary, former military ca...          43.926995   \n",
       "\n",
       "                                          rt_studios  \\\n",
       "0  [{\"name\": \"Ingenious Film Partners\", \"id\": 289...   \n",
       "1  [{\"name\": \"Walt Disney Pictures\", \"id\": 2}, {\"...   \n",
       "2  [{\"name\": \"Columbia Pictures\", \"id\": 5}, {\"nam...   \n",
       "3  [{\"name\": \"Legendary Pictures\", \"id\": 923}, {\"...   \n",
       "4        [{\"name\": \"Walt Disney Pictures\", \"id\": 2}]   \n",
       "\n",
       "                             rt_production_countries rt_release_date  \\\n",
       "0  [{\"iso_3166_1\": \"US\", \"name\": \"United States o...      2009-12-10   \n",
       "1  [{\"iso_3166_1\": \"US\", \"name\": \"United States o...      2007-05-19   \n",
       "2  [{\"iso_3166_1\": \"GB\", \"name\": \"United Kingdom\"...      2015-10-26   \n",
       "3  [{\"iso_3166_1\": \"US\", \"name\": \"United States o...      2012-07-16   \n",
       "4  [{\"iso_3166_1\": \"US\", \"name\": \"United States o...      2012-03-07   \n",
       "\n",
       "   rt_box_office  rt_runtime  \\\n",
       "0     2787965087       162.0   \n",
       "1      961000000       169.0   \n",
       "2      880674609       148.0   \n",
       "3     1084939099       165.0   \n",
       "4      284139100       132.0   \n",
       "\n",
       "                                        rt_languages rt_release_status  \\\n",
       "0  [{\"iso_639_1\": \"en\", \"name\": \"English\"}, {\"iso...          Released   \n",
       "1           [{\"iso_639_1\": \"en\", \"name\": \"English\"}]          Released   \n",
       "2  [{\"iso_639_1\": \"fr\", \"name\": \"Fran\\u00e7ais\"},...          Released   \n",
       "3           [{\"iso_639_1\": \"en\", \"name\": \"English\"}]          Released   \n",
       "4           [{\"iso_639_1\": \"en\", \"name\": \"English\"}]          Released   \n",
       "\n",
       "                                       rt_tagline  \\\n",
       "0                     Enter the World of Pandora.   \n",
       "1  At the end of the world, the adventure begins.   \n",
       "2                           A Plan No One Escapes   \n",
       "3                                 The Legend Ends   \n",
       "4            Lost in our world, found in another.   \n",
       "\n",
       "                                   rt_title  rt_critics_score  rt_review_count  \n",
       "0                                    Avatar               7.2            11800  \n",
       "1  Pirates of the Caribbean: At World's End               6.9             4500  \n",
       "2                                   Spectre               6.3             4466  \n",
       "3                     The Dark Knight Rises               7.6             9106  \n",
       "4                               John Carter               6.1             2124  "
      ]
     },
     "execution_count": 9,
     "metadata": {},
     "output_type": "execute_result"
    }
   ],
   "source": [
    "df_movies.head()"
   ]
  },
  {
   "cell_type": "markdown",
   "metadata": {},
   "source": [
    "\n",
    "\n",
    "\n",
    "\n",
    "\n",
    "# First Part: EDA"
   ]
  },
  {
   "cell_type": "code",
   "execution_count": 10,
   "metadata": {},
   "outputs": [],
   "source": [
    "# Helper function to parse the 'rt_actors' column\n",
    "def parse_list_column(column):\n",
    "    \"\"\"Convert string representation of list to actual list.\"\"\"\n",
    "    return column.apply(lambda x: ast.literal_eval(x) if isinstance(x, str) else [])\n",
    "\n",
    "def extract_dict_field(column, field_name):\n",
    "    \"\"\"Extract a specific field from a dictionary within a column.\"\"\"\n",
    "    return column.apply(lambda x: x[field_name] if isinstance(x, dict) else None)\n",
    "\n",
    "# Create a temporary DataFrame for processing\n",
    "temp_df = df_movies.copy()\n"
   ]
  },
  {
   "cell_type": "markdown",
   "metadata": {},
   "source": [
    "### Calculate the number of possible genres"
   ]
  },
  {
   "cell_type": "code",
   "execution_count": 11,
   "metadata": {},
   "outputs": [
    {
     "name": "stdout",
     "output_type": "stream",
     "text": [
      "The number of unique genres is: 19\n"
     ]
    }
   ],
   "source": [
    "# Safely convert the genre column\n",
    "df_movies_genres = temp_df['rt_genres'].apply(\n",
    "    lambda x: ast.literal_eval(x) if isinstance(x, str) and x.startswith('[') else []\n",
    ")\n",
    "\n",
    "# Expand the genres\n",
    "all_genres = df_movies_genres.explode().dropna()\n",
    "\n",
    "# Extract genre names\n",
    "unique_genres = all_genres.apply(lambda x: x['name'] if isinstance(x, dict) else None).dropna().unique()\n",
    "\n",
    "# Count unique genres\n",
    "num_genres = len(unique_genres)\n",
    "\n",
    "print(f\"The number of unique genres is: {num_genres}\")\n"
   ]
  },
  {
   "cell_type": "markdown",
   "metadata": {},
   "source": [
    "### 1) What is the average earning of each movie genre?"
   ]
  },
  {
   "cell_type": "code",
   "execution_count": 13,
   "metadata": {},
   "outputs": [],
   "source": [
    "df_genres_expanded = df_movies.copy()\n",
    "df_genres_expanded['rt_genres'] = df_genres_expanded['rt_genres'].apply(\n",
    "    lambda x: ast.literal_eval(x) if isinstance(x, str) else []\n",
    ")\n",
    "\n",
    "# Expand genres into separate rows\n",
    "genres_expanded = df_genres_expanded.explode('rt_genres')\n",
    "\n",
    "# Extract genre names from the dictionary\n",
    "genres_expanded['genre_name'] = genres_expanded['rt_genres'].apply(\n",
    "    lambda x: x['name'] if isinstance(x, dict) else None\n",
    ")\n",
    "\n",
    "# Drop rows with invalid genre names\n",
    "genres_expanded = genres_expanded.dropna(subset=['genre_name'])\n",
    "\n",
    "# Calculate the average production budget for each genre\n",
    "average_budget_by_genre = genres_expanded.groupby('genre_name')['rt_production_budget'].mean().reset_index()"
   ]
  },
  {
   "cell_type": "markdown",
   "metadata": {},
   "source": [
    "Plot"
   ]
  },
  {
   "cell_type": "code",
   "execution_count": 14,
   "metadata": {},
   "outputs": [
    {
     "data": {
      "application/vnd.plotly.v1+json": {
       "config": {
        "plotlyServerURL": "https://plot.ly"
       },
       "data": [
        {
         "alignmentgroup": "True",
         "hovertemplate": "Genre=%{x}<br>Production Budget (USD)=%{text}<extra></extra>",
         "legendgroup": "",
         "marker": {
          "color": "#636efa",
          "pattern": {
           "shape": ""
          }
         },
         "name": "",
         "offsetgroup": "",
         "orientation": "v",
         "showlegend": false,
         "text": [
          60930347.318085104,
          75297583.7674074,
          79557178.30366492,
          34184459.07666099,
          33719198.0707635,
          4384473.680851064,
          28333860.99934512,
          65204812.057591625,
          73701412.63247864,
          2204167.8333333335,
          36496372.04,
          19840503.51162791,
          21988823.016528927,
          38331838.24626866,
          26893100.70695364,
          61669373.72209567,
          39929015.04066736,
          40312678.31147541,
          33154977.06557377
         ],
         "textposition": "outside",
         "texttemplate": "%{text:.2s}",
         "type": "bar",
         "x": [
          "Action",
          "Adventure",
          "Animation",
          "Comedy",
          "Crime",
          "Documentary",
          "Drama",
          "Family",
          "Fantasy",
          "Foreign",
          "History",
          "Horror",
          "Music",
          "Mystery",
          "Romance",
          "Science Fiction",
          "Thriller",
          "War",
          "Western"
         ],
         "xaxis": "x",
         "y": [
          60930347.318085104,
          75297583.7674074,
          79557178.30366492,
          34184459.07666099,
          33719198.0707635,
          4384473.680851064,
          28333860.99934512,
          65204812.057591625,
          73701412.63247864,
          2204167.8333333335,
          36496372.04,
          19840503.51162791,
          21988823.016528927,
          38331838.24626866,
          26893100.70695364,
          61669373.72209567,
          39929015.04066736,
          40312678.31147541,
          33154977.06557377
         ],
         "yaxis": "y"
        }
       ],
       "layout": {
        "barmode": "relative",
        "legend": {
         "tracegroupgap": 0
        },
        "template": {
         "data": {
          "bar": [
           {
            "error_x": {
             "color": "#2a3f5f"
            },
            "error_y": {
             "color": "#2a3f5f"
            },
            "marker": {
             "line": {
              "color": "#E5ECF6",
              "width": 0.5
             },
             "pattern": {
              "fillmode": "overlay",
              "size": 10,
              "solidity": 0.2
             }
            },
            "type": "bar"
           }
          ],
          "barpolar": [
           {
            "marker": {
             "line": {
              "color": "#E5ECF6",
              "width": 0.5
             },
             "pattern": {
              "fillmode": "overlay",
              "size": 10,
              "solidity": 0.2
             }
            },
            "type": "barpolar"
           }
          ],
          "carpet": [
           {
            "aaxis": {
             "endlinecolor": "#2a3f5f",
             "gridcolor": "white",
             "linecolor": "white",
             "minorgridcolor": "white",
             "startlinecolor": "#2a3f5f"
            },
            "baxis": {
             "endlinecolor": "#2a3f5f",
             "gridcolor": "white",
             "linecolor": "white",
             "minorgridcolor": "white",
             "startlinecolor": "#2a3f5f"
            },
            "type": "carpet"
           }
          ],
          "choropleth": [
           {
            "colorbar": {
             "outlinewidth": 0,
             "ticks": ""
            },
            "type": "choropleth"
           }
          ],
          "contour": [
           {
            "colorbar": {
             "outlinewidth": 0,
             "ticks": ""
            },
            "colorscale": [
             [
              0,
              "#0d0887"
             ],
             [
              0.1111111111111111,
              "#46039f"
             ],
             [
              0.2222222222222222,
              "#7201a8"
             ],
             [
              0.3333333333333333,
              "#9c179e"
             ],
             [
              0.4444444444444444,
              "#bd3786"
             ],
             [
              0.5555555555555556,
              "#d8576b"
             ],
             [
              0.6666666666666666,
              "#ed7953"
             ],
             [
              0.7777777777777778,
              "#fb9f3a"
             ],
             [
              0.8888888888888888,
              "#fdca26"
             ],
             [
              1,
              "#f0f921"
             ]
            ],
            "type": "contour"
           }
          ],
          "contourcarpet": [
           {
            "colorbar": {
             "outlinewidth": 0,
             "ticks": ""
            },
            "type": "contourcarpet"
           }
          ],
          "heatmap": [
           {
            "colorbar": {
             "outlinewidth": 0,
             "ticks": ""
            },
            "colorscale": [
             [
              0,
              "#0d0887"
             ],
             [
              0.1111111111111111,
              "#46039f"
             ],
             [
              0.2222222222222222,
              "#7201a8"
             ],
             [
              0.3333333333333333,
              "#9c179e"
             ],
             [
              0.4444444444444444,
              "#bd3786"
             ],
             [
              0.5555555555555556,
              "#d8576b"
             ],
             [
              0.6666666666666666,
              "#ed7953"
             ],
             [
              0.7777777777777778,
              "#fb9f3a"
             ],
             [
              0.8888888888888888,
              "#fdca26"
             ],
             [
              1,
              "#f0f921"
             ]
            ],
            "type": "heatmap"
           }
          ],
          "heatmapgl": [
           {
            "colorbar": {
             "outlinewidth": 0,
             "ticks": ""
            },
            "colorscale": [
             [
              0,
              "#0d0887"
             ],
             [
              0.1111111111111111,
              "#46039f"
             ],
             [
              0.2222222222222222,
              "#7201a8"
             ],
             [
              0.3333333333333333,
              "#9c179e"
             ],
             [
              0.4444444444444444,
              "#bd3786"
             ],
             [
              0.5555555555555556,
              "#d8576b"
             ],
             [
              0.6666666666666666,
              "#ed7953"
             ],
             [
              0.7777777777777778,
              "#fb9f3a"
             ],
             [
              0.8888888888888888,
              "#fdca26"
             ],
             [
              1,
              "#f0f921"
             ]
            ],
            "type": "heatmapgl"
           }
          ],
          "histogram": [
           {
            "marker": {
             "pattern": {
              "fillmode": "overlay",
              "size": 10,
              "solidity": 0.2
             }
            },
            "type": "histogram"
           }
          ],
          "histogram2d": [
           {
            "colorbar": {
             "outlinewidth": 0,
             "ticks": ""
            },
            "colorscale": [
             [
              0,
              "#0d0887"
             ],
             [
              0.1111111111111111,
              "#46039f"
             ],
             [
              0.2222222222222222,
              "#7201a8"
             ],
             [
              0.3333333333333333,
              "#9c179e"
             ],
             [
              0.4444444444444444,
              "#bd3786"
             ],
             [
              0.5555555555555556,
              "#d8576b"
             ],
             [
              0.6666666666666666,
              "#ed7953"
             ],
             [
              0.7777777777777778,
              "#fb9f3a"
             ],
             [
              0.8888888888888888,
              "#fdca26"
             ],
             [
              1,
              "#f0f921"
             ]
            ],
            "type": "histogram2d"
           }
          ],
          "histogram2dcontour": [
           {
            "colorbar": {
             "outlinewidth": 0,
             "ticks": ""
            },
            "colorscale": [
             [
              0,
              "#0d0887"
             ],
             [
              0.1111111111111111,
              "#46039f"
             ],
             [
              0.2222222222222222,
              "#7201a8"
             ],
             [
              0.3333333333333333,
              "#9c179e"
             ],
             [
              0.4444444444444444,
              "#bd3786"
             ],
             [
              0.5555555555555556,
              "#d8576b"
             ],
             [
              0.6666666666666666,
              "#ed7953"
             ],
             [
              0.7777777777777778,
              "#fb9f3a"
             ],
             [
              0.8888888888888888,
              "#fdca26"
             ],
             [
              1,
              "#f0f921"
             ]
            ],
            "type": "histogram2dcontour"
           }
          ],
          "mesh3d": [
           {
            "colorbar": {
             "outlinewidth": 0,
             "ticks": ""
            },
            "type": "mesh3d"
           }
          ],
          "parcoords": [
           {
            "line": {
             "colorbar": {
              "outlinewidth": 0,
              "ticks": ""
             }
            },
            "type": "parcoords"
           }
          ],
          "pie": [
           {
            "automargin": true,
            "type": "pie"
           }
          ],
          "scatter": [
           {
            "fillpattern": {
             "fillmode": "overlay",
             "size": 10,
             "solidity": 0.2
            },
            "type": "scatter"
           }
          ],
          "scatter3d": [
           {
            "line": {
             "colorbar": {
              "outlinewidth": 0,
              "ticks": ""
             }
            },
            "marker": {
             "colorbar": {
              "outlinewidth": 0,
              "ticks": ""
             }
            },
            "type": "scatter3d"
           }
          ],
          "scattercarpet": [
           {
            "marker": {
             "colorbar": {
              "outlinewidth": 0,
              "ticks": ""
             }
            },
            "type": "scattercarpet"
           }
          ],
          "scattergeo": [
           {
            "marker": {
             "colorbar": {
              "outlinewidth": 0,
              "ticks": ""
             }
            },
            "type": "scattergeo"
           }
          ],
          "scattergl": [
           {
            "marker": {
             "colorbar": {
              "outlinewidth": 0,
              "ticks": ""
             }
            },
            "type": "scattergl"
           }
          ],
          "scattermapbox": [
           {
            "marker": {
             "colorbar": {
              "outlinewidth": 0,
              "ticks": ""
             }
            },
            "type": "scattermapbox"
           }
          ],
          "scatterpolar": [
           {
            "marker": {
             "colorbar": {
              "outlinewidth": 0,
              "ticks": ""
             }
            },
            "type": "scatterpolar"
           }
          ],
          "scatterpolargl": [
           {
            "marker": {
             "colorbar": {
              "outlinewidth": 0,
              "ticks": ""
             }
            },
            "type": "scatterpolargl"
           }
          ],
          "scatterternary": [
           {
            "marker": {
             "colorbar": {
              "outlinewidth": 0,
              "ticks": ""
             }
            },
            "type": "scatterternary"
           }
          ],
          "surface": [
           {
            "colorbar": {
             "outlinewidth": 0,
             "ticks": ""
            },
            "colorscale": [
             [
              0,
              "#0d0887"
             ],
             [
              0.1111111111111111,
              "#46039f"
             ],
             [
              0.2222222222222222,
              "#7201a8"
             ],
             [
              0.3333333333333333,
              "#9c179e"
             ],
             [
              0.4444444444444444,
              "#bd3786"
             ],
             [
              0.5555555555555556,
              "#d8576b"
             ],
             [
              0.6666666666666666,
              "#ed7953"
             ],
             [
              0.7777777777777778,
              "#fb9f3a"
             ],
             [
              0.8888888888888888,
              "#fdca26"
             ],
             [
              1,
              "#f0f921"
             ]
            ],
            "type": "surface"
           }
          ],
          "table": [
           {
            "cells": {
             "fill": {
              "color": "#EBF0F8"
             },
             "line": {
              "color": "white"
             }
            },
            "header": {
             "fill": {
              "color": "#C8D4E3"
             },
             "line": {
              "color": "white"
             }
            },
            "type": "table"
           }
          ]
         },
         "layout": {
          "annotationdefaults": {
           "arrowcolor": "#2a3f5f",
           "arrowhead": 0,
           "arrowwidth": 1
          },
          "autotypenumbers": "strict",
          "coloraxis": {
           "colorbar": {
            "outlinewidth": 0,
            "ticks": ""
           }
          },
          "colorscale": {
           "diverging": [
            [
             0,
             "#8e0152"
            ],
            [
             0.1,
             "#c51b7d"
            ],
            [
             0.2,
             "#de77ae"
            ],
            [
             0.3,
             "#f1b6da"
            ],
            [
             0.4,
             "#fde0ef"
            ],
            [
             0.5,
             "#f7f7f7"
            ],
            [
             0.6,
             "#e6f5d0"
            ],
            [
             0.7,
             "#b8e186"
            ],
            [
             0.8,
             "#7fbc41"
            ],
            [
             0.9,
             "#4d9221"
            ],
            [
             1,
             "#276419"
            ]
           ],
           "sequential": [
            [
             0,
             "#0d0887"
            ],
            [
             0.1111111111111111,
             "#46039f"
            ],
            [
             0.2222222222222222,
             "#7201a8"
            ],
            [
             0.3333333333333333,
             "#9c179e"
            ],
            [
             0.4444444444444444,
             "#bd3786"
            ],
            [
             0.5555555555555556,
             "#d8576b"
            ],
            [
             0.6666666666666666,
             "#ed7953"
            ],
            [
             0.7777777777777778,
             "#fb9f3a"
            ],
            [
             0.8888888888888888,
             "#fdca26"
            ],
            [
             1,
             "#f0f921"
            ]
           ],
           "sequentialminus": [
            [
             0,
             "#0d0887"
            ],
            [
             0.1111111111111111,
             "#46039f"
            ],
            [
             0.2222222222222222,
             "#7201a8"
            ],
            [
             0.3333333333333333,
             "#9c179e"
            ],
            [
             0.4444444444444444,
             "#bd3786"
            ],
            [
             0.5555555555555556,
             "#d8576b"
            ],
            [
             0.6666666666666666,
             "#ed7953"
            ],
            [
             0.7777777777777778,
             "#fb9f3a"
            ],
            [
             0.8888888888888888,
             "#fdca26"
            ],
            [
             1,
             "#f0f921"
            ]
           ]
          },
          "colorway": [
           "#636efa",
           "#EF553B",
           "#00cc96",
           "#ab63fa",
           "#FFA15A",
           "#19d3f3",
           "#FF6692",
           "#B6E880",
           "#FF97FF",
           "#FECB52"
          ],
          "font": {
           "color": "#2a3f5f"
          },
          "geo": {
           "bgcolor": "white",
           "lakecolor": "white",
           "landcolor": "#E5ECF6",
           "showlakes": true,
           "showland": true,
           "subunitcolor": "white"
          },
          "hoverlabel": {
           "align": "left"
          },
          "hovermode": "closest",
          "mapbox": {
           "style": "light"
          },
          "paper_bgcolor": "white",
          "plot_bgcolor": "#E5ECF6",
          "polar": {
           "angularaxis": {
            "gridcolor": "white",
            "linecolor": "white",
            "ticks": ""
           },
           "bgcolor": "#E5ECF6",
           "radialaxis": {
            "gridcolor": "white",
            "linecolor": "white",
            "ticks": ""
           }
          },
          "scene": {
           "xaxis": {
            "backgroundcolor": "#E5ECF6",
            "gridcolor": "white",
            "gridwidth": 2,
            "linecolor": "white",
            "showbackground": true,
            "ticks": "",
            "zerolinecolor": "white"
           },
           "yaxis": {
            "backgroundcolor": "#E5ECF6",
            "gridcolor": "white",
            "gridwidth": 2,
            "linecolor": "white",
            "showbackground": true,
            "ticks": "",
            "zerolinecolor": "white"
           },
           "zaxis": {
            "backgroundcolor": "#E5ECF6",
            "gridcolor": "white",
            "gridwidth": 2,
            "linecolor": "white",
            "showbackground": true,
            "ticks": "",
            "zerolinecolor": "white"
           }
          },
          "shapedefaults": {
           "line": {
            "color": "#2a3f5f"
           }
          },
          "ternary": {
           "aaxis": {
            "gridcolor": "white",
            "linecolor": "white",
            "ticks": ""
           },
           "baxis": {
            "gridcolor": "white",
            "linecolor": "white",
            "ticks": ""
           },
           "bgcolor": "#E5ECF6",
           "caxis": {
            "gridcolor": "white",
            "linecolor": "white",
            "ticks": ""
           }
          },
          "title": {
           "x": 0.05
          },
          "xaxis": {
           "automargin": true,
           "gridcolor": "white",
           "linecolor": "white",
           "ticks": "",
           "title": {
            "standoff": 15
           },
           "zerolinecolor": "white",
           "zerolinewidth": 2
          },
          "yaxis": {
           "automargin": true,
           "gridcolor": "white",
           "linecolor": "white",
           "ticks": "",
           "title": {
            "standoff": 15
           },
           "zerolinecolor": "white",
           "zerolinewidth": 2
          }
         }
        },
        "title": {
         "text": "Average Production Budget by Genre",
         "x": 0.5
        },
        "uniformtext": {
         "minsize": 8,
         "mode": "hide"
        },
        "xaxis": {
         "anchor": "y",
         "domain": [
          0,
          1
         ],
         "title": {
          "text": "Genre"
         }
        },
        "yaxis": {
         "anchor": "x",
         "domain": [
          0,
          1
         ],
         "title": {
          "text": "Average Production Budget (USD)"
         }
        }
       }
      }
     },
     "metadata": {},
     "output_type": "display_data"
    }
   ],
   "source": [
    "# Plot the data using Plotly\n",
    "fig = px.bar(\n",
    "    average_budget_by_genre,\n",
    "    x='genre_name',\n",
    "    y='rt_production_budget',\n",
    "    title='Average Production Budget by Genre',\n",
    "    labels={'genre_name': 'Genre', 'rt_production_budget': 'Production Budget (USD)'},\n",
    "    text='rt_production_budget'\n",
    ")\n",
    "\n",
    "# Update the chart to show text labels and format them\n",
    "fig.update_traces(texttemplate='%{text:.2s}', textposition='outside')\n",
    "fig.update_layout(\n",
    "    xaxis_title='Genre',\n",
    "    yaxis_title='Average Production Budget (USD)',\n",
    "    title_x=0.5,\n",
    "    uniformtext_minsize=8,\n",
    "    uniformtext_mode='hide'\n",
    ")\n",
    "\n",
    "# Display the chart\n",
    "fig.show()"
   ]
  },
  {
   "cell_type": "markdown",
   "metadata": {},
   "source": [
    "### 2) What is the share of each country in the total cost for each genre? (List the top 5 most expensive genres by country.)"
   ]
  },
  {
   "cell_type": "code",
   "execution_count": 15,
   "metadata": {},
   "outputs": [],
   "source": [
    "# Parse 'rt_genres' and 'rt_production_countries' columns\n",
    "temp_df['rt_genres'] = parse_list_column(temp_df['rt_genres'])\n",
    "temp_df['rt_production_countries'] = parse_list_column(temp_df['rt_production_countries'])\n",
    "\n",
    "# Expand genres and countries into separate rows\n",
    "genres_expanded = temp_df.explode('rt_genres')\n",
    "countries_expanded = genres_expanded.explode('rt_production_countries')\n",
    "\n",
    "# Extract genre names and country names\n",
    "countries_expanded['genre_name'] = extract_dict_field(countries_expanded['rt_genres'], 'name')\n",
    "countries_expanded['country_name'] = extract_dict_field(countries_expanded['rt_production_countries'], 'name')\n",
    "\n",
    "# Drop rows with invalid or missing data\n",
    "valid_data = countries_expanded.dropna(subset=['genre_name', 'country_name'])\n",
    "\n",
    "# Group by country and genre, calculate total production budget\n",
    "country_genre_budget = (\n",
    "    valid_data.groupby(['country_name', 'genre_name'])['rt_production_budget']\n",
    "    .sum()\n",
    "    .reset_index()\n",
    ")\n",
    "\n",
    "# Calculate the total budget for each genre\n",
    "total_budget_by_genre = (\n",
    "    country_genre_budget.groupby('genre_name')['rt_production_budget']\n",
    "    .sum()\n",
    "    .reset_index()\n",
    "    .rename(columns={'rt_production_budget': 'total_genre_budget'})\n",
    ")\n",
    "\n",
    "# Merge to calculate the share of each country in the total cost of each genre\n",
    "country_genre_budget = country_genre_budget.merge(\n",
    "    total_budget_by_genre, on='genre_name', how='left'\n",
    ")\n",
    "country_genre_budget['share'] = (\n",
    "    country_genre_budget['rt_production_budget'] / country_genre_budget['total_genre_budget']\n",
    ") * 100\n",
    "\n",
    "# Sort by genre budget and find the top 5 most expensive genres for each country\n",
    "top_5_genres_per_country = (\n",
    "    country_genre_budget.sort_values(by=['country_name', 'rt_production_budget'], ascending=[True, False])\n",
    "    .groupby('country_name')\n",
    "    .head(5)\n",
    ")"
   ]
  },
  {
   "cell_type": "markdown",
   "metadata": {},
   "source": [
    "Plot"
   ]
  },
  {
   "cell_type": "code",
   "execution_count": 16,
   "metadata": {},
   "outputs": [
    {
     "data": {
      "application/vnd.plotly.v1+json": {
       "config": {
        "plotlyServerURL": "https://plot.ly"
       },
       "data": [
        {
         "alignmentgroup": "True",
         "hovertemplate": "Country=Angola<br>Genre=%{x}<br>Share (%)=%{text}<extra></extra>",
         "legendgroup": "Angola",
         "marker": {
          "color": "#636efa",
          "pattern": {
           "shape": ""
          }
         },
         "name": "Angola",
         "offsetgroup": "Angola",
         "orientation": "v",
         "showlegend": true,
         "text": [
          0.0010034471619639555,
          0.0007708914736326158,
          0.001276614624431316,
          0.004517310384348083,
          0.0030252045613828665
         ],
         "textposition": "outside",
         "texttemplate": "%{text:.2f}%",
         "type": "bar",
         "x": [
          "Comedy",
          "Drama",
          "Fantasy",
          "Horror",
          "Mystery"
         ],
         "xaxis": "x",
         "y": [
          0.0010034471619639555,
          0.0007708914736326158,
          0.001276614624431316,
          0.004517310384348083,
          0.0030252045613828665
         ],
         "yaxis": "y"
        },
        {
         "alignmentgroup": "True",
         "hovertemplate": "Country=Argentina<br>Genre=%{x}<br>Share (%)=%{text}<extra></extra>",
         "legendgroup": "Argentina",
         "marker": {
          "color": "#EF553B",
          "pattern": {
           "shape": ""
          }
         },
         "name": "Argentina",
         "offsetgroup": "Argentina",
         "orientation": "v",
         "showlegend": true,
         "text": [
          0.10843208052585933,
          0.02789777142106367,
          0.12658406730761995,
          0.05460326946720791,
          0.022818387619525426
         ],
         "textposition": "outside",
         "texttemplate": "%{text:.2f}%",
         "type": "bar",
         "x": [
          "Romance",
          "Adventure",
          "Animation",
          "Crime",
          "Drama"
         ],
         "xaxis": "x",
         "y": [
          0.10843208052585933,
          0.02789777142106367,
          0.12658406730761995,
          0.05460326946720791,
          0.022818387619525426
         ],
         "yaxis": "y"
        },
        {
         "alignmentgroup": "True",
         "hovertemplate": "Country=Australia<br>Genre=%{x}<br>Share (%)=%{text}<extra></extra>",
         "legendgroup": "Australia",
         "marker": {
          "color": "#00cc96",
          "pattern": {
           "shape": ""
          }
         },
         "name": "Australia",
         "offsetgroup": "Australia",
         "orientation": "v",
         "showlegend": true,
         "text": [
          2.0536035135529587,
          2.43472605698203,
          3.3158195978048832,
          2.4922957390493496,
          1.460645549579261
         ],
         "textposition": "outside",
         "texttemplate": "%{text:.2f}%",
         "type": "bar",
         "x": [
          "Action",
          "Thriller",
          "Science Fiction",
          "Comedy",
          "Adventure"
         ],
         "xaxis": "x",
         "y": [
          2.0536035135529587,
          2.43472605698203,
          3.3158195978048832,
          2.4922957390493496,
          1.460645549579261
         ],
         "yaxis": "y"
        },
        {
         "alignmentgroup": "True",
         "hovertemplate": "Country=Austria<br>Genre=%{x}<br>Share (%)=%{text}<extra></extra>",
         "legendgroup": "Austria",
         "marker": {
          "color": "#ab63fa",
          "pattern": {
           "shape": ""
          }
         },
         "name": "Austria",
         "offsetgroup": "Austria",
         "orientation": "v",
         "showlegend": true,
         "text": [
          0.06897898361490963,
          0.3304823054706846,
          0.18970890165982443,
          0.016606652354399735,
          0.030103414858918664
         ],
         "textposition": "outside",
         "texttemplate": "%{text:.2f}%",
         "type": "bar",
         "x": [
          "Drama",
          "History",
          "War",
          "Action",
          "Comedy"
         ],
         "xaxis": "x",
         "y": [
          0.06897898361490963,
          0.3304823054706846,
          0.18970890165982443,
          0.016606652354399735,
          0.030103414858918664
         ],
         "yaxis": "y"
        },
        {
         "alignmentgroup": "True",
         "hovertemplate": "Country=Bahamas<br>Genre=%{x}<br>Share (%)=%{text}<extra></extra>",
         "legendgroup": "Bahamas",
         "marker": {
          "color": "#FFA15A",
          "pattern": {
           "shape": ""
          }
         },
         "name": "Bahamas",
         "offsetgroup": "Bahamas",
         "orientation": "v",
         "showlegend": true,
         "text": [
          0.22751113725527636,
          0.26059054668311743,
          0.5106458497725264,
          1.561947416358178,
          0.00887761423587985
         ],
         "textposition": "outside",
         "texttemplate": "%{text:.2f}%",
         "type": "bar",
         "x": [
          "Action",
          "Adventure",
          "Fantasy",
          "Documentary",
          "Thriller"
         ],
         "xaxis": "x",
         "y": [
          0.22751113725527636,
          0.26059054668311743,
          0.5106458497725264,
          1.561947416358178,
          0.00887761423587985
         ],
         "yaxis": "y"
        },
        {
         "alignmentgroup": "True",
         "hovertemplate": "Country=Belgium<br>Genre=%{x}<br>Share (%)=%{text}<extra></extra>",
         "legendgroup": "Belgium",
         "marker": {
          "color": "#19d3f3",
          "pattern": {
           "shape": ""
          }
         },
         "name": "Belgium",
         "offsetgroup": "Belgium",
         "orientation": "v",
         "showlegend": true,
         "text": [
          0.2412528259984514,
          0.4653270518969143,
          0.41225681388460095,
          0.26644944707723045,
          0.17879927946380497
         ],
         "textposition": "outside",
         "texttemplate": "%{text:.2f}%",
         "type": "bar",
         "x": [
          "Adventure",
          "Fantasy",
          "Family",
          "Comedy",
          "Drama"
         ],
         "xaxis": "x",
         "y": [
          0.2412528259984514,
          0.4653270518969143,
          0.41225681388460095,
          0.26644944707723045,
          0.17879927946380497
         ],
         "yaxis": "y"
        },
        {
         "alignmentgroup": "True",
         "hovertemplate": "Country=Bolivia<br>Genre=%{x}<br>Share (%)=%{text}<extra></extra>",
         "legendgroup": "Bolivia",
         "marker": {
          "color": "#FF6692",
          "pattern": {
           "shape": ""
          }
         },
         "name": "Bolivia",
         "offsetgroup": "Bolivia",
         "orientation": "v",
         "showlegend": true,
         "text": [
          0,
          0,
          0
         ],
         "textposition": "outside",
         "texttemplate": "%{text:.2f}%",
         "type": "bar",
         "x": [
          "Action",
          "Adventure",
          "Western"
         ],
         "xaxis": "x",
         "y": [
          0,
          0,
          0
         ],
         "yaxis": "y"
        },
        {
         "alignmentgroup": "True",
         "hovertemplate": "Country=Brazil<br>Genre=%{x}<br>Share (%)=%{text}<extra></extra>",
         "legendgroup": "Brazil",
         "marker": {
          "color": "#B6E880",
          "pattern": {
           "shape": ""
          }
         },
         "name": "Brazil",
         "offsetgroup": "Brazil",
         "orientation": "v",
         "showlegend": true,
         "text": [
          0.08876563633974803,
          0.11298781754756172,
          0.086648201636306,
          0.40655793459132744,
          0.1512602280691433
         ],
         "textposition": "outside",
         "texttemplate": "%{text:.2f}%",
         "type": "bar",
         "x": [
          "Adventure",
          "Thriller",
          "Drama",
          "Horror",
          "Mystery"
         ],
         "xaxis": "x",
         "y": [
          0.08876563633974803,
          0.11298781754756172,
          0.086648201636306,
          0.40655793459132744,
          0.1512602280691433
         ],
         "yaxis": "y"
        },
        {
         "alignmentgroup": "True",
         "hovertemplate": "Country=Bulgaria<br>Genre=%{x}<br>Share (%)=%{text}<extra></extra>",
         "legendgroup": "Bulgaria",
         "marker": {
          "color": "#FF97FF",
          "pattern": {
           "shape": ""
          }
         },
         "name": "Bulgaria",
         "offsetgroup": "Bulgaria",
         "orientation": "v",
         "showlegend": true,
         "text": [
          0.09189014302767853,
          0.2877739877325822,
          0.10491725915130733,
          0.006340402595696288,
          0.010034471619639555
         ],
         "textposition": "outside",
         "texttemplate": "%{text:.2f}%",
         "type": "bar",
         "x": [
          "Action",
          "Crime",
          "Thriller",
          "Adventure",
          "Comedy"
         ],
         "xaxis": "x",
         "y": [
          0.09189014302767853,
          0.2877739877325822,
          0.10491725915130733,
          0.006340402595696288,
          0.010034471619639555
         ],
         "yaxis": "y"
        },
        {
         "alignmentgroup": "True",
         "hovertemplate": "Country=Canada<br>Genre=%{x}<br>Share (%)=%{text}<extra></extra>",
         "legendgroup": "Canada",
         "marker": {
          "color": "#FECB52",
          "pattern": {
           "shape": ""
          }
         },
         "name": "Canada",
         "offsetgroup": "Canada",
         "orientation": "v",
         "showlegend": true,
         "text": [
          3.404585185682422,
          3.3160305575491584,
          3.55144926746688,
          2.944497072687139,
          4.805102492659437
         ],
         "textposition": "outside",
         "texttemplate": "%{text:.2f}%",
         "type": "bar",
         "x": [
          "Action",
          "Adventure",
          "Thriller",
          "Drama",
          "Science Fiction"
         ],
         "xaxis": "x",
         "y": [
          3.404585185682422,
          3.3160305575491584,
          3.55144926746688,
          2.944497072687139,
          4.805102492659437
         ],
         "yaxis": "y"
        },
        {
         "alignmentgroup": "True",
         "hovertemplate": "Country=Chile<br>Genre=%{x}<br>Share (%)=%{text}<extra></extra>",
         "legendgroup": "Chile",
         "marker": {
          "color": "#636efa",
          "pattern": {
           "shape": ""
          }
         },
         "name": "Chile",
         "offsetgroup": "Chile",
         "orientation": "v",
         "showlegend": true,
         "text": [
          0.038544573681630785,
          0.24781402490321952,
          0.005535550784799912,
          0.006340402595696288,
          0.04517310384348083
         ],
         "textposition": "outside",
         "texttemplate": "%{text:.2f}%",
         "type": "bar",
         "x": [
          "Drama",
          "History",
          "Action",
          "Adventure",
          "Horror"
         ],
         "xaxis": "x",
         "y": [
          0.038544573681630785,
          0.24781402490321952,
          0.005535550784799912,
          0.006340402595696288,
          0.04517310384348083
         ],
         "yaxis": "y"
        },
        {
         "alignmentgroup": "True",
         "hovertemplate": "Country=China<br>Genre=%{x}<br>Share (%)=%{text}<extra></extra>",
         "legendgroup": "China",
         "marker": {
          "color": "#EF553B",
          "pattern": {
           "shape": ""
          }
         },
         "name": "China",
         "offsetgroup": "China",
         "orientation": "v",
         "showlegend": true,
         "text": [
          2.027883710512187,
          1.923463841926519,
          1.3719949273632495,
          1.0674303045037887,
          1.3927610229620773
         ],
         "textposition": "outside",
         "texttemplate": "%{text:.2f}%",
         "type": "bar",
         "x": [
          "Action",
          "Adventure",
          "Thriller",
          "Drama",
          "Fantasy"
         ],
         "xaxis": "x",
         "y": [
          2.027883710512187,
          1.923463841926519,
          1.3719949273632495,
          1.0674303045037887,
          1.3927610229620773
         ],
         "yaxis": "y"
        },
        {
         "alignmentgroup": "True",
         "hovertemplate": "Country=Czech Republic<br>Genre=%{x}<br>Share (%)=%{text}<extra></extra>",
         "legendgroup": "Czech Republic",
         "marker": {
          "color": "#00cc96",
          "pattern": {
           "shape": ""
          }
         },
         "name": "Czech Republic",
         "offsetgroup": "Czech Republic",
         "orientation": "v",
         "showlegend": true,
         "text": [
          1.2592039555052827,
          1.5350202069675887,
          1.0464405203585752,
          1.1186764688328237,
          1.1004418062597945
         ],
         "textposition": "outside",
         "texttemplate": "%{text:.2f}%",
         "type": "bar",
         "x": [
          "Adventure",
          "Thriller",
          "Action",
          "Science Fiction",
          "Fantasy"
         ],
         "xaxis": "x",
         "y": [
          1.2592039555052827,
          1.5350202069675887,
          1.0464405203585752,
          1.1186764688328237,
          1.1004418062597945
         ],
         "yaxis": "y"
        },
        {
         "alignmentgroup": "True",
         "hovertemplate": "Country=Denmark<br>Genre=%{x}<br>Share (%)=%{text}<extra></extra>",
         "legendgroup": "Denmark",
         "marker": {
          "color": "#ab63fa",
          "pattern": {
           "shape": ""
          }
         },
         "name": "Denmark",
         "offsetgroup": "Denmark",
         "orientation": "v",
         "showlegend": true,
         "text": [
          0.13203433536272213,
          0.06962580781477581,
          0.06493361774478779,
          0.3587496647599996,
          0.01872050173985277
         ],
         "textposition": "outside",
         "texttemplate": "%{text:.2f}%",
         "type": "bar",
         "x": [
          "Thriller",
          "Drama",
          "Crime",
          "Music",
          "Science Fiction"
         ],
         "xaxis": "x",
         "y": [
          0.13203433536272213,
          0.06962580781477581,
          0.06493361774478779,
          0.3587496647599996,
          0.01872050173985277
         ],
         "yaxis": "y"
        },
        {
         "alignmentgroup": "True",
         "hovertemplate": "Country=Dominica<br>Genre=%{x}<br>Share (%)=%{text}<extra></extra>",
         "legendgroup": "Dominica",
         "marker": {
          "color": "#FFA15A",
          "pattern": {
           "shape": ""
          }
         },
         "name": "Dominica",
         "offsetgroup": "Dominica",
         "orientation": "v",
         "showlegend": true,
         "text": [
          0.22142203139199645,
          0.25361610382785155,
          0.5106458497725264
         ],
         "textposition": "outside",
         "texttemplate": "%{text:.2f}%",
         "type": "bar",
         "x": [
          "Action",
          "Adventure",
          "Fantasy"
         ],
         "xaxis": "x",
         "y": [
          0.22142203139199645,
          0.25361610382785155,
          0.5106458497725264
         ],
         "yaxis": "y"
        },
        {
         "alignmentgroup": "True",
         "hovertemplate": "Country=Fiji<br>Genre=%{x}<br>Share (%)=%{text}<extra></extra>",
         "legendgroup": "Fiji",
         "marker": {
          "color": "#19d3f3",
          "pattern": {
           "shape": ""
          }
         },
         "name": "Fiji",
         "offsetgroup": "Fiji",
         "orientation": "v",
         "showlegend": true,
         "text": [
          0.013948885710531834,
          0.016959612419917548,
          0.04969803690768552
         ],
         "textposition": "outside",
         "texttemplate": "%{text:.2f}%",
         "type": "bar",
         "x": [
          "Adventure",
          "Drama",
          "Romance"
         ],
         "xaxis": "x",
         "y": [
          0.013948885710531834,
          0.016959612419917548,
          0.04969803690768552
         ],
         "yaxis": "y"
        },
        {
         "alignmentgroup": "True",
         "hovertemplate": "Country=Finland<br>Genre=%{x}<br>Share (%)=%{text}<extra></extra>",
         "legendgroup": "Finland",
         "marker": {
          "color": "#FF6692",
          "pattern": {
           "shape": ""
          }
         },
         "name": "Finland",
         "offsetgroup": "Finland",
         "orientation": "v",
         "showlegend": true,
         "text": [
          0.4200289506116481,
          0.22330938104186704,
          0.14683852194559963,
          0.16336104631467477,
          0.04358101533977381
         ],
         "textposition": "outside",
         "texttemplate": "%{text:.2f}%",
         "type": "bar",
         "x": [
          "Animation",
          "Family",
          "Crime",
          "Mystery",
          "Thriller"
         ],
         "xaxis": "x",
         "y": [
          0.4200289506116481,
          0.22330938104186704,
          0.14683852194559963,
          0.16336104631467477,
          0.04358101533977381
         ],
         "yaxis": "y"
        },
        {
         "alignmentgroup": "True",
         "hovertemplate": "Country=France<br>Genre=%{x}<br>Share (%)=%{text}<extra></extra>",
         "legendgroup": "France",
         "marker": {
          "color": "#B6E880",
          "pattern": {
           "shape": ""
          }
         },
         "name": "France",
         "offsetgroup": "France",
         "orientation": "v",
         "showlegend": true,
         "text": [
          3.2461576912223644,
          4.319020097060271,
          3.90960630280505,
          2.4718064591644056,
          5.275118559744181
         ],
         "textposition": "outside",
         "texttemplate": "%{text:.2f}%",
         "type": "bar",
         "x": [
          "Action",
          "Thriller",
          "Drama",
          "Adventure",
          "Crime"
         ],
         "xaxis": "x",
         "y": [
          3.2461576912223644,
          4.319020097060271,
          3.90960630280505,
          2.4718064591644056,
          5.275118559744181
         ],
         "yaxis": "y"
        },
        {
         "alignmentgroup": "True",
         "hovertemplate": "Country=Germany<br>Genre=%{x}<br>Share (%)=%{text}<extra></extra>",
         "legendgroup": "Germany",
         "marker": {
          "color": "#FF97FF",
          "pattern": {
           "shape": ""
          }
         },
         "name": "Germany",
         "offsetgroup": "Germany",
         "orientation": "v",
         "showlegend": true,
         "text": [
          6.992540964663957,
          7.69193621965253,
          6.484569339771117,
          4.65924539272204,
          5.057769538141681
         ],
         "textposition": "outside",
         "texttemplate": "%{text:.2f}%",
         "type": "bar",
         "x": [
          "Action",
          "Thriller",
          "Drama",
          "Adventure",
          "Comedy"
         ],
         "xaxis": "x",
         "y": [
          6.992540964663957,
          7.69193621965253,
          6.484569339771117,
          4.65924539272204,
          5.057769538141681
         ],
         "yaxis": "y"
        },
        {
         "alignmentgroup": "True",
         "hovertemplate": "Country=Greece<br>Genre=%{x}<br>Share (%)=%{text}<extra></extra>",
         "legendgroup": "Greece",
         "marker": {
          "color": "#FECB52",
          "pattern": {
           "shape": ""
          }
         },
         "name": "Greece",
         "offsetgroup": "Greece",
         "orientation": "v",
         "showlegend": true,
         "text": [
          0.09036006710488277,
          0.03411720350677448,
          0.004625348841795694
         ],
         "textposition": "outside",
         "texttemplate": "%{text:.2f}%",
         "type": "bar",
         "x": [
          "Romance",
          "Comedy",
          "Drama"
         ],
         "xaxis": "x",
         "y": [
          0.09036006710488277,
          0.03411720350677448,
          0.004625348841795694
         ],
         "yaxis": "y"
        },
        {
         "alignmentgroup": "True",
         "hovertemplate": "Country=Hong Kong<br>Genre=%{x}<br>Share (%)=%{text}<extra></extra>",
         "legendgroup": "Hong Kong",
         "marker": {
          "color": "#636efa",
          "pattern": {
           "shape": ""
          }
         },
         "name": "Hong Kong",
         "offsetgroup": "Hong Kong",
         "orientation": "v",
         "showlegend": true,
         "text": [
          0.7601052470993668,
          1.0019430661097832,
          0.8198013748183386,
          0.744993195921514,
          0.49311111801114443
         ],
         "textposition": "outside",
         "texttemplate": "%{text:.2f}%",
         "type": "bar",
         "x": [
          "Action",
          "Drama",
          "Adventure",
          "Comedy",
          "Thriller"
         ],
         "xaxis": "x",
         "y": [
          0.7601052470993668,
          1.0019430661097832,
          0.8198013748183386,
          0.744993195921514,
          0.49311111801114443
         ],
         "yaxis": "y"
        },
        {
         "alignmentgroup": "True",
         "hovertemplate": "Country=Hungary<br>Genre=%{x}<br>Share (%)=%{text}<extra></extra>",
         "legendgroup": "Hungary",
         "marker": {
          "color": "#EF553B",
          "pattern": {
           "shape": ""
          }
         },
         "name": "Hungary",
         "offsetgroup": "Hungary",
         "orientation": "v",
         "showlegend": true,
         "text": [
          0.25131400562991596,
          0.541284600758878,
          0.5812161972322567,
          0.1521696622967109,
          0.16497077535737975
         ],
         "textposition": "outside",
         "texttemplate": "%{text:.2f}%",
         "type": "bar",
         "x": [
          "Action",
          "Fantasy",
          "Family",
          "Adventure",
          "Drama"
         ],
         "xaxis": "x",
         "y": [
          0.25131400562991596,
          0.541284600758878,
          0.5812161972322567,
          0.1521696622967109,
          0.16497077535737975
         ],
         "yaxis": "y"
        },
        {
         "alignmentgroup": "True",
         "hovertemplate": "Country=Iceland<br>Genre=%{x}<br>Share (%)=%{text}<extra></extra>",
         "legendgroup": "Iceland",
         "marker": {
          "color": "#00cc96",
          "pattern": {
           "shape": ""
          }
         },
         "name": "Iceland",
         "offsetgroup": "Iceland",
         "orientation": "v",
         "showlegend": true,
         "text": [
          0.19655248046658494,
          0.31626028004712325,
          0.2141322831908314,
          0.17872604742038425,
          0.10453289924241217
         ],
         "textposition": "outside",
         "texttemplate": "%{text:.2f}%",
         "type": "bar",
         "x": [
          "Adventure",
          "Romance",
          "Family",
          "Fantasy",
          "Drama"
         ],
         "xaxis": "x",
         "y": [
          0.19655248046658494,
          0.31626028004712325,
          0.2141322831908314,
          0.17872604742038425,
          0.10453289924241217
         ],
         "yaxis": "y"
        },
        {
         "alignmentgroup": "True",
         "hovertemplate": "Country=India<br>Genre=%{x}<br>Share (%)=%{text}<extra></extra>",
         "legendgroup": "India",
         "marker": {
          "color": "#ab63fa",
          "pattern": {
           "shape": ""
          }
         },
         "name": "India",
         "offsetgroup": "India",
         "orientation": "v",
         "showlegend": true,
         "text": [
          0.5436329123492092,
          0.9697133395927651,
          0.3931049609331699,
          0.6830453337513849,
          0.2817595349463155
         ],
         "textposition": "outside",
         "texttemplate": "%{text:.2f}%",
         "type": "bar",
         "x": [
          "Drama",
          "Family",
          "Adventure",
          "Science Fiction",
          "Action"
         ],
         "xaxis": "x",
         "y": [
          0.5436329123492092,
          0.9697133395927651,
          0.3931049609331699,
          0.6830453337513849,
          0.2817595349463155
         ],
         "yaxis": "y"
        },
        {
         "alignmentgroup": "True",
         "hovertemplate": "Country=Indonesia<br>Genre=%{x}<br>Share (%)=%{text}<extra></extra>",
         "legendgroup": "Indonesia",
         "marker": {
          "color": "#FFA15A",
          "pattern": {
           "shape": ""
          }
         },
         "name": "Indonesia",
         "offsetgroup": "Indonesia",
         "orientation": "v",
         "showlegend": true,
         "text": [
          0.0012178211726559804,
          0.004058351109049237,
          0.00177552284717597
         ],
         "textposition": "outside",
         "texttemplate": "%{text:.2f}%",
         "type": "bar",
         "x": [
          "Action",
          "Crime",
          "Thriller"
         ],
         "xaxis": "x",
         "y": [
          0.0012178211726559804,
          0.004058351109049237,
          0.00177552284717597
         ],
         "yaxis": "y"
        },
        {
         "alignmentgroup": "True",
         "hovertemplate": "Country=Iran<br>Genre=%{x}<br>Share (%)=%{text}<extra></extra>",
         "legendgroup": "Iran",
         "marker": {
          "color": "#19d3f3",
          "pattern": {
           "shape": ""
          }
         },
         "name": "Iran",
         "offsetgroup": "Iran",
         "orientation": "v",
         "showlegend": true,
         "text": [
          0.0003612409783070239,
          0.00027752093050774167,
          0.0005506258710621379
         ],
         "textposition": "outside",
         "texttemplate": "%{text:.2f}%",
         "type": "bar",
         "x": [
          "Comedy",
          "Drama",
          "Family"
         ],
         "xaxis": "x",
         "y": [
          0.0003612409783070239,
          0.00027752093050774167,
          0.0005506258710621379
         ],
         "yaxis": "y"
        },
        {
         "alignmentgroup": "True",
         "hovertemplate": "Country=Ireland<br>Genre=%{x}<br>Share (%)=%{text}<extra></extra>",
         "legendgroup": "Ireland",
         "marker": {
          "color": "#FF6692",
          "pattern": {
           "shape": ""
          }
         },
         "name": "Ireland",
         "offsetgroup": "Ireland",
         "orientation": "v",
         "showlegend": true,
         "text": [
          0.5410587097309648,
          0.25131400562991596,
          0.23117107863908662,
          0.7403450504928858,
          0.23738147949949068
         ],
         "textposition": "outside",
         "texttemplate": "%{text:.2f}%",
         "type": "bar",
         "x": [
          "Comedy",
          "Action",
          "Adventure",
          "Romance",
          "Drama"
         ],
         "xaxis": "x",
         "y": [
          0.5410587097309648,
          0.25131400562991596,
          0.23117107863908662,
          0.7403450504928858,
          0.23738147949949068
         ],
         "yaxis": "y"
        },
        {
         "alignmentgroup": "True",
         "hovertemplate": "Country=Israel<br>Genre=%{x}<br>Share (%)=%{text}<extra></extra>",
         "legendgroup": "Israel",
         "marker": {
          "color": "#B6E880",
          "pattern": {
           "shape": ""
          }
         },
         "name": "Israel",
         "offsetgroup": "Israel",
         "orientation": "v",
         "showlegend": true,
         "text": [
          0.011507642482510906,
          0.003083565894530463,
          0.02068827564823124
         ],
         "textposition": "outside",
         "texttemplate": "%{text:.2f}%",
         "type": "bar",
         "x": [
          "Animation",
          "Drama",
          "War"
         ],
         "xaxis": "x",
         "y": [
          0.011507642482510906,
          0.003083565894530463,
          0.02068827564823124
         ],
         "yaxis": "y"
        },
        {
         "alignmentgroup": "True",
         "hovertemplate": "Country=Italy<br>Genre=%{x}<br>Share (%)=%{text}<extra></extra>",
         "legendgroup": "Italy",
         "marker": {
          "color": "#FF97FF",
          "pattern": {
           "shape": ""
          }
         },
         "name": "Italy",
         "offsetgroup": "Italy",
         "orientation": "v",
         "showlegend": true,
         "text": [
          1.459676452745832,
          1.0296124459727836,
          1.3924941456897357,
          0.8905100517977512,
          2.08505854844517
         ],
         "textposition": "outside",
         "texttemplate": "%{text:.2f}%",
         "type": "bar",
         "x": [
          "Drama",
          "Action",
          "Thriller",
          "Adventure",
          "Romance"
         ],
         "xaxis": "x",
         "y": [
          1.459676452745832,
          1.0296124459727836,
          1.3924941456897357,
          0.8905100517977512,
          2.08505854844517
         ],
         "yaxis": "y"
        },
        {
         "alignmentgroup": "True",
         "hovertemplate": "Country=Jamaica<br>Genre=%{x}<br>Share (%)=%{text}<extra></extra>",
         "legendgroup": "Jamaica",
         "marker": {
          "color": "#FECB52",
          "pattern": {
           "shape": ""
          }
         },
         "name": "Jamaica",
         "offsetgroup": "Jamaica",
         "orientation": "v",
         "showlegend": true,
         "text": [
          0.22247378604110846,
          0.2548207803210338,
          0.5106458497725264,
          0.0015334060952883377
         ],
         "textposition": "outside",
         "texttemplate": "%{text:.2f}%",
         "type": "bar",
         "x": [
          "Action",
          "Adventure",
          "Fantasy",
          "Thriller"
         ],
         "xaxis": "x",
         "y": [
          0.22247378604110846,
          0.2548207803210338,
          0.5106458497725264,
          0.0015334060952883377
         ],
         "yaxis": "y"
        },
        {
         "alignmentgroup": "True",
         "hovertemplate": "Country=Japan<br>Genre=%{x}<br>Share (%)=%{text}<extra></extra>",
         "legendgroup": "Japan",
         "marker": {
          "color": "#636efa",
          "pattern": {
           "shape": ""
          }
         },
         "name": "Japan",
         "offsetgroup": "Japan",
         "orientation": "v",
         "showlegend": true,
         "text": [
          1.2117154601403461,
          0.7849228201394134,
          0.8873184112682744,
          1.2089540493364563,
          0.660176869668725
         ],
         "textposition": "outside",
         "texttemplate": "%{text:.2f}%",
         "type": "bar",
         "x": [
          "Action",
          "Adventure",
          "Thriller",
          "Fantasy",
          "Drama"
         ],
         "xaxis": "x",
         "y": [
          1.2117154601403461,
          0.7849228201394134,
          0.8873184112682744,
          1.2089540493364563,
          0.660176869668725
         ],
         "yaxis": "y"
        },
        {
         "alignmentgroup": "True",
         "hovertemplate": "Country=Kazakhstan<br>Genre=%{x}<br>Share (%)=%{text}<extra></extra>",
         "legendgroup": "Kazakhstan",
         "marker": {
          "color": "#EF553B",
          "pattern": {
           "shape": ""
          }
         },
         "name": "Kazakhstan",
         "offsetgroup": "Kazakhstan",
         "orientation": "v",
         "showlegend": true,
         "text": [
          0.17842609793031805
         ],
         "textposition": "outside",
         "texttemplate": "%{text:.2f}%",
         "type": "bar",
         "x": [
          "History"
         ],
         "xaxis": "x",
         "y": [
          0.17842609793031805
         ],
         "yaxis": "y"
        },
        {
         "alignmentgroup": "True",
         "hovertemplate": "Country=Lithuania<br>Genre=%{x}<br>Share (%)=%{text}<extra></extra>",
         "legendgroup": "Lithuania",
         "marker": {
          "color": "#00cc96",
          "pattern": {
           "shape": ""
          }
         },
         "name": "Lithuania",
         "offsetgroup": "Lithuania",
         "orientation": "v",
         "showlegend": true,
         "text": [
          0.05534115148703504,
          0.090756136841486,
          0.024211675188763226
         ],
         "textposition": "outside",
         "texttemplate": "%{text:.2f}%",
         "type": "bar",
         "x": [
          "Crime",
          "Mystery",
          "Thriller"
         ],
         "xaxis": "x",
         "y": [
          0.05534115148703504,
          0.090756136841486,
          0.024211675188763226
         ],
         "yaxis": "y"
        },
        {
         "alignmentgroup": "True",
         "hovertemplate": "Country=Luxembourg<br>Genre=%{x}<br>Share (%)=%{text}<extra></extra>",
         "legendgroup": "Luxembourg",
         "marker": {
          "color": "#ab63fa",
          "pattern": {
           "shape": ""
          }
         },
         "name": "Luxembourg",
         "offsetgroup": "Luxembourg",
         "orientation": "v",
         "showlegend": true,
         "text": [
          0.1062825750681583,
          0.09891028049286209,
          0.10409602579360688,
          0.08877614235879851,
          0.23945417782793932
         ],
         "textposition": "outside",
         "texttemplate": "%{text:.2f}%",
         "type": "bar",
         "x": [
          "Action",
          "Adventure",
          "Drama",
          "Thriller",
          "Romance"
         ],
         "xaxis": "x",
         "y": [
          0.1062825750681583,
          0.09891028049286209,
          0.10409602579360688,
          0.08877614235879851,
          0.23945417782793932
         ],
         "yaxis": "y"
        },
        {
         "alignmentgroup": "True",
         "hovertemplate": "Country=Malta<br>Genre=%{x}<br>Share (%)=%{text}<extra></extra>",
         "legendgroup": "Malta",
         "marker": {
          "color": "#FFA15A",
          "pattern": {
           "shape": ""
          }
         },
         "name": "Malta",
         "offsetgroup": "Malta",
         "orientation": "v",
         "showlegend": true,
         "text": [
          0.6552577525877233,
          0.6052918797190807,
          0.2767775392399956,
          2.3274310104260145,
          1.806924153739233
         ],
         "textposition": "outside",
         "texttemplate": "%{text:.2f}%",
         "type": "bar",
         "x": [
          "Drama",
          "Thriller",
          "Action",
          "War",
          "Horror"
         ],
         "xaxis": "x",
         "y": [
          0.6552577525877233,
          0.6052918797190807,
          0.2767775392399956,
          2.3274310104260145,
          1.806924153739233
         ],
         "yaxis": "y"
        },
        {
         "alignmentgroup": "True",
         "hovertemplate": "Country=Mexico<br>Genre=%{x}<br>Share (%)=%{text}<extra></extra>",
         "legendgroup": "Mexico",
         "marker": {
          "color": "#19d3f3",
          "pattern": {
           "shape": ""
          }
         },
         "name": "Mexico",
         "offsetgroup": "Mexico",
         "orientation": "v",
         "showlegend": true,
         "text": [
          0.23937935813788738,
          0.336154799257925,
          0.5210184941999392,
          0.15851006489240718,
          0.5602324160502732
         ],
         "textposition": "outside",
         "texttemplate": "%{text:.2f}%",
         "type": "bar",
         "x": [
          "Action",
          "Comedy",
          "Crime",
          "Adventure",
          "Romance"
         ],
         "xaxis": "x",
         "y": [
          0.23937935813788738,
          0.336154799257925,
          0.5210184941999392,
          0.15851006489240718,
          0.5602324160502732
         ],
         "yaxis": "y"
        },
        {
         "alignmentgroup": "True",
         "hovertemplate": "Country=Monaco<br>Genre=%{x}<br>Share (%)=%{text}<extra></extra>",
         "legendgroup": "Monaco",
         "marker": {
          "color": "#FF6692",
          "pattern": {
           "shape": ""
          }
         },
         "name": "Monaco",
         "offsetgroup": "Monaco",
         "orientation": "v",
         "showlegend": true,
         "text": [
          0,
          0
         ],
         "textposition": "outside",
         "texttemplate": "%{text:.2f}%",
         "type": "bar",
         "x": [
          "Documentary",
          "Family"
         ],
         "xaxis": "x",
         "y": [
          0,
          0
         ],
         "yaxis": "y"
        },
        {
         "alignmentgroup": "True",
         "hovertemplate": "Country=Morocco<br>Genre=%{x}<br>Share (%)=%{text}<extra></extra>",
         "legendgroup": "Morocco",
         "marker": {
          "color": "#B6E880",
          "pattern": {
           "shape": ""
          }
         },
         "name": "Morocco",
         "offsetgroup": "Morocco",
         "orientation": "v",
         "showlegend": true,
         "text": [
          0.29165851940202925,
          0.1992798282527968,
          0.2775209305077417,
          1.7842609793031805,
          1.8619448083408114
         ],
         "textposition": "outside",
         "texttemplate": "%{text:.2f}%",
         "type": "bar",
         "x": [
          "Adventure",
          "Action",
          "Drama",
          "History",
          "War"
         ],
         "xaxis": "x",
         "y": [
          0.29165851940202925,
          0.1992798282527968,
          0.2775209305077417,
          1.7842609793031805,
          1.8619448083408114
         ],
         "yaxis": "y"
        },
        {
         "alignmentgroup": "True",
         "hovertemplate": "Country=Netherlands<br>Genre=%{x}<br>Share (%)=%{text}<extra></extra>",
         "legendgroup": "Netherlands",
         "marker": {
          "color": "#FF97FF",
          "pattern": {
           "shape": ""
          }
         },
         "name": "Netherlands",
         "offsetgroup": "Netherlands",
         "orientation": "v",
         "showlegend": true,
         "text": [
          0.4349369694235218,
          0.9171546811145601,
          2.0595178407814196,
          0.2125651501363166,
          0.23700424902712722
         ],
         "textposition": "outside",
         "texttemplate": "%{text:.2f}%",
         "type": "bar",
         "x": [
          "Drama",
          "Romance",
          "War",
          "Action",
          "Adventure"
         ],
         "xaxis": "x",
         "y": [
          0.4349369694235218,
          0.9171546811145601,
          2.0595178407814196,
          0.2125651501363166,
          0.23700424902712722
         ],
         "yaxis": "y"
        },
        {
         "alignmentgroup": "True",
         "hovertemplate": "Country=New Zealand<br>Genre=%{x}<br>Share (%)=%{text}<extra></extra>",
         "legendgroup": "New Zealand",
         "marker": {
          "color": "#FECB52",
          "pattern": {
           "shape": ""
          }
         },
         "name": "New Zealand",
         "offsetgroup": "New Zealand",
         "orientation": "v",
         "showlegend": true,
         "text": [
          1.965524804665849,
          1.3617454930607782,
          3.097067078870373,
          0.7971017837361247,
          0.4471089351524943
         ],
         "textposition": "outside",
         "texttemplate": "%{text:.2f}%",
         "type": "bar",
         "x": [
          "Adventure",
          "Action",
          "Fantasy",
          "Drama",
          "Thriller"
         ],
         "xaxis": "x",
         "y": [
          1.965524804665849,
          1.3617454930607782,
          3.097067078870373,
          0.7971017837361247,
          0.4471089351524943
         ],
         "yaxis": "y"
        },
        {
         "alignmentgroup": "True",
         "hovertemplate": "Country=Norway<br>Genre=%{x}<br>Share (%)=%{text}<extra></extra>",
         "legendgroup": "Norway",
         "marker": {
          "color": "#636efa",
          "pattern": {
           "shape": ""
          }
         },
         "name": "Norway",
         "offsetgroup": "Norway",
         "orientation": "v",
         "showlegend": true,
         "text": [
          0.2008943334464891,
          0.3792713581911468,
          0.5445368210489159,
          0.14527005113257938,
          0.9753506510662489
         ],
         "textposition": "outside",
         "texttemplate": "%{text:.2f}%",
         "type": "bar",
         "x": [
          "Drama",
          "Crime",
          "Mystery",
          "Thriller",
          "Music"
         ],
         "xaxis": "x",
         "y": [
          0.2008943334464891,
          0.3792713581911468,
          0.5445368210489159,
          0.14527005113257938,
          0.9753506510662489
         ],
         "yaxis": "y"
        },
        {
         "alignmentgroup": "True",
         "hovertemplate": "Country=Pakistan<br>Genre=%{x}<br>Share (%)=%{text}<extra></extra>",
         "legendgroup": "Pakistan",
         "marker": {
          "color": "#EF553B",
          "pattern": {
           "shape": ""
          }
         },
         "name": "Pakistan",
         "offsetgroup": "Pakistan",
         "orientation": "v",
         "showlegend": true,
         "text": [
          0.14688416281183025,
          0.08303326177199867,
          0.09510603893544431,
          0.024668527156243705
         ],
         "textposition": "outside",
         "texttemplate": "%{text:.2f}%",
         "type": "bar",
         "x": [
          "Thriller",
          "Action",
          "Adventure",
          "Drama"
         ],
         "xaxis": "x",
         "y": [
          0.14688416281183025,
          0.08303326177199867,
          0.09510603893544431,
          0.024668527156243705
         ],
         "yaxis": "y"
        },
        {
         "alignmentgroup": "True",
         "hovertemplate": "Country=Peru<br>Genre=%{x}<br>Share (%)=%{text}<extra></extra>",
         "legendgroup": "Peru",
         "marker": {
          "color": "#00cc96",
          "pattern": {
           "shape": ""
          }
         },
         "name": "Peru",
         "offsetgroup": "Peru",
         "orientation": "v",
         "showlegend": true,
         "text": [
          0.14527005113257938,
          0.0498199570631992,
          0.057063623361266594,
          0.40655793459132744
         ],
         "textposition": "outside",
         "texttemplate": "%{text:.2f}%",
         "type": "bar",
         "x": [
          "Thriller",
          "Action",
          "Adventure",
          "Horror"
         ],
         "xaxis": "x",
         "y": [
          0.14527005113257938,
          0.0498199570631992,
          0.057063623361266594,
          0.40655793459132744
         ],
         "yaxis": "y"
        },
        {
         "alignmentgroup": "True",
         "hovertemplate": "Country=Philippines<br>Genre=%{x}<br>Share (%)=%{text}<extra></extra>",
         "legendgroup": "Philippines",
         "marker": {
          "color": "#ab63fa",
          "pattern": {
           "shape": ""
          }
         },
         "name": "Philippines",
         "offsetgroup": "Philippines",
         "orientation": "v",
         "showlegend": true,
         "text": [
          0.07306927035935884,
          0.24350106654295417,
          0.10175767451950526,
          0.10653137083055819
         ],
         "textposition": "outside",
         "texttemplate": "%{text:.2f}%",
         "type": "bar",
         "x": [
          "Action",
          "Crime",
          "Drama",
          "Thriller"
         ],
         "xaxis": "x",
         "y": [
          0.07306927035935884,
          0.24350106654295417,
          0.10175767451950526,
          0.10653137083055819
         ],
         "yaxis": "y"
        },
        {
         "alignmentgroup": "True",
         "hovertemplate": "Country=Poland<br>Genre=%{x}<br>Share (%)=%{text}<extra></extra>",
         "legendgroup": "Poland",
         "marker": {
          "color": "#FFA15A",
          "pattern": {
           "shape": ""
          }
         },
         "name": "Poland",
         "offsetgroup": "Poland",
         "orientation": "v",
         "showlegend": true,
         "text": [
          0.28531811680633296,
          0.6882823388276723,
          0.5744765809940923,
          0.09583611791828475,
          0.3620448238440467
         ],
         "textposition": "outside",
         "texttemplate": "%{text:.2f}%",
         "type": "bar",
         "x": [
          "Adventure",
          "Family",
          "Fantasy",
          "Drama",
          "War"
         ],
         "xaxis": "x",
         "y": [
          0.28531811680633296,
          0.6882823388276723,
          0.5744765809940923,
          0.09583611791828475,
          0.3620448238440467
         ],
         "yaxis": "y"
        },
        {
         "alignmentgroup": "True",
         "hovertemplate": "Country=Portugal<br>Genre=%{x}<br>Share (%)=%{text}<extra></extra>",
         "legendgroup": "Portugal",
         "marker": {
          "color": "#19d3f3",
          "pattern": {
           "shape": ""
          }
         },
         "name": "Portugal",
         "offsetgroup": "Portugal",
         "orientation": "v",
         "showlegend": true,
         "text": [
          0.34331558921045435,
          0.22991554666509784,
          0.06133624381153351
         ],
         "textposition": "outside",
         "texttemplate": "%{text:.2f}%",
         "type": "bar",
         "x": [
          "Horror",
          "Mystery",
          "Thriller"
         ],
         "xaxis": "x",
         "y": [
          0.34331558921045435,
          0.22991554666509784,
          0.06133624381153351
         ],
         "yaxis": "y"
        },
        {
         "alignmentgroup": "True",
         "hovertemplate": "Country=Romania<br>Genre=%{x}<br>Share (%)=%{text}<extra></extra>",
         "legendgroup": "Romania",
         "marker": {
          "color": "#FF6692",
          "pattern": {
           "shape": ""
          }
         },
         "name": "Romania",
         "offsetgroup": "Romania",
         "orientation": "v",
         "showlegend": true,
         "text": [
          0.17553585842134425,
          0.13719949273632495,
          0.18447050495678347,
          0.42462717612871975,
          0.21176431929680065
         ],
         "textposition": "outside",
         "texttemplate": "%{text:.2f}%",
         "type": "bar",
         "x": [
          "Drama",
          "Thriller",
          "Crime",
          "Horror",
          "Mystery"
         ],
         "xaxis": "x",
         "y": [
          0.17553585842134425,
          0.13719949273632495,
          0.18447050495678347,
          0.42462717612871975,
          0.21176431929680065
         ],
         "yaxis": "y"
        },
        {
         "alignmentgroup": "True",
         "hovertemplate": "Country=Russia<br>Genre=%{x}<br>Share (%)=%{text}<extra></extra>",
         "legendgroup": "Russia",
         "marker": {
          "color": "#B6E880",
          "pattern": {
           "shape": ""
          }
         },
         "name": "Russia",
         "offsetgroup": "Russia",
         "orientation": "v",
         "showlegend": true,
         "text": [
          0.2609458639954679,
          0.36430500600692406,
          0.16497077535737975,
          0.16055154591423287,
          0.18594011863232143
         ],
         "textposition": "outside",
         "texttemplate": "%{text:.2f}%",
         "type": "bar",
         "x": [
          "Action",
          "Thriller",
          "Drama",
          "Comedy",
          "Science Fiction"
         ],
         "xaxis": "x",
         "y": [
          0.2609458639954679,
          0.36430500600692406,
          0.16497077535737975,
          0.16055154591423287,
          0.18594011863232143
         ],
         "yaxis": "y"
        },
        {
         "alignmentgroup": "True",
         "hovertemplate": "Country=Serbia<br>Genre=%{x}<br>Share (%)=%{text}<extra></extra>",
         "legendgroup": "Serbia",
         "marker": {
          "color": "#FF97FF",
          "pattern": {
           "shape": ""
          }
         },
         "name": "Serbia",
         "offsetgroup": "Serbia",
         "orientation": "v",
         "showlegend": true,
         "text": [
          0.09592466257752741,
          0.15731063719190905,
          0.04196690366052293
         ],
         "textposition": "outside",
         "texttemplate": "%{text:.2f}%",
         "type": "bar",
         "x": [
          "Crime",
          "Mystery",
          "Thriller"
         ],
         "xaxis": "x",
         "y": [
          0.09592466257752741,
          0.15731063719190905,
          0.04196690366052293
         ],
         "yaxis": "y"
        },
        {
         "alignmentgroup": "True",
         "hovertemplate": "Country=Serbia and Montenegro<br>Genre=%{x}<br>Share (%)=%{text}<extra></extra>",
         "legendgroup": "Serbia and Montenegro",
         "marker": {
          "color": "#FECB52",
          "pattern": {
           "shape": ""
          }
         },
         "name": "Serbia and Montenegro",
         "offsetgroup": "Serbia and Montenegro",
         "orientation": "v",
         "showlegend": true,
         "text": [
          0.011871728693942282,
          0.01242865993023179
         ],
         "textposition": "outside",
         "texttemplate": "%{text:.2f}%",
         "type": "bar",
         "x": [
          "Drama",
          "Thriller"
         ],
         "xaxis": "x",
         "y": [
          0.011871728693942282,
          0.01242865993023179
         ],
         "yaxis": "y"
        },
        {
         "alignmentgroup": "True",
         "hovertemplate": "Country=Singapore<br>Genre=%{x}<br>Share (%)=%{text}<extra></extra>",
         "legendgroup": "Singapore",
         "marker": {
          "color": "#636efa",
          "pattern": {
           "shape": ""
          }
         },
         "name": "Singapore",
         "offsetgroup": "Singapore",
         "orientation": "v",
         "showlegend": true,
         "text": [
          0.1572618606210536,
          0.2580393483060787
         ],
         "textposition": "outside",
         "texttemplate": "%{text:.2f}%",
         "type": "bar",
         "x": [
          "Drama",
          "Science Fiction"
         ],
         "xaxis": "x",
         "y": [
          0.1572618606210536,
          0.2580393483060787
         ],
         "yaxis": "y"
        },
        {
         "alignmentgroup": "True",
         "hovertemplate": "Country=Slovenia<br>Genre=%{x}<br>Share (%)=%{text}<extra></extra>",
         "legendgroup": "Slovenia",
         "marker": {
          "color": "#EF553B",
          "pattern": {
           "shape": ""
          }
         },
         "name": "Slovenia",
         "offsetgroup": "Slovenia",
         "orientation": "v",
         "showlegend": true,
         "text": [
          0.28531811680633296,
          0.6882823388276723,
          0.5744765809940923
         ],
         "textposition": "outside",
         "texttemplate": "%{text:.2f}%",
         "type": "bar",
         "x": [
          "Adventure",
          "Family",
          "Fantasy"
         ],
         "xaxis": "x",
         "y": [
          0.28531811680633296,
          0.6882823388276723,
          0.5744765809940923
         ],
         "yaxis": "y"
        },
        {
         "alignmentgroup": "True",
         "hovertemplate": "Country=South Africa<br>Genre=%{x}<br>Share (%)=%{text}<extra></extra>",
         "legendgroup": "South Africa",
         "marker": {
          "color": "#00cc96",
          "pattern": {
           "shape": ""
          }
         },
         "name": "South Africa",
         "offsetgroup": "South Africa",
         "orientation": "v",
         "showlegend": true,
         "text": [
          0.4022378076535933,
          0.14281721024783772,
          0.08556895357322035,
          0.520409452296761,
          0.19184932515505482
         ],
         "textposition": "outside",
         "texttemplate": "%{text:.2f}%",
         "type": "bar",
         "x": [
          "Science Fiction",
          "Action",
          "Drama",
          "History",
          "Crime"
         ],
         "xaxis": "x",
         "y": [
          0.4022378076535933,
          0.14281721024783772,
          0.08556895357322035,
          0.520409452296761,
          0.19184932515505482
         ],
         "yaxis": "y"
        },
        {
         "alignmentgroup": "True",
         "hovertemplate": "Country=South Korea<br>Genre=%{x}<br>Share (%)=%{text}<extra></extra>",
         "legendgroup": "South Korea",
         "marker": {
          "color": "#ab63fa",
          "pattern": {
           "shape": ""
          }
         },
         "name": "South Korea",
         "offsetgroup": "South Korea",
         "orientation": "v",
         "showlegend": true,
         "text": [
          0.28553820183352085,
          0.188430148714589,
          0.21144862998186553,
          0.3040816633959869,
          0.2859616758726148
         ],
         "textposition": "outside",
         "texttemplate": "%{text:.2f}%",
         "type": "bar",
         "x": [
          "Drama",
          "Action",
          "Thriller",
          "Science Fiction",
          "Fantasy"
         ],
         "xaxis": "x",
         "y": [
          0.28553820183352085,
          0.188430148714589,
          0.21144862998186553,
          0.3040816633959869,
          0.2859616758726148
         ],
         "yaxis": "y"
        },
        {
         "alignmentgroup": "True",
         "hovertemplate": "Country=Spain<br>Genre=%{x}<br>Share (%)=%{text}<extra></extra>",
         "legendgroup": "Spain",
         "marker": {
          "color": "#FFA15A",
          "pattern": {
           "shape": ""
          }
         },
         "name": "Spain",
         "offsetgroup": "Spain",
         "orientation": "v",
         "showlegend": true,
         "text": [
          1.218942906254819,
          1.2853744477561764,
          0.6543021027633495,
          0.7669352017298356,
          0.4554823816053601
         ],
         "textposition": "outside",
         "texttemplate": "%{text:.2f}%",
         "type": "bar",
         "x": [
          "Adventure",
          "Drama",
          "Action",
          "Comedy",
          "Thriller"
         ],
         "xaxis": "x",
         "y": [
          1.218942906254819,
          1.2853744477561764,
          0.6543021027633495,
          0.7669352017298356,
          0.4554823816053601
         ],
         "yaxis": "y"
        },
        {
         "alignmentgroup": "True",
         "hovertemplate": "Country=Sweden<br>Genre=%{x}<br>Share (%)=%{text}<extra></extra>",
         "legendgroup": "Sweden",
         "marker": {
          "color": "#19d3f3",
          "pattern": {
           "shape": ""
          }
         },
         "name": "Sweden",
         "offsetgroup": "Sweden",
         "orientation": "v",
         "showlegend": true,
         "text": [
          0.23126744208978472,
          0.215968142683768,
          0.6776458217497621,
          0.396980526666998,
          0.1535885530678348
         ],
         "textposition": "outside",
         "texttemplate": "%{text:.2f}%",
         "type": "bar",
         "x": [
          "Drama",
          "Thriller",
          "Mystery",
          "Crime",
          "Horror"
         ],
         "xaxis": "x",
         "y": [
          0.23126744208978472,
          0.215968142683768,
          0.6776458217497621,
          0.396980526666998,
          0.1535885530678348
         ],
         "yaxis": "y"
        },
        {
         "alignmentgroup": "True",
         "hovertemplate": "Country=Switzerland<br>Genre=%{x}<br>Share (%)=%{text}<extra></extra>",
         "legendgroup": "Switzerland",
         "marker": {
          "color": "#FF6692",
          "pattern": {
           "shape": ""
          }
         },
         "name": "Switzerland",
         "offsetgroup": "Switzerland",
         "orientation": "v",
         "showlegend": true,
         "text": [
          0.3362194627879587,
          0.26132808509821503,
          0.8492543522574395,
          0.3320469089222102,
          0.31000280022007654
         ],
         "textposition": "outside",
         "texttemplate": "%{text:.2f}%",
         "type": "bar",
         "x": [
          "Thriller",
          "Science Fiction",
          "Horror",
          "Crime",
          "Romance"
         ],
         "xaxis": "x",
         "y": [
          0.3362194627879587,
          0.26132808509821503,
          0.8492543522574395,
          0.3320469089222102,
          0.31000280022007654
         ],
         "yaxis": "y"
        },
        {
         "alignmentgroup": "True",
         "hovertemplate": "Country=Taiwan<br>Genre=%{x}<br>Share (%)=%{text}<extra></extra>",
         "legendgroup": "Taiwan",
         "marker": {
          "color": "#B6E880",
          "pattern": {
           "shape": ""
          }
         },
         "name": "Taiwan",
         "offsetgroup": "Taiwan",
         "orientation": "v",
         "showlegend": true,
         "text": [
          0.44249170586512143,
          0.344917901205878,
          0.1682807438579173,
          0.21790507669886905,
          4.644108863744767
         ],
         "textposition": "outside",
         "texttemplate": "%{text:.2f}%",
         "type": "bar",
         "x": [
          "Drama",
          "Adventure",
          "Action",
          "Thriller",
          "Western"
         ],
         "xaxis": "x",
         "y": [
          0.44249170586512143,
          0.344917901205878,
          0.1682807438579173,
          0.21790507669886905,
          4.644108863744767
         ],
         "yaxis": "y"
        },
        {
         "alignmentgroup": "True",
         "hovertemplate": "Country=Thailand<br>Genre=%{x}<br>Share (%)=%{text}<extra></extra>",
         "legendgroup": "Thailand",
         "marker": {
          "color": "#FF97FF",
          "pattern": {
           "shape": ""
          }
         },
         "name": "Thailand",
         "offsetgroup": "Thailand",
         "orientation": "v",
         "showlegend": true,
         "text": [
          0.03115235540954202,
          0.01605309727591974,
          0.03984562907066523,
          0.0166512558304645,
          0.010778684412683688
         ],
         "textposition": "outside",
         "texttemplate": "%{text:.2f}%",
         "type": "bar",
         "x": [
          "Thriller",
          "Action",
          "Crime",
          "Drama",
          "Adventure"
         ],
         "xaxis": "x",
         "y": [
          0.03115235540954202,
          0.01605309727591974,
          0.03984562907066523,
          0.0166512558304645,
          0.010778684412683688
         ],
         "yaxis": "y"
        },
        {
         "alignmentgroup": "True",
         "hovertemplate": "Country=Tunisia<br>Genre=%{x}<br>Share (%)=%{text}<extra></extra>",
         "legendgroup": "Tunisia",
         "marker": {
          "color": "#FECB52",
          "pattern": {
           "shape": ""
          }
         },
         "name": "Tunisia",
         "offsetgroup": "Tunisia",
         "orientation": "v",
         "showlegend": true,
         "text": [
          0.07417638051631882,
          0.08496139478233025,
          0.17106635967379635,
          0.6930572342157465
         ],
         "textposition": "outside",
         "texttemplate": "%{text:.2f}%",
         "type": "bar",
         "x": [
          "Action",
          "Adventure",
          "Fantasy",
          "War"
         ],
         "xaxis": "x",
         "y": [
          0.07417638051631882,
          0.08496139478233025,
          0.17106635967379635,
          0.6930572342157465
         ],
         "yaxis": "y"
        },
        {
         "alignmentgroup": "True",
         "hovertemplate": "Country=United Arab Emirates<br>Genre=%{x}<br>Share (%)=%{text}<extra></extra>",
         "legendgroup": "United Arab Emirates",
         "marker": {
          "color": "#636efa",
          "pattern": {
           "shape": ""
          }
         },
         "name": "United Arab Emirates",
         "offsetgroup": "United Arab Emirates",
         "orientation": "v",
         "showlegend": true,
         "text": [
          0.547183859266049,
          0.35461007787100324,
          0.22363625170591642,
          0.18387167527519233,
          0.17058601753387242
         ],
         "textposition": "outside",
         "texttemplate": "%{text:.2f}%",
         "type": "bar",
         "x": [
          "Thriller",
          "Drama",
          "Action",
          "Adventure",
          "Comedy"
         ],
         "xaxis": "x",
         "y": [
          0.547183859266049,
          0.35461007787100324,
          0.22363625170591642,
          0.18387167527519233,
          0.17058601753387242
         ],
         "yaxis": "y"
        },
        {
         "alignmentgroup": "True",
         "hovertemplate": "Country=United Kingdom<br>Genre=%{x}<br>Share (%)=%{text}<extra></extra>",
         "legendgroup": "United Kingdom",
         "marker": {
          "color": "#EF553B",
          "pattern": {
           "shape": ""
          }
         },
         "name": "United Kingdom",
         "offsetgroup": "United Kingdom",
         "orientation": "v",
         "showlegend": true,
         "text": [
          12.625073052576404,
          10.898051680820142,
          10.453654332349718,
          10.834004443253157,
          12.593547947090048
         ],
         "textposition": "outside",
         "texttemplate": "%{text:.2f}%",
         "type": "bar",
         "x": [
          "Adventure",
          "Action",
          "Drama",
          "Thriller",
          "Fantasy"
         ],
         "xaxis": "x",
         "y": [
          12.625073052576404,
          10.898051680820142,
          10.453654332349718,
          10.834004443253157,
          12.593547947090048
         ],
         "yaxis": "y"
        },
        {
         "alignmentgroup": "True",
         "hovertemplate": "Country=United States of America<br>Genre=%{x}<br>Share (%)=%{text}<extra></extra>",
         "legendgroup": "United States of America",
         "marker": {
          "color": "#00cc96",
          "pattern": {
           "shape": ""
          }
         },
         "name": "United States of America",
         "offsetgroup": "United States of America",
         "orientation": "v",
         "showlegend": true,
         "text": [
          61.1961679457527,
          62.0240146587299,
          62.44528328936764,
          76.91404380218655,
          59.58375694642493
         ],
         "textposition": "outside",
         "texttemplate": "%{text:.2f}%",
         "type": "bar",
         "x": [
          "Action",
          "Adventure",
          "Drama",
          "Comedy",
          "Thriller"
         ],
         "xaxis": "x",
         "y": [
          61.1961679457527,
          62.0240146587299,
          62.44528328936764,
          76.91404380218655,
          59.58375694642493
         ],
         "yaxis": "y"
        }
       ],
       "layout": {
        "barmode": "relative",
        "legend": {
         "title": {
          "text": "Country"
         },
         "tracegroupgap": 0
        },
        "template": {
         "data": {
          "bar": [
           {
            "error_x": {
             "color": "#2a3f5f"
            },
            "error_y": {
             "color": "#2a3f5f"
            },
            "marker": {
             "line": {
              "color": "#E5ECF6",
              "width": 0.5
             },
             "pattern": {
              "fillmode": "overlay",
              "size": 10,
              "solidity": 0.2
             }
            },
            "type": "bar"
           }
          ],
          "barpolar": [
           {
            "marker": {
             "line": {
              "color": "#E5ECF6",
              "width": 0.5
             },
             "pattern": {
              "fillmode": "overlay",
              "size": 10,
              "solidity": 0.2
             }
            },
            "type": "barpolar"
           }
          ],
          "carpet": [
           {
            "aaxis": {
             "endlinecolor": "#2a3f5f",
             "gridcolor": "white",
             "linecolor": "white",
             "minorgridcolor": "white",
             "startlinecolor": "#2a3f5f"
            },
            "baxis": {
             "endlinecolor": "#2a3f5f",
             "gridcolor": "white",
             "linecolor": "white",
             "minorgridcolor": "white",
             "startlinecolor": "#2a3f5f"
            },
            "type": "carpet"
           }
          ],
          "choropleth": [
           {
            "colorbar": {
             "outlinewidth": 0,
             "ticks": ""
            },
            "type": "choropleth"
           }
          ],
          "contour": [
           {
            "colorbar": {
             "outlinewidth": 0,
             "ticks": ""
            },
            "colorscale": [
             [
              0,
              "#0d0887"
             ],
             [
              0.1111111111111111,
              "#46039f"
             ],
             [
              0.2222222222222222,
              "#7201a8"
             ],
             [
              0.3333333333333333,
              "#9c179e"
             ],
             [
              0.4444444444444444,
              "#bd3786"
             ],
             [
              0.5555555555555556,
              "#d8576b"
             ],
             [
              0.6666666666666666,
              "#ed7953"
             ],
             [
              0.7777777777777778,
              "#fb9f3a"
             ],
             [
              0.8888888888888888,
              "#fdca26"
             ],
             [
              1,
              "#f0f921"
             ]
            ],
            "type": "contour"
           }
          ],
          "contourcarpet": [
           {
            "colorbar": {
             "outlinewidth": 0,
             "ticks": ""
            },
            "type": "contourcarpet"
           }
          ],
          "heatmap": [
           {
            "colorbar": {
             "outlinewidth": 0,
             "ticks": ""
            },
            "colorscale": [
             [
              0,
              "#0d0887"
             ],
             [
              0.1111111111111111,
              "#46039f"
             ],
             [
              0.2222222222222222,
              "#7201a8"
             ],
             [
              0.3333333333333333,
              "#9c179e"
             ],
             [
              0.4444444444444444,
              "#bd3786"
             ],
             [
              0.5555555555555556,
              "#d8576b"
             ],
             [
              0.6666666666666666,
              "#ed7953"
             ],
             [
              0.7777777777777778,
              "#fb9f3a"
             ],
             [
              0.8888888888888888,
              "#fdca26"
             ],
             [
              1,
              "#f0f921"
             ]
            ],
            "type": "heatmap"
           }
          ],
          "heatmapgl": [
           {
            "colorbar": {
             "outlinewidth": 0,
             "ticks": ""
            },
            "colorscale": [
             [
              0,
              "#0d0887"
             ],
             [
              0.1111111111111111,
              "#46039f"
             ],
             [
              0.2222222222222222,
              "#7201a8"
             ],
             [
              0.3333333333333333,
              "#9c179e"
             ],
             [
              0.4444444444444444,
              "#bd3786"
             ],
             [
              0.5555555555555556,
              "#d8576b"
             ],
             [
              0.6666666666666666,
              "#ed7953"
             ],
             [
              0.7777777777777778,
              "#fb9f3a"
             ],
             [
              0.8888888888888888,
              "#fdca26"
             ],
             [
              1,
              "#f0f921"
             ]
            ],
            "type": "heatmapgl"
           }
          ],
          "histogram": [
           {
            "marker": {
             "pattern": {
              "fillmode": "overlay",
              "size": 10,
              "solidity": 0.2
             }
            },
            "type": "histogram"
           }
          ],
          "histogram2d": [
           {
            "colorbar": {
             "outlinewidth": 0,
             "ticks": ""
            },
            "colorscale": [
             [
              0,
              "#0d0887"
             ],
             [
              0.1111111111111111,
              "#46039f"
             ],
             [
              0.2222222222222222,
              "#7201a8"
             ],
             [
              0.3333333333333333,
              "#9c179e"
             ],
             [
              0.4444444444444444,
              "#bd3786"
             ],
             [
              0.5555555555555556,
              "#d8576b"
             ],
             [
              0.6666666666666666,
              "#ed7953"
             ],
             [
              0.7777777777777778,
              "#fb9f3a"
             ],
             [
              0.8888888888888888,
              "#fdca26"
             ],
             [
              1,
              "#f0f921"
             ]
            ],
            "type": "histogram2d"
           }
          ],
          "histogram2dcontour": [
           {
            "colorbar": {
             "outlinewidth": 0,
             "ticks": ""
            },
            "colorscale": [
             [
              0,
              "#0d0887"
             ],
             [
              0.1111111111111111,
              "#46039f"
             ],
             [
              0.2222222222222222,
              "#7201a8"
             ],
             [
              0.3333333333333333,
              "#9c179e"
             ],
             [
              0.4444444444444444,
              "#bd3786"
             ],
             [
              0.5555555555555556,
              "#d8576b"
             ],
             [
              0.6666666666666666,
              "#ed7953"
             ],
             [
              0.7777777777777778,
              "#fb9f3a"
             ],
             [
              0.8888888888888888,
              "#fdca26"
             ],
             [
              1,
              "#f0f921"
             ]
            ],
            "type": "histogram2dcontour"
           }
          ],
          "mesh3d": [
           {
            "colorbar": {
             "outlinewidth": 0,
             "ticks": ""
            },
            "type": "mesh3d"
           }
          ],
          "parcoords": [
           {
            "line": {
             "colorbar": {
              "outlinewidth": 0,
              "ticks": ""
             }
            },
            "type": "parcoords"
           }
          ],
          "pie": [
           {
            "automargin": true,
            "type": "pie"
           }
          ],
          "scatter": [
           {
            "fillpattern": {
             "fillmode": "overlay",
             "size": 10,
             "solidity": 0.2
            },
            "type": "scatter"
           }
          ],
          "scatter3d": [
           {
            "line": {
             "colorbar": {
              "outlinewidth": 0,
              "ticks": ""
             }
            },
            "marker": {
             "colorbar": {
              "outlinewidth": 0,
              "ticks": ""
             }
            },
            "type": "scatter3d"
           }
          ],
          "scattercarpet": [
           {
            "marker": {
             "colorbar": {
              "outlinewidth": 0,
              "ticks": ""
             }
            },
            "type": "scattercarpet"
           }
          ],
          "scattergeo": [
           {
            "marker": {
             "colorbar": {
              "outlinewidth": 0,
              "ticks": ""
             }
            },
            "type": "scattergeo"
           }
          ],
          "scattergl": [
           {
            "marker": {
             "colorbar": {
              "outlinewidth": 0,
              "ticks": ""
             }
            },
            "type": "scattergl"
           }
          ],
          "scattermapbox": [
           {
            "marker": {
             "colorbar": {
              "outlinewidth": 0,
              "ticks": ""
             }
            },
            "type": "scattermapbox"
           }
          ],
          "scatterpolar": [
           {
            "marker": {
             "colorbar": {
              "outlinewidth": 0,
              "ticks": ""
             }
            },
            "type": "scatterpolar"
           }
          ],
          "scatterpolargl": [
           {
            "marker": {
             "colorbar": {
              "outlinewidth": 0,
              "ticks": ""
             }
            },
            "type": "scatterpolargl"
           }
          ],
          "scatterternary": [
           {
            "marker": {
             "colorbar": {
              "outlinewidth": 0,
              "ticks": ""
             }
            },
            "type": "scatterternary"
           }
          ],
          "surface": [
           {
            "colorbar": {
             "outlinewidth": 0,
             "ticks": ""
            },
            "colorscale": [
             [
              0,
              "#0d0887"
             ],
             [
              0.1111111111111111,
              "#46039f"
             ],
             [
              0.2222222222222222,
              "#7201a8"
             ],
             [
              0.3333333333333333,
              "#9c179e"
             ],
             [
              0.4444444444444444,
              "#bd3786"
             ],
             [
              0.5555555555555556,
              "#d8576b"
             ],
             [
              0.6666666666666666,
              "#ed7953"
             ],
             [
              0.7777777777777778,
              "#fb9f3a"
             ],
             [
              0.8888888888888888,
              "#fdca26"
             ],
             [
              1,
              "#f0f921"
             ]
            ],
            "type": "surface"
           }
          ],
          "table": [
           {
            "cells": {
             "fill": {
              "color": "#EBF0F8"
             },
             "line": {
              "color": "white"
             }
            },
            "header": {
             "fill": {
              "color": "#C8D4E3"
             },
             "line": {
              "color": "white"
             }
            },
            "type": "table"
           }
          ]
         },
         "layout": {
          "annotationdefaults": {
           "arrowcolor": "#2a3f5f",
           "arrowhead": 0,
           "arrowwidth": 1
          },
          "autotypenumbers": "strict",
          "coloraxis": {
           "colorbar": {
            "outlinewidth": 0,
            "ticks": ""
           }
          },
          "colorscale": {
           "diverging": [
            [
             0,
             "#8e0152"
            ],
            [
             0.1,
             "#c51b7d"
            ],
            [
             0.2,
             "#de77ae"
            ],
            [
             0.3,
             "#f1b6da"
            ],
            [
             0.4,
             "#fde0ef"
            ],
            [
             0.5,
             "#f7f7f7"
            ],
            [
             0.6,
             "#e6f5d0"
            ],
            [
             0.7,
             "#b8e186"
            ],
            [
             0.8,
             "#7fbc41"
            ],
            [
             0.9,
             "#4d9221"
            ],
            [
             1,
             "#276419"
            ]
           ],
           "sequential": [
            [
             0,
             "#0d0887"
            ],
            [
             0.1111111111111111,
             "#46039f"
            ],
            [
             0.2222222222222222,
             "#7201a8"
            ],
            [
             0.3333333333333333,
             "#9c179e"
            ],
            [
             0.4444444444444444,
             "#bd3786"
            ],
            [
             0.5555555555555556,
             "#d8576b"
            ],
            [
             0.6666666666666666,
             "#ed7953"
            ],
            [
             0.7777777777777778,
             "#fb9f3a"
            ],
            [
             0.8888888888888888,
             "#fdca26"
            ],
            [
             1,
             "#f0f921"
            ]
           ],
           "sequentialminus": [
            [
             0,
             "#0d0887"
            ],
            [
             0.1111111111111111,
             "#46039f"
            ],
            [
             0.2222222222222222,
             "#7201a8"
            ],
            [
             0.3333333333333333,
             "#9c179e"
            ],
            [
             0.4444444444444444,
             "#bd3786"
            ],
            [
             0.5555555555555556,
             "#d8576b"
            ],
            [
             0.6666666666666666,
             "#ed7953"
            ],
            [
             0.7777777777777778,
             "#fb9f3a"
            ],
            [
             0.8888888888888888,
             "#fdca26"
            ],
            [
             1,
             "#f0f921"
            ]
           ]
          },
          "colorway": [
           "#636efa",
           "#EF553B",
           "#00cc96",
           "#ab63fa",
           "#FFA15A",
           "#19d3f3",
           "#FF6692",
           "#B6E880",
           "#FF97FF",
           "#FECB52"
          ],
          "font": {
           "color": "#2a3f5f"
          },
          "geo": {
           "bgcolor": "white",
           "lakecolor": "white",
           "landcolor": "#E5ECF6",
           "showlakes": true,
           "showland": true,
           "subunitcolor": "white"
          },
          "hoverlabel": {
           "align": "left"
          },
          "hovermode": "closest",
          "mapbox": {
           "style": "light"
          },
          "paper_bgcolor": "white",
          "plot_bgcolor": "#E5ECF6",
          "polar": {
           "angularaxis": {
            "gridcolor": "white",
            "linecolor": "white",
            "ticks": ""
           },
           "bgcolor": "#E5ECF6",
           "radialaxis": {
            "gridcolor": "white",
            "linecolor": "white",
            "ticks": ""
           }
          },
          "scene": {
           "xaxis": {
            "backgroundcolor": "#E5ECF6",
            "gridcolor": "white",
            "gridwidth": 2,
            "linecolor": "white",
            "showbackground": true,
            "ticks": "",
            "zerolinecolor": "white"
           },
           "yaxis": {
            "backgroundcolor": "#E5ECF6",
            "gridcolor": "white",
            "gridwidth": 2,
            "linecolor": "white",
            "showbackground": true,
            "ticks": "",
            "zerolinecolor": "white"
           },
           "zaxis": {
            "backgroundcolor": "#E5ECF6",
            "gridcolor": "white",
            "gridwidth": 2,
            "linecolor": "white",
            "showbackground": true,
            "ticks": "",
            "zerolinecolor": "white"
           }
          },
          "shapedefaults": {
           "line": {
            "color": "#2a3f5f"
           }
          },
          "ternary": {
           "aaxis": {
            "gridcolor": "white",
            "linecolor": "white",
            "ticks": ""
           },
           "baxis": {
            "gridcolor": "white",
            "linecolor": "white",
            "ticks": ""
           },
           "bgcolor": "#E5ECF6",
           "caxis": {
            "gridcolor": "white",
            "linecolor": "white",
            "ticks": ""
           }
          },
          "title": {
           "x": 0.05
          },
          "xaxis": {
           "automargin": true,
           "gridcolor": "white",
           "linecolor": "white",
           "ticks": "",
           "title": {
            "standoff": 15
           },
           "zerolinecolor": "white",
           "zerolinewidth": 2
          },
          "yaxis": {
           "automargin": true,
           "gridcolor": "white",
           "linecolor": "white",
           "ticks": "",
           "title": {
            "standoff": 15
           },
           "zerolinecolor": "white",
           "zerolinewidth": 2
          }
         }
        },
        "title": {
         "text": "Share of Each Country in Total Cost for Top 5 Most Expensive Genres",
         "x": 0.5
        },
        "uniformtext": {
         "minsize": 8,
         "mode": "hide"
        },
        "xaxis": {
         "anchor": "y",
         "domain": [
          0,
          1
         ],
         "title": {
          "text": "Genre"
         }
        },
        "yaxis": {
         "anchor": "x",
         "domain": [
          0,
          1
         ],
         "title": {
          "text": "Share in Total Cost (%)"
         }
        }
       }
      }
     },
     "metadata": {},
     "output_type": "display_data"
    }
   ],
   "source": [
    "# Plot the data\n",
    "fig = px.bar(\n",
    "    top_5_genres_per_country,\n",
    "    x='genre_name',\n",
    "    y='share',\n",
    "    color='country_name',\n",
    "    title='Share of Each Country in Total Cost for Top 5 Most Expensive Genres',\n",
    "    labels={'genre_name': 'Genre', 'share': 'Share (%)', 'country_name': 'Country'},\n",
    "    text='share'\n",
    ")\n",
    "\n",
    "# Update layout for better readability\n",
    "fig.update_traces(texttemplate='%{text:.2f}%', textposition='outside')\n",
    "fig.update_layout(\n",
    "    xaxis_title='Genre',\n",
    "    yaxis_title='Share in Total Cost (%)',\n",
    "    title_x=0.5,\n",
    "    uniformtext_minsize=8,\n",
    "    uniformtext_mode='hide'\n",
    ")\n",
    "\n",
    "# Show the chart\n",
    "fig.show()"
   ]
  },
  {
   "cell_type": "markdown",
   "metadata": {},
   "source": [
    "### 3) Compare the number of movies produced in 3 genres over the past 10 years."
   ]
  },
  {
   "cell_type": "code",
   "execution_count": 17,
   "metadata": {},
   "outputs": [],
   "source": [
    "temp_df['rt_release_date'] = pd.to_datetime(temp_df['rt_release_date'], errors='coerce')\n",
    "temp_df['release_year'] = temp_df['rt_release_date'].dt.year\n",
    "temp_df['rt_release_date'] = pd.to_datetime(temp_df['rt_release_date'], errors='coerce')\n",
    "temp_df = temp_df.dropna(subset=['rt_release_date'])\n",
    "temp_df['release_year'] = temp_df['rt_release_date'].dt.year"
   ]
  },
  {
   "cell_type": "code",
   "execution_count": 18,
   "metadata": {},
   "outputs": [
    {
     "name": "stdout",
     "output_type": "stream",
     "text": [
      "release_year\n",
      "1916      1\n",
      "1925      1\n",
      "1927      1\n",
      "1929      1\n",
      "1930      1\n",
      "       ... \n",
      "2012    150\n",
      "2013    163\n",
      "2014    143\n",
      "2015    126\n",
      "2016     73\n",
      "Name: count, Length: 89, dtype: int64\n"
     ]
    }
   ],
   "source": [
    "print(temp_df['release_year'].value_counts().sort_index())"
   ]
  },
  {
   "cell_type": "code",
   "execution_count": 19,
   "metadata": {},
   "outputs": [],
   "source": [
    "# Filter movies released between 2007 and 2016\n",
    "last_10_years = temp_df[temp_df['release_year'].between(2007, 2016)]\n",
    "\n",
    "# Expand genres into separate rows\n",
    "genres_expanded = last_10_years.explode('rt_genres')\n",
    "\n",
    "# Extract genre names\n",
    "genres_expanded['genre_name'] = genres_expanded['rt_genres'].apply(lambda x: x['name'] if isinstance(x, dict) else None)\n",
    "\n",
    "# Select genres for comparison\n",
    "selected_genres = ['Action', 'Comedy', 'Drama']\n",
    "filtered_genres = genres_expanded[genres_expanded['genre_name'].isin(selected_genres)]\n",
    "\n",
    "# Count movies for each genre by year\n",
    "genre_counts = filtered_genres.groupby(['release_year', 'genre_name']).size().reset_index(name='movie_count')\n"
   ]
  },
  {
   "cell_type": "markdown",
   "metadata": {},
   "source": [
    "Plot"
   ]
  },
  {
   "cell_type": "code",
   "execution_count": 20,
   "metadata": {},
   "outputs": [
    {
     "data": {
      "application/vnd.plotly.v1+json": {
       "config": {
        "plotlyServerURL": "https://plot.ly"
       },
       "data": [
        {
         "hovertemplate": "Genre=Action<br>Year=%{x}<br>Number of Movies=%{y}<extra></extra>",
         "legendgroup": "Action",
         "line": {
          "color": "#636efa",
          "dash": "solid"
         },
         "marker": {
          "symbol": "circle"
         },
         "mode": "lines",
         "name": "Action",
         "orientation": "v",
         "showlegend": true,
         "type": "scatter",
         "x": [
          2007,
          2008,
          2009,
          2010,
          2011,
          2012,
          2013,
          2014,
          2015,
          2016
         ],
         "xaxis": "x",
         "y": [
          32,
          38,
          38,
          43,
          51,
          39,
          44,
          42,
          33,
          30
         ],
         "yaxis": "y"
        },
        {
         "hovertemplate": "Genre=Comedy<br>Year=%{x}<br>Number of Movies=%{y}<extra></extra>",
         "legendgroup": "Comedy",
         "line": {
          "color": "#EF553B",
          "dash": "solid"
         },
         "marker": {
          "symbol": "circle"
         },
         "mode": "lines",
         "name": "Comedy",
         "orientation": "v",
         "showlegend": true,
         "type": "scatter",
         "x": [
          2007,
          2008,
          2009,
          2010,
          2011,
          2012,
          2013,
          2014,
          2015,
          2016
         ],
         "xaxis": "x",
         "y": [
          44,
          59,
          65,
          67,
          66,
          55,
          48,
          41,
          36,
          21
         ],
         "yaxis": "y"
        },
        {
         "hovertemplate": "Genre=Drama<br>Year=%{x}<br>Number of Movies=%{y}<extra></extra>",
         "legendgroup": "Drama",
         "line": {
          "color": "#00cc96",
          "dash": "solid"
         },
         "marker": {
          "symbol": "circle"
         },
         "mode": "lines",
         "name": "Drama",
         "orientation": "v",
         "showlegend": true,
         "type": "scatter",
         "x": [
          2007,
          2008,
          2009,
          2010,
          2011,
          2012,
          2013,
          2014,
          2015,
          2016
         ],
         "xaxis": "x",
         "y": [
          61,
          70,
          73,
          82,
          76,
          60,
          78,
          66,
          61,
          22
         ],
         "yaxis": "y"
        }
       ],
       "layout": {
        "legend": {
         "title": {
          "text": "Genre"
         },
         "tracegroupgap": 0
        },
        "template": {
         "data": {
          "bar": [
           {
            "error_x": {
             "color": "#2a3f5f"
            },
            "error_y": {
             "color": "#2a3f5f"
            },
            "marker": {
             "line": {
              "color": "#E5ECF6",
              "width": 0.5
             },
             "pattern": {
              "fillmode": "overlay",
              "size": 10,
              "solidity": 0.2
             }
            },
            "type": "bar"
           }
          ],
          "barpolar": [
           {
            "marker": {
             "line": {
              "color": "#E5ECF6",
              "width": 0.5
             },
             "pattern": {
              "fillmode": "overlay",
              "size": 10,
              "solidity": 0.2
             }
            },
            "type": "barpolar"
           }
          ],
          "carpet": [
           {
            "aaxis": {
             "endlinecolor": "#2a3f5f",
             "gridcolor": "white",
             "linecolor": "white",
             "minorgridcolor": "white",
             "startlinecolor": "#2a3f5f"
            },
            "baxis": {
             "endlinecolor": "#2a3f5f",
             "gridcolor": "white",
             "linecolor": "white",
             "minorgridcolor": "white",
             "startlinecolor": "#2a3f5f"
            },
            "type": "carpet"
           }
          ],
          "choropleth": [
           {
            "colorbar": {
             "outlinewidth": 0,
             "ticks": ""
            },
            "type": "choropleth"
           }
          ],
          "contour": [
           {
            "colorbar": {
             "outlinewidth": 0,
             "ticks": ""
            },
            "colorscale": [
             [
              0,
              "#0d0887"
             ],
             [
              0.1111111111111111,
              "#46039f"
             ],
             [
              0.2222222222222222,
              "#7201a8"
             ],
             [
              0.3333333333333333,
              "#9c179e"
             ],
             [
              0.4444444444444444,
              "#bd3786"
             ],
             [
              0.5555555555555556,
              "#d8576b"
             ],
             [
              0.6666666666666666,
              "#ed7953"
             ],
             [
              0.7777777777777778,
              "#fb9f3a"
             ],
             [
              0.8888888888888888,
              "#fdca26"
             ],
             [
              1,
              "#f0f921"
             ]
            ],
            "type": "contour"
           }
          ],
          "contourcarpet": [
           {
            "colorbar": {
             "outlinewidth": 0,
             "ticks": ""
            },
            "type": "contourcarpet"
           }
          ],
          "heatmap": [
           {
            "colorbar": {
             "outlinewidth": 0,
             "ticks": ""
            },
            "colorscale": [
             [
              0,
              "#0d0887"
             ],
             [
              0.1111111111111111,
              "#46039f"
             ],
             [
              0.2222222222222222,
              "#7201a8"
             ],
             [
              0.3333333333333333,
              "#9c179e"
             ],
             [
              0.4444444444444444,
              "#bd3786"
             ],
             [
              0.5555555555555556,
              "#d8576b"
             ],
             [
              0.6666666666666666,
              "#ed7953"
             ],
             [
              0.7777777777777778,
              "#fb9f3a"
             ],
             [
              0.8888888888888888,
              "#fdca26"
             ],
             [
              1,
              "#f0f921"
             ]
            ],
            "type": "heatmap"
           }
          ],
          "heatmapgl": [
           {
            "colorbar": {
             "outlinewidth": 0,
             "ticks": ""
            },
            "colorscale": [
             [
              0,
              "#0d0887"
             ],
             [
              0.1111111111111111,
              "#46039f"
             ],
             [
              0.2222222222222222,
              "#7201a8"
             ],
             [
              0.3333333333333333,
              "#9c179e"
             ],
             [
              0.4444444444444444,
              "#bd3786"
             ],
             [
              0.5555555555555556,
              "#d8576b"
             ],
             [
              0.6666666666666666,
              "#ed7953"
             ],
             [
              0.7777777777777778,
              "#fb9f3a"
             ],
             [
              0.8888888888888888,
              "#fdca26"
             ],
             [
              1,
              "#f0f921"
             ]
            ],
            "type": "heatmapgl"
           }
          ],
          "histogram": [
           {
            "marker": {
             "pattern": {
              "fillmode": "overlay",
              "size": 10,
              "solidity": 0.2
             }
            },
            "type": "histogram"
           }
          ],
          "histogram2d": [
           {
            "colorbar": {
             "outlinewidth": 0,
             "ticks": ""
            },
            "colorscale": [
             [
              0,
              "#0d0887"
             ],
             [
              0.1111111111111111,
              "#46039f"
             ],
             [
              0.2222222222222222,
              "#7201a8"
             ],
             [
              0.3333333333333333,
              "#9c179e"
             ],
             [
              0.4444444444444444,
              "#bd3786"
             ],
             [
              0.5555555555555556,
              "#d8576b"
             ],
             [
              0.6666666666666666,
              "#ed7953"
             ],
             [
              0.7777777777777778,
              "#fb9f3a"
             ],
             [
              0.8888888888888888,
              "#fdca26"
             ],
             [
              1,
              "#f0f921"
             ]
            ],
            "type": "histogram2d"
           }
          ],
          "histogram2dcontour": [
           {
            "colorbar": {
             "outlinewidth": 0,
             "ticks": ""
            },
            "colorscale": [
             [
              0,
              "#0d0887"
             ],
             [
              0.1111111111111111,
              "#46039f"
             ],
             [
              0.2222222222222222,
              "#7201a8"
             ],
             [
              0.3333333333333333,
              "#9c179e"
             ],
             [
              0.4444444444444444,
              "#bd3786"
             ],
             [
              0.5555555555555556,
              "#d8576b"
             ],
             [
              0.6666666666666666,
              "#ed7953"
             ],
             [
              0.7777777777777778,
              "#fb9f3a"
             ],
             [
              0.8888888888888888,
              "#fdca26"
             ],
             [
              1,
              "#f0f921"
             ]
            ],
            "type": "histogram2dcontour"
           }
          ],
          "mesh3d": [
           {
            "colorbar": {
             "outlinewidth": 0,
             "ticks": ""
            },
            "type": "mesh3d"
           }
          ],
          "parcoords": [
           {
            "line": {
             "colorbar": {
              "outlinewidth": 0,
              "ticks": ""
             }
            },
            "type": "parcoords"
           }
          ],
          "pie": [
           {
            "automargin": true,
            "type": "pie"
           }
          ],
          "scatter": [
           {
            "fillpattern": {
             "fillmode": "overlay",
             "size": 10,
             "solidity": 0.2
            },
            "type": "scatter"
           }
          ],
          "scatter3d": [
           {
            "line": {
             "colorbar": {
              "outlinewidth": 0,
              "ticks": ""
             }
            },
            "marker": {
             "colorbar": {
              "outlinewidth": 0,
              "ticks": ""
             }
            },
            "type": "scatter3d"
           }
          ],
          "scattercarpet": [
           {
            "marker": {
             "colorbar": {
              "outlinewidth": 0,
              "ticks": ""
             }
            },
            "type": "scattercarpet"
           }
          ],
          "scattergeo": [
           {
            "marker": {
             "colorbar": {
              "outlinewidth": 0,
              "ticks": ""
             }
            },
            "type": "scattergeo"
           }
          ],
          "scattergl": [
           {
            "marker": {
             "colorbar": {
              "outlinewidth": 0,
              "ticks": ""
             }
            },
            "type": "scattergl"
           }
          ],
          "scattermapbox": [
           {
            "marker": {
             "colorbar": {
              "outlinewidth": 0,
              "ticks": ""
             }
            },
            "type": "scattermapbox"
           }
          ],
          "scatterpolar": [
           {
            "marker": {
             "colorbar": {
              "outlinewidth": 0,
              "ticks": ""
             }
            },
            "type": "scatterpolar"
           }
          ],
          "scatterpolargl": [
           {
            "marker": {
             "colorbar": {
              "outlinewidth": 0,
              "ticks": ""
             }
            },
            "type": "scatterpolargl"
           }
          ],
          "scatterternary": [
           {
            "marker": {
             "colorbar": {
              "outlinewidth": 0,
              "ticks": ""
             }
            },
            "type": "scatterternary"
           }
          ],
          "surface": [
           {
            "colorbar": {
             "outlinewidth": 0,
             "ticks": ""
            },
            "colorscale": [
             [
              0,
              "#0d0887"
             ],
             [
              0.1111111111111111,
              "#46039f"
             ],
             [
              0.2222222222222222,
              "#7201a8"
             ],
             [
              0.3333333333333333,
              "#9c179e"
             ],
             [
              0.4444444444444444,
              "#bd3786"
             ],
             [
              0.5555555555555556,
              "#d8576b"
             ],
             [
              0.6666666666666666,
              "#ed7953"
             ],
             [
              0.7777777777777778,
              "#fb9f3a"
             ],
             [
              0.8888888888888888,
              "#fdca26"
             ],
             [
              1,
              "#f0f921"
             ]
            ],
            "type": "surface"
           }
          ],
          "table": [
           {
            "cells": {
             "fill": {
              "color": "#EBF0F8"
             },
             "line": {
              "color": "white"
             }
            },
            "header": {
             "fill": {
              "color": "#C8D4E3"
             },
             "line": {
              "color": "white"
             }
            },
            "type": "table"
           }
          ]
         },
         "layout": {
          "annotationdefaults": {
           "arrowcolor": "#2a3f5f",
           "arrowhead": 0,
           "arrowwidth": 1
          },
          "autotypenumbers": "strict",
          "coloraxis": {
           "colorbar": {
            "outlinewidth": 0,
            "ticks": ""
           }
          },
          "colorscale": {
           "diverging": [
            [
             0,
             "#8e0152"
            ],
            [
             0.1,
             "#c51b7d"
            ],
            [
             0.2,
             "#de77ae"
            ],
            [
             0.3,
             "#f1b6da"
            ],
            [
             0.4,
             "#fde0ef"
            ],
            [
             0.5,
             "#f7f7f7"
            ],
            [
             0.6,
             "#e6f5d0"
            ],
            [
             0.7,
             "#b8e186"
            ],
            [
             0.8,
             "#7fbc41"
            ],
            [
             0.9,
             "#4d9221"
            ],
            [
             1,
             "#276419"
            ]
           ],
           "sequential": [
            [
             0,
             "#0d0887"
            ],
            [
             0.1111111111111111,
             "#46039f"
            ],
            [
             0.2222222222222222,
             "#7201a8"
            ],
            [
             0.3333333333333333,
             "#9c179e"
            ],
            [
             0.4444444444444444,
             "#bd3786"
            ],
            [
             0.5555555555555556,
             "#d8576b"
            ],
            [
             0.6666666666666666,
             "#ed7953"
            ],
            [
             0.7777777777777778,
             "#fb9f3a"
            ],
            [
             0.8888888888888888,
             "#fdca26"
            ],
            [
             1,
             "#f0f921"
            ]
           ],
           "sequentialminus": [
            [
             0,
             "#0d0887"
            ],
            [
             0.1111111111111111,
             "#46039f"
            ],
            [
             0.2222222222222222,
             "#7201a8"
            ],
            [
             0.3333333333333333,
             "#9c179e"
            ],
            [
             0.4444444444444444,
             "#bd3786"
            ],
            [
             0.5555555555555556,
             "#d8576b"
            ],
            [
             0.6666666666666666,
             "#ed7953"
            ],
            [
             0.7777777777777778,
             "#fb9f3a"
            ],
            [
             0.8888888888888888,
             "#fdca26"
            ],
            [
             1,
             "#f0f921"
            ]
           ]
          },
          "colorway": [
           "#636efa",
           "#EF553B",
           "#00cc96",
           "#ab63fa",
           "#FFA15A",
           "#19d3f3",
           "#FF6692",
           "#B6E880",
           "#FF97FF",
           "#FECB52"
          ],
          "font": {
           "color": "#2a3f5f"
          },
          "geo": {
           "bgcolor": "white",
           "lakecolor": "white",
           "landcolor": "#E5ECF6",
           "showlakes": true,
           "showland": true,
           "subunitcolor": "white"
          },
          "hoverlabel": {
           "align": "left"
          },
          "hovermode": "closest",
          "mapbox": {
           "style": "light"
          },
          "paper_bgcolor": "white",
          "plot_bgcolor": "#E5ECF6",
          "polar": {
           "angularaxis": {
            "gridcolor": "white",
            "linecolor": "white",
            "ticks": ""
           },
           "bgcolor": "#E5ECF6",
           "radialaxis": {
            "gridcolor": "white",
            "linecolor": "white",
            "ticks": ""
           }
          },
          "scene": {
           "xaxis": {
            "backgroundcolor": "#E5ECF6",
            "gridcolor": "white",
            "gridwidth": 2,
            "linecolor": "white",
            "showbackground": true,
            "ticks": "",
            "zerolinecolor": "white"
           },
           "yaxis": {
            "backgroundcolor": "#E5ECF6",
            "gridcolor": "white",
            "gridwidth": 2,
            "linecolor": "white",
            "showbackground": true,
            "ticks": "",
            "zerolinecolor": "white"
           },
           "zaxis": {
            "backgroundcolor": "#E5ECF6",
            "gridcolor": "white",
            "gridwidth": 2,
            "linecolor": "white",
            "showbackground": true,
            "ticks": "",
            "zerolinecolor": "white"
           }
          },
          "shapedefaults": {
           "line": {
            "color": "#2a3f5f"
           }
          },
          "ternary": {
           "aaxis": {
            "gridcolor": "white",
            "linecolor": "white",
            "ticks": ""
           },
           "baxis": {
            "gridcolor": "white",
            "linecolor": "white",
            "ticks": ""
           },
           "bgcolor": "#E5ECF6",
           "caxis": {
            "gridcolor": "white",
            "linecolor": "white",
            "ticks": ""
           }
          },
          "title": {
           "x": 0.05
          },
          "xaxis": {
           "automargin": true,
           "gridcolor": "white",
           "linecolor": "white",
           "ticks": "",
           "title": {
            "standoff": 15
           },
           "zerolinecolor": "white",
           "zerolinewidth": 2
          },
          "yaxis": {
           "automargin": true,
           "gridcolor": "white",
           "linecolor": "white",
           "ticks": "",
           "title": {
            "standoff": 15
           },
           "zerolinecolor": "white",
           "zerolinewidth": 2
          }
         }
        },
        "title": {
         "text": "Number of Movies Produced in Selected Genres (2007-2016)",
         "x": 0.5
        },
        "xaxis": {
         "anchor": "y",
         "domain": [
          0,
          1
         ],
         "dtick": 1,
         "tickmode": "linear",
         "title": {
          "text": "Year"
         }
        },
        "yaxis": {
         "anchor": "x",
         "domain": [
          0,
          1
         ],
         "title": {
          "text": "Number of Movies"
         }
        }
       }
      }
     },
     "metadata": {},
     "output_type": "display_data"
    }
   ],
   "source": [
    "fig = px.line(\n",
    "    genre_counts,\n",
    "    x='release_year',\n",
    "    y='movie_count',\n",
    "    color='genre_name',\n",
    "    title='Number of Movies Produced in Selected Genres (2007-2016)',\n",
    "    labels={'release_year': 'Year', 'movie_count': 'Number of Movies', 'genre_name': 'Genre'}\n",
    ")\n",
    "\n",
    "# Update layout for better readability\n",
    "fig.update_layout(\n",
    "    xaxis=dict(tickmode='linear', dtick=1),\n",
    "    yaxis_title='Number of Movies',\n",
    "    xaxis_title='Year',\n",
    "    title_x=0.5\n",
    ")\n",
    "\n",
    "fig.show()"
   ]
  },
  {
   "cell_type": "markdown",
   "metadata": {},
   "source": [
    "### 4) On average, which country produces the longest and shortest movies?"
   ]
  },
  {
   "cell_type": "code",
   "execution_count": 22,
   "metadata": {},
   "outputs": [],
   "source": [
    "temp_df = df_movies.copy()\n",
    "\n",
    "# Convert the 'rt_production_countries' column to a list of dictionaries\n",
    "temp_df['rt_production_countries'] = temp_df['rt_production_countries'].apply(\n",
    "    lambda x: ast.literal_eval(x) if isinstance(x, str) else []\n",
    ")\n",
    "\n",
    "# Expand the 'rt_production_countries' column into separate rows\n",
    "countries_expanded = temp_df.explode('rt_production_countries')\n",
    "\n",
    "# Extract country names from the dictionary\n",
    "countries_expanded['country_name'] = countries_expanded['rt_production_countries'].apply(\n",
    "    lambda x: x['name'] if isinstance(x, dict) else None\n",
    ")\n",
    "\n",
    "# Drop rows with invalid or missing data\n",
    "countries_expanded = countries_expanded.dropna(subset=['country_name', 'rt_runtime'])\n",
    "\n",
    "# Group by country and calculate the average runtime\n",
    "average_runtime_by_country = countries_expanded.groupby('country_name')['rt_runtime'].mean().reset_index()\n",
    "\n",
    "# Find the country with the longest and shortest average runtime\n",
    "longest_runtime_country = average_runtime_by_country.loc[average_runtime_by_country['rt_runtime'].idxmax()]\n",
    "shortest_runtime_country = average_runtime_by_country.loc[average_runtime_by_country['rt_runtime'].idxmin()]\n"
   ]
  },
  {
   "cell_type": "code",
   "execution_count": 24,
   "metadata": {},
   "outputs": [
    {
     "name": "stdout",
     "output_type": "stream",
     "text": [
      "The country with the longest movies on average is: Singapore (172.00 minutes).\n",
      "The country with the shortest movies on average is: Monaco (84.00 minutes).\n"
     ]
    }
   ],
   "source": [
    "# Print the results\n",
    "print(f\"The country with the longest movies on average is: {longest_runtime_country['country_name']} \"\n",
    "      f\"({longest_runtime_country['rt_runtime']:.2f} minutes).\")\n",
    "\n",
    "print(f\"The country with the shortest movies on average is: {shortest_runtime_country['country_name']} \"\n",
    "      f\"({shortest_runtime_country['rt_runtime']:.2f} minutes).\")"
   ]
  },
  {
   "cell_type": "code",
   "execution_count": 25,
   "metadata": {},
   "outputs": [
    {
     "data": {
      "application/vnd.plotly.v1+json": {
       "config": {
        "plotlyServerURL": "https://plot.ly"
       },
       "data": [
        {
         "alignmentgroup": "True",
         "boxpoints": "all",
         "hovertemplate": "Country=%{x}<br>Runtime (minutes)=%{y}<extra></extra>",
         "legendgroup": "",
         "marker": {
          "color": "#636efa"
         },
         "name": "",
         "notched": false,
         "offsetgroup": "",
         "orientation": "v",
         "showlegend": false,
         "type": "box",
         "x": [
          "United States of America",
          "United Kingdom",
          "United States of America",
          "United Kingdom",
          "United States of America",
          "United States of America",
          "United States of America",
          "United States of America",
          "United States of America",
          "United States of America",
          "United Kingdom",
          "United States of America",
          "United States of America",
          "United States of America",
          "United Kingdom",
          "United States of America",
          "Jamaica",
          "United States of America",
          "Bahamas",
          "Dominica",
          "United States of America",
          "United Kingdom",
          "United States of America",
          "Czech Republic",
          "Poland",
          "Slovenia",
          "United States of America",
          "United States of America",
          "United States of America",
          "United States of America",
          "New Zealand",
          "United States of America",
          "United States of America",
          "United Kingdom",
          "United States of America",
          "New Zealand",
          "United States of America",
          "United Kingdom",
          "United States of America",
          "New Zealand",
          "United States of America",
          "Germany",
          "United States of America",
          "United States of America",
          "United States of America",
          "United States of America",
          "United Kingdom",
          "United States of America",
          "United States of America",
          "China",
          "United States of America",
          "United States of America",
          "Canada",
          "United Kingdom",
          "United States of America",
          "United States of America",
          "United States of America",
          "United States of America",
          "United States of America",
          "United States of America",
          "United States of America",
          "United States of America",
          "United States of America",
          "United States of America",
          "Germany",
          "Italy",
          "United Kingdom",
          "United States of America",
          "Japan",
          "United States of America",
          "United States of America",
          "Malta",
          "United Kingdom",
          "United States of America",
          "United States of America",
          "United States of America",
          "United States of America",
          "Australia",
          "United States of America",
          "United States of America",
          "Canada",
          "United States of America",
          "United States of America",
          "United States of America",
          "United States of America",
          "United States of America",
          "United States of America",
          "United States of America",
          "Canada",
          "United States of America",
          "United States of America",
          "United States of America",
          "Canada",
          "United Kingdom",
          "United States of America",
          "United Kingdom",
          "United States of America",
          "United States of America",
          "United Kingdom",
          "United States of America",
          "United States of America",
          "United States of America",
          "United States of America",
          "France",
          "United States of America",
          "United Kingdom",
          "United States of America",
          "Germany",
          "United States of America",
          "United States of America",
          "United States of America",
          "Australia",
          "United States of America",
          "United States of America",
          "Czech Republic",
          "United States of America",
          "United States of America",
          "United Kingdom",
          "United States of America",
          "United States of America",
          "United States of America",
          "United States of America",
          "United States of America",
          "United States of America",
          "United States of America",
          "United States of America",
          "United States of America",
          "United States of America",
          "United States of America",
          "United States of America",
          "United States of America",
          "United States of America",
          "Germany",
          "United Kingdom",
          "United States of America",
          "United Kingdom",
          "United States of America",
          "Canada",
          "United States of America",
          "United Kingdom",
          "United Kingdom",
          "United States of America",
          "Japan",
          "New Zealand",
          "United States of America",
          "Germany",
          "United States of America",
          "United States of America",
          "United States of America",
          "Germany",
          "United States of America",
          "United States of America",
          "United States of America",
          "United Kingdom",
          "United States of America",
          "United States of America",
          "Canada",
          "China",
          "Japan",
          "United States of America",
          "United States of America",
          "United States of America",
          "United States of America",
          "United States of America",
          "France",
          "Germany",
          "Italy",
          "Netherlands",
          "United Kingdom",
          "United States of America",
          "United Kingdom",
          "United States of America",
          "United Kingdom",
          "United States of America",
          "United States of America",
          "United States of America",
          "Australia",
          "United Kingdom",
          "United States of America",
          "United States of America",
          "United Kingdom",
          "United States of America",
          "United States of America",
          "United States of America",
          "Canada",
          "United States of America",
          "United States of America",
          "Australia",
          "United States of America",
          "Australia",
          "United States of America",
          "United States of America",
          "Australia",
          "United States of America",
          "Italy",
          "United States of America",
          "United States of America",
          "United States of America",
          "United States of America",
          "Spain",
          "United States of America",
          "Australia",
          "United States of America",
          "China",
          "United States of America",
          "United States of America",
          "United States of America",
          "United States of America",
          "China",
          "Germany",
          "United States of America",
          "United States of America",
          "United States of America",
          "United Kingdom",
          "United States of America",
          "United States of America",
          "United States of America",
          "United States of America",
          "Malta",
          "United Kingdom",
          "United States of America",
          "United Kingdom",
          "United States of America",
          "United States of America",
          "United States of America",
          "United States of America",
          "United States of America",
          "China",
          "United States of America",
          "Czech Republic",
          "United States of America",
          "United Arab Emirates",
          "United States of America",
          "United States of America",
          "Japan",
          "United States of America",
          "New Zealand",
          "Spain",
          "United Kingdom",
          "United States of America",
          "Germany",
          "United States of America",
          "United States of America",
          "United States of America",
          "Australia",
          "United States of America",
          "United States of America",
          "United States of America",
          "United States of America",
          "United States of America",
          "United States of America",
          "Germany",
          "Spain",
          "United Kingdom",
          "United States of America",
          "Japan",
          "United States of America",
          "United States of America",
          "United Kingdom",
          "United States of America",
          "United States of America",
          "United States of America",
          "Australia",
          "United States of America",
          "India",
          "United States of America",
          "Canada",
          "Hong Kong",
          "Taiwan",
          "United States of America",
          "United States of America",
          "United States of America",
          "United States of America",
          "Germany",
          "United States of America",
          "United States of America",
          "United States of America",
          "United States of America",
          "United States of America",
          "United States of America",
          "United States of America",
          "United States of America",
          "United States of America",
          "United States of America",
          "New Zealand",
          "United States of America",
          "United Kingdom",
          "United States of America",
          "Australia",
          "United States of America",
          "United Kingdom",
          "United States of America",
          "United States of America",
          "United Kingdom",
          "United States of America",
          "United States of America",
          "United Kingdom",
          "United States of America",
          "United States of America",
          "United States of America",
          "United States of America",
          "United States of America",
          "Malta",
          "France",
          "United Kingdom",
          "United States of America",
          "United States of America",
          "United States of America",
          "United States of America",
          "United States of America",
          "United States of America",
          "United States of America",
          "United States of America",
          "United Kingdom",
          "United States of America",
          "Germany",
          "United States of America",
          "United States of America",
          "Germany",
          "United States of America",
          "United States of America",
          "Germany",
          "United Kingdom",
          "United States of America",
          "United States of America",
          "Taiwan",
          "United Kingdom",
          "United States of America",
          "Australia",
          "United Kingdom",
          "United States of America",
          "China",
          "United States of America",
          "United Kingdom",
          "United States of America",
          "United States of America",
          "United States of America",
          "United States of America",
          "Canada",
          "United States of America",
          "Australia",
          "Germany",
          "United States of America",
          "United States of America",
          "United States of America",
          "United States of America",
          "United States of America",
          "United States of America",
          "United States of America",
          "United Kingdom",
          "United States of America",
          "United States of America",
          "United States of America",
          "Belgium",
          "France",
          "Germany",
          "Italy",
          "Spain",
          "United States of America",
          "United States of America",
          "United States of America",
          "United Kingdom",
          "United States of America",
          "United States of America",
          "China",
          "United States of America",
          "Hong Kong",
          "United States of America",
          "United States of America",
          "United Kingdom",
          "Canada",
          "United States of America",
          "Australia",
          "United Kingdom",
          "United States of America",
          "Germany",
          "United States of America",
          "United States of America",
          "United States of America",
          "United States of America",
          "United States of America",
          "United States of America",
          "United States of America",
          "United States of America",
          "United States of America",
          "United States of America",
          "United States of America",
          "India",
          "United States of America",
          "United States of America",
          "United States of America",
          "United States of America",
          "United Kingdom",
          "United States of America",
          "New Zealand",
          "United States of America",
          "Germany",
          "Ireland",
          "United Kingdom",
          "United States of America",
          "United States of America",
          "United States of America",
          "Germany",
          "Germany",
          "Morocco",
          "Spain",
          "United Kingdom",
          "United States of America",
          "Germany",
          "United States of America",
          "United States of America",
          "United States of America",
          "United States of America",
          "United States of America",
          "United Kingdom",
          "United States of America",
          "United States of America",
          "Germany",
          "United Kingdom",
          "United States of America",
          "Italy",
          "United Kingdom",
          "United States of America",
          "Czech Republic",
          "Germany",
          "United States of America",
          "France",
          "United States of America",
          "United States of America",
          "United Kingdom",
          "United States of America",
          "United States of America",
          "United States of America",
          "United States of America",
          "United States of America",
          "Canada",
          "United States of America",
          "United States of America",
          "United States of America",
          "United States of America",
          "United States of America",
          "United States of America",
          "United Kingdom",
          "United States of America",
          "Hungary",
          "United States of America",
          "United States of America",
          "United Kingdom",
          "United States of America",
          "France",
          "Italy",
          "United States of America",
          "Germany",
          "United States of America",
          "United States of America",
          "United Kingdom",
          "United States of America",
          "United States of America",
          "Germany",
          "Hong Kong",
          "Singapore",
          "United States of America",
          "Australia",
          "United States of America",
          "United States of America",
          "United States of America",
          "United States of America",
          "United States of America",
          "France",
          "United States of America",
          "Germany",
          "United States of America",
          "China",
          "United States of America",
          "Australia",
          "United States of America",
          "Spain",
          "United Kingdom",
          "United States of America",
          "France",
          "United States of America",
          "United States of America",
          "United States of America",
          "United States of America",
          "Italy",
          "China",
          "Hong Kong",
          "United States of America",
          "United States of America",
          "United Kingdom",
          "United States of America",
          "United States of America",
          "France",
          "United States of America",
          "United States of America",
          "United States of America",
          "United Kingdom",
          "United States of America",
          "United Kingdom",
          "New Zealand",
          "United States of America",
          "United States of America",
          "New Zealand",
          "United States of America",
          "New Zealand",
          "United States of America",
          "China",
          "Canada",
          "United States of America",
          "United Kingdom",
          "United States of America",
          "China",
          "United Kingdom",
          "United States of America",
          "United States of America",
          "United States of America",
          "United States of America",
          "United States of America",
          "United States of America",
          "United States of America",
          "France",
          "Germany",
          "Italy",
          "United States of America",
          "Canada",
          "United States of America",
          "United States of America",
          "United States of America",
          "United States of America",
          "United States of America",
          "United States of America",
          "United States of America",
          "United States of America",
          "United States of America",
          "United States of America",
          "Hong Kong",
          "United States of America",
          "United States of America",
          "United States of America",
          "United Kingdom",
          "Germany",
          "Norway",
          "Sweden",
          "United States of America",
          "United States of America",
          "Germany",
          "United Kingdom",
          "United States of America",
          "United States of America",
          "United States of America",
          "United States of America",
          "Germany",
          "United States of America",
          "United States of America",
          "United States of America",
          "United States of America",
          "United States of America",
          "United States of America",
          "Germany",
          "United States of America",
          "France",
          "Germany",
          "United Kingdom",
          "United States of America",
          "United States of America",
          "United States of America",
          "Germany",
          "Japan",
          "United Kingdom",
          "Canada",
          "China",
          "United Kingdom",
          "United States of America",
          "United States of America",
          "United Kingdom",
          "United States of America",
          "United States of America",
          "United States of America",
          "Germany",
          "United States of America",
          "United States of America",
          "Canada",
          "Germany",
          "United Kingdom",
          "United States of America",
          "United States of America",
          "United States of America",
          "United Kingdom",
          "Hungary",
          "United States of America",
          "United States of America",
          "United States of America",
          "Australia",
          "Germany",
          "United States of America",
          "Germany",
          "United States of America",
          "United States of America",
          "United States of America",
          "Germany",
          "France",
          "United Kingdom",
          "United States of America",
          "United States of America",
          "United States of America",
          "United States of America",
          "United States of America",
          "United Kingdom",
          "United States of America",
          "United States of America",
          "United States of America",
          "United States of America",
          "United States of America",
          "United States of America",
          "Ireland",
          "United States of America",
          "Germany",
          "United Kingdom",
          "United States of America",
          "United States of America",
          "United States of America",
          "Japan",
          "United States of America",
          "United States of America",
          "United States of America",
          "United States of America",
          "United States of America",
          "United States of America",
          "Canada",
          "United States of America",
          "Canada",
          "Germany",
          "United States of America",
          "United States of America",
          "South Africa",
          "United Kingdom",
          "United States of America",
          "India",
          "United States of America",
          "United States of America",
          "United States of America",
          "Australia",
          "Canada",
          "United States of America",
          "Germany",
          "United States of America",
          "United States of America",
          "United States of America",
          "United States of America",
          "United States of America",
          "United States of America",
          "United States of America",
          "United States of America",
          "United Kingdom",
          "United States of America",
          "United States of America",
          "United States of America",
          "Germany",
          "United States of America",
          "United States of America",
          "United States of America",
          "United States of America",
          "United States of America",
          "Canada",
          "Russia",
          "United States of America",
          "United States of America",
          "United States of America",
          "United States of America",
          "United States of America",
          "United States of America",
          "United States of America",
          "United States of America",
          "United States of America",
          "United States of America",
          "United States of America",
          "Germany",
          "United States of America",
          "United Kingdom",
          "Romania",
          "Italy",
          "United States of America",
          "United States of America",
          "United States of America",
          "United States of America",
          "Canada",
          "United States of America",
          "United States of America",
          "United Kingdom",
          "United States of America",
          "China",
          "United States of America",
          "United States of America",
          "New Zealand",
          "United States of America",
          "United States of America",
          "United States of America",
          "United States of America",
          "United States of America",
          "United States of America",
          "United States of America",
          "Australia",
          "United States of America",
          "Mexico",
          "United States of America",
          "New Zealand",
          "United States of America",
          "Czech Republic",
          "United Kingdom",
          "United States of America",
          "United States of America",
          "United States of America",
          "United States of America",
          "United States of America",
          "United States of America",
          "Australia",
          "India",
          "United Kingdom",
          "United States of America",
          "United States of America",
          "Germany",
          "United States of America",
          "Italy",
          "United States of America",
          "United States of America",
          "United States of America",
          "Australia",
          "United States of America",
          "Australia",
          "United States of America",
          "France",
          "France",
          "Monaco",
          "Spain",
          "Switzerland",
          "Czech Republic",
          "Germany",
          "United Kingdom",
          "United States of America",
          "Canada",
          "Germany",
          "United States of America",
          "United States of America",
          "United States of America",
          "United States of America",
          "United States of America",
          "Germany",
          "United States of America",
          "United States of America",
          "Morocco",
          "United States of America",
          "United States of America",
          "France",
          "United States of America",
          "Australia",
          "Germany",
          "United States of America",
          "United States of America",
          "Czech Republic",
          "Germany",
          "United Kingdom",
          "United States of America",
          "United States of America",
          "United States of America",
          "United States of America",
          "United States of America",
          "United Kingdom",
          "United States of America",
          "United States of America",
          "Germany",
          "United States of America",
          "United States of America",
          "United States of America",
          "United States of America",
          "United Kingdom",
          "United States of America",
          "United States of America",
          "United States of America",
          "France",
          "United States of America",
          "United States of America",
          "United States of America",
          "New Zealand",
          "Pakistan",
          "United States of America",
          "United States of America",
          "United States of America",
          "United States of America",
          "United States of America",
          "Canada",
          "United States of America",
          "France",
          "United States of America",
          "United States of America",
          "United States of America",
          "United States of America",
          "United States of America",
          "United States of America",
          "United States of America",
          "United States of America",
          "Germany",
          "United States of America",
          "United States of America",
          "United States of America",
          "United States of America",
          "United States of America",
          "United States of America",
          "United States of America",
          "United States of America",
          "United States of America",
          "United States of America",
          "Canada",
          "United States of America",
          "United States of America",
          "Finland",
          "United States of America",
          "United States of America",
          "United States of America",
          "Germany",
          "United States of America",
          "United States of America",
          "United States of America",
          "United States of America",
          "Germany",
          "United States of America",
          "United States of America",
          "United States of America",
          "Australia",
          "Canada",
          "United States of America",
          "France",
          "United Kingdom",
          "United States of America",
          "United States of America",
          "United States of America",
          "United States of America",
          "United States of America",
          "United States of America",
          "United States of America",
          "United States of America",
          "United States of America",
          "Germany",
          "United States of America",
          "United States of America",
          "United States of America",
          "United States of America",
          "United States of America",
          "United States of America",
          "Canada",
          "Czech Republic",
          "Germany",
          "United Kingdom",
          "United States of America",
          "United States of America",
          "Germany",
          "United States of America",
          "United States of America",
          "United States of America",
          "United States of America",
          "United States of America",
          "United States of America",
          "Germany",
          "United States of America",
          "United States of America",
          "United States of America",
          "United States of America",
          "United States of America",
          "Iceland",
          "United Kingdom",
          "United States of America",
          "United States of America",
          "United States of America",
          "United States of America",
          "Czech Republic",
          "Germany",
          "United Kingdom",
          "United States of America",
          "United States of America",
          "United States of America",
          "United States of America",
          "United States of America",
          "Australia",
          "United States of America",
          "Germany",
          "United States of America",
          "Denmark",
          "France",
          "New Zealand",
          "United Kingdom",
          "United States of America",
          "United States of America",
          "India",
          "United States of America",
          "United States of America",
          "United Kingdom",
          "United States of America",
          "Germany",
          "United Kingdom",
          "United States of America",
          "United States of America",
          "United States of America",
          "United States of America",
          "United States of America",
          "Germany",
          "United States of America",
          "United States of America",
          "United States of America",
          "United States of America",
          "Spain",
          "United States of America",
          "United States of America",
          "United States of America",
          "United States of America",
          "United States of America",
          "United Kingdom",
          "United States of America",
          "United States of America",
          "United Kingdom",
          "United States of America",
          "Canada",
          "United States of America",
          "United Kingdom",
          "Italy",
          "France",
          "Tunisia",
          "United States of America",
          "Philippines",
          "United States of America",
          "United Kingdom",
          "France",
          "United States of America",
          "United States of America",
          "United States of America",
          "India",
          "United States of America",
          "Australia",
          "United States of America",
          "United States of America",
          "United States of America",
          "United Kingdom",
          "United States of America",
          "United States of America",
          "United States of America",
          "United States of America",
          "United States of America",
          "United States of America",
          "United States of America",
          "France",
          "Italy",
          "United States of America",
          "United States of America",
          "United States of America",
          "United States of America",
          "United States of America",
          "United Kingdom",
          "United States of America",
          "United States of America",
          "United States of America",
          "United States of America",
          "United States of America",
          "United States of America",
          "Canada",
          "France",
          "Germany",
          "United States of America",
          "United Kingdom",
          "United States of America",
          "Germany",
          "United States of America",
          "United States of America",
          "Germany",
          "United States of America",
          "United States of America",
          "United States of America",
          "United States of America",
          "Australia",
          "Czech Republic",
          "France",
          "Italy",
          "United Kingdom",
          "Canada",
          "United States of America",
          "United States of America",
          "United States of America",
          "Iceland",
          "United States of America",
          "United Kingdom",
          "Spain",
          "Germany",
          "France",
          "United States of America",
          "Hong Kong",
          "Japan",
          "United States of America",
          "United States of America",
          "United States of America",
          "United States of America",
          "Hong Kong",
          "China",
          "United States of America",
          "France",
          "United States of America",
          "United States of America",
          "United States of America",
          "United Kingdom",
          "Germany",
          "United States of America",
          "United States of America",
          "United Kingdom",
          "United States of America",
          "United States of America",
          "United States of America",
          "United States of America",
          "United States of America",
          "United States of America",
          "United States of America",
          "United States of America",
          "Germany",
          "Czech Republic",
          "United Kingdom",
          "United States of America",
          "Germany",
          "United States of America",
          "United States of America",
          "United States of America",
          "United States of America",
          "United States of America",
          "United States of America",
          "United Kingdom",
          "United States of America",
          "Australia",
          "United States of America",
          "United States of America",
          "United States of America",
          "United States of America",
          "United States of America",
          "United States of America",
          "United States of America",
          "United States of America",
          "United States of America",
          "United States of America",
          "United States of America",
          "United States of America",
          "Germany",
          "Belgium",
          "United States of America",
          "United States of America",
          "Australia",
          "United States of America",
          "United States of America",
          "United Arab Emirates",
          "United States of America",
          "United States of America",
          "India",
          "France",
          "United Kingdom",
          "United States of America",
          "United States of America",
          "United States of America",
          "United States of America",
          "United States of America",
          "United States of America",
          "United States of America",
          "United States of America",
          "Canada",
          "United States of America",
          "United Kingdom",
          "United States of America",
          "United States of America",
          "Russia",
          "United States of America",
          "United States of America",
          "Bulgaria",
          "United States of America",
          "United Kingdom",
          "United States of America",
          "United States of America",
          "United States of America",
          "United States of America",
          "United States of America",
          "Ireland",
          "United Kingdom",
          "United States of America",
          "United States of America",
          "United States of America",
          "United States of America",
          "France",
          "United Kingdom",
          "United States of America",
          "Germany",
          "United States of America",
          "United States of America",
          "United States of America",
          "Spain",
          "United Kingdom",
          "United States of America",
          "United States of America",
          "United States of America",
          "United Kingdom",
          "United States of America",
          "Germany",
          "Japan",
          "New Zealand",
          "United Kingdom",
          "United States of America",
          "Australia",
          "United States of America",
          "United States of America",
          "United States of America",
          "United States of America",
          "United States of America",
          "United Kingdom",
          "United States of America",
          "United States of America",
          "United States of America",
          "United States of America",
          "United Kingdom",
          "United States of America",
          "Germany",
          "United States of America",
          "France",
          "Germany",
          "United States of America",
          "United Kingdom",
          "United States of America",
          "United States of America",
          "Switzerland",
          "United States of America",
          "United States of America",
          "United States of America",
          "United States of America",
          "United States of America",
          "Germany",
          "United Kingdom",
          "United States of America",
          "United States of America",
          "United States of America",
          "Hong Kong",
          "China",
          "United States of America",
          "United States of America",
          "United States of America",
          "Australia",
          "United States of America",
          "United States of America",
          "United States of America",
          "United States of America",
          "Germany",
          "United States of America",
          "United States of America",
          "United States of America",
          "Germany",
          "United States of America",
          "France",
          "Canada",
          "United States of America",
          "Germany",
          "United States of America",
          "United States of America",
          "United States of America",
          "United States of America",
          "United Arab Emirates",
          "United States of America",
          "United Kingdom",
          "United States of America",
          "France",
          "Canada",
          "United States of America",
          "United States of America",
          "United States of America",
          "United States of America",
          "United States of America",
          "United States of America",
          "United Kingdom",
          "United States of America",
          "United States of America",
          "United States of America",
          "United States of America",
          "United States of America",
          "United States of America",
          "United States of America",
          "United States of America",
          "United States of America",
          "United States of America",
          "United States of America",
          "United States of America",
          "United States of America",
          "United States of America",
          "Germany",
          "United States of America",
          "United States of America",
          "United States of America",
          "United States of America",
          "Hong Kong",
          "United States of America",
          "United States of America",
          "United States of America",
          "China",
          "United States of America",
          "United States of America",
          "United Kingdom",
          "United States of America",
          "United States of America",
          "Hungary",
          "France",
          "United Kingdom",
          "United States of America",
          "Germany",
          "United States of America",
          "United Kingdom",
          "United States of America",
          "United States of America",
          "United States of America",
          "United States of America",
          "United Kingdom",
          "United States of America",
          "United States of America",
          "United States of America",
          "United Kingdom",
          "United States of America",
          "United Kingdom",
          "United States of America",
          "United States of America",
          "United States of America",
          "United States of America",
          "United Kingdom",
          "France",
          "United States of America",
          "United Kingdom",
          "United States of America",
          "United States of America",
          "Germany",
          "United States of America",
          "United States of America",
          "Switzerland",
          "United States of America",
          "Italy",
          "United States of America",
          "United States of America",
          "United States of America",
          "United Kingdom",
          "United States of America",
          "United States of America",
          "United States of America",
          "Germany",
          "United States of America",
          "United States of America",
          "Australia",
          "United States of America",
          "United States of America",
          "United Kingdom",
          "United States of America",
          "United States of America",
          "United States of America",
          "United States of America",
          "United States of America",
          "United States of America",
          "United States of America",
          "United States of America",
          "Germany",
          "United Kingdom",
          "United States of America",
          "United States of America",
          "United States of America",
          "Canada",
          "United States of America",
          "United States of America",
          "United States of America",
          "France",
          "United States of America",
          "United Kingdom",
          "France",
          "United States of America",
          "Germany",
          "United States of America",
          "United States of America",
          "United States of America",
          "United States of America",
          "United States of America",
          "United States of America",
          "United States of America",
          "United States of America",
          "United States of America",
          "United States of America",
          "United States of America",
          "United States of America",
          "United States of America",
          "United States of America",
          "Germany",
          "United States of America",
          "United States of America",
          "United States of America",
          "United States of America",
          "United States of America",
          "United States of America",
          "United States of America",
          "United States of America",
          "United States of America",
          "United States of America",
          "United States of America",
          "United Kingdom",
          "United States of America",
          "Australia",
          "United States of America",
          "United States of America",
          "United States of America",
          "United States of America",
          "United States of America",
          "United States of America",
          "France",
          "United Kingdom",
          "United States of America",
          "United States of America",
          "Germany",
          "United Kingdom",
          "United States of America",
          "Hong Kong",
          "United States of America",
          "United States of America",
          "United States of America",
          "Australia",
          "United States of America",
          "United States of America",
          "Germany",
          "United States of America",
          "United States of America",
          "United States of America",
          "Malta",
          "Morocco",
          "United States of America",
          "Mexico",
          "United States of America",
          "United States of America",
          "Australia",
          "United States of America",
          "United States of America",
          "United States of America",
          "Canada",
          "France",
          "Japan",
          "United States of America",
          "United States of America",
          "Germany",
          "United States of America",
          "United States of America",
          "United States of America",
          "United States of America",
          "United States of America",
          "United Kingdom",
          "United States of America",
          "Germany",
          "France",
          "Canada",
          "France",
          "Germany",
          "Ireland",
          "United Kingdom",
          "United States of America",
          "United States of America",
          "United States of America",
          "United States of America",
          "United Kingdom",
          "United States of America",
          "United States of America",
          "Germany",
          "United States of America",
          "United States of America",
          "United States of America",
          "United States of America",
          "United States of America",
          "France",
          "United States of America",
          "United Kingdom",
          "Czech Republic",
          "France",
          "Italy",
          "United States of America",
          "United States of America",
          "United States of America",
          "United States of America",
          "Germany",
          "United Kingdom",
          "United States of America",
          "United States of America",
          "United States of America",
          "United States of America",
          "United States of America",
          "Germany",
          "United Kingdom",
          "United States of America",
          "United States of America",
          "United Kingdom",
          "United States of America",
          "Canada",
          "United States of America",
          "France",
          "United States of America",
          "Canada",
          "United States of America",
          "United States of America",
          "United States of America",
          "United States of America",
          "United States of America",
          "United Arab Emirates",
          "France",
          "United Kingdom",
          "United States of America",
          "United States of America",
          "United States of America",
          "United States of America",
          "United States of America",
          "United States of America",
          "United States of America",
          "Canada",
          "India",
          "Japan",
          "United States of America",
          "United States of America",
          "United States of America",
          "Germany",
          "United Kingdom",
          "France",
          "Germany",
          "United States of America",
          "United States of America",
          "France",
          "United Kingdom",
          "Mexico",
          "South Africa",
          "United States of America",
          "United States of America",
          "United States of America",
          "United States of America",
          "United Kingdom",
          "United States of America",
          "Czech Republic",
          "Romania",
          "Canada",
          "United States of America",
          "Germany",
          "United Kingdom",
          "United States of America",
          "United States of America",
          "United States of America",
          "United States of America",
          "France",
          "United States of America",
          "United States of America",
          "United States of America",
          "Canada",
          "India",
          "United States of America",
          "United States of America",
          "United States of America",
          "United States of America",
          "Germany",
          "United States of America",
          "United States of America",
          "United States of America",
          "United States of America",
          "United States of America",
          "United States of America",
          "United States of America",
          "United States of America",
          "United Kingdom",
          "South Korea",
          "United States of America",
          "United States of America",
          "France",
          "United States of America",
          "United States of America",
          "United States of America",
          "United States of America",
          "United States of America",
          "United States of America",
          "United States of America",
          "United States of America",
          "United States of America",
          "Germany",
          "United States of America",
          "Australia",
          "United States of America",
          "United States of America",
          "Canada",
          "United States of America",
          "United States of America",
          "United States of America",
          "Germany",
          "United States of America",
          "United States of America",
          "Brazil",
          "Peru",
          "United States of America",
          "United States of America",
          "United Kingdom",
          "United States of America",
          "United States of America",
          "Czech Republic",
          "United Kingdom",
          "Peru",
          "United States of America",
          "United States of America",
          "United States of America",
          "United States of America",
          "Australia",
          "France",
          "Germany",
          "United Kingdom",
          "United States of America",
          "United States of America",
          "United States of America",
          "United States of America",
          "Germany",
          "United States of America",
          "France",
          "United Kingdom",
          "United States of America",
          "United States of America",
          "United Kingdom",
          "United States of America",
          "United States of America",
          "Germany",
          "France",
          "United Kingdom",
          "Canada",
          "United States of America",
          "United States of America",
          "United States of America",
          "Australia",
          "United States of America",
          "United States of America",
          "Germany",
          "United Kingdom",
          "United States of America",
          "Canada",
          "United States of America",
          "Italy",
          "United States of America",
          "United States of America",
          "United States of America",
          "United States of America",
          "United States of America",
          "United Kingdom",
          "Hong Kong",
          "China",
          "United States of America",
          "United States of America",
          "United States of America",
          "United States of America",
          "United States of America",
          "United States of America",
          "United States of America",
          "United States of America",
          "United States of America",
          "United Kingdom",
          "United States of America",
          "United States of America",
          "France",
          "United Kingdom",
          "United States of America",
          "United States of America",
          "United States of America",
          "United States of America",
          "United States of America",
          "United States of America",
          "United Kingdom",
          "United States of America",
          "United Kingdom",
          "United States of America",
          "United States of America",
          "United States of America",
          "United Kingdom",
          "United States of America",
          "Switzerland",
          "United States of America",
          "United States of America",
          "United States of America",
          "United Kingdom",
          "United States of America",
          "Canada",
          "United States of America",
          "Germany",
          "United States of America",
          "United Kingdom",
          "United States of America",
          "France",
          "United States of America",
          "Germany",
          "China",
          "United States of America",
          "United States of America",
          "New Zealand",
          "South Korea",
          "France",
          "United States of America",
          "United States of America",
          "United States of America",
          "United States of America",
          "United States of America",
          "United States of America",
          "United States of America",
          "United States of America",
          "Canada",
          "United States of America",
          "United States of America",
          "France",
          "United States of America",
          "United States of America",
          "United States of America",
          "United States of America",
          "United States of America",
          "United States of America",
          "United States of America",
          "Canada",
          "United States of America",
          "United States of America",
          "Netherlands",
          "United States of America",
          "Germany",
          "United States of America",
          "United States of America",
          "United States of America",
          "United States of America",
          "United States of America",
          "United States of America",
          "United States of America",
          "United States of America",
          "United States of America",
          "United States of America",
          "United States of America",
          "United States of America",
          "United States of America",
          "United States of America",
          "United States of America",
          "United States of America",
          "United States of America",
          "United States of America",
          "United States of America",
          "United States of America",
          "Mexico",
          "United States of America",
          "United States of America",
          "United States of America",
          "United States of America",
          "India",
          "United States of America",
          "Germany",
          "United States of America",
          "United States of America",
          "United States of America",
          "United States of America",
          "United States of America",
          "United States of America",
          "United States of America",
          "France",
          "Germany",
          "United Kingdom",
          "United States of America",
          "United States of America",
          "Canada",
          "United States of America",
          "United States of America",
          "United Kingdom",
          "United States of America",
          "United States of America",
          "United States of America",
          "United States of America",
          "Germany",
          "United States of America",
          "United States of America",
          "United Kingdom",
          "United States of America",
          "United States of America",
          "United States of America",
          "United States of America",
          "United States of America",
          "United States of America",
          "United States of America",
          "United States of America",
          "United Kingdom",
          "United States of America",
          "United States of America",
          "United States of America",
          "United States of America",
          "United States of America",
          "Germany",
          "United States of America",
          "United States of America",
          "United States of America",
          "Germany",
          "United States of America",
          "United States of America",
          "United States of America",
          "United States of America",
          "United States of America",
          "Canada",
          "United States of America",
          "United States of America",
          "United States of America",
          "United States of America",
          "United Kingdom",
          "United States of America",
          "Germany",
          "Luxembourg",
          "United States of America",
          "United States of America",
          "United States of America",
          "Canada",
          "United States of America",
          "France",
          "United States of America",
          "United States of America",
          "Australia",
          "United States of America",
          "France",
          "United States of America",
          "France",
          "United States of America",
          "Japan",
          "United States of America",
          "United States of America",
          "Spain",
          "United States of America",
          "United States of America",
          "Canada",
          "United States of America",
          "France",
          "United States of America",
          "France",
          "Germany",
          "United Kingdom",
          "United States of America",
          "United Kingdom",
          "United States of America",
          "United States of America",
          "Germany",
          "Luxembourg",
          "United Kingdom",
          "United States of America",
          "United States of America",
          "Germany",
          "United States of America",
          "United States of America",
          "Germany",
          "United Kingdom",
          "United States of America",
          "United Kingdom",
          "United States of America",
          "United States of America",
          "France",
          "Spain",
          "United Kingdom",
          "United States of America",
          "Germany",
          "United Kingdom",
          "United States of America",
          "United States of America",
          "United States of America",
          "South Korea",
          "France",
          "Czech Republic",
          "United States of America",
          "United States of America",
          "India",
          "United States of America",
          "United States of America",
          "United States of America",
          "United States of America",
          "Germany",
          "United States of America",
          "United Kingdom",
          "United States of America",
          "United States of America",
          "China",
          "United States of America",
          "United States of America",
          "United States of America",
          "United States of America",
          "China",
          "Hong Kong",
          "United States of America",
          "United States of America",
          "United States of America",
          "United States of America",
          "United States of America",
          "France",
          "Portugal",
          "Spain",
          "United States of America",
          "United States of America",
          "United States of America",
          "United States of America",
          "United States of America",
          "United States of America",
          "United States of America",
          "United States of America",
          "United States of America",
          "Luxembourg",
          "Italy",
          "France",
          "United Kingdom",
          "Germany",
          "United States of America",
          "United States of America",
          "United States of America",
          "United States of America",
          "United States of America",
          "United States of America",
          "United Kingdom",
          "France",
          "United States of America",
          "Germany",
          "United Kingdom",
          "United States of America",
          "United States of America",
          "United States of America",
          "United States of America",
          "United States of America",
          "United States of America",
          "Germany",
          "United States of America",
          "United States of America",
          "Russia",
          "United States of America",
          "Germany",
          "United Kingdom",
          "United States of America",
          "United States of America",
          "United States of America",
          "United States of America",
          "Germany",
          "United States of America",
          "United States of America",
          "United States of America",
          "Hungary",
          "Italy",
          "United States of America",
          "United States of America",
          "United States of America",
          "Germany",
          "United States of America",
          "Hong Kong",
          "United States of America",
          "United Kingdom",
          "United States of America",
          "United States of America",
          "United States of America",
          "United States of America",
          "United States of America",
          "United States of America",
          "United States of America",
          "United States of America",
          "United States of America",
          "United States of America",
          "United States of America",
          "United States of America",
          "United States of America",
          "United Kingdom",
          "United States of America",
          "United States of America",
          "United States of America",
          "United States of America",
          "United States of America",
          "Germany",
          "United States of America",
          "United States of America",
          "United States of America",
          "United States of America",
          "United States of America",
          "United States of America",
          "Australia",
          "United Kingdom",
          "United States of America",
          "United States of America",
          "United States of America",
          "United States of America",
          "United States of America",
          "Australia",
          "United States of America",
          "United States of America",
          "United States of America",
          "France",
          "Germany",
          "United Kingdom",
          "United States of America",
          "United States of America",
          "United States of America",
          "Canada",
          "United States of America",
          "United States of America",
          "United States of America",
          "United States of America",
          "Japan",
          "United States of America",
          "France",
          "Germany",
          "Poland",
          "United Kingdom",
          "United States of America",
          "United States of America",
          "United States of America",
          "Romania",
          "United States of America",
          "Australia",
          "United States of America",
          "United States of America",
          "United States of America",
          "United States of America",
          "United States of America",
          "United States of America",
          "United States of America",
          "United States of America",
          "United States of America",
          "United States of America",
          "United Kingdom",
          "France",
          "Canada",
          "United States of America",
          "Ireland",
          "United Kingdom",
          "Australia",
          "United States of America",
          "United Kingdom",
          "United States of America",
          "United Kingdom",
          "United States of America",
          "United States of America",
          "Germany",
          "United States of America",
          "United States of America",
          "United States of America",
          "United Kingdom",
          "United States of America",
          "United States of America",
          "France",
          "United Kingdom",
          "United Arab Emirates",
          "United States of America",
          "Spain",
          "United Kingdom",
          "Italy",
          "United States of America",
          "United States of America",
          "United States of America",
          "United States of America",
          "United Kingdom",
          "United States of America",
          "Canada",
          "France",
          "United States of America",
          "United States of America",
          "United States of America",
          "Germany",
          "United States of America",
          "Canada",
          "Germany",
          "United States of America",
          "United States of America",
          "United States of America",
          "United States of America",
          "United States of America",
          "Switzerland",
          "France",
          "France",
          "United States of America",
          "Mexico",
          "Spain",
          "United States of America",
          "France",
          "Mexico",
          "United States of America",
          "United States of America",
          "United States of America",
          "United States of America",
          "United States of America",
          "United States of America",
          "Japan",
          "United States of America",
          "United States of America",
          "United Kingdom",
          "South Africa",
          "United States of America",
          "United States of America",
          "Canada",
          "United States of America",
          "Germany",
          "United States of America",
          "United States of America",
          "Russia",
          "United States of America",
          "United States of America",
          "Germany",
          "United States of America",
          "United Kingdom",
          "United States of America",
          "United States of America",
          "United States of America",
          "Germany",
          "United Kingdom",
          "United States of America",
          "South Africa",
          "Germany",
          "United States of America",
          "United States of America",
          "United States of America",
          "Germany",
          "United States of America",
          "United States of America",
          "United States of America",
          "United States of America",
          "United States of America",
          "United States of America",
          "United States of America",
          "United States of America",
          "United States of America",
          "United States of America",
          "Canada",
          "United States of America",
          "United States of America",
          "Germany",
          "United States of America",
          "Canada",
          "France",
          "United States of America",
          "United States of America",
          "Canada",
          "Germany",
          "France",
          "United States of America",
          "Japan",
          "United States of America",
          "Germany",
          "Ireland",
          "United Kingdom",
          "Canada",
          "United States of America",
          "South Korea",
          "United States of America",
          "United States of America",
          "United States of America",
          "United States of America",
          "United States of America",
          "United States of America",
          "United Kingdom",
          "United States of America",
          "United States of America",
          "United States of America",
          "France",
          "United Kingdom",
          "United States of America",
          "United Kingdom",
          "United States of America",
          "Germany",
          "Australia",
          "United States of America",
          "United States of America",
          "United States of America",
          "United States of America",
          "United States of America",
          "United States of America",
          "United States of America",
          "United States of America",
          "United States of America",
          "United States of America",
          "United States of America",
          "United States of America",
          "United States of America",
          "United States of America",
          "United States of America",
          "Germany",
          "United States of America",
          "United States of America",
          "United States of America",
          "United States of America",
          "United States of America",
          "United States of America",
          "United States of America",
          "New Zealand",
          "Canada",
          "South Africa",
          "United States of America",
          "United States of America",
          "United States of America",
          "Australia",
          "United States of America",
          "United States of America",
          "United States of America",
          "United States of America",
          "Germany",
          "United States of America",
          "United States of America",
          "United States of America",
          "United States of America",
          "United States of America",
          "Canada",
          "China",
          "United States of America",
          "Australia",
          "United States of America",
          "United States of America",
          "United States of America",
          "United States of America",
          "United States of America",
          "United States of America",
          "United States of America",
          "United States of America",
          "Spain",
          "United States of America",
          "United States of America",
          "United States of America",
          "United States of America",
          "United States of America",
          "France",
          "Iceland",
          "United Kingdom",
          "United States of America",
          "United Kingdom",
          "United States of America",
          "United States of America",
          "United States of America",
          "South Africa",
          "United Kingdom",
          "France",
          "United States of America",
          "United States of America",
          "United States of America",
          "United States of America",
          "United States of America",
          "United States of America",
          "United States of America",
          "United States of America",
          "United States of America",
          "United States of America",
          "Germany",
          "United States of America",
          "United States of America",
          "New Zealand",
          "United States of America",
          "United States of America",
          "United States of America",
          "United States of America",
          "United States of America",
          "United States of America",
          "Germany",
          "United Kingdom",
          "United States of America",
          "United States of America",
          "United States of America",
          "United States of America",
          "United States of America",
          "United States of America",
          "United States of America",
          "United States of America",
          "United States of America",
          "United States of America",
          "United States of America",
          "United States of America",
          "United States of America",
          "United States of America",
          "United States of America",
          "Australia",
          "United States of America",
          "United States of America",
          "United States of America",
          "United States of America",
          "France",
          "United States of America",
          "United States of America",
          "France",
          "United States of America",
          "United States of America",
          "United States of America",
          "United States of America",
          "United States of America",
          "United States of America",
          "United States of America",
          "United States of America",
          "Germany",
          "Germany",
          "United States of America",
          "United States of America",
          "United States of America",
          "United Kingdom",
          "United States of America",
          "United States of America",
          "Canada",
          "United States of America",
          "United Kingdom",
          "United States of America",
          "United States of America",
          "United States of America",
          "Germany",
          "Canada",
          "France",
          "United Kingdom",
          "Canada",
          "Italy",
          "United States of America",
          "Canada",
          "United States of America",
          "United States of America",
          "United States of America",
          "United States of America",
          "United Kingdom",
          "United States of America",
          "Germany",
          "United Kingdom",
          "United States of America",
          "Canada",
          "United Kingdom",
          "United States of America",
          "China",
          "Hong Kong",
          "United States of America",
          "Canada",
          "United States of America",
          "United States of America",
          "Germany",
          "United States of America",
          "United States of America",
          "United States of America",
          "Germany",
          "United States of America",
          "United States of America",
          "Romania",
          "United States of America",
          "Germany",
          "United States of America",
          "United States of America",
          "United States of America",
          "United States of America",
          "United States of America",
          "Canada",
          "Germany",
          "United States of America",
          "United Kingdom",
          "United States of America",
          "United States of America",
          "United States of America",
          "United States of America",
          "United States of America",
          "United States of America",
          "United States of America",
          "United States of America",
          "Japan",
          "United States of America",
          "United States of America",
          "United States of America",
          "United Kingdom",
          "United States of America",
          "United States of America",
          "Japan",
          "United States of America",
          "Germany",
          "United States of America",
          "United States of America",
          "United States of America",
          "Australia",
          "United States of America",
          "United Kingdom",
          "United States of America",
          "United States of America",
          "Germany",
          "Canada",
          "United States of America",
          "United States of America",
          "France",
          "United Kingdom",
          "United States of America",
          "United States of America",
          "Hong Kong",
          "United Kingdom",
          "United Kingdom",
          "United States of America",
          "France",
          "United States of America",
          "United States of America",
          "Switzerland",
          "Germany",
          "Spain",
          "France",
          "Italy",
          "United States of America",
          "Canada",
          "United States of America",
          "United States of America",
          "United States of America",
          "United States of America",
          "United States of America",
          "United States of America",
          "United States of America",
          "United Kingdom",
          "United States of America",
          "United Kingdom",
          "Spain",
          "Canada",
          "France",
          "United Kingdom",
          "United States of America",
          "United States of America",
          "United States of America",
          "United States of America",
          "United Kingdom",
          "United States of America",
          "United Kingdom",
          "United States of America",
          "United States of America",
          "United States of America",
          "United States of America",
          "United States of America",
          "United Kingdom",
          "United States of America",
          "United States of America",
          "Germany",
          "United States of America",
          "United States of America",
          "United Kingdom",
          "Germany",
          "Germany",
          "United States of America",
          "Australia",
          "United States of America",
          "United Kingdom",
          "United States of America",
          "United States of America",
          "Canada",
          "United States of America",
          "Germany",
          "United Kingdom",
          "United States of America",
          "United States of America",
          "United States of America",
          "Canada",
          "United Kingdom",
          "United States of America",
          "Finland",
          "Netherlands",
          "United Kingdom",
          "United States of America",
          "United States of America",
          "United States of America",
          "United States of America",
          "United States of America",
          "United States of America",
          "United States of America",
          "United States of America",
          "United States of America",
          "United States of America",
          "United States of America",
          "United States of America",
          "United Kingdom",
          "United States of America",
          "United States of America",
          "United States of America",
          "France",
          "United Kingdom",
          "United States of America",
          "United States of America",
          "United States of America",
          "United States of America",
          "United States of America",
          "United States of America",
          "United States of America",
          "France",
          "United States of America",
          "Hungary",
          "Serbia",
          "Spain",
          "United States of America",
          "Germany",
          "United States of America",
          "Canada",
          "France",
          "United Kingdom",
          "United States of America",
          "United States of America",
          "China",
          "Germany",
          "United Kingdom",
          "United States of America",
          "United States of America",
          "United States of America",
          "United States of America",
          "United States of America",
          "Germany",
          "United States of America",
          "France",
          "United Kingdom",
          "United States of America",
          "United States of America",
          "United States of America",
          "United States of America",
          "India",
          "United Arab Emirates",
          "United States of America",
          "Belgium",
          "United States of America",
          "United States of America",
          "Canada",
          "Italy",
          "United States of America",
          "United States of America",
          "United States of America",
          "Hong Kong",
          "United States of America",
          "United States of America",
          "United States of America",
          "United States of America",
          "France",
          "Ireland",
          "United Kingdom",
          "United States of America",
          "United Kingdom",
          "United States of America",
          "United States of America",
          "United States of America",
          "United States of America",
          "United States of America",
          "United States of America",
          "United Kingdom",
          "United States of America",
          "Canada",
          "Germany",
          "United States of America",
          "United States of America",
          "United States of America",
          "United Kingdom",
          "United States of America",
          "Canada",
          "United States of America",
          "United States of America",
          "United States of America",
          "United States of America",
          "Canada",
          "United States of America",
          "France",
          "United Kingdom",
          "United States of America",
          "United States of America",
          "France",
          "China",
          "United Kingdom",
          "Italy",
          "United States of America",
          "United Kingdom",
          "France",
          "United States of America",
          "United States of America",
          "United States of America",
          "France",
          "United States of America",
          "United States of America",
          "United States of America",
          "United States of America",
          "United States of America",
          "United States of America",
          "Canada",
          "United States of America",
          "United States of America",
          "United States of America",
          "United States of America",
          "United Kingdom",
          "France",
          "Germany",
          "United States of America",
          "France",
          "United States of America",
          "United States of America",
          "United States of America",
          "Canada",
          "United States of America",
          "Japan",
          "United States of America",
          "United Kingdom",
          "United States of America",
          "United States of America",
          "Australia",
          "United States of America",
          "United States of America",
          "United States of America",
          "United States of America",
          "United States of America",
          "Canada",
          "United States of America",
          "Germany",
          "United Kingdom",
          "United States of America",
          "United States of America",
          "United States of America",
          "United States of America",
          "United States of America",
          "United States of America",
          "Australia",
          "Mexico",
          "United States of America",
          "Canada",
          "United States of America",
          "United States of America",
          "United States of America",
          "United States of America",
          "United States of America",
          "United States of America",
          "United States of America",
          "United States of America",
          "United Kingdom",
          "United States of America",
          "France",
          "United States of America",
          "United States of America",
          "Ireland",
          "United States of America",
          "United States of America",
          "United States of America",
          "Germany",
          "United States of America",
          "United States of America",
          "Chile",
          "United States of America",
          "United States of America",
          "Ireland",
          "United Kingdom",
          "United States of America",
          "United States of America",
          "Australia",
          "United States of America",
          "United States of America",
          "United States of America",
          "Canada",
          "United States of America",
          "United States of America",
          "United States of America",
          "United States of America",
          "United States of America",
          "Brazil",
          "Canada",
          "Japan",
          "United States of America",
          "Spain",
          "France",
          "Germany",
          "Poland",
          "United States of America",
          "United States of America",
          "United States of America",
          "Italy",
          "United States of America",
          "France",
          "United States of America",
          "Russia",
          "United Kingdom",
          "United States of America",
          "Italy",
          "Russia",
          "United Kingdom",
          "United States of America",
          "Brazil",
          "France",
          "United Kingdom",
          "United States of America",
          "United States of America",
          "United States of America",
          "United States of America",
          "United States of America",
          "United States of America",
          "Canada",
          "United States of America",
          "United States of America",
          "United States of America",
          "United States of America",
          "United States of America",
          "United States of America",
          "United States of America",
          "United Kingdom",
          "United States of America",
          "United States of America",
          "United States of America",
          "United States of America",
          "United States of America",
          "United States of America",
          "United States of America",
          "United States of America",
          "United Kingdom",
          "United States of America",
          "Japan",
          "United States of America",
          "United States of America",
          "United States of America",
          "United States of America",
          "United States of America",
          "United States of America",
          "United States of America",
          "United States of America",
          "China",
          "United States of America",
          "United States of America",
          "Belgium",
          "United Kingdom",
          "Spain",
          "United States of America",
          "Ireland",
          "United States of America",
          "United States of America",
          "United States of America",
          "United Kingdom",
          "United States of America",
          "United States of America",
          "Germany",
          "United Kingdom",
          "France",
          "United Kingdom",
          "United States of America",
          "China",
          "United States of America",
          "United States of America",
          "Australia",
          "United States of America",
          "United States of America",
          "United States of America",
          "United States of America",
          "United States of America",
          "United States of America",
          "United States of America",
          "United States of America",
          "India",
          "United Kingdom",
          "India",
          "United States of America",
          "United Arab Emirates",
          "United States of America",
          "United States of America",
          "United States of America",
          "Germany",
          "Hungary",
          "United Kingdom",
          "United States of America",
          "United Kingdom",
          "United States of America",
          "United States of America",
          "United States of America",
          "United States of America",
          "France",
          "United Kingdom",
          "United States of America",
          "United States of America",
          "United States of America",
          "United States of America",
          "United States of America",
          "United States of America",
          "Germany",
          "Netherlands",
          "United States of America",
          "United States of America",
          "Belgium",
          "China",
          "France",
          "Netherlands",
          "Germany",
          "United Kingdom",
          "Belgium",
          "France",
          "Germany",
          "Japan",
          "Norway",
          "Romania",
          "United Kingdom",
          "United States of America",
          "United States of America",
          "France",
          "Sweden",
          "United Kingdom",
          "United States of America",
          "United States of America",
          "United States of America",
          "United States of America",
          "Argentina",
          "Spain",
          "Italy",
          "Spain",
          "United States of America",
          "United States of America",
          "United Kingdom",
          "Hong Kong",
          "United States of America",
          "Germany",
          "United States of America",
          "United States of America",
          "Germany",
          "United States of America",
          "United States of America",
          "United States of America",
          "France",
          "United States of America",
          "United States of America",
          "United States of America",
          "United States of America",
          "United States of America",
          "United Arab Emirates",
          "United States of America",
          "United States of America",
          "Canada",
          "France",
          "United Kingdom",
          "United States of America",
          "United States of America",
          "United States of America",
          "United States of America",
          "United States of America",
          "United States of America",
          "United States of America",
          "United States of America",
          "United States of America",
          "Romania",
          "United States of America",
          "United States of America",
          "United States of America",
          "United States of America",
          "United States of America",
          "Germany",
          "United States of America",
          "United States of America",
          "United States of America",
          "United States of America",
          "United States of America",
          "United Kingdom",
          "United States of America",
          "United States of America",
          "United States of America",
          "United States of America",
          "United States of America",
          "United States of America",
          "Switzerland",
          "United States of America",
          "Australia",
          "Canada",
          "United States of America",
          "United Kingdom",
          "United States of America",
          "Australia",
          "United States of America",
          "United States of America",
          "United States of America",
          "United States of America",
          "Canada",
          "France",
          "Germany",
          "United States of America",
          "United States of America",
          "United States of America",
          "Canada",
          "United States of America",
          "United States of America",
          "United States of America",
          "United States of America",
          "United States of America",
          "United States of America",
          "United Kingdom",
          "United States of America",
          "United States of America",
          "United States of America",
          "France",
          "Japan",
          "Mexico",
          "United States of America",
          "United States of America",
          "United States of America",
          "Germany",
          "United States of America",
          "United States of America",
          "United States of America",
          "United States of America",
          "United States of America",
          "United States of America",
          "Australia",
          "United States of America",
          "United States of America",
          "United States of America",
          "United States of America",
          "United Kingdom",
          "United States of America",
          "Australia",
          "United Kingdom",
          "United States of America",
          "United States of America",
          "United States of America",
          "United States of America",
          "United Kingdom",
          "United States of America",
          "Australia",
          "United States of America",
          "Hungary",
          "United States of America",
          "United States of America",
          "United States of America",
          "India",
          "United States of America",
          "United Arab Emirates",
          "United States of America",
          "United States of America",
          "United States of America",
          "United States of America",
          "United States of America",
          "United States of America",
          "United States of America",
          "United States of America",
          "United States of America",
          "United States of America",
          "United States of America",
          "United States of America",
          "United States of America",
          "France",
          "Canada",
          "United States of America",
          "United States of America",
          "China",
          "Hong Kong",
          "China",
          "United States of America",
          "United States of America",
          "United States of America",
          "United States of America",
          "United States of America",
          "United States of America",
          "Spain",
          "United Kingdom",
          "United States of America",
          "United States of America",
          "United States of America",
          "United States of America",
          "United States of America",
          "France",
          "United States of America",
          "United States of America",
          "United States of America",
          "Germany",
          "United States of America",
          "United States of America",
          "United States of America",
          "United Kingdom",
          "United States of America",
          "United States of America",
          "United States of America",
          "United States of America",
          "United States of America",
          "Germany",
          "United Kingdom",
          "United States of America",
          "United States of America",
          "United States of America",
          "United States of America",
          "United States of America",
          "United States of America",
          "United States of America",
          "United States of America",
          "United States of America",
          "United States of America",
          "Mexico",
          "United States of America",
          "Switzerland",
          "United Kingdom",
          "Germany",
          "Canada",
          "United States of America",
          "Canada",
          "Germany",
          "United States of America",
          "United States of America",
          "United Arab Emirates",
          "United States of America",
          "United States of America",
          "United States of America",
          "United States of America",
          "Japan",
          "Australia",
          "United Kingdom",
          "United States of America",
          "United States of America",
          "Australia",
          "China",
          "Germany",
          "France",
          "United States of America",
          "United States of America",
          "Hong Kong",
          "United States of America",
          "United States of America",
          "Canada",
          "Spain",
          "United States of America",
          "United Kingdom",
          "United States of America",
          "United States of America",
          "United States of America",
          "Canada",
          "United States of America",
          "United States of America",
          "United States of America",
          "United Kingdom",
          "United States of America",
          "United States of America",
          "United States of America",
          "Germany",
          "United States of America",
          "Netherlands",
          "Belgium",
          "United States of America",
          "Japan",
          "United States of America",
          "United Kingdom",
          "Germany",
          "United States of America",
          "United States of America",
          "Ireland",
          "United States of America",
          "United States of America",
          "United States of America",
          "Germany",
          "United States of America",
          "United States of America",
          "United States of America",
          "United States of America",
          "Canada",
          "France",
          "United States of America",
          "United States of America",
          "United States of America",
          "United States of America",
          "United States of America",
          "United States of America",
          "United States of America",
          "United States of America",
          "United States of America",
          "United States of America",
          "United States of America",
          "United States of America",
          "United States of America",
          "Germany",
          "United States of America",
          "Germany",
          "United States of America",
          "Canada",
          "United States of America",
          "United States of America",
          "United States of America",
          "United States of America",
          "United States of America",
          "United States of America",
          "Germany",
          "United Kingdom",
          "United States of America",
          "United States of America",
          "United States of America",
          "United States of America",
          "France",
          "United Kingdom",
          "United States of America",
          "United States of America",
          "United States of America",
          "United States of America",
          "United States of America",
          "United States of America",
          "United States of America",
          "United States of America",
          "Canada",
          "United Kingdom",
          "United States of America",
          "United Kingdom",
          "United States of America",
          "United States of America",
          "United States of America",
          "United States of America",
          "United States of America",
          "United States of America",
          "Ireland",
          "United States of America",
          "United States of America",
          "Bulgaria",
          "United States of America",
          "France",
          "United States of America",
          "United States of America",
          "United States of America",
          "United Kingdom",
          "United States of America",
          "United States of America",
          "Russia",
          "Germany",
          "Kazakhstan",
          "United Kingdom",
          "Australia",
          "United States of America",
          "Australia",
          "United Kingdom",
          "United States of America",
          "Canada",
          "United States of America",
          "United States of America",
          "Germany",
          "United States of America",
          "France",
          "Germany",
          "United States of America",
          "Japan",
          "France",
          "United Kingdom",
          "Luxembourg",
          "Netherlands",
          "United States of America",
          "Spain",
          "United States of America",
          "United States of America",
          "United States of America",
          "United States of America",
          "United States of America",
          "Canada",
          "United Kingdom",
          "United States of America",
          "Italy",
          "South Africa",
          "France",
          "United States of America",
          "United States of America",
          "United States of America",
          "United Kingdom",
          "United States of America",
          "United States of America",
          "United States of America",
          "United States of America",
          "United States of America",
          "United States of America",
          "United States of America",
          "United States of America",
          "France",
          "United Kingdom",
          "United States of America",
          "Canada",
          "United States of America",
          "United States of America",
          "United States of America",
          "France",
          "United States of America",
          "United States of America",
          "United States of America",
          "United States of America",
          "United States of America",
          "United States of America",
          "United States of America",
          "United States of America",
          "Greece",
          "United States of America",
          "United States of America",
          "United Kingdom",
          "United States of America",
          "Germany",
          "United States of America",
          "Czech Republic",
          "United States of America",
          "United States of America",
          "Ireland",
          "United Kingdom",
          "United States of America",
          "Belgium",
          "France",
          "Spain",
          "Germany",
          "United States of America",
          "France",
          "United States of America",
          "United States of America",
          "United States of America",
          "United States of America",
          "United Kingdom",
          "United States of America",
          "United Kingdom",
          "United States of America",
          "United States of America",
          "United States of America",
          "United States of America",
          "United States of America",
          "United States of America",
          "United States of America",
          "United States of America",
          "Belgium",
          "France",
          "United States of America",
          "United States of America",
          "United States of America",
          "Spain",
          "United States of America",
          "Mexico",
          "United States of America",
          "United States of America",
          "United States of America",
          "United States of America",
          "United Kingdom",
          "United States of America",
          "United States of America",
          "Spain",
          "United States of America",
          "United States of America",
          "United States of America",
          "United States of America",
          "United States of America",
          "United States of America",
          "United States of America",
          "United States of America",
          "United Kingdom",
          "United States of America",
          "United States of America",
          "United States of America",
          "United States of America",
          "United Kingdom",
          "France",
          "United States of America",
          "France",
          "Canada",
          "France",
          "Germany",
          "Italy",
          "United Kingdom",
          "United States of America",
          "France",
          "United States of America",
          "United States of America",
          "United States of America",
          "United States of America",
          "United States of America",
          "United States of America",
          "China",
          "Hong Kong",
          "Taiwan",
          "United States of America",
          "United States of America",
          "United Kingdom",
          "United States of America",
          "United States of America",
          "United States of America",
          "South Korea",
          "United Kingdom",
          "United States of America",
          "United Kingdom",
          "United States of America",
          "Spain",
          "Canada",
          "United States of America",
          "United States of America",
          "France",
          "Italy",
          "United Kingdom",
          "United States of America",
          "United States of America",
          "United States of America",
          "Canada",
          "Sweden",
          "United Kingdom",
          "United States of America",
          "United States of America",
          "United Kingdom",
          "United States of America",
          "United States of America",
          "United States of America",
          "United States of America",
          "United Arab Emirates",
          "United States of America",
          "United States of America",
          "United States of America",
          "United States of America",
          "United States of America",
          "Canada",
          "United States of America",
          "United Kingdom",
          "United States of America",
          "United Kingdom",
          "United States of America",
          "United States of America",
          "United States of America",
          "United States of America",
          "United States of America",
          "United States of America",
          "United States of America",
          "United States of America",
          "Germany",
          "United States of America",
          "United States of America",
          "Spain",
          "United Kingdom",
          "United States of America",
          "United States of America",
          "United States of America",
          "United States of America",
          "United States of America",
          "United States of America",
          "Ireland",
          "Luxembourg",
          "Russia",
          "United Kingdom",
          "United States of America",
          "United Kingdom",
          "United States of America",
          "United States of America",
          "United Kingdom",
          "United States of America",
          "Canada",
          "United States of America",
          "United States of America",
          "United States of America",
          "United States of America",
          "Australia",
          "United States of America",
          "United States of America",
          "United Kingdom",
          "United States of America",
          "United States of America",
          "United States of America",
          "United States of America",
          "United Kingdom",
          "United States of America",
          "Germany",
          "United States of America",
          "United States of America",
          "United Kingdom",
          "United States of America",
          "United States of America",
          "United States of America",
          "Hong Kong",
          "United States of America",
          "United States of America",
          "United States of America",
          "United Kingdom",
          "United States of America",
          "United States of America",
          "Germany",
          "United Kingdom",
          "United States of America",
          "France",
          "United Kingdom",
          "Pakistan",
          "United States of America",
          "United States of America",
          "Germany",
          "United States of America",
          "United Kingdom",
          "United States of America",
          "United States of America",
          "United States of America",
          "United Arab Emirates",
          "United States of America",
          "France",
          "United States of America",
          "United States of America",
          "United States of America",
          "France",
          "United States of America",
          "United States of America",
          "France",
          "United States of America",
          "United Kingdom",
          "United States of America",
          "Germany",
          "Spain",
          "United Kingdom",
          "Lithuania",
          "Austria",
          "France",
          "Germany",
          "Italy",
          "United Kingdom",
          "United States of America",
          "Germany",
          "France",
          "United States of America",
          "China",
          "France",
          "Hong Kong",
          "Taiwan",
          "Thailand",
          "France",
          "United Kingdom",
          "Canada",
          "United Kingdom",
          "United States of America",
          "Austria",
          "Hungary",
          "Germany",
          "United Kingdom",
          "United States of America",
          "South Africa",
          "United States of America",
          "United States of America",
          "United States of America",
          "France",
          "United States of America",
          "Denmark",
          "France",
          "Germany",
          "Italy",
          "Netherlands",
          "Sweden",
          "United Kingdom",
          "India",
          "United Kingdom",
          "United States of America",
          "United States of America",
          "United States of America",
          "Australia",
          "United States of America",
          "United States of America",
          "United States of America",
          "United States of America",
          "United States of America",
          "United Kingdom",
          "United States of America",
          "Canada",
          "France",
          "United States of America",
          "United States of America",
          "France",
          "United Kingdom",
          "United States of America",
          "United States of America",
          "United States of America",
          "United States of America",
          "United States of America",
          "United States of America",
          "United Kingdom",
          "Italy",
          "India",
          "United States of America",
          "United States of America",
          "United States of America",
          "United States of America",
          "France",
          "United States of America",
          "United States of America",
          "United States of America",
          "France",
          "United Kingdom",
          "United States of America",
          "South Africa",
          "United States of America",
          "United Kingdom",
          "United States of America",
          "United States of America",
          "Canada",
          "United States of America",
          "United States of America",
          "United States of America",
          "Germany",
          "United Kingdom",
          "United States of America",
          "United Kingdom",
          "Austria",
          "Germany",
          "Italy",
          "Spain",
          "France",
          "Italy",
          "United Kingdom",
          "Switzerland",
          "United States of America",
          "United States of America",
          "United States of America",
          "United States of America",
          "United States of America",
          "United States of America",
          "United States of America",
          "United States of America",
          "United States of America",
          "United States of America",
          "United States of America",
          "United States of America",
          "United States of America",
          "United States of America",
          "Canada",
          "United States of America",
          "United States of America",
          "United States of America",
          "United States of America",
          "United States of America",
          "United States of America",
          "United Kingdom",
          "United States of America",
          "United States of America",
          "United States of America",
          "Japan",
          "United States of America",
          "United States of America",
          "United States of America",
          "Canada",
          "Ireland",
          "United States of America",
          "Canada",
          "France",
          "United States of America",
          "United States of America",
          "United States of America",
          "France",
          "United States of America",
          "France",
          "United States of America",
          "Canada",
          "United States of America",
          "Germany",
          "United States of America",
          "United States of America",
          "United States of America",
          "United States of America",
          "United States of America",
          "United Kingdom",
          "United States of America",
          "United States of America",
          "Australia",
          "United States of America",
          "United States of America",
          "Canada",
          "France",
          "United States of America",
          "United States of America",
          "United States of America",
          "United States of America",
          "United States of America",
          "United States of America",
          "United Kingdom",
          "United States of America",
          "Argentina",
          "Denmark",
          "Finland",
          "France",
          "Germany",
          "Iceland",
          "Italy",
          "Netherlands",
          "Norway",
          "Sweden",
          "United Kingdom",
          "United States of America",
          "United States of America",
          "United States of America",
          "United States of America",
          "Canada",
          "Ireland",
          "United States of America",
          "South Korea",
          "United States of America",
          "United States of America",
          "United States of America",
          "United States of America",
          "Belgium",
          "France",
          "Luxembourg",
          "United States of America",
          "United States of America",
          "United States of America",
          "United States of America",
          "United States of America",
          "United States of America",
          "United States of America",
          "United States of America",
          "United States of America",
          "United States of America",
          "United States of America",
          "United States of America",
          "United Kingdom",
          "United States of America",
          "United Kingdom",
          "United States of America",
          "United States of America",
          "United States of America",
          "United States of America",
          "United States of America",
          "United States of America",
          "United States of America",
          "United States of America",
          "United States of America",
          "Mexico",
          "United States of America",
          "Canada",
          "United States of America",
          "United States of America",
          "United States of America",
          "United States of America",
          "United States of America",
          "United States of America",
          "United Kingdom",
          "Australia",
          "United States of America",
          "United States of America",
          "United States of America",
          "United States of America",
          "United States of America",
          "United States of America",
          "United States of America",
          "United States of America",
          "United States of America",
          "United States of America",
          "United Kingdom",
          "Luxembourg",
          "Germany",
          "United Kingdom",
          "China",
          "Hong Kong",
          "United States of America",
          "United States of America",
          "Australia",
          "United States of America",
          "United States of America",
          "United States of America",
          "United States of America",
          "United States of America",
          "Australia",
          "United States of America",
          "France",
          "United States of America",
          "South Korea",
          "Italy",
          "United States of America",
          "Germany",
          "Hong Kong",
          "China",
          "France",
          "Italy",
          "Ireland",
          "United States of America",
          "United Kingdom",
          "Japan",
          "United States of America",
          "China",
          "Hong Kong",
          "Japan",
          "United States of America",
          "United States of America",
          "United Kingdom",
          "United States of America",
          "United States of America",
          "United States of America",
          "United States of America",
          "United States of America",
          "Italy",
          "United States of America",
          "United States of America",
          "United States of America",
          "United States of America",
          "United States of America",
          "United States of America",
          "United States of America",
          "United States of America",
          "United States of America",
          "United Kingdom",
          "United States of America",
          "Australia",
          "Canada",
          "United Kingdom",
          "United States of America",
          "United States of America",
          "United States of America",
          "United States of America",
          "United States of America",
          "United States of America",
          "United States of America",
          "Canada",
          "Ireland",
          "United Kingdom",
          "United States of America",
          "United States of America",
          "United States of America",
          "United Kingdom",
          "United States of America",
          "Germany",
          "Italy",
          "United States of America",
          "United Kingdom",
          "United States of America",
          "Canada",
          "United States of America",
          "United States of America",
          "Canada",
          "United Kingdom",
          "United States of America",
          "United States of America",
          "France",
          "United Kingdom",
          "United States of America",
          "Fiji",
          "United States of America",
          "United States of America",
          "United States of America",
          "India",
          "United Kingdom",
          "United States of America",
          "United States of America",
          "United Kingdom",
          "United States of America",
          "United States of America",
          "United States of America",
          "Mexico",
          "Canada",
          "United States of America",
          "United States of America",
          "United States of America",
          "United States of America",
          "France",
          "United States of America",
          "United States of America",
          "United States of America",
          "Canada",
          "United Kingdom",
          "United States of America",
          "United States of America",
          "United States of America",
          "United States of America",
          "United States of America",
          "Japan",
          "United States of America",
          "United States of America",
          "Germany",
          "United States of America",
          "United States of America",
          "United Kingdom",
          "United Arab Emirates",
          "United Kingdom",
          "United States of America",
          "United States of America",
          "Australia",
          "United States of America",
          "United States of America",
          "China",
          "Canada",
          "United States of America",
          "United States of America",
          "Canada",
          "United States of America",
          "United States of America",
          "United Kingdom",
          "Japan",
          "United States of America",
          "United States of America",
          "United States of America",
          "United States of America",
          "United States of America",
          "United States of America",
          "United States of America",
          "United States of America",
          "United States of America",
          "United States of America",
          "United States of America",
          "United States of America",
          "United States of America",
          "United States of America",
          "United States of America",
          "United States of America",
          "United States of America",
          "United Kingdom",
          "United States of America",
          "United States of America",
          "United States of America",
          "Germany",
          "United States of America",
          "United States of America",
          "United States of America",
          "United States of America",
          "United States of America",
          "United Kingdom",
          "Germany",
          "United States of America",
          "United States of America",
          "United States of America",
          "United States of America",
          "Canada",
          "United States of America",
          "United States of America",
          "United States of America",
          "United States of America",
          "United States of America",
          "United States of America",
          "United States of America",
          "United States of America",
          "United States of America",
          "Canada",
          "Italy",
          "United Kingdom",
          "United States of America",
          "United Kingdom",
          "United States of America",
          "United States of America",
          "United States of America",
          "United States of America",
          "United States of America",
          "United Kingdom",
          "United States of America",
          "United States of America",
          "Germany",
          "United States of America",
          "United Kingdom",
          "France",
          "Germany",
          "United States of America",
          "United States of America",
          "Netherlands",
          "United States of America",
          "United States of America",
          "United States of America",
          "United States of America",
          "United States of America",
          "United States of America",
          "United States of America",
          "China",
          "France",
          "Hong Kong",
          "Italy",
          "United Kingdom",
          "Bulgaria",
          "China",
          "Hong Kong",
          "Italy",
          "Serbia and Montenegro",
          "United States of America",
          "United States of America",
          "United States of America",
          "United States of America",
          "United States of America",
          "Canada",
          "Australia",
          "United States of America",
          "Norway",
          "Iceland",
          "United States of America",
          "United States of America",
          "United States of America",
          "United States of America",
          "United Kingdom",
          "France",
          "Austria",
          "Germany",
          "United States of America",
          "United States of America",
          "Spain",
          "Denmark",
          "France",
          "Germany",
          "Sweden",
          "United States of America",
          "United Kingdom",
          "United States of America",
          "United States of America",
          "United States of America",
          "Bahamas",
          "France",
          "United Kingdom",
          "United States of America",
          "Italy",
          "United States of America",
          "United States of America",
          "United States of America",
          "United States of America",
          "France",
          "United States of America",
          "United States of America",
          "United States of America",
          "United States of America",
          "Canada",
          "United States of America",
          "United States of America",
          "United States of America",
          "United States of America",
          "United States of America",
          "United States of America",
          "United Kingdom",
          "United States of America",
          "France",
          "United States of America",
          "Australia",
          "United States of America",
          "Australia",
          "France",
          "United States of America",
          "United States of America",
          "United States of America",
          "United States of America",
          "United States of America",
          "United States of America",
          "India",
          "United States of America",
          "United States of America",
          "United States of America",
          "United Kingdom",
          "France",
          "Australia",
          "India",
          "United States of America",
          "United States of America",
          "Ireland",
          "United Kingdom",
          "Germany",
          "Italy",
          "Spain",
          "France",
          "Belgium",
          "Switzerland",
          "India",
          "United States of America",
          "United States of America",
          "United States of America",
          "United States of America",
          "United States of America",
          "United States of America",
          "United States of America",
          "United States of America",
          "United States of America",
          "United States of America",
          "United Kingdom",
          "United States of America",
          "United States of America",
          "United States of America",
          "United Kingdom",
          "United States of America",
          "United States of America",
          "United States of America",
          "United States of America",
          "United States of America",
          "Canada",
          "United States of America",
          "Canada",
          "United States of America",
          "Netherlands",
          "Germany",
          "United States of America",
          "Canada",
          "United States of America",
          "United States of America",
          "United States of America",
          "United States of America",
          "United States of America",
          "United States of America",
          "United Kingdom",
          "United States of America",
          "United Kingdom",
          "United States of America",
          "United States of America",
          "Ireland",
          "United Kingdom",
          "United States of America",
          "United States of America",
          "United States of America",
          "United States of America",
          "Canada",
          "France",
          "United Kingdom",
          "United States of America",
          "France",
          "United States of America",
          "Spain",
          "Japan",
          "Germany",
          "United States of America",
          "Canada",
          "Germany",
          "United Kingdom",
          "United States of America",
          "France",
          "United Kingdom",
          "United States of America",
          "Australia",
          "United States of America",
          "Hong Kong",
          "United States of America",
          "United States of America",
          "United Kingdom",
          "United States of America",
          "United States of America",
          "Canada",
          "United States of America",
          "Canada",
          "United States of America",
          "United Kingdom",
          "Ireland",
          "Germany",
          "Denmark",
          "France",
          "United States of America",
          "United Kingdom",
          "United States of America",
          "United Kingdom",
          "United States of America",
          "United States of America",
          "United States of America",
          "United States of America",
          "New Zealand",
          "Australia",
          "France",
          "United States of America",
          "United Kingdom",
          "France",
          "Germany",
          "United Kingdom",
          "United States of America",
          "United States of America",
          "France",
          "Japan",
          "United Kingdom",
          "United States of America",
          "Canada",
          "United States of America",
          "United States of America",
          "United States of America",
          "United Kingdom",
          "United States of America",
          "United States of America",
          "United States of America",
          "United States of America",
          "United States of America",
          "United States of America",
          "United States of America",
          "United States of America",
          "United States of America",
          "United Kingdom",
          "France",
          "United States of America",
          "United States of America",
          "Canada",
          "United States of America",
          "United Kingdom",
          "United States of America",
          "India",
          "United States of America",
          "United Kingdom",
          "United States of America",
          "Canada",
          "United States of America",
          "United States of America",
          "United Kingdom",
          "United States of America",
          "France",
          "United States of America",
          "Russia",
          "United States of America",
          "Canada",
          "United States of America",
          "Russia",
          "United States of America",
          "Canada",
          "United States of America",
          "United States of America",
          "United States of America",
          "United States of America",
          "Canada",
          "France",
          "United States of America",
          "United States of America",
          "United States of America",
          "United States of America",
          "United States of America",
          "United States of America",
          "United States of America",
          "United States of America",
          "United Kingdom",
          "United Kingdom",
          "United States of America",
          "United Kingdom",
          "United States of America",
          "United States of America",
          "United States of America",
          "Japan",
          "United Kingdom",
          "United States of America",
          "Australia",
          "United Kingdom",
          "United States of America",
          "Germany",
          "United States of America",
          "United States of America",
          "United States of America",
          "United Kingdom",
          "United States of America",
          "United States of America",
          "United States of America",
          "United States of America",
          "United States of America",
          "United States of America",
          "United States of America",
          "United States of America",
          "United States of America",
          "United States of America",
          "United States of America",
          "United States of America",
          "United States of America",
          "United States of America",
          "Australia",
          "Hong Kong",
          "United States of America",
          "United Kingdom",
          "United States of America",
          "United States of America",
          "United Kingdom",
          "Germany",
          "United States of America",
          "United States of America",
          "United States of America",
          "Bahamas",
          "United Kingdom",
          "United States of America",
          "United States of America",
          "United States of America",
          "Ireland",
          "United States of America",
          "United States of America",
          "United States of America",
          "United States of America",
          "United States of America",
          "Canada",
          "United States of America",
          "United States of America",
          "United States of America",
          "United States of America",
          "United States of America",
          "United States of America",
          "China",
          "United States of America",
          "France",
          "United States of America",
          "Canada",
          "France",
          "United States of America",
          "Netherlands",
          "Belgium",
          "France",
          "United States of America",
          "Thailand",
          "Australia",
          "India",
          "Germany",
          "United Kingdom",
          "United States of America",
          "United States of America",
          "Spain",
          "United States of America",
          "United Kingdom",
          "United States of America",
          "United States of America",
          "Canada",
          "Canada",
          "United States of America",
          "United States of America",
          "France",
          "India",
          "Germany",
          "Norway",
          "United Kingdom",
          "Norway",
          "United States of America",
          "United States of America",
          "United States of America",
          "United States of America",
          "United States of America",
          "Japan",
          "United States of America",
          "United States of America",
          "Mexico",
          "United States of America",
          "United States of America",
          "United Kingdom",
          "United States of America",
          "United States of America",
          "United States of America",
          "United States of America",
          "United Kingdom",
          "United States of America",
          "United States of America",
          "United States of America",
          "United States of America",
          "United States of America",
          "United States of America",
          "France",
          "United Kingdom",
          "United States of America",
          "Australia",
          "United States of America",
          "Canada",
          "Germany",
          "United States of America",
          "United States of America",
          "United States of America",
          "United States of America",
          "United States of America",
          "Canada",
          "United States of America",
          "France",
          "United States of America",
          "United States of America",
          "Mexico",
          "United Kingdom",
          "United States of America",
          "France",
          "United States of America",
          "United States of America",
          "United States of America",
          "Canada",
          "United States of America",
          "United States of America",
          "United States of America",
          "United States of America",
          "United States of America",
          "United States of America",
          "United States of America",
          "Canada",
          "France",
          "United Kingdom",
          "United States of America",
          "Italy",
          "Spain",
          "United States of America",
          "United States of America",
          "United Kingdom",
          "France",
          "United Kingdom",
          "Canada",
          "France",
          "United States of America",
          "New Zealand",
          "United States of America",
          "United States of America",
          "United States of America",
          "United States of America",
          "Spain",
          "United States of America",
          "United States of America",
          "Netherlands",
          "United States of America",
          "United States of America",
          "United States of America",
          "United States of America",
          "Canada",
          "United States of America",
          "United States of America",
          "United States of America",
          "Germany",
          "United States of America",
          "United Kingdom",
          "United States of America",
          "United States of America",
          "United States of America",
          "United States of America",
          "France",
          "Denmark",
          "Sweden",
          "Thailand",
          "United States of America",
          "United States of America",
          "United States of America",
          "United Kingdom",
          "United States of America",
          "United States of America",
          "United States of America",
          "United States of America",
          "United States of America",
          "United States of America",
          "United States of America",
          "United States of America",
          "South Korea",
          "Bolivia",
          "France",
          "Spain",
          "United Kingdom",
          "United States of America",
          "United States of America",
          "India",
          "United Kingdom",
          "New Zealand",
          "Russia",
          "Japan",
          "United Kingdom",
          "Ireland",
          "United States of America",
          "Canada",
          "United States of America",
          "Japan",
          "United States of America",
          "United States of America",
          "United States of America",
          "United States of America",
          "Switzerland",
          "United States of America",
          "United States of America",
          "United States of America",
          "United States of America",
          "United States of America",
          "United States of America",
          "United States of America",
          "United States of America",
          "United States of America",
          "United States of America",
          "United Kingdom",
          "United States of America",
          "United States of America",
          "United States of America",
          "Spain",
          "Mexico",
          "United States of America",
          "United States of America",
          "United States of America",
          "United States of America",
          "Canada",
          "United States of America",
          "United States of America",
          "United States of America",
          "United States of America",
          "United Kingdom",
          "United States of America",
          "United States of America",
          "France",
          "United States of America",
          "United Kingdom",
          "United States of America",
          "United States of America",
          "France",
          "Australia",
          "Spain",
          "France",
          "Italy",
          "United States of America",
          "United States of America",
          "United Kingdom",
          "Russia",
          "United States of America",
          "United Kingdom",
          "United States of America",
          "United States of America",
          "United States of America",
          "United States of America",
          "United Kingdom",
          "Canada",
          "United Kingdom",
          "United States of America",
          "United States of America",
          "United Kingdom",
          "United States of America",
          "United Kingdom",
          "United States of America",
          "United States of America",
          "United States of America",
          "United States of America",
          "United States of America",
          "United States of America",
          "United States of America",
          "United States of America",
          "United Kingdom",
          "Canada",
          "United States of America",
          "United States of America",
          "United Kingdom",
          "United States of America",
          "Argentina",
          "Spain",
          "United States of America",
          "Norway",
          "United States of America",
          "United States of America",
          "France",
          "United States of America",
          "United States of America",
          "United States of America",
          "Brazil",
          "France",
          "United Kingdom",
          "Ireland",
          "Denmark",
          "Sweden",
          "United States of America",
          "Canada",
          "United States of America",
          "United Kingdom",
          "United States of America",
          "France",
          "United States of America",
          "United States of America",
          "United States of America",
          "United States of America",
          "United States of America",
          "United States of America",
          "United Kingdom",
          "United States of America",
          "United States of America",
          "United Kingdom",
          "United States of America",
          "United States of America",
          "United States of America",
          "United Kingdom",
          "France",
          "United States of America",
          "United States of America",
          "United States of America",
          "United States of America",
          "United States of America",
          "Canada",
          "United States of America",
          "Japan",
          "United States of America",
          "United Kingdom",
          "United States of America",
          "United States of America",
          "United States of America",
          "United States of America",
          "United States of America",
          "United States of America",
          "United States of America",
          "New Zealand",
          "United Kingdom",
          "United States of America",
          "Germany",
          "United States of America",
          "United States of America",
          "United States of America",
          "Greece",
          "United States of America",
          "United States of America",
          "United States of America",
          "Canada",
          "United Kingdom",
          "United Kingdom",
          "India",
          "United States of America",
          "Japan",
          "Germany",
          "United States of America",
          "United States of America",
          "United States of America",
          "Brazil",
          "United States of America",
          "South Africa",
          "United States of America",
          "United States of America",
          "South Korea",
          "United States of America",
          "Canada",
          "United Kingdom",
          "Netherlands",
          "United States of America",
          "Canada",
          "Germany",
          "United States of America",
          "United Kingdom",
          "United States of America",
          "United States of America",
          "Brazil",
          "United States of America",
          "United States of America",
          "United States of America",
          "United States of America",
          "United States of America",
          "United States of America",
          "United States of America",
          "United States of America",
          "United States of America",
          "United States of America",
          "United States of America",
          "United States of America",
          "United States of America",
          "Denmark",
          "France",
          "Poland",
          "United Kingdom",
          "France",
          "United States of America",
          "Spain",
          "United States of America",
          "United States of America",
          "United States of America",
          "United States of America",
          "United States of America",
          "United States of America",
          "United States of America",
          "United States of America",
          "United States of America",
          "Austria",
          "Switzerland",
          "United States of America",
          "United States of America",
          "Canada",
          "Spain",
          "United States of America",
          "United States of America",
          "Mexico",
          "United States of America",
          "United States of America",
          "United States of America",
          "United States of America",
          "United Kingdom",
          "United States of America",
          "United States of America",
          "United States of America",
          "United States of America",
          "United States of America",
          "United States of America",
          "United States of America",
          "United States of America",
          "United Kingdom",
          "United States of America",
          "France",
          "United States of America",
          "Spain",
          "United Kingdom",
          "United States of America",
          "United States of America",
          "United States of America",
          "United States of America",
          "Australia",
          "United States of America",
          "France",
          "United States of America",
          "Germany",
          "United States of America",
          "United States of America",
          "United States of America",
          "France",
          "Belgium",
          "Canada",
          "United Kingdom",
          "United States of America",
          "United States of America",
          "Mexico",
          "United States of America",
          "United States of America",
          "United States of America",
          "United Kingdom",
          "United States of America",
          "United States of America",
          "United Kingdom",
          "United States of America",
          "France",
          "United States of America",
          "United States of America",
          "United States of America",
          "United States of America",
          "Israel",
          "France",
          "Germany",
          "United States of America",
          "United States of America",
          "United States of America",
          "United States of America",
          "France",
          "United States of America",
          "Canada",
          "United Kingdom",
          "United States of America",
          "United States of America",
          "India",
          "United States of America",
          "United States of America",
          "United States of America",
          "United Kingdom",
          "Ireland",
          "United States of America",
          "Spain",
          "United States of America",
          "France",
          "United Kingdom",
          "United States of America",
          "India",
          "United Kingdom",
          "United States of America",
          "United States of America",
          "France",
          "United States of America",
          "United Kingdom",
          "United States of America",
          "United States of America",
          "United States of America",
          "United States of America",
          "United States of America",
          "United States of America",
          "Germany",
          "United States of America",
          "Mexico",
          "United States of America",
          "United States of America",
          "United States of America",
          "United States of America",
          "India",
          "France",
          "Germany",
          "United States of America",
          "United States of America",
          "United States of America",
          "United States of America",
          "United States of America",
          "United States of America",
          "United States of America",
          "United States of America",
          "United States of America",
          "United States of America",
          "United States of America",
          "United States of America",
          "United States of America",
          "United States of America",
          "Canada",
          "United States of America",
          "United States of America",
          "United States of America",
          "France",
          "United States of America",
          "United States of America",
          "United States of America",
          "United States of America",
          "United States of America",
          "United States of America",
          "United States of America",
          "Canada",
          "Canada",
          "United States of America",
          "United Kingdom",
          "Canada",
          "United States of America",
          "United States of America",
          "Germany",
          "United Kingdom",
          "Canada",
          "Denmark",
          "United States of America",
          "United States of America",
          "United States of America",
          "United States of America",
          "United States of America",
          "United States of America",
          "United States of America",
          "United States of America",
          "United States of America",
          "United States of America",
          "United States of America",
          "United States of America",
          "Italy",
          "Spain",
          "Germany",
          "United States of America",
          "Canada",
          "United States of America",
          "United States of America",
          "United States of America",
          "United States of America",
          "Indonesia",
          "United States of America",
          "France",
          "United States of America",
          "United States of America",
          "United Kingdom",
          "United States of America",
          "United States of America",
          "United States of America",
          "Jamaica",
          "United Kingdom",
          "United States of America",
          "United Kingdom",
          "United States of America",
          "United States of America",
          "Japan",
          "United States of America",
          "United States of America",
          "United States of America",
          "United States of America",
          "United States of America",
          "United States of America",
          "United States of America",
          "Canada",
          "Chile",
          "United States of America",
          "United States of America",
          "United States of America",
          "United States of America",
          "United States of America",
          "United States of America",
          "United States of America",
          "United States of America",
          "United States of America",
          "United States of America",
          "India",
          "United States of America",
          "Denmark",
          "Norway",
          "United Kingdom",
          "United Kingdom",
          "United States of America",
          "United States of America",
          "United States of America",
          "United States of America",
          "United States of America",
          "Canada",
          "United States of America",
          "Belgium",
          "Romania",
          "United States of America",
          "United States of America",
          "United States of America",
          "United States of America",
          "United States of America",
          "United States of America",
          "United States of America",
          "United States of America",
          "United States of America",
          "United States of America",
          "Norway",
          "United States of America",
          "United States of America",
          "United Kingdom",
          "United States of America",
          "United States of America",
          "United States of America",
          "United States of America",
          "United States of America",
          "United States of America",
          "United States of America",
          "United States of America",
          "United States of America",
          "United Kingdom",
          "United States of America",
          "United States of America",
          "United States of America",
          "United States of America",
          "United States of America",
          "United States of America",
          "United States of America",
          "Japan",
          "France",
          "Angola",
          "United Kingdom",
          "United States of America",
          "Ireland",
          "United Kingdom",
          "United Kingdom",
          "United States of America",
          "United States of America",
          "United States of America",
          "United States of America",
          "United States of America",
          "United Kingdom",
          "United States of America",
          "United States of America",
          "United Kingdom",
          "United States of America",
          "United States of America",
          "United States of America",
          "France",
          "United States of America",
          "United States of America",
          "United States of America",
          "United States of America",
          "United States of America",
          "Greece",
          "United States of America",
          "United States of America",
          "United States of America",
          "India",
          "Switzerland",
          "Germany",
          "United States of America",
          "United States of America",
          "United States of America",
          "United States of America",
          "United States of America",
          "Canada",
          "United States of America",
          "United States of America",
          "United States of America",
          "United States of America",
          "United Kingdom",
          "United States of America",
          "United States of America",
          "Australia",
          "United States of America",
          "Italy",
          "Germany",
          "Spain",
          "United States of America",
          "United States of America",
          "Germany",
          "Iran",
          "United Kingdom",
          "United States of America",
          "United States of America",
          "United States of America",
          "Ireland",
          "United States of America",
          "United States of America",
          "United States of America",
          "United States of America",
          "United States of America",
          "United States of America",
          "United States of America",
          "United States of America",
          "United States of America",
          "United States of America",
          "United States of America",
          "United Kingdom",
          "United States of America",
          "United States of America",
          "United States of America",
          "Japan",
          "United States of America",
          "Mexico",
          "United States of America"
         ],
         "x0": " ",
         "xaxis": "x",
         "y": [
          162,
          162,
          169,
          148,
          148,
          165,
          132,
          139,
          100,
          141,
          153,
          153,
          151,
          154,
          106,
          106,
          151,
          151,
          151,
          151,
          149,
          143,
          143,
          150,
          150,
          150,
          150,
          143,
          136,
          106,
          144,
          144,
          136,
          140,
          140,
          161,
          161,
          113,
          113,
          187,
          187,
          187,
          194,
          147,
          131,
          124,
          143,
          143,
          127,
          130,
          130,
          108,
          104,
          104,
          104,
          104,
          150,
          165,
          130,
          142,
          125,
          106,
          114,
          103,
          115,
          115,
          115,
          115,
          137,
          137,
          116,
          116,
          131,
          131,
          132,
          114,
          143,
          143,
          116,
          131,
          131,
          154,
          122,
          93,
          93,
          122,
          98,
          91,
          158,
          158,
          96,
          124,
          109,
          109,
          109,
          143,
          143,
          144,
          152,
          152,
          96,
          94,
          126,
          126,
          126,
          126,
          106,
          112,
          112,
          123,
          96,
          113,
          113,
          135,
          118,
          118,
          94,
          106,
          106,
          124,
          127,
          97,
          130,
          119,
          136,
          93,
          130,
          102,
          108,
          100,
          120,
          98,
          109,
          109,
          109,
          121,
          121,
          169,
          169,
          169,
          148,
          148,
          120,
          169,
          169,
          106,
          106,
          166,
          132,
          137,
          137,
          109,
          99,
          113,
          113,
          93,
          123,
          123,
          123,
          123,
          126,
          113,
          183,
          144,
          175,
          175,
          175,
          175,
          175,
          175,
          138,
          138,
          157,
          157,
          92,
          101,
          115,
          115,
          115,
          111,
          140,
          140,
          89,
          105,
          105,
          107,
          129,
          129,
          102,
          138,
          138,
          112,
          120,
          120,
          138,
          138,
          115,
          98,
          88,
          99,
          99,
          113,
          113,
          131,
          131,
          91,
          91,
          103,
          126,
          126,
          126,
          131,
          88,
          85,
          85,
          111,
          92,
          163,
          163,
          163,
          93,
          133,
          133,
          116,
          151,
          88,
          115,
          95,
          95,
          133,
          133,
          133,
          97,
          90,
          154,
          154,
          154,
          150,
          150,
          150,
          127,
          127,
          121,
          102,
          127,
          127,
          121,
          163,
          127,
          138,
          110,
          124,
          124,
          124,
          124,
          106,
          106,
          124,
          128,
          128,
          138,
          115,
          100,
          114,
          120,
          120,
          156,
          156,
          156,
          156,
          96,
          107,
          92,
          115,
          115,
          90,
          117,
          146,
          94,
          116,
          147,
          90,
          100,
          139,
          107,
          107,
          141,
          141,
          165,
          165,
          165,
          100,
          82,
          97,
          97,
          95,
          152,
          152,
          96,
          143,
          123,
          149,
          149,
          149,
          149,
          102,
          133,
          130,
          129,
          106,
          113,
          102,
          120,
          125,
          125,
          104,
          104,
          124,
          123,
          123,
          130,
          92,
          92,
          92,
          127,
          127,
          127,
          114,
          114,
          123,
          123,
          123,
          106,
          124,
          124,
          78,
          109,
          119,
          102,
          102,
          135,
          135,
          135,
          121,
          109,
          124,
          140,
          142,
          92,
          126,
          126,
          136,
          98,
          116,
          116,
          116,
          116,
          116,
          134,
          114,
          101,
          91,
          91,
          108,
          112,
          112,
          112,
          100,
          108,
          108,
          114,
          114,
          114,
          119,
          119,
          165,
          165,
          125,
          120,
          119,
          170,
          85,
          119,
          102,
          103,
          76,
          121,
          127,
          127,
          105,
          121,
          114,
          128,
          128,
          178,
          178,
          120,
          120,
          120,
          120,
          157,
          115,
          115,
          144,
          144,
          144,
          144,
          144,
          84,
          84,
          97,
          141,
          136,
          118,
          155,
          155,
          145,
          161,
          161,
          161,
          144,
          144,
          144,
          144,
          144,
          119,
          137,
          137,
          140,
          157,
          157,
          141,
          106,
          98,
          107,
          115,
          115,
          165,
          91,
          78,
          103,
          131,
          104,
          104,
          104,
          101,
          102,
          103,
          103,
          103,
          103,
          121,
          143,
          143,
          180,
          121,
          121,
          129,
          172,
          172,
          172,
          172,
          97,
          97,
          104,
          99,
          95,
          102,
          127,
          127,
          114,
          114,
          114,
          122,
          95,
          95,
          115,
          115,
          115,
          115,
          88,
          110,
          130,
          167,
          167,
          145,
          145,
          85,
          93,
          144,
          144,
          85,
          126,
          146,
          89,
          88,
          105,
          105,
          136,
          136,
          136,
          100,
          201,
          201,
          179,
          179,
          102,
          102,
          102,
          102,
          100,
          119,
          119,
          119,
          92,
          105,
          95,
          98,
          137,
          115,
          119,
          119,
          119,
          119,
          118,
          118,
          98,
          92,
          98,
          90,
          130,
          90,
          94,
          114,
          98,
          151,
          151,
          88,
          107,
          107,
          107,
          158,
          158,
          158,
          128,
          128,
          128,
          128,
          125,
          95,
          92,
          121,
          121,
          113,
          105,
          146,
          99,
          150,
          112,
          112,
          128,
          128,
          128,
          128,
          106,
          117,
          117,
          117,
          117,
          129,
          129,
          129,
          129,
          116,
          126,
          126,
          114,
          96,
          131,
          131,
          107,
          138,
          138,
          138,
          138,
          129,
          144,
          110,
          110,
          141,
          113,
          143,
          108,
          108,
          108,
          124,
          124,
          116,
          110,
          110,
          110,
          110,
          91,
          107,
          115,
          100,
          104,
          136,
          136,
          132,
          121,
          122,
          83,
          139,
          131,
          131,
          131,
          131,
          104,
          130,
          145,
          104,
          104,
          178,
          108,
          123,
          106,
          112,
          112,
          136,
          136,
          136,
          106,
          88,
          95,
          95,
          95,
          95,
          107,
          120,
          82,
          82,
          88,
          88,
          120,
          120,
          157,
          123,
          101,
          103,
          110,
          142,
          102,
          126,
          126,
          83,
          85,
          97,
          97,
          120,
          113,
          87,
          100,
          110,
          110,
          110,
          128,
          138,
          88,
          91,
          138,
          99,
          117,
          117,
          115,
          118,
          118,
          154,
          154,
          154,
          154,
          118,
          93,
          113,
          88,
          104,
          104,
          135,
          135,
          135,
          135,
          98,
          80,
          80,
          83,
          102,
          130,
          129,
          89,
          74,
          96,
          99,
          99,
          129,
          129,
          113,
          113,
          118,
          118,
          118,
          106,
          117,
          89,
          145,
          115,
          87,
          87,
          87,
          87,
          118,
          90,
          90,
          112,
          112,
          116,
          177,
          92,
          106,
          106,
          106,
          94,
          84,
          84,
          84,
          84,
          110,
          110,
          110,
          110,
          105,
          105,
          105,
          135,
          89,
          94,
          95,
          124,
          124,
          136,
          136,
          91,
          107,
          92,
          99,
          99,
          88,
          88,
          87,
          110,
          110,
          110,
          110,
          98,
          145,
          129,
          86,
          109,
          109,
          104,
          110,
          110,
          136,
          91,
          99,
          117,
          117,
          114,
          115,
          115,
          102,
          128,
          100,
          124,
          124,
          124,
          102,
          90,
          134,
          118,
          164,
          164,
          164,
          121,
          100,
          116,
          130,
          91,
          123,
          134,
          110,
          113,
          113,
          94,
          116,
          99,
          84,
          93,
          113,
          106,
          91,
          110,
          98,
          98,
          134,
          97,
          97,
          112,
          146,
          110,
          110,
          116,
          87,
          177,
          125,
          125,
          87,
          152,
          116,
          116,
          116,
          109,
          109,
          108,
          85,
          106,
          93,
          117,
          116,
          124,
          93,
          117,
          153,
          153,
          144,
          124,
          117,
          136,
          110,
          101,
          101,
          101,
          101,
          101,
          88,
          138,
          138,
          120,
          103,
          116,
          125,
          146,
          118,
          118,
          139,
          133,
          92,
          116,
          127,
          127,
          127,
          136,
          111,
          116,
          105,
          105,
          105,
          105,
          97,
          88,
          123,
          125,
          116,
          116,
          91,
          91,
          97,
          97,
          97,
          97,
          97,
          95,
          88,
          88,
          133,
          107,
          107,
          114,
          114,
          114,
          115,
          99,
          124,
          124,
          124,
          124,
          95,
          103,
          115,
          127,
          121,
          105,
          157,
          114,
          128,
          128,
          114,
          94,
          112,
          112,
          121,
          121,
          102,
          102,
          102,
          102,
          169,
          130,
          130,
          130,
          130,
          127,
          81,
          136,
          149,
          149,
          136,
          136,
          140,
          104,
          157,
          157,
          119,
          98,
          136,
          95,
          137,
          130,
          112,
          112,
          112,
          108,
          104,
          128,
          83,
          159,
          159,
          119,
          105,
          103,
          123,
          114,
          95,
          95,
          95,
          95,
          105,
          105,
          105,
          120,
          101,
          139,
          139,
          124,
          100,
          92,
          92,
          130,
          130,
          130,
          130,
          97,
          97,
          102,
          133,
          121,
          121,
          121,
          147,
          147,
          147,
          94,
          94,
          94,
          94,
          127,
          191,
          141,
          127,
          127,
          98,
          116,
          116,
          106,
          87,
          87,
          87,
          125,
          167,
          95,
          117,
          115,
          115,
          189,
          100,
          81,
          145,
          119,
          119,
          119,
          130,
          130,
          116,
          116,
          103,
          99,
          92,
          109,
          87,
          110,
          110,
          101,
          101,
          83,
          113,
          107,
          94,
          132,
          133,
          111,
          163,
          170,
          120,
          92,
          92,
          92,
          115,
          130,
          105,
          105,
          106,
          106,
          100,
          91,
          91,
          91,
          146,
          146,
          98,
          101,
          89,
          122,
          115,
          90,
          124,
          119,
          119,
          93,
          93,
          100,
          105,
          105,
          124,
          99,
          99,
          99,
          109,
          124,
          97,
          104,
          100,
          101,
          101,
          101,
          113,
          97,
          134,
          127,
          127,
          127,
          125,
          125,
          94,
          108,
          91,
          91,
          91,
          117,
          100,
          117,
          117,
          110,
          110,
          110,
          110,
          110,
          96,
          96,
          101,
          109,
          126,
          122,
          78,
          78,
          101,
          87,
          86,
          96,
          96,
          104,
          104,
          121,
          121,
          121,
          140,
          140,
          131,
          91,
          91,
          118,
          130,
          90,
          105,
          106,
          106,
          106,
          103,
          106,
          120,
          120,
          132,
          108,
          133,
          103,
          103,
          95,
          90,
          102,
          114,
          114,
          103,
          119,
          97,
          97,
          97,
          97,
          125,
          144,
          144,
          116,
          103,
          97,
          95,
          95,
          131,
          131,
          131,
          95,
          95,
          86,
          142,
          92,
          108,
          81,
          143,
          143,
          95,
          118,
          103,
          134,
          97,
          100,
          132,
          105,
          116,
          117,
          98,
          123,
          114,
          114,
          111,
          136,
          104,
          104,
          110,
          110,
          133,
          94,
          104,
          104,
          91,
          114,
          114,
          134,
          134,
          122,
          122,
          122,
          109,
          109,
          95,
          98,
          94,
          118,
          91,
          88,
          141,
          107,
          116,
          143,
          143,
          114,
          93,
          214,
          100,
          112,
          95,
          95,
          119,
          153,
          153,
          96,
          117,
          117,
          123,
          92,
          92,
          162,
          162,
          123,
          108,
          127,
          127,
          121,
          125,
          99,
          99,
          94,
          127,
          127,
          89,
          122,
          122,
          132,
          109,
          191,
          124,
          141,
          157,
          106,
          108,
          108,
          108,
          125,
          104,
          170,
          170,
          112,
          118,
          178,
          178,
          92,
          92,
          116,
          90,
          90,
          93,
          130,
          90,
          106,
          143,
          139,
          106,
          139,
          115,
          119,
          96,
          112,
          131,
          116,
          116,
          112,
          123,
          104,
          107,
          96,
          125,
          129,
          100,
          109,
          124,
          121,
          121,
          121,
          97,
          110,
          118,
          80,
          133,
          127,
          106,
          106,
          106,
          98,
          132,
          132,
          132,
          115,
          115,
          86,
          101,
          113,
          113,
          88,
          88,
          124,
          109,
          128,
          144,
          144,
          144,
          95,
          95,
          105,
          105,
          121,
          125,
          129,
          125,
          125,
          125,
          125,
          113,
          140,
          140,
          89,
          104,
          106,
          141,
          94,
          94,
          94,
          94,
          94,
          108,
          108,
          108,
          108,
          108,
          105,
          102,
          92,
          119,
          119,
          119,
          99,
          99,
          115,
          87,
          129,
          120,
          132,
          132,
          121,
          121,
          121,
          121,
          95,
          125,
          98,
          110,
          118,
          118,
          118,
          97,
          86,
          119,
          139,
          130,
          130,
          130,
          114,
          100,
          100,
          100,
          110,
          148,
          102,
          84,
          84,
          114,
          99,
          135,
          108,
          108,
          127,
          127,
          127,
          95,
          95,
          124,
          100,
          88,
          105,
          97,
          97,
          97,
          97,
          87,
          104,
          116,
          116,
          116,
          147,
          147,
          127,
          130,
          130,
          120,
          120,
          120,
          118,
          111,
          114,
          137,
          137,
          137,
          137,
          112,
          112,
          120,
          120,
          120,
          93,
          127,
          122,
          109,
          109,
          123,
          96,
          101,
          101,
          103,
          113,
          132,
          93,
          75,
          75,
          104,
          105,
          118,
          111,
          80,
          117,
          86,
          127,
          140,
          140,
          91,
          91,
          84,
          111,
          93,
          113,
          141,
          119,
          97,
          117,
          101,
          101,
          153,
          122,
          122,
          102,
          83,
          83,
          103,
          120,
          136,
          136,
          89,
          89,
          89,
          89,
          100,
          135,
          135,
          95,
          122,
          122,
          110,
          110,
          135,
          95,
          109,
          94,
          94,
          94,
          94,
          94,
          117,
          112,
          131,
          94,
          94,
          88,
          88,
          88,
          137,
          119,
          119,
          105,
          105,
          101,
          101,
          86,
          86,
          123,
          134,
          100,
          100,
          192,
          128,
          128,
          128,
          106,
          106,
          160,
          160,
          99,
          85,
          139,
          103,
          101,
          101,
          101,
          87,
          120,
          130,
          110,
          147,
          96,
          88,
          219,
          106,
          109,
          109,
          136,
          103,
          103,
          103,
          84,
          154,
          99,
          93,
          109,
          124,
          124,
          84,
          90,
          117,
          117,
          248,
          248,
          248,
          105,
          115,
          119,
          133,
          133,
          100,
          100,
          120,
          120,
          104,
          104,
          122,
          122,
          122,
          99,
          91,
          112,
          100,
          100,
          100,
          110,
          132,
          107,
          102,
          100,
          126,
          138,
          108,
          105,
          105,
          108,
          89,
          89,
          125,
          84,
          149,
          98,
          121,
          128,
          134,
          134,
          120,
          129,
          129,
          129,
          83,
          116,
          118,
          100,
          128,
          123,
          128,
          139,
          110,
          120,
          121,
          102,
          112,
          152,
          124,
          90,
          105,
          114,
          189,
          99,
          123,
          123,
          102,
          109,
          82,
          141,
          141,
          141,
          106,
          109,
          107,
          110,
          96,
          131,
          119,
          113,
          113,
          113,
          130,
          108,
          89,
          89,
          139,
          130,
          130,
          107,
          96,
          99,
          104,
          104,
          105,
          101,
          101,
          134,
          135,
          98,
          155,
          94,
          96,
          104,
          104,
          95,
          111,
          123,
          140,
          97,
          94,
          94,
          92,
          122,
          103,
          103,
          108,
          129,
          102,
          117,
          117,
          117,
          135,
          90,
          96,
          104,
          104,
          104,
          104,
          119,
          99,
          110,
          128,
          128,
          108,
          86,
          108,
          84,
          84,
          128,
          128,
          123,
          123,
          123,
          102,
          113,
          113,
          107,
          87,
          103,
          103,
          99,
          99,
          122,
          122,
          103,
          103,
          107,
          107,
          106,
          101,
          101,
          101,
          101,
          109,
          89,
          89,
          82,
          108,
          108,
          93,
          107,
          107,
          91,
          115,
          115,
          115,
          115,
          93,
          93,
          93,
          105,
          107,
          126,
          126,
          126,
          126,
          102,
          159,
          107,
          102,
          87,
          119,
          106,
          106,
          125,
          125,
          113,
          150,
          108,
          96,
          100,
          118,
          130,
          130,
          120,
          146,
          114,
          94,
          102,
          133,
          133,
          133,
          118,
          105,
          110,
          129,
          109,
          119,
          118,
          90,
          137,
          93,
          93,
          93,
          93,
          130,
          130,
          112,
          133,
          125,
          110,
          96,
          96,
          96,
          96,
          123,
          123,
          188,
          107,
          110,
          113,
          122,
          116,
          93,
          93,
          110,
          115,
          95,
          134,
          134,
          134,
          101,
          107,
          124,
          109,
          109,
          105,
          114,
          114,
          114,
          106,
          95,
          81,
          100,
          100,
          105,
          95,
          126,
          126,
          118,
          129,
          88,
          98,
          110,
          109,
          132,
          111,
          128,
          123,
          125,
          105,
          162,
          162,
          138,
          100,
          108,
          91,
          107,
          107,
          123,
          90,
          109,
          109,
          91,
          125,
          125,
          125,
          202,
          134,
          88,
          92,
          91,
          91,
          98,
          127,
          100,
          100,
          100,
          100,
          114,
          100,
          100,
          109,
          106,
          112,
          102,
          102,
          102,
          150,
          150,
          150,
          150,
          113,
          104,
          137,
          110,
          110,
          101,
          101,
          108,
          101,
          112,
          111,
          102,
          101,
          155,
          93,
          109,
          109,
          109,
          104,
          104,
          96,
          96,
          123,
          123,
          123,
          106,
          76,
          85,
          109,
          97,
          97,
          91,
          87,
          132,
          132,
          118,
          98,
          98,
          92,
          92,
          117,
          117,
          117,
          117,
          92,
          96,
          94,
          105,
          105,
          101,
          101,
          101,
          139,
          110,
          102,
          102,
          102,
          102,
          102,
          83,
          123,
          118,
          114,
          114,
          114,
          135,
          138,
          148,
          148,
          93,
          93,
          93,
          113,
          91,
          139,
          96,
          101,
          96,
          100,
          128,
          109,
          141,
          141,
          195,
          138,
          101,
          101,
          98,
          98,
          89,
          89,
          99,
          105,
          124,
          124,
          118,
          118,
          94,
          135,
          108,
          108,
          108,
          108,
          124,
          124,
          98,
          97,
          97,
          123,
          101,
          92,
          125,
          107,
          103,
          129,
          107,
          90,
          107,
          93,
          93,
          120,
          101,
          101,
          105,
          105,
          113,
          96,
          96,
          96,
          87,
          87,
          107,
          107,
          90,
          90,
          90,
          111,
          111,
          90,
          100,
          75,
          108,
          153,
          102,
          137,
          113,
          113,
          161,
          138,
          126,
          126,
          126,
          99,
          99,
          99,
          101,
          101,
          103,
          118,
          99,
          105,
          113,
          93,
          108,
          81,
          116,
          104,
          105,
          113,
          134,
          132,
          92,
          92,
          99,
          90,
          115,
          102,
          127,
          112,
          112,
          112,
          112,
          87,
          138,
          132,
          103,
          103,
          123,
          111,
          102,
          78,
          78,
          132,
          133,
          109,
          125,
          97,
          118,
          118,
          89,
          89,
          100,
          111,
          109,
          99,
          89,
          95,
          98,
          94,
          94,
          124,
          131,
          107,
          83,
          131,
          131,
          131,
          131,
          85,
          85,
          126,
          102,
          102,
          123,
          123,
          123,
          125,
          92,
          77,
          118,
          121,
          123,
          99,
          112,
          107,
          104,
          104,
          113,
          113,
          113,
          95,
          84,
          126,
          101,
          94,
          111,
          111,
          111,
          95,
          98,
          100,
          108,
          125,
          79,
          106,
          63,
          85,
          108,
          139,
          106,
          95,
          108,
          108,
          111,
          124,
          104,
          133,
          133,
          87,
          109,
          109,
          87,
          98,
          112,
          108,
          126,
          98,
          110,
          130,
          130,
          97,
          97,
          96,
          114,
          106,
          106,
          135,
          102,
          102,
          111,
          111,
          86,
          108,
          108,
          123,
          123,
          123,
          134,
          134,
          91,
          108,
          108,
          122,
          118,
          80,
          92,
          92,
          87,
          87,
          87,
          160,
          160,
          160,
          125,
          125,
          129,
          83,
          83,
          115,
          136,
          136,
          127,
          113,
          100,
          100,
          91,
          87,
          87,
          103,
          103,
          90,
          147,
          118,
          79,
          104,
          104,
          104,
          110,
          110,
          102,
          131,
          99,
          130,
          135,
          101,
          103,
          115,
          110,
          90,
          105,
          127,
          127,
          90,
          99,
          99,
          89,
          89,
          115,
          96,
          104,
          104,
          117,
          117,
          83,
          83,
          83,
          99,
          81,
          135,
          135,
          135,
          117,
          117,
          117,
          139,
          139,
          113,
          113,
          117,
          98,
          98,
          98,
          98,
          98,
          103,
          119,
          119,
          94,
          86,
          98,
          108,
          108,
          134,
          110,
          103,
          103,
          145,
          90,
          90,
          131,
          131,
          129,
          109,
          114,
          163,
          163,
          92,
          120,
          113,
          115,
          133,
          117,
          101,
          101,
          82,
          110,
          110,
          193,
          130,
          130,
          102,
          102,
          100,
          100,
          109,
          109,
          113,
          109,
          109,
          99,
          99,
          99,
          89,
          98,
          93,
          93,
          112,
          106,
          106,
          106,
          106,
          104,
          91,
          97,
          116,
          122,
          113,
          111,
          111,
          121,
          139,
          115,
          175,
          175,
          85,
          90,
          106,
          106,
          106,
          100,
          130,
          94,
          104,
          100,
          118,
          118,
          118,
          111,
          111,
          111,
          111,
          110,
          110,
          99,
          99,
          99,
          95,
          116,
          129,
          129,
          129,
          129,
          127,
          125,
          133,
          116,
          116,
          131,
          93,
          93,
          93,
          117,
          129,
          195,
          146,
          146,
          146,
          128,
          128,
          93,
          97,
          97,
          97,
          83,
          85,
          88,
          88,
          119,
          122,
          99,
          97,
          97,
          97,
          97,
          121,
          121,
          95,
          104,
          107,
          130,
          115,
          111,
          111,
          93,
          93,
          93,
          101,
          96,
          106,
          106,
          117,
          117,
          101,
          94,
          145,
          102,
          102,
          97,
          97,
          97,
          170,
          163,
          163,
          163,
          163,
          109,
          109,
          109,
          158,
          86,
          119,
          98,
          98,
          97,
          105,
          124,
          94,
          104,
          101,
          101,
          101,
          114,
          105,
          90,
          90,
          90,
          97,
          128,
          128,
          114,
          124,
          89,
          89,
          144,
          144,
          93,
          81,
          142,
          92,
          92,
          113,
          111,
          121,
          98,
          98,
          107,
          106,
          106,
          106,
          136,
          97,
          115,
          97,
          99,
          99,
          99,
          103,
          103,
          95,
          93,
          120,
          115,
          108,
          107,
          108,
          100,
          131,
          131,
          131,
          88,
          91,
          145,
          145,
          109,
          122,
          107,
          107,
          120,
          120,
          99,
          140,
          132,
          132,
          254,
          113,
          99,
          99,
          100,
          92,
          92,
          105,
          110,
          116,
          111,
          98,
          121,
          121,
          121,
          95,
          80,
          80,
          80,
          80,
          91,
          117,
          114,
          124,
          122,
          154,
          85,
          85,
          117,
          117,
          128,
          128,
          119,
          119,
          137,
          137,
          137,
          137,
          119,
          102,
          120,
          98,
          105,
          98,
          98,
          107,
          91,
          137,
          100,
          115,
          102,
          93,
          93,
          95,
          87,
          134,
          107,
          124,
          89,
          88,
          72,
          98,
          119,
          88,
          90,
          124,
          118,
          85,
          98,
          101,
          108,
          126,
          126,
          97,
          99,
          99,
          99,
          114,
          93,
          93,
          89,
          102,
          102,
          98,
          124,
          86,
          86,
          86,
          141,
          141,
          139,
          104,
          96,
          112,
          112,
          127,
          119,
          97,
          127,
          110,
          135,
          84,
          191,
          191,
          122,
          122,
          122,
          114,
          132,
          138,
          121,
          121,
          121,
          121,
          108,
          108,
          108,
          83,
          105,
          108,
          108,
          90,
          94,
          104,
          106,
          106,
          100,
          95,
          95,
          95,
          104,
          96,
          96,
          96,
          145,
          145,
          145,
          116,
          116,
          116,
          116,
          116,
          116,
          116,
          116,
          100,
          92,
          92,
          92,
          121,
          105,
          116,
          119,
          106,
          106,
          111,
          111,
          111,
          136,
          90,
          96,
          96,
          106,
          106,
          122,
          123,
          123,
          134,
          92,
          92,
          115,
          104,
          98,
          120,
          117,
          91,
          91,
          114,
          97,
          97,
          97,
          115,
          120,
          135,
          90,
          100,
          105,
          119,
          94,
          94,
          94,
          116,
          91,
          112,
          95,
          97,
          108,
          108,
          101,
          109,
          115,
          134,
          134,
          118,
          121,
          105,
          110,
          104,
          100,
          83,
          83,
          72,
          72,
          72,
          127,
          127,
          72,
          72,
          89,
          96,
          77,
          123,
          123,
          123,
          123,
          111,
          86,
          128,
          128,
          110,
          102,
          124,
          115,
          98,
          104,
          104,
          127,
          82,
          143,
          143,
          143,
          143,
          103,
          104,
          98,
          98,
          92,
          86,
          158,
          128,
          107,
          91,
          91,
          108,
          108,
          113,
          113,
          113,
          112,
          112,
          112,
          108,
          105,
          109,
          109,
          98,
          98,
          104,
          109,
          109,
          100,
          88,
          88,
          97,
          89,
          89,
          106,
          96,
          115,
          109,
          101,
          103,
          98,
          121,
          114,
          124,
          148,
          100,
          94,
          94,
          108,
          103,
          99,
          99,
          128,
          128,
          124,
          84,
          101,
          120,
          199,
          111,
          111,
          111,
          87,
          88,
          97,
          106,
          95,
          96,
          123,
          101,
          101,
          101,
          96,
          108,
          116,
          116,
          115,
          96,
          100,
          105,
          88,
          88,
          88,
          83,
          84,
          98,
          149,
          148,
          110,
          83,
          107,
          87,
          106,
          106,
          99,
          99,
          99,
          99,
          100,
          96,
          96,
          96,
          111,
          125,
          125,
          135,
          93,
          114,
          134,
          104,
          104,
          84,
          107,
          125,
          125,
          125,
          122,
          122,
          107,
          86,
          107,
          110,
          106,
          106,
          105,
          181,
          181,
          92,
          113,
          95,
          95,
          111,
          144,
          144,
          116,
          93,
          101,
          95,
          95,
          109,
          109,
          101,
          125,
          132,
          132,
          131,
          131,
          109,
          100,
          100,
          188,
          97,
          97,
          121,
          93,
          90,
          114,
          93,
          93,
          93,
          118,
          100,
          96,
          101,
          104,
          82,
          96,
          105,
          122,
          88,
          110,
          106,
          91,
          91,
          94,
          94,
          94,
          94,
          99,
          107,
          160,
          88,
          97,
          137,
          137,
          137,
          103,
          119,
          98,
          111,
          111,
          111,
          94,
          89,
          106,
          121,
          86,
          103,
          129,
          109,
          109,
          109,
          94,
          94,
          115,
          107,
          92,
          122,
          98,
          109,
          109,
          108,
          90,
          90,
          112,
          112,
          94,
          117,
          108,
          127,
          111,
          120,
          120,
          120,
          114,
          117,
          112,
          116,
          116,
          93,
          93,
          103,
          93,
          98,
          98,
          338,
          338,
          96,
          96,
          105,
          105,
          105,
          89,
          89,
          119,
          119,
          113,
          103,
          98,
          80,
          121,
          121,
          121,
          121,
          121,
          89,
          89,
          93,
          93,
          137,
          137,
          170,
          100,
          104,
          126,
          110,
          91,
          123,
          109,
          109,
          109,
          90,
          90,
          81,
          86,
          107,
          107,
          128,
          105,
          112,
          108,
          133,
          154,
          91,
          95,
          95,
          107,
          90,
          90,
          122,
          122,
          110,
          110,
          102,
          98,
          98,
          98,
          120,
          120,
          120,
          144,
          144,
          144,
          91,
          82,
          122,
          126,
          136,
          136,
          120,
          120,
          108,
          126,
          129,
          107,
          96,
          129,
          93,
          100,
          100,
          87,
          94,
          120,
          118,
          118,
          118,
          130,
          91,
          91,
          110,
          121,
          114,
          96,
          96,
          94,
          100,
          96,
          108,
          125,
          100,
          97,
          95,
          116,
          116,
          113,
          97,
          117,
          101,
          101,
          86,
          106,
          161,
          161,
          161,
          161,
          93,
          93,
          122,
          122,
          93,
          105,
          103,
          116,
          110,
          120,
          120,
          120,
          120,
          122,
          118,
          107,
          102,
          154,
          120,
          113,
          125,
          92,
          92,
          100,
          100,
          98,
          92,
          103,
          103,
          103,
          103,
          92,
          113,
          95,
          95,
          95,
          87,
          88,
          183,
          183,
          97,
          94,
          112,
          112,
          98,
          104,
          104,
          89,
          109,
          106,
          106,
          123,
          120,
          216,
          105,
          115,
          110,
          88,
          94,
          98,
          126,
          100,
          89,
          89,
          111,
          100,
          100,
          115,
          106,
          124,
          107,
          99,
          101,
          124,
          124,
          124,
          124,
          124,
          134,
          134,
          155,
          95,
          95,
          97,
          97,
          92,
          94,
          117,
          84,
          84,
          140,
          108,
          108,
          131,
          114,
          97,
          121,
          121,
          121,
          85,
          87,
          107,
          107,
          111,
          92,
          96,
          96,
          93,
          103,
          117,
          117,
          116,
          118,
          118,
          118,
          100,
          100,
          100,
          100,
          94,
          94,
          94,
          107,
          107,
          102,
          89,
          106,
          106,
          92,
          92,
          105,
          121,
          121,
          103,
          92,
          147,
          147,
          104,
          104,
          111,
          111,
          111,
          111,
          112,
          112,
          112,
          112,
          112,
          112,
          153,
          84,
          116,
          105,
          105,
          105,
          105,
          98,
          97,
          97,
          93,
          93,
          98,
          99,
          99,
          93,
          93,
          93,
          85,
          101,
          115,
          120,
          111,
          131,
          139,
          139,
          139,
          139,
          139,
          139,
          139,
          120,
          120,
          120,
          119,
          119,
          110,
          110,
          145,
          98,
          101,
          114,
          125,
          125,
          99,
          99,
          99,
          107,
          105,
          105,
          109,
          95,
          100,
          118,
          98,
          103,
          117,
          117,
          90,
          90,
          91,
          86,
          87,
          112,
          112,
          136,
          90,
          101,
          101,
          101,
          101,
          139,
          150,
          149,
          89,
          134,
          134,
          107,
          93,
          124,
          124,
          124,
          110,
          156,
          156,
          156,
          125,
          125,
          125,
          108,
          108,
          108,
          121,
          105,
          108,
          200,
          112,
          99,
          117,
          83,
          107,
          102,
          100,
          97,
          86,
          113,
          113,
          97,
          91,
          84,
          83,
          126,
          108,
          112,
          89,
          99,
          141,
          141,
          104,
          84,
          117,
          117,
          95,
          94,
          94,
          94,
          106,
          93,
          120,
          107,
          96,
          96,
          96,
          91,
          125,
          125,
          102,
          87,
          110,
          91,
          88,
          127,
          94,
          90,
          90,
          98,
          100,
          100,
          100,
          120,
          120,
          100,
          101,
          106,
          94,
          94,
          140,
          140,
          140,
          140,
          140,
          140,
          140,
          140,
          140,
          140,
          140,
          140,
          99,
          90,
          105,
          108,
          69,
          69,
          140,
          118,
          122,
          124,
          95,
          78,
          78,
          78,
          94,
          122,
          102,
          113,
          86,
          114,
          113,
          110,
          104,
          154,
          107,
          84,
          132,
          132,
          116,
          93,
          88,
          172,
          96,
          89,
          98,
          97,
          93,
          85,
          123,
          123,
          123,
          93,
          125,
          121,
          102,
          102,
          99,
          98,
          104,
          104,
          109,
          86,
          115,
          86,
          94,
          88,
          93,
          100,
          100,
          101,
          101,
          149,
          123,
          119,
          119,
          100,
          106,
          95,
          95,
          86,
          116,
          90,
          108,
          119,
          119,
          110,
          110,
          119,
          142,
          99,
          129,
          129,
          129,
          129,
          129,
          111,
          111,
          114,
          114,
          114,
          132,
          132,
          131,
          113,
          99,
          103,
          103,
          103,
          106,
          121,
          102,
          197,
          197,
          116,
          95,
          120,
          106,
          107,
          81,
          101,
          122,
          122,
          97,
          90,
          90,
          90,
          90,
          92,
          114,
          86,
          91,
          145,
          100,
          111,
          111,
          184,
          184,
          89,
          84,
          98,
          95,
          100,
          100,
          100,
          120,
          120,
          86,
          86,
          118,
          125,
          125,
          113,
          105,
          105,
          105,
          95,
          98,
          124,
          105,
          92,
          193,
          97,
          97,
          149,
          149,
          115,
          97,
          99,
          145,
          126,
          126,
          108,
          106,
          98,
          105,
          105,
          95,
          93,
          101,
          101,
          101,
          110,
          119,
          178,
          101,
          92,
          92,
          92,
          90,
          90,
          90,
          153,
          124,
          124,
          124,
          83,
          107,
          90,
          97,
          97,
          97,
          80,
          85,
          97,
          97,
          108,
          108,
          108,
          108,
          89,
          130,
          101,
          114,
          100,
          84,
          103,
          100,
          91,
          102,
          103,
          97,
          116,
          98,
          93,
          100,
          122,
          122,
          129,
          96,
          84,
          84,
          99,
          110,
          130,
          84,
          99,
          96,
          96,
          108,
          89,
          98,
          105,
          105,
          100,
          114,
          90,
          90,
          101,
          87,
          119,
          94,
          131,
          131,
          131,
          88,
          100,
          79,
          121,
          126,
          107,
          83,
          100,
          100,
          89,
          112,
          112,
          140,
          140,
          140,
          140,
          95,
          118,
          118,
          97,
          98,
          101,
          105,
          102,
          96,
          111,
          111,
          111,
          89,
          89,
          106,
          113,
          113,
          123,
          123,
          123,
          99,
          110,
          83,
          86,
          94,
          111,
          85,
          85,
          85,
          99,
          107,
          144,
          98,
          117,
          127,
          127,
          127,
          98,
          163,
          121,
          136,
          136,
          136,
          136,
          117,
          117,
          83,
          106,
          181,
          130,
          130,
          130,
          130,
          110,
          118,
          120,
          87,
          123,
          104,
          104,
          88,
          118,
          116,
          84,
          84,
          80,
          119,
          97,
          79,
          97,
          119,
          84,
          98,
          130,
          86,
          97,
          97,
          127,
          84,
          97,
          112,
          125,
          96,
          98,
          122,
          122,
          100,
          104,
          119,
          119,
          119,
          145,
          145,
          106,
          124,
          124,
          124,
          124,
          124,
          124,
          124,
          124,
          159,
          171,
          98,
          154,
          97,
          117,
          104,
          174,
          111,
          102,
          89,
          113,
          111,
          100,
          94,
          142,
          142,
          112,
          91,
          112,
          82,
          97,
          97,
          102,
          102,
          93,
          93,
          93,
          116,
          118,
          93,
          92,
          110,
          92,
          104,
          140,
          90,
          129,
          79,
          101,
          92,
          92,
          106,
          104,
          112,
          99,
          91,
          98,
          98,
          107,
          112,
          112,
          112,
          124,
          97,
          97,
          124,
          93,
          93,
          93,
          102,
          102,
          100,
          100,
          99,
          91,
          92,
          93,
          100,
          100,
          104,
          105,
          105,
          102,
          92,
          113,
          113,
          107,
          117,
          117,
          117,
          103,
          96,
          120,
          120,
          175,
          95,
          95,
          121,
          121,
          121,
          110,
          121,
          112,
          112,
          112,
          112,
          112,
          93,
          93,
          93,
          93,
          114,
          114,
          104,
          119,
          125,
          125,
          96,
          46,
          89,
          92,
          103,
          97,
          89,
          105,
          105,
          105,
          116,
          164,
          164,
          96,
          90,
          113,
          192,
          104,
          112,
          112,
          100,
          100,
          106,
          93,
          103,
          108,
          108,
          170,
          108,
          108,
          108,
          76,
          115,
          97,
          97,
          102,
          104,
          101,
          130,
          130,
          99,
          112,
          108,
          105,
          98,
          88,
          131,
          91,
          100,
          105,
          100,
          116,
          116,
          96,
          113,
          121,
          121,
          121,
          121,
          108,
          108,
          121,
          91,
          94,
          110,
          120,
          120,
          122,
          110,
          139,
          152,
          98,
          106,
          106,
          89,
          92,
          109,
          144,
          99,
          89,
          113,
          113,
          91,
          99,
          99,
          98,
          121,
          121,
          121,
          96,
          100,
          42,
          42,
          101,
          96,
          104,
          96,
          94,
          97,
          120,
          95,
          99,
          94,
          94,
          95,
          145,
          99,
          107,
          97,
          104,
          85,
          95,
          95,
          87,
          122,
          86,
          103,
          103,
          133,
          133,
          108,
          108,
          112,
          112,
          112,
          112,
          95,
          85,
          129,
          123,
          105,
          95,
          92,
          104,
          104,
          120,
          97,
          157,
          100,
          100,
          120,
          120,
          92,
          103,
          87,
          81,
          83,
          89,
          89,
          96,
          115,
          95,
          135,
          113,
          89,
          110,
          127,
          84,
          124,
          124,
          117,
          83,
          113,
          104,
          97,
          110,
          110,
          103,
          104,
          90,
          134,
          134,
          93,
          99,
          139,
          99,
          100,
          95,
          95,
          94,
          94,
          88,
          106,
          99,
          99,
          99,
          135,
          88,
          107,
          86,
          86,
          102,
          103,
          118,
          139,
          92,
          89,
          99,
          99,
          118,
          94,
          175,
          175,
          175,
          94,
          97,
          41,
          41,
          112,
          120,
          110,
          99,
          121,
          97,
          116,
          101,
          101,
          112,
          91,
          98,
          98,
          95,
          99,
          91,
          89,
          89,
          94,
          90,
          99,
          135,
          107,
          94,
          120,
          101,
          106,
          90,
          90,
          90,
          90,
          90,
          96,
          104,
          117,
          90,
          116,
          135,
          108,
          102,
          98,
          113,
          97,
          115,
          98,
          98,
          98,
          98,
          104,
          133,
          126,
          112,
          101,
          114,
          112,
          112,
          112,
          94,
          94,
          96,
          102,
          102,
          93,
          152,
          111,
          95,
          95,
          112,
          91,
          105,
          106,
          94,
          172,
          109,
          88,
          164,
          96,
          93,
          82,
          124,
          105,
          105,
          143,
          84,
          98,
          104,
          110,
          110,
          90,
          96,
          88,
          101,
          101,
          83,
          115,
          118,
          109,
          102,
          104,
          100,
          100,
          113,
          113,
          113,
          98,
          119,
          99,
          120,
          127,
          120,
          121,
          238,
          123,
          107,
          101,
          101,
          101,
          101,
          102,
          109,
          113,
          91,
          88,
          91,
          97,
          92,
          121,
          134,
          149,
          121,
          116,
          92,
          92,
          96,
          105,
          105,
          129,
          129,
          84,
          103,
          98,
          94,
          80,
          107,
          92,
          105,
          130,
          130,
          99,
          99,
          115,
          115,
          94,
          94,
          96,
          92,
          92,
          128,
          136,
          123,
          99,
          105,
          95,
          109,
          110,
          110,
          130,
          93,
          91,
          120,
          87,
          117,
          86,
          86,
          110,
          113,
          108,
          95,
          98,
          98,
          93,
          86,
          161,
          161,
          100,
          121,
          125,
          87,
          128,
          100,
          84,
          84,
          146,
          186,
          186,
          94,
          133,
          108,
          108,
          97,
          94,
          115,
          97,
          117,
          117,
          117,
          117,
          117,
          100,
          87,
          108,
          86,
          86,
          94,
          139,
          102,
          120,
          86,
          86,
          123,
          123,
          87,
          112,
          112,
          112,
          83,
          83,
          92,
          113,
          136,
          93,
          116,
          122,
          88,
          102,
          106,
          95,
          118,
          109,
          120,
          93,
          91,
          80,
          80,
          80,
          80,
          105,
          105,
          92,
          103,
          86,
          87,
          108,
          98,
          98,
          112,
          74,
          102,
          105,
          105,
          105,
          85,
          106,
          106,
          95,
          100,
          90,
          90,
          96,
          120,
          84,
          101,
          101,
          97,
          107,
          124,
          95,
          92,
          119,
          172,
          113,
          113,
          113,
          126,
          78,
          115,
          89,
          100,
          88,
          129,
          95,
          118,
          85,
          85,
          137,
          129,
          134,
          119,
          80,
          80,
          80,
          80,
          101,
          80,
          154,
          100,
          118,
          100,
          106,
          106,
          109,
          96,
          96,
          96,
          120,
          97,
          96,
          101,
          90,
          90,
          90,
          98,
          104,
          92,
          120,
          104,
          91,
          90,
          90,
          84,
          129,
          93,
          93,
          97,
          96,
          91,
          86,
          82,
          94,
          94,
          94,
          97,
          97,
          160,
          94,
          94,
          87,
          87,
          125,
          95,
          95,
          93,
          93,
          109,
          87,
          114,
          81,
          93,
          106,
          106,
          88,
          108,
          98,
          104,
          104,
          104,
          126,
          118,
          103,
          84,
          113,
          108,
          92,
          129,
          91,
          81,
          97,
          111,
          110,
          103,
          103,
          92,
          111,
          104,
          96,
          96,
          98,
          106,
          100,
          95,
          87,
          86,
          93,
          101,
          101,
          101,
          85,
          83,
          113,
          113,
          105,
          79,
          79,
          130,
          87,
          101,
          88,
          92,
          118,
          103,
          100,
          99,
          114,
          99,
          161,
          161,
          161,
          161,
          97,
          97,
          115,
          91,
          94,
          99,
          101,
          101,
          101,
          102,
          119,
          128,
          82,
          114,
          91,
          110,
          110,
          88,
          94,
          121,
          90,
          107,
          112,
          103,
          83,
          109,
          89,
          100,
          100,
          100,
          100,
          100,
          98,
          107,
          90,
          101,
          83,
          84,
          92,
          94,
          119,
          170,
          106,
          115,
          115,
          115,
          106,
          93,
          78,
          81,
          103,
          108,
          100,
          100,
          113,
          113,
          103,
          96,
          85,
          70,
          107,
          85,
          91,
          114,
          88,
          94,
          91,
          110,
          85,
          95,
          102,
          85,
          171,
          97,
          107,
          107,
          101,
          81,
          225,
          88,
          122,
          79,
          97,
          88,
          102,
          90,
          90,
          207,
          85,
          85,
          94,
          104,
          107,
          107,
          84,
          84,
          89,
          95,
          90,
          86,
          91,
          91,
          99,
          97,
          197,
          100,
          85,
          89,
          89,
          88,
          96,
          83,
          105,
          94,
          112,
          102,
          98,
          101,
          101,
          101,
          94,
          80,
          90,
          113,
          91,
          90,
          72,
          90,
          99,
          151,
          92,
          86,
          80,
          93,
          94,
          99,
          99,
          99,
          66,
          101,
          119,
          89,
          96,
          92,
          97,
          78,
          85,
          91,
          90,
          120,
          111,
          87,
          89,
          84,
          100,
          99,
          95,
          117,
          89,
          92,
          85,
          93,
          111,
          77,
          81,
          81
         ],
         "y0": " ",
         "yaxis": "y"
        }
       ],
       "layout": {
        "boxmode": "group",
        "legend": {
         "tracegroupgap": 0
        },
        "template": {
         "data": {
          "bar": [
           {
            "error_x": {
             "color": "#2a3f5f"
            },
            "error_y": {
             "color": "#2a3f5f"
            },
            "marker": {
             "line": {
              "color": "#E5ECF6",
              "width": 0.5
             },
             "pattern": {
              "fillmode": "overlay",
              "size": 10,
              "solidity": 0.2
             }
            },
            "type": "bar"
           }
          ],
          "barpolar": [
           {
            "marker": {
             "line": {
              "color": "#E5ECF6",
              "width": 0.5
             },
             "pattern": {
              "fillmode": "overlay",
              "size": 10,
              "solidity": 0.2
             }
            },
            "type": "barpolar"
           }
          ],
          "carpet": [
           {
            "aaxis": {
             "endlinecolor": "#2a3f5f",
             "gridcolor": "white",
             "linecolor": "white",
             "minorgridcolor": "white",
             "startlinecolor": "#2a3f5f"
            },
            "baxis": {
             "endlinecolor": "#2a3f5f",
             "gridcolor": "white",
             "linecolor": "white",
             "minorgridcolor": "white",
             "startlinecolor": "#2a3f5f"
            },
            "type": "carpet"
           }
          ],
          "choropleth": [
           {
            "colorbar": {
             "outlinewidth": 0,
             "ticks": ""
            },
            "type": "choropleth"
           }
          ],
          "contour": [
           {
            "colorbar": {
             "outlinewidth": 0,
             "ticks": ""
            },
            "colorscale": [
             [
              0,
              "#0d0887"
             ],
             [
              0.1111111111111111,
              "#46039f"
             ],
             [
              0.2222222222222222,
              "#7201a8"
             ],
             [
              0.3333333333333333,
              "#9c179e"
             ],
             [
              0.4444444444444444,
              "#bd3786"
             ],
             [
              0.5555555555555556,
              "#d8576b"
             ],
             [
              0.6666666666666666,
              "#ed7953"
             ],
             [
              0.7777777777777778,
              "#fb9f3a"
             ],
             [
              0.8888888888888888,
              "#fdca26"
             ],
             [
              1,
              "#f0f921"
             ]
            ],
            "type": "contour"
           }
          ],
          "contourcarpet": [
           {
            "colorbar": {
             "outlinewidth": 0,
             "ticks": ""
            },
            "type": "contourcarpet"
           }
          ],
          "heatmap": [
           {
            "colorbar": {
             "outlinewidth": 0,
             "ticks": ""
            },
            "colorscale": [
             [
              0,
              "#0d0887"
             ],
             [
              0.1111111111111111,
              "#46039f"
             ],
             [
              0.2222222222222222,
              "#7201a8"
             ],
             [
              0.3333333333333333,
              "#9c179e"
             ],
             [
              0.4444444444444444,
              "#bd3786"
             ],
             [
              0.5555555555555556,
              "#d8576b"
             ],
             [
              0.6666666666666666,
              "#ed7953"
             ],
             [
              0.7777777777777778,
              "#fb9f3a"
             ],
             [
              0.8888888888888888,
              "#fdca26"
             ],
             [
              1,
              "#f0f921"
             ]
            ],
            "type": "heatmap"
           }
          ],
          "heatmapgl": [
           {
            "colorbar": {
             "outlinewidth": 0,
             "ticks": ""
            },
            "colorscale": [
             [
              0,
              "#0d0887"
             ],
             [
              0.1111111111111111,
              "#46039f"
             ],
             [
              0.2222222222222222,
              "#7201a8"
             ],
             [
              0.3333333333333333,
              "#9c179e"
             ],
             [
              0.4444444444444444,
              "#bd3786"
             ],
             [
              0.5555555555555556,
              "#d8576b"
             ],
             [
              0.6666666666666666,
              "#ed7953"
             ],
             [
              0.7777777777777778,
              "#fb9f3a"
             ],
             [
              0.8888888888888888,
              "#fdca26"
             ],
             [
              1,
              "#f0f921"
             ]
            ],
            "type": "heatmapgl"
           }
          ],
          "histogram": [
           {
            "marker": {
             "pattern": {
              "fillmode": "overlay",
              "size": 10,
              "solidity": 0.2
             }
            },
            "type": "histogram"
           }
          ],
          "histogram2d": [
           {
            "colorbar": {
             "outlinewidth": 0,
             "ticks": ""
            },
            "colorscale": [
             [
              0,
              "#0d0887"
             ],
             [
              0.1111111111111111,
              "#46039f"
             ],
             [
              0.2222222222222222,
              "#7201a8"
             ],
             [
              0.3333333333333333,
              "#9c179e"
             ],
             [
              0.4444444444444444,
              "#bd3786"
             ],
             [
              0.5555555555555556,
              "#d8576b"
             ],
             [
              0.6666666666666666,
              "#ed7953"
             ],
             [
              0.7777777777777778,
              "#fb9f3a"
             ],
             [
              0.8888888888888888,
              "#fdca26"
             ],
             [
              1,
              "#f0f921"
             ]
            ],
            "type": "histogram2d"
           }
          ],
          "histogram2dcontour": [
           {
            "colorbar": {
             "outlinewidth": 0,
             "ticks": ""
            },
            "colorscale": [
             [
              0,
              "#0d0887"
             ],
             [
              0.1111111111111111,
              "#46039f"
             ],
             [
              0.2222222222222222,
              "#7201a8"
             ],
             [
              0.3333333333333333,
              "#9c179e"
             ],
             [
              0.4444444444444444,
              "#bd3786"
             ],
             [
              0.5555555555555556,
              "#d8576b"
             ],
             [
              0.6666666666666666,
              "#ed7953"
             ],
             [
              0.7777777777777778,
              "#fb9f3a"
             ],
             [
              0.8888888888888888,
              "#fdca26"
             ],
             [
              1,
              "#f0f921"
             ]
            ],
            "type": "histogram2dcontour"
           }
          ],
          "mesh3d": [
           {
            "colorbar": {
             "outlinewidth": 0,
             "ticks": ""
            },
            "type": "mesh3d"
           }
          ],
          "parcoords": [
           {
            "line": {
             "colorbar": {
              "outlinewidth": 0,
              "ticks": ""
             }
            },
            "type": "parcoords"
           }
          ],
          "pie": [
           {
            "automargin": true,
            "type": "pie"
           }
          ],
          "scatter": [
           {
            "fillpattern": {
             "fillmode": "overlay",
             "size": 10,
             "solidity": 0.2
            },
            "type": "scatter"
           }
          ],
          "scatter3d": [
           {
            "line": {
             "colorbar": {
              "outlinewidth": 0,
              "ticks": ""
             }
            },
            "marker": {
             "colorbar": {
              "outlinewidth": 0,
              "ticks": ""
             }
            },
            "type": "scatter3d"
           }
          ],
          "scattercarpet": [
           {
            "marker": {
             "colorbar": {
              "outlinewidth": 0,
              "ticks": ""
             }
            },
            "type": "scattercarpet"
           }
          ],
          "scattergeo": [
           {
            "marker": {
             "colorbar": {
              "outlinewidth": 0,
              "ticks": ""
             }
            },
            "type": "scattergeo"
           }
          ],
          "scattergl": [
           {
            "marker": {
             "colorbar": {
              "outlinewidth": 0,
              "ticks": ""
             }
            },
            "type": "scattergl"
           }
          ],
          "scattermapbox": [
           {
            "marker": {
             "colorbar": {
              "outlinewidth": 0,
              "ticks": ""
             }
            },
            "type": "scattermapbox"
           }
          ],
          "scatterpolar": [
           {
            "marker": {
             "colorbar": {
              "outlinewidth": 0,
              "ticks": ""
             }
            },
            "type": "scatterpolar"
           }
          ],
          "scatterpolargl": [
           {
            "marker": {
             "colorbar": {
              "outlinewidth": 0,
              "ticks": ""
             }
            },
            "type": "scatterpolargl"
           }
          ],
          "scatterternary": [
           {
            "marker": {
             "colorbar": {
              "outlinewidth": 0,
              "ticks": ""
             }
            },
            "type": "scatterternary"
           }
          ],
          "surface": [
           {
            "colorbar": {
             "outlinewidth": 0,
             "ticks": ""
            },
            "colorscale": [
             [
              0,
              "#0d0887"
             ],
             [
              0.1111111111111111,
              "#46039f"
             ],
             [
              0.2222222222222222,
              "#7201a8"
             ],
             [
              0.3333333333333333,
              "#9c179e"
             ],
             [
              0.4444444444444444,
              "#bd3786"
             ],
             [
              0.5555555555555556,
              "#d8576b"
             ],
             [
              0.6666666666666666,
              "#ed7953"
             ],
             [
              0.7777777777777778,
              "#fb9f3a"
             ],
             [
              0.8888888888888888,
              "#fdca26"
             ],
             [
              1,
              "#f0f921"
             ]
            ],
            "type": "surface"
           }
          ],
          "table": [
           {
            "cells": {
             "fill": {
              "color": "#EBF0F8"
             },
             "line": {
              "color": "white"
             }
            },
            "header": {
             "fill": {
              "color": "#C8D4E3"
             },
             "line": {
              "color": "white"
             }
            },
            "type": "table"
           }
          ]
         },
         "layout": {
          "annotationdefaults": {
           "arrowcolor": "#2a3f5f",
           "arrowhead": 0,
           "arrowwidth": 1
          },
          "autotypenumbers": "strict",
          "coloraxis": {
           "colorbar": {
            "outlinewidth": 0,
            "ticks": ""
           }
          },
          "colorscale": {
           "diverging": [
            [
             0,
             "#8e0152"
            ],
            [
             0.1,
             "#c51b7d"
            ],
            [
             0.2,
             "#de77ae"
            ],
            [
             0.3,
             "#f1b6da"
            ],
            [
             0.4,
             "#fde0ef"
            ],
            [
             0.5,
             "#f7f7f7"
            ],
            [
             0.6,
             "#e6f5d0"
            ],
            [
             0.7,
             "#b8e186"
            ],
            [
             0.8,
             "#7fbc41"
            ],
            [
             0.9,
             "#4d9221"
            ],
            [
             1,
             "#276419"
            ]
           ],
           "sequential": [
            [
             0,
             "#0d0887"
            ],
            [
             0.1111111111111111,
             "#46039f"
            ],
            [
             0.2222222222222222,
             "#7201a8"
            ],
            [
             0.3333333333333333,
             "#9c179e"
            ],
            [
             0.4444444444444444,
             "#bd3786"
            ],
            [
             0.5555555555555556,
             "#d8576b"
            ],
            [
             0.6666666666666666,
             "#ed7953"
            ],
            [
             0.7777777777777778,
             "#fb9f3a"
            ],
            [
             0.8888888888888888,
             "#fdca26"
            ],
            [
             1,
             "#f0f921"
            ]
           ],
           "sequentialminus": [
            [
             0,
             "#0d0887"
            ],
            [
             0.1111111111111111,
             "#46039f"
            ],
            [
             0.2222222222222222,
             "#7201a8"
            ],
            [
             0.3333333333333333,
             "#9c179e"
            ],
            [
             0.4444444444444444,
             "#bd3786"
            ],
            [
             0.5555555555555556,
             "#d8576b"
            ],
            [
             0.6666666666666666,
             "#ed7953"
            ],
            [
             0.7777777777777778,
             "#fb9f3a"
            ],
            [
             0.8888888888888888,
             "#fdca26"
            ],
            [
             1,
             "#f0f921"
            ]
           ]
          },
          "colorway": [
           "#636efa",
           "#EF553B",
           "#00cc96",
           "#ab63fa",
           "#FFA15A",
           "#19d3f3",
           "#FF6692",
           "#B6E880",
           "#FF97FF",
           "#FECB52"
          ],
          "font": {
           "color": "#2a3f5f"
          },
          "geo": {
           "bgcolor": "white",
           "lakecolor": "white",
           "landcolor": "#E5ECF6",
           "showlakes": true,
           "showland": true,
           "subunitcolor": "white"
          },
          "hoverlabel": {
           "align": "left"
          },
          "hovermode": "closest",
          "mapbox": {
           "style": "light"
          },
          "paper_bgcolor": "white",
          "plot_bgcolor": "#E5ECF6",
          "polar": {
           "angularaxis": {
            "gridcolor": "white",
            "linecolor": "white",
            "ticks": ""
           },
           "bgcolor": "#E5ECF6",
           "radialaxis": {
            "gridcolor": "white",
            "linecolor": "white",
            "ticks": ""
           }
          },
          "scene": {
           "xaxis": {
            "backgroundcolor": "#E5ECF6",
            "gridcolor": "white",
            "gridwidth": 2,
            "linecolor": "white",
            "showbackground": true,
            "ticks": "",
            "zerolinecolor": "white"
           },
           "yaxis": {
            "backgroundcolor": "#E5ECF6",
            "gridcolor": "white",
            "gridwidth": 2,
            "linecolor": "white",
            "showbackground": true,
            "ticks": "",
            "zerolinecolor": "white"
           },
           "zaxis": {
            "backgroundcolor": "#E5ECF6",
            "gridcolor": "white",
            "gridwidth": 2,
            "linecolor": "white",
            "showbackground": true,
            "ticks": "",
            "zerolinecolor": "white"
           }
          },
          "shapedefaults": {
           "line": {
            "color": "#2a3f5f"
           }
          },
          "ternary": {
           "aaxis": {
            "gridcolor": "white",
            "linecolor": "white",
            "ticks": ""
           },
           "baxis": {
            "gridcolor": "white",
            "linecolor": "white",
            "ticks": ""
           },
           "bgcolor": "#E5ECF6",
           "caxis": {
            "gridcolor": "white",
            "linecolor": "white",
            "ticks": ""
           }
          },
          "title": {
           "x": 0.05
          },
          "xaxis": {
           "automargin": true,
           "gridcolor": "white",
           "linecolor": "white",
           "ticks": "",
           "title": {
            "standoff": 15
           },
           "zerolinecolor": "white",
           "zerolinewidth": 2
          },
          "yaxis": {
           "automargin": true,
           "gridcolor": "white",
           "linecolor": "white",
           "ticks": "",
           "title": {
            "standoff": 15
           },
           "zerolinecolor": "white",
           "zerolinewidth": 2
          }
         }
        },
        "title": {
         "text": "Distribution of Movie Runtimes by Country",
         "x": 0.5
        },
        "xaxis": {
         "anchor": "y",
         "domain": [
          0,
          1
         ],
         "title": {
          "text": "Country"
         }
        },
        "yaxis": {
         "anchor": "x",
         "domain": [
          0,
          1
         ],
         "title": {
          "text": "Runtime (minutes)"
         }
        }
       }
      }
     },
     "metadata": {},
     "output_type": "display_data"
    }
   ],
   "source": [
    "fig = px.box(\n",
    "    countries_expanded,\n",
    "    x='country_name',\n",
    "    y='rt_runtime',\n",
    "    title='Distribution of Movie Runtimes by Country',\n",
    "    labels={'rt_runtime': 'Runtime (minutes)', 'country_name': 'Country'},\n",
    "    points='all'  # Show all data points\n",
    ")\n",
    "\n",
    "# Update layout for better readability\n",
    "fig.update_layout(\n",
    "    xaxis_title='Country',\n",
    "    yaxis_title='Runtime (minutes)',\n",
    "    title_x=0.5\n",
    ")\n",
    "\n",
    "fig.show()\n"
   ]
  },
  {
   "cell_type": "markdown",
   "metadata": {},
   "source": [
    "### 5) Apart from English, what are the most frequently used languages in movies?"
   ]
  },
  {
   "cell_type": "code",
   "execution_count": 27,
   "metadata": {},
   "outputs": [],
   "source": [
    "# Create a temporary DataFrame for processing\n",
    "temp_df = df_movies.copy()\n",
    "\n",
    "# Parse the 'rt_languages' column\n",
    "temp_df['rt_languages'] = parse_list_column(temp_df['rt_languages'])\n",
    "\n",
    "# Expand the languages into separate rows\n",
    "languages_expanded = temp_df.explode('rt_languages')\n",
    "\n",
    "# Extract the language names from the dictionaries\n",
    "languages_expanded['language_name'] = languages_expanded['rt_languages'].apply(\n",
    "    lambda x: x['name'] if isinstance(x, dict) else None\n",
    ")\n",
    "\n",
    "# Drop rows with missing or invalid languages\n",
    "languages_expanded = languages_expanded.dropna(subset=['language_name'])\n",
    "\n",
    "# Exclude English\n",
    "non_english_languages = languages_expanded[languages_expanded['language_name'] != 'English']\n",
    "\n",
    "# Count the occurrences of each language\n",
    "language_counts = non_english_languages['language_name'].value_counts().reset_index()\n",
    "language_counts.columns = ['language_name', 'movie_count']\n"
   ]
  },
  {
   "cell_type": "code",
   "execution_count": 28,
   "metadata": {},
   "outputs": [
    {
     "name": "stdout",
     "output_type": "stream",
     "text": [
      "Top 10 Most Frequently Used Languages (Excluding English):\n",
      "  language_name  movie_count\n",
      "0      Français          316\n",
      "1       Español          281\n",
      "2       Deutsch          184\n",
      "3       Pусский          153\n",
      "4      Italiano          146\n",
      "5           日本語           83\n",
      "6           普通话           82\n",
      "7       العربية           56\n",
      "8     Português           49\n",
      "9         Latin           43\n"
     ]
    }
   ],
   "source": [
    "# Display the top 10 most frequently used languages\n",
    "print(\"Top 10 Most Frequently Used Languages (Excluding English):\")\n",
    "print(language_counts.head(10))"
   ]
  },
  {
   "cell_type": "markdown",
   "metadata": {},
   "source": [
    "Plot"
   ]
  },
  {
   "cell_type": "code",
   "execution_count": 29,
   "metadata": {},
   "outputs": [
    {
     "data": {
      "application/vnd.plotly.v1+json": {
       "config": {
        "plotlyServerURL": "https://plot.ly"
       },
       "data": [
        {
         "domain": {
          "x": [
           0,
           1
          ],
          "y": [
           0,
           1
          ]
         },
         "hole": 0.4,
         "hovertemplate": "language_name=%{label}<br>movie_count=%{value}<extra></extra>",
         "labels": [
          "Français",
          "Español",
          "Deutsch",
          "Pусский",
          "Italiano",
          "日本語",
          "普通话",
          "العربية",
          "Português",
          "Latin"
         ],
         "legendgroup": "",
         "name": "",
         "showlegend": true,
         "type": "pie",
         "values": [
          316,
          281,
          184,
          153,
          146,
          83,
          82,
          56,
          49,
          43
         ]
        }
       ],
       "layout": {
        "legend": {
         "tracegroupgap": 0
        },
        "template": {
         "data": {
          "bar": [
           {
            "error_x": {
             "color": "#2a3f5f"
            },
            "error_y": {
             "color": "#2a3f5f"
            },
            "marker": {
             "line": {
              "color": "#E5ECF6",
              "width": 0.5
             },
             "pattern": {
              "fillmode": "overlay",
              "size": 10,
              "solidity": 0.2
             }
            },
            "type": "bar"
           }
          ],
          "barpolar": [
           {
            "marker": {
             "line": {
              "color": "#E5ECF6",
              "width": 0.5
             },
             "pattern": {
              "fillmode": "overlay",
              "size": 10,
              "solidity": 0.2
             }
            },
            "type": "barpolar"
           }
          ],
          "carpet": [
           {
            "aaxis": {
             "endlinecolor": "#2a3f5f",
             "gridcolor": "white",
             "linecolor": "white",
             "minorgridcolor": "white",
             "startlinecolor": "#2a3f5f"
            },
            "baxis": {
             "endlinecolor": "#2a3f5f",
             "gridcolor": "white",
             "linecolor": "white",
             "minorgridcolor": "white",
             "startlinecolor": "#2a3f5f"
            },
            "type": "carpet"
           }
          ],
          "choropleth": [
           {
            "colorbar": {
             "outlinewidth": 0,
             "ticks": ""
            },
            "type": "choropleth"
           }
          ],
          "contour": [
           {
            "colorbar": {
             "outlinewidth": 0,
             "ticks": ""
            },
            "colorscale": [
             [
              0,
              "#0d0887"
             ],
             [
              0.1111111111111111,
              "#46039f"
             ],
             [
              0.2222222222222222,
              "#7201a8"
             ],
             [
              0.3333333333333333,
              "#9c179e"
             ],
             [
              0.4444444444444444,
              "#bd3786"
             ],
             [
              0.5555555555555556,
              "#d8576b"
             ],
             [
              0.6666666666666666,
              "#ed7953"
             ],
             [
              0.7777777777777778,
              "#fb9f3a"
             ],
             [
              0.8888888888888888,
              "#fdca26"
             ],
             [
              1,
              "#f0f921"
             ]
            ],
            "type": "contour"
           }
          ],
          "contourcarpet": [
           {
            "colorbar": {
             "outlinewidth": 0,
             "ticks": ""
            },
            "type": "contourcarpet"
           }
          ],
          "heatmap": [
           {
            "colorbar": {
             "outlinewidth": 0,
             "ticks": ""
            },
            "colorscale": [
             [
              0,
              "#0d0887"
             ],
             [
              0.1111111111111111,
              "#46039f"
             ],
             [
              0.2222222222222222,
              "#7201a8"
             ],
             [
              0.3333333333333333,
              "#9c179e"
             ],
             [
              0.4444444444444444,
              "#bd3786"
             ],
             [
              0.5555555555555556,
              "#d8576b"
             ],
             [
              0.6666666666666666,
              "#ed7953"
             ],
             [
              0.7777777777777778,
              "#fb9f3a"
             ],
             [
              0.8888888888888888,
              "#fdca26"
             ],
             [
              1,
              "#f0f921"
             ]
            ],
            "type": "heatmap"
           }
          ],
          "heatmapgl": [
           {
            "colorbar": {
             "outlinewidth": 0,
             "ticks": ""
            },
            "colorscale": [
             [
              0,
              "#0d0887"
             ],
             [
              0.1111111111111111,
              "#46039f"
             ],
             [
              0.2222222222222222,
              "#7201a8"
             ],
             [
              0.3333333333333333,
              "#9c179e"
             ],
             [
              0.4444444444444444,
              "#bd3786"
             ],
             [
              0.5555555555555556,
              "#d8576b"
             ],
             [
              0.6666666666666666,
              "#ed7953"
             ],
             [
              0.7777777777777778,
              "#fb9f3a"
             ],
             [
              0.8888888888888888,
              "#fdca26"
             ],
             [
              1,
              "#f0f921"
             ]
            ],
            "type": "heatmapgl"
           }
          ],
          "histogram": [
           {
            "marker": {
             "pattern": {
              "fillmode": "overlay",
              "size": 10,
              "solidity": 0.2
             }
            },
            "type": "histogram"
           }
          ],
          "histogram2d": [
           {
            "colorbar": {
             "outlinewidth": 0,
             "ticks": ""
            },
            "colorscale": [
             [
              0,
              "#0d0887"
             ],
             [
              0.1111111111111111,
              "#46039f"
             ],
             [
              0.2222222222222222,
              "#7201a8"
             ],
             [
              0.3333333333333333,
              "#9c179e"
             ],
             [
              0.4444444444444444,
              "#bd3786"
             ],
             [
              0.5555555555555556,
              "#d8576b"
             ],
             [
              0.6666666666666666,
              "#ed7953"
             ],
             [
              0.7777777777777778,
              "#fb9f3a"
             ],
             [
              0.8888888888888888,
              "#fdca26"
             ],
             [
              1,
              "#f0f921"
             ]
            ],
            "type": "histogram2d"
           }
          ],
          "histogram2dcontour": [
           {
            "colorbar": {
             "outlinewidth": 0,
             "ticks": ""
            },
            "colorscale": [
             [
              0,
              "#0d0887"
             ],
             [
              0.1111111111111111,
              "#46039f"
             ],
             [
              0.2222222222222222,
              "#7201a8"
             ],
             [
              0.3333333333333333,
              "#9c179e"
             ],
             [
              0.4444444444444444,
              "#bd3786"
             ],
             [
              0.5555555555555556,
              "#d8576b"
             ],
             [
              0.6666666666666666,
              "#ed7953"
             ],
             [
              0.7777777777777778,
              "#fb9f3a"
             ],
             [
              0.8888888888888888,
              "#fdca26"
             ],
             [
              1,
              "#f0f921"
             ]
            ],
            "type": "histogram2dcontour"
           }
          ],
          "mesh3d": [
           {
            "colorbar": {
             "outlinewidth": 0,
             "ticks": ""
            },
            "type": "mesh3d"
           }
          ],
          "parcoords": [
           {
            "line": {
             "colorbar": {
              "outlinewidth": 0,
              "ticks": ""
             }
            },
            "type": "parcoords"
           }
          ],
          "pie": [
           {
            "automargin": true,
            "type": "pie"
           }
          ],
          "scatter": [
           {
            "fillpattern": {
             "fillmode": "overlay",
             "size": 10,
             "solidity": 0.2
            },
            "type": "scatter"
           }
          ],
          "scatter3d": [
           {
            "line": {
             "colorbar": {
              "outlinewidth": 0,
              "ticks": ""
             }
            },
            "marker": {
             "colorbar": {
              "outlinewidth": 0,
              "ticks": ""
             }
            },
            "type": "scatter3d"
           }
          ],
          "scattercarpet": [
           {
            "marker": {
             "colorbar": {
              "outlinewidth": 0,
              "ticks": ""
             }
            },
            "type": "scattercarpet"
           }
          ],
          "scattergeo": [
           {
            "marker": {
             "colorbar": {
              "outlinewidth": 0,
              "ticks": ""
             }
            },
            "type": "scattergeo"
           }
          ],
          "scattergl": [
           {
            "marker": {
             "colorbar": {
              "outlinewidth": 0,
              "ticks": ""
             }
            },
            "type": "scattergl"
           }
          ],
          "scattermapbox": [
           {
            "marker": {
             "colorbar": {
              "outlinewidth": 0,
              "ticks": ""
             }
            },
            "type": "scattermapbox"
           }
          ],
          "scatterpolar": [
           {
            "marker": {
             "colorbar": {
              "outlinewidth": 0,
              "ticks": ""
             }
            },
            "type": "scatterpolar"
           }
          ],
          "scatterpolargl": [
           {
            "marker": {
             "colorbar": {
              "outlinewidth": 0,
              "ticks": ""
             }
            },
            "type": "scatterpolargl"
           }
          ],
          "scatterternary": [
           {
            "marker": {
             "colorbar": {
              "outlinewidth": 0,
              "ticks": ""
             }
            },
            "type": "scatterternary"
           }
          ],
          "surface": [
           {
            "colorbar": {
             "outlinewidth": 0,
             "ticks": ""
            },
            "colorscale": [
             [
              0,
              "#0d0887"
             ],
             [
              0.1111111111111111,
              "#46039f"
             ],
             [
              0.2222222222222222,
              "#7201a8"
             ],
             [
              0.3333333333333333,
              "#9c179e"
             ],
             [
              0.4444444444444444,
              "#bd3786"
             ],
             [
              0.5555555555555556,
              "#d8576b"
             ],
             [
              0.6666666666666666,
              "#ed7953"
             ],
             [
              0.7777777777777778,
              "#fb9f3a"
             ],
             [
              0.8888888888888888,
              "#fdca26"
             ],
             [
              1,
              "#f0f921"
             ]
            ],
            "type": "surface"
           }
          ],
          "table": [
           {
            "cells": {
             "fill": {
              "color": "#EBF0F8"
             },
             "line": {
              "color": "white"
             }
            },
            "header": {
             "fill": {
              "color": "#C8D4E3"
             },
             "line": {
              "color": "white"
             }
            },
            "type": "table"
           }
          ]
         },
         "layout": {
          "annotationdefaults": {
           "arrowcolor": "#2a3f5f",
           "arrowhead": 0,
           "arrowwidth": 1
          },
          "autotypenumbers": "strict",
          "coloraxis": {
           "colorbar": {
            "outlinewidth": 0,
            "ticks": ""
           }
          },
          "colorscale": {
           "diverging": [
            [
             0,
             "#8e0152"
            ],
            [
             0.1,
             "#c51b7d"
            ],
            [
             0.2,
             "#de77ae"
            ],
            [
             0.3,
             "#f1b6da"
            ],
            [
             0.4,
             "#fde0ef"
            ],
            [
             0.5,
             "#f7f7f7"
            ],
            [
             0.6,
             "#e6f5d0"
            ],
            [
             0.7,
             "#b8e186"
            ],
            [
             0.8,
             "#7fbc41"
            ],
            [
             0.9,
             "#4d9221"
            ],
            [
             1,
             "#276419"
            ]
           ],
           "sequential": [
            [
             0,
             "#0d0887"
            ],
            [
             0.1111111111111111,
             "#46039f"
            ],
            [
             0.2222222222222222,
             "#7201a8"
            ],
            [
             0.3333333333333333,
             "#9c179e"
            ],
            [
             0.4444444444444444,
             "#bd3786"
            ],
            [
             0.5555555555555556,
             "#d8576b"
            ],
            [
             0.6666666666666666,
             "#ed7953"
            ],
            [
             0.7777777777777778,
             "#fb9f3a"
            ],
            [
             0.8888888888888888,
             "#fdca26"
            ],
            [
             1,
             "#f0f921"
            ]
           ],
           "sequentialminus": [
            [
             0,
             "#0d0887"
            ],
            [
             0.1111111111111111,
             "#46039f"
            ],
            [
             0.2222222222222222,
             "#7201a8"
            ],
            [
             0.3333333333333333,
             "#9c179e"
            ],
            [
             0.4444444444444444,
             "#bd3786"
            ],
            [
             0.5555555555555556,
             "#d8576b"
            ],
            [
             0.6666666666666666,
             "#ed7953"
            ],
            [
             0.7777777777777778,
             "#fb9f3a"
            ],
            [
             0.8888888888888888,
             "#fdca26"
            ],
            [
             1,
             "#f0f921"
            ]
           ]
          },
          "colorway": [
           "#636efa",
           "#EF553B",
           "#00cc96",
           "#ab63fa",
           "#FFA15A",
           "#19d3f3",
           "#FF6692",
           "#B6E880",
           "#FF97FF",
           "#FECB52"
          ],
          "font": {
           "color": "#2a3f5f"
          },
          "geo": {
           "bgcolor": "white",
           "lakecolor": "white",
           "landcolor": "#E5ECF6",
           "showlakes": true,
           "showland": true,
           "subunitcolor": "white"
          },
          "hoverlabel": {
           "align": "left"
          },
          "hovermode": "closest",
          "mapbox": {
           "style": "light"
          },
          "paper_bgcolor": "white",
          "plot_bgcolor": "#E5ECF6",
          "polar": {
           "angularaxis": {
            "gridcolor": "white",
            "linecolor": "white",
            "ticks": ""
           },
           "bgcolor": "#E5ECF6",
           "radialaxis": {
            "gridcolor": "white",
            "linecolor": "white",
            "ticks": ""
           }
          },
          "scene": {
           "xaxis": {
            "backgroundcolor": "#E5ECF6",
            "gridcolor": "white",
            "gridwidth": 2,
            "linecolor": "white",
            "showbackground": true,
            "ticks": "",
            "zerolinecolor": "white"
           },
           "yaxis": {
            "backgroundcolor": "#E5ECF6",
            "gridcolor": "white",
            "gridwidth": 2,
            "linecolor": "white",
            "showbackground": true,
            "ticks": "",
            "zerolinecolor": "white"
           },
           "zaxis": {
            "backgroundcolor": "#E5ECF6",
            "gridcolor": "white",
            "gridwidth": 2,
            "linecolor": "white",
            "showbackground": true,
            "ticks": "",
            "zerolinecolor": "white"
           }
          },
          "shapedefaults": {
           "line": {
            "color": "#2a3f5f"
           }
          },
          "ternary": {
           "aaxis": {
            "gridcolor": "white",
            "linecolor": "white",
            "ticks": ""
           },
           "baxis": {
            "gridcolor": "white",
            "linecolor": "white",
            "ticks": ""
           },
           "bgcolor": "#E5ECF6",
           "caxis": {
            "gridcolor": "white",
            "linecolor": "white",
            "ticks": ""
           }
          },
          "title": {
           "x": 0.05
          },
          "xaxis": {
           "automargin": true,
           "gridcolor": "white",
           "linecolor": "white",
           "ticks": "",
           "title": {
            "standoff": 15
           },
           "zerolinecolor": "white",
           "zerolinewidth": 2
          },
          "yaxis": {
           "automargin": true,
           "gridcolor": "white",
           "linecolor": "white",
           "ticks": "",
           "title": {
            "standoff": 15
           },
           "zerolinecolor": "white",
           "zerolinewidth": 2
          }
         }
        },
        "title": {
         "text": "Top 10 Most Frequently Used Languages in Movies (Excluding English)"
        }
       }
      }
     },
     "metadata": {},
     "output_type": "display_data"
    }
   ],
   "source": [
    "# Plot a pie chart for the top 10 languages\n",
    "fig = px.pie(\n",
    "    language_counts.head(10), \n",
    "    values='movie_count', \n",
    "    names='language_name',\n",
    "    title='Top 10 Most Frequently Used Languages in Movies (Excluding English)',\n",
    "    hole=0.4  # To create a donut chart (optional)\n",
    ")\n",
    "\n",
    "# Show the chart\n",
    "fig.show()"
   ]
  },
  {
   "cell_type": "markdown",
   "metadata": {},
   "source": [
    "### 6) In the past 10 years, what has been the average annual cost of the film industry in the United States? (with a yearly breakdown) HANDLE NAN"
   ]
  },
  {
   "cell_type": "code",
   "execution_count": 30,
   "metadata": {},
   "outputs": [],
   "source": [
    "# Create a temporary DataFrame for processing\n",
    "temp_df = df_movies.copy()\n",
    "\n",
    "# Convert the release date column to datetime and extract the release year\n",
    "temp_df['rt_release_date'] = pd.to_datetime(temp_df['rt_release_date'], errors='coerce')\n",
    "temp_df = temp_df.dropna(subset=['rt_release_date'])  # Drop rows with invalid release dates\n",
    "temp_df['release_year'] = temp_df['rt_release_date'].dt.year\n",
    "\n",
    "\n",
    "# Parse the 'rt_production_countries' column\n",
    "temp_df['rt_production_countries'] = parse_list_column(temp_df['rt_production_countries'])\n",
    "\n",
    "# Expand the production countries into separate rows\n",
    "countries_expanded = temp_df.explode('rt_production_countries')\n",
    "\n",
    "# Extract country names from the dictionaries\n",
    "countries_expanded['country_name'] = countries_expanded['rt_production_countries'].apply(\n",
    "    lambda x: x['name'] if isinstance(x, dict) else None\n",
    ")\n",
    "\n",
    "# Filter data for movies produced in the United States\n",
    "us_movies = countries_expanded[countries_expanded['country_name'] == 'United States of America']\n",
    "\n",
    "# Determine the minimum and maximum years in the dataset\n",
    "min_year = us_movies['release_year'].min()\n",
    "max_year = us_movies['release_year'].max()\n",
    "\n",
    "# Group by release year and calculate the average production budget\n",
    "yearly_cost = (\n",
    "    us_movies.groupby('release_year')['rt_production_budget']\n",
    "    .mean()\n",
    "    .reset_index()\n",
    "    .rename(columns={'rt_production_budget': 'average_production_budget'})\n",
    ")\n",
    "\n",
    "# Ensure all years within the range are represented, filling missing years with NaN\n",
    "all_years = pd.DataFrame({'release_year': range(min_year, max_year + 1)})\n",
    "yearly_cost = all_years.merge(yearly_cost, on='release_year', how='left')\n"
   ]
  },
  {
   "cell_type": "code",
   "execution_count": 31,
   "metadata": {},
   "outputs": [
    {
     "name": "stdout",
     "output_type": "stream",
     "text": [
      "Average Annual Cost of the Film Industry in the United States (From Minimum to Maximum Year):\n",
      "     release_year  average_production_budget\n",
      "0            1916               3.859070e+05\n",
      "1            1917                        NaN\n",
      "2            1918                        NaN\n",
      "3            1919                        NaN\n",
      "4            1920                        NaN\n",
      "..            ...                        ...\n",
      "96           2012               5.285788e+07\n",
      "97           2013               5.560493e+07\n",
      "98           2014               5.154135e+07\n",
      "99           2015               5.357456e+07\n",
      "100          2016               6.679701e+07\n",
      "\n",
      "[101 rows x 2 columns]\n"
     ]
    }
   ],
   "source": [
    "# Display the yearly breakdown\n",
    "print(\"Average Annual Cost of the Film Industry in the United States (From Minimum to Maximum Year):\")\n",
    "print(yearly_cost)\n"
   ]
  },
  {
   "cell_type": "markdown",
   "metadata": {},
   "source": [
    "Bar Chart"
   ]
  },
  {
   "cell_type": "code",
   "execution_count": 32,
   "metadata": {},
   "outputs": [
    {
     "data": {
      "application/vnd.plotly.v1+json": {
       "config": {
        "plotlyServerURL": "https://plot.ly"
       },
       "data": [
        {
         "alignmentgroup": "True",
         "hovertemplate": "Year=%{x}<br>Average Production Budget (USD)=%{text}<extra></extra>",
         "legendgroup": "",
         "marker": {
          "color": "#636efa",
          "pattern": {
           "shape": ""
          }
         },
         "name": "",
         "offsetgroup": "",
         "orientation": "v",
         "showlegend": false,
         "text": [
          385907,
          null,
          null,
          null,
          null,
          null,
          null,
          null,
          null,
          245000,
          null,
          null,
          null,
          379000,
          3950000,
          null,
          4,
          319500,
          325000,
          609000,
          600000.5,
          1488423,
          1822368,
          2759000,
          2042000,
          1250000,
          868000,
          null,
          2494000,
          1636666.6666666667,
          3760000,
          2000000,
          3350000,
          1300000,
          3768785,
          4116666.6666666665,
          2423600,
          1802500,
          3636666.6666666665,
          1200000,
          3166666.6666666665,
          1675000,
          3000000,
          3794616,
          2268982.6666666665,
          3580000,
          4300000,
          11116833.333333334,
          8683333.333333334,
          9700000,
          2566666.6666666665,
          3000000,
          4002375,
          7763441,
          9486493.25,
          4018750,
          2428000,
          3576972.875,
          4514166.666666667,
          5325000,
          7842857.142857143,
          11628181.818181818,
          13666667.888888888,
          16537500,
          17000000,
          14294736.842105264,
          13762500,
          18858333.333333332,
          14671739.130434783,
          15412500,
          15923529.411764706,
          17573684.210526317,
          12616000,
          20960833.333333332,
          31739130.43478261,
          31309523.80952381,
          27552592.592592593,
          22629411.76470588,
          31005675,
          34681579.0877193,
          38372452.43548387,
          48199275.36231884,
          41305545.18072289,
          40299271.303921565,
          45230097.37864078,
          43722608.69565217,
          43270083.2704918,
          49085502.18,
          45784816,
          42470457.60992908,
          40980067.567567565,
          46466504.42477876,
          46977037.03703704,
          49695195.97058824,
          48635880.344827585,
          46175033.333333336,
          52857884.615384616,
          55604926.544117644,
          51541353.383458644,
          53574561.42982456,
          66797014.92537314
         ],
         "textposition": "outside",
         "texttemplate": "%{text:.2s}",
         "type": "bar",
         "x": [
          1916,
          1917,
          1918,
          1919,
          1920,
          1921,
          1922,
          1923,
          1924,
          1925,
          1926,
          1927,
          1928,
          1929,
          1930,
          1931,
          1932,
          1933,
          1934,
          1935,
          1936,
          1937,
          1938,
          1939,
          1940,
          1941,
          1942,
          1943,
          1944,
          1945,
          1946,
          1947,
          1948,
          1949,
          1950,
          1951,
          1952,
          1953,
          1954,
          1955,
          1956,
          1957,
          1958,
          1959,
          1960,
          1961,
          1962,
          1963,
          1964,
          1965,
          1966,
          1967,
          1968,
          1969,
          1970,
          1971,
          1972,
          1973,
          1974,
          1975,
          1976,
          1977,
          1978,
          1979,
          1980,
          1981,
          1982,
          1983,
          1984,
          1985,
          1986,
          1987,
          1988,
          1989,
          1990,
          1991,
          1992,
          1993,
          1994,
          1995,
          1996,
          1997,
          1998,
          1999,
          2000,
          2001,
          2002,
          2003,
          2004,
          2005,
          2006,
          2007,
          2008,
          2009,
          2010,
          2011,
          2012,
          2013,
          2014,
          2015,
          2016
         ],
         "xaxis": "x",
         "y": [
          385907,
          null,
          null,
          null,
          null,
          null,
          null,
          null,
          null,
          245000,
          null,
          null,
          null,
          379000,
          3950000,
          null,
          4,
          319500,
          325000,
          609000,
          600000.5,
          1488423,
          1822368,
          2759000,
          2042000,
          1250000,
          868000,
          null,
          2494000,
          1636666.6666666667,
          3760000,
          2000000,
          3350000,
          1300000,
          3768785,
          4116666.6666666665,
          2423600,
          1802500,
          3636666.6666666665,
          1200000,
          3166666.6666666665,
          1675000,
          3000000,
          3794616,
          2268982.6666666665,
          3580000,
          4300000,
          11116833.333333334,
          8683333.333333334,
          9700000,
          2566666.6666666665,
          3000000,
          4002375,
          7763441,
          9486493.25,
          4018750,
          2428000,
          3576972.875,
          4514166.666666667,
          5325000,
          7842857.142857143,
          11628181.818181818,
          13666667.888888888,
          16537500,
          17000000,
          14294736.842105264,
          13762500,
          18858333.333333332,
          14671739.130434783,
          15412500,
          15923529.411764706,
          17573684.210526317,
          12616000,
          20960833.333333332,
          31739130.43478261,
          31309523.80952381,
          27552592.592592593,
          22629411.76470588,
          31005675,
          34681579.0877193,
          38372452.43548387,
          48199275.36231884,
          41305545.18072289,
          40299271.303921565,
          45230097.37864078,
          43722608.69565217,
          43270083.2704918,
          49085502.18,
          45784816,
          42470457.60992908,
          40980067.567567565,
          46466504.42477876,
          46977037.03703704,
          49695195.97058824,
          48635880.344827585,
          46175033.333333336,
          52857884.615384616,
          55604926.544117644,
          51541353.383458644,
          53574561.42982456,
          66797014.92537314
         ],
         "yaxis": "y"
        }
       ],
       "layout": {
        "barmode": "relative",
        "legend": {
         "tracegroupgap": 0
        },
        "template": {
         "data": {
          "bar": [
           {
            "error_x": {
             "color": "#2a3f5f"
            },
            "error_y": {
             "color": "#2a3f5f"
            },
            "marker": {
             "line": {
              "color": "#E5ECF6",
              "width": 0.5
             },
             "pattern": {
              "fillmode": "overlay",
              "size": 10,
              "solidity": 0.2
             }
            },
            "type": "bar"
           }
          ],
          "barpolar": [
           {
            "marker": {
             "line": {
              "color": "#E5ECF6",
              "width": 0.5
             },
             "pattern": {
              "fillmode": "overlay",
              "size": 10,
              "solidity": 0.2
             }
            },
            "type": "barpolar"
           }
          ],
          "carpet": [
           {
            "aaxis": {
             "endlinecolor": "#2a3f5f",
             "gridcolor": "white",
             "linecolor": "white",
             "minorgridcolor": "white",
             "startlinecolor": "#2a3f5f"
            },
            "baxis": {
             "endlinecolor": "#2a3f5f",
             "gridcolor": "white",
             "linecolor": "white",
             "minorgridcolor": "white",
             "startlinecolor": "#2a3f5f"
            },
            "type": "carpet"
           }
          ],
          "choropleth": [
           {
            "colorbar": {
             "outlinewidth": 0,
             "ticks": ""
            },
            "type": "choropleth"
           }
          ],
          "contour": [
           {
            "colorbar": {
             "outlinewidth": 0,
             "ticks": ""
            },
            "colorscale": [
             [
              0,
              "#0d0887"
             ],
             [
              0.1111111111111111,
              "#46039f"
             ],
             [
              0.2222222222222222,
              "#7201a8"
             ],
             [
              0.3333333333333333,
              "#9c179e"
             ],
             [
              0.4444444444444444,
              "#bd3786"
             ],
             [
              0.5555555555555556,
              "#d8576b"
             ],
             [
              0.6666666666666666,
              "#ed7953"
             ],
             [
              0.7777777777777778,
              "#fb9f3a"
             ],
             [
              0.8888888888888888,
              "#fdca26"
             ],
             [
              1,
              "#f0f921"
             ]
            ],
            "type": "contour"
           }
          ],
          "contourcarpet": [
           {
            "colorbar": {
             "outlinewidth": 0,
             "ticks": ""
            },
            "type": "contourcarpet"
           }
          ],
          "heatmap": [
           {
            "colorbar": {
             "outlinewidth": 0,
             "ticks": ""
            },
            "colorscale": [
             [
              0,
              "#0d0887"
             ],
             [
              0.1111111111111111,
              "#46039f"
             ],
             [
              0.2222222222222222,
              "#7201a8"
             ],
             [
              0.3333333333333333,
              "#9c179e"
             ],
             [
              0.4444444444444444,
              "#bd3786"
             ],
             [
              0.5555555555555556,
              "#d8576b"
             ],
             [
              0.6666666666666666,
              "#ed7953"
             ],
             [
              0.7777777777777778,
              "#fb9f3a"
             ],
             [
              0.8888888888888888,
              "#fdca26"
             ],
             [
              1,
              "#f0f921"
             ]
            ],
            "type": "heatmap"
           }
          ],
          "heatmapgl": [
           {
            "colorbar": {
             "outlinewidth": 0,
             "ticks": ""
            },
            "colorscale": [
             [
              0,
              "#0d0887"
             ],
             [
              0.1111111111111111,
              "#46039f"
             ],
             [
              0.2222222222222222,
              "#7201a8"
             ],
             [
              0.3333333333333333,
              "#9c179e"
             ],
             [
              0.4444444444444444,
              "#bd3786"
             ],
             [
              0.5555555555555556,
              "#d8576b"
             ],
             [
              0.6666666666666666,
              "#ed7953"
             ],
             [
              0.7777777777777778,
              "#fb9f3a"
             ],
             [
              0.8888888888888888,
              "#fdca26"
             ],
             [
              1,
              "#f0f921"
             ]
            ],
            "type": "heatmapgl"
           }
          ],
          "histogram": [
           {
            "marker": {
             "pattern": {
              "fillmode": "overlay",
              "size": 10,
              "solidity": 0.2
             }
            },
            "type": "histogram"
           }
          ],
          "histogram2d": [
           {
            "colorbar": {
             "outlinewidth": 0,
             "ticks": ""
            },
            "colorscale": [
             [
              0,
              "#0d0887"
             ],
             [
              0.1111111111111111,
              "#46039f"
             ],
             [
              0.2222222222222222,
              "#7201a8"
             ],
             [
              0.3333333333333333,
              "#9c179e"
             ],
             [
              0.4444444444444444,
              "#bd3786"
             ],
             [
              0.5555555555555556,
              "#d8576b"
             ],
             [
              0.6666666666666666,
              "#ed7953"
             ],
             [
              0.7777777777777778,
              "#fb9f3a"
             ],
             [
              0.8888888888888888,
              "#fdca26"
             ],
             [
              1,
              "#f0f921"
             ]
            ],
            "type": "histogram2d"
           }
          ],
          "histogram2dcontour": [
           {
            "colorbar": {
             "outlinewidth": 0,
             "ticks": ""
            },
            "colorscale": [
             [
              0,
              "#0d0887"
             ],
             [
              0.1111111111111111,
              "#46039f"
             ],
             [
              0.2222222222222222,
              "#7201a8"
             ],
             [
              0.3333333333333333,
              "#9c179e"
             ],
             [
              0.4444444444444444,
              "#bd3786"
             ],
             [
              0.5555555555555556,
              "#d8576b"
             ],
             [
              0.6666666666666666,
              "#ed7953"
             ],
             [
              0.7777777777777778,
              "#fb9f3a"
             ],
             [
              0.8888888888888888,
              "#fdca26"
             ],
             [
              1,
              "#f0f921"
             ]
            ],
            "type": "histogram2dcontour"
           }
          ],
          "mesh3d": [
           {
            "colorbar": {
             "outlinewidth": 0,
             "ticks": ""
            },
            "type": "mesh3d"
           }
          ],
          "parcoords": [
           {
            "line": {
             "colorbar": {
              "outlinewidth": 0,
              "ticks": ""
             }
            },
            "type": "parcoords"
           }
          ],
          "pie": [
           {
            "automargin": true,
            "type": "pie"
           }
          ],
          "scatter": [
           {
            "fillpattern": {
             "fillmode": "overlay",
             "size": 10,
             "solidity": 0.2
            },
            "type": "scatter"
           }
          ],
          "scatter3d": [
           {
            "line": {
             "colorbar": {
              "outlinewidth": 0,
              "ticks": ""
             }
            },
            "marker": {
             "colorbar": {
              "outlinewidth": 0,
              "ticks": ""
             }
            },
            "type": "scatter3d"
           }
          ],
          "scattercarpet": [
           {
            "marker": {
             "colorbar": {
              "outlinewidth": 0,
              "ticks": ""
             }
            },
            "type": "scattercarpet"
           }
          ],
          "scattergeo": [
           {
            "marker": {
             "colorbar": {
              "outlinewidth": 0,
              "ticks": ""
             }
            },
            "type": "scattergeo"
           }
          ],
          "scattergl": [
           {
            "marker": {
             "colorbar": {
              "outlinewidth": 0,
              "ticks": ""
             }
            },
            "type": "scattergl"
           }
          ],
          "scattermapbox": [
           {
            "marker": {
             "colorbar": {
              "outlinewidth": 0,
              "ticks": ""
             }
            },
            "type": "scattermapbox"
           }
          ],
          "scatterpolar": [
           {
            "marker": {
             "colorbar": {
              "outlinewidth": 0,
              "ticks": ""
             }
            },
            "type": "scatterpolar"
           }
          ],
          "scatterpolargl": [
           {
            "marker": {
             "colorbar": {
              "outlinewidth": 0,
              "ticks": ""
             }
            },
            "type": "scatterpolargl"
           }
          ],
          "scatterternary": [
           {
            "marker": {
             "colorbar": {
              "outlinewidth": 0,
              "ticks": ""
             }
            },
            "type": "scatterternary"
           }
          ],
          "surface": [
           {
            "colorbar": {
             "outlinewidth": 0,
             "ticks": ""
            },
            "colorscale": [
             [
              0,
              "#0d0887"
             ],
             [
              0.1111111111111111,
              "#46039f"
             ],
             [
              0.2222222222222222,
              "#7201a8"
             ],
             [
              0.3333333333333333,
              "#9c179e"
             ],
             [
              0.4444444444444444,
              "#bd3786"
             ],
             [
              0.5555555555555556,
              "#d8576b"
             ],
             [
              0.6666666666666666,
              "#ed7953"
             ],
             [
              0.7777777777777778,
              "#fb9f3a"
             ],
             [
              0.8888888888888888,
              "#fdca26"
             ],
             [
              1,
              "#f0f921"
             ]
            ],
            "type": "surface"
           }
          ],
          "table": [
           {
            "cells": {
             "fill": {
              "color": "#EBF0F8"
             },
             "line": {
              "color": "white"
             }
            },
            "header": {
             "fill": {
              "color": "#C8D4E3"
             },
             "line": {
              "color": "white"
             }
            },
            "type": "table"
           }
          ]
         },
         "layout": {
          "annotationdefaults": {
           "arrowcolor": "#2a3f5f",
           "arrowhead": 0,
           "arrowwidth": 1
          },
          "autotypenumbers": "strict",
          "coloraxis": {
           "colorbar": {
            "outlinewidth": 0,
            "ticks": ""
           }
          },
          "colorscale": {
           "diverging": [
            [
             0,
             "#8e0152"
            ],
            [
             0.1,
             "#c51b7d"
            ],
            [
             0.2,
             "#de77ae"
            ],
            [
             0.3,
             "#f1b6da"
            ],
            [
             0.4,
             "#fde0ef"
            ],
            [
             0.5,
             "#f7f7f7"
            ],
            [
             0.6,
             "#e6f5d0"
            ],
            [
             0.7,
             "#b8e186"
            ],
            [
             0.8,
             "#7fbc41"
            ],
            [
             0.9,
             "#4d9221"
            ],
            [
             1,
             "#276419"
            ]
           ],
           "sequential": [
            [
             0,
             "#0d0887"
            ],
            [
             0.1111111111111111,
             "#46039f"
            ],
            [
             0.2222222222222222,
             "#7201a8"
            ],
            [
             0.3333333333333333,
             "#9c179e"
            ],
            [
             0.4444444444444444,
             "#bd3786"
            ],
            [
             0.5555555555555556,
             "#d8576b"
            ],
            [
             0.6666666666666666,
             "#ed7953"
            ],
            [
             0.7777777777777778,
             "#fb9f3a"
            ],
            [
             0.8888888888888888,
             "#fdca26"
            ],
            [
             1,
             "#f0f921"
            ]
           ],
           "sequentialminus": [
            [
             0,
             "#0d0887"
            ],
            [
             0.1111111111111111,
             "#46039f"
            ],
            [
             0.2222222222222222,
             "#7201a8"
            ],
            [
             0.3333333333333333,
             "#9c179e"
            ],
            [
             0.4444444444444444,
             "#bd3786"
            ],
            [
             0.5555555555555556,
             "#d8576b"
            ],
            [
             0.6666666666666666,
             "#ed7953"
            ],
            [
             0.7777777777777778,
             "#fb9f3a"
            ],
            [
             0.8888888888888888,
             "#fdca26"
            ],
            [
             1,
             "#f0f921"
            ]
           ]
          },
          "colorway": [
           "#636efa",
           "#EF553B",
           "#00cc96",
           "#ab63fa",
           "#FFA15A",
           "#19d3f3",
           "#FF6692",
           "#B6E880",
           "#FF97FF",
           "#FECB52"
          ],
          "font": {
           "color": "#2a3f5f"
          },
          "geo": {
           "bgcolor": "white",
           "lakecolor": "white",
           "landcolor": "#E5ECF6",
           "showlakes": true,
           "showland": true,
           "subunitcolor": "white"
          },
          "hoverlabel": {
           "align": "left"
          },
          "hovermode": "closest",
          "mapbox": {
           "style": "light"
          },
          "paper_bgcolor": "white",
          "plot_bgcolor": "#E5ECF6",
          "polar": {
           "angularaxis": {
            "gridcolor": "white",
            "linecolor": "white",
            "ticks": ""
           },
           "bgcolor": "#E5ECF6",
           "radialaxis": {
            "gridcolor": "white",
            "linecolor": "white",
            "ticks": ""
           }
          },
          "scene": {
           "xaxis": {
            "backgroundcolor": "#E5ECF6",
            "gridcolor": "white",
            "gridwidth": 2,
            "linecolor": "white",
            "showbackground": true,
            "ticks": "",
            "zerolinecolor": "white"
           },
           "yaxis": {
            "backgroundcolor": "#E5ECF6",
            "gridcolor": "white",
            "gridwidth": 2,
            "linecolor": "white",
            "showbackground": true,
            "ticks": "",
            "zerolinecolor": "white"
           },
           "zaxis": {
            "backgroundcolor": "#E5ECF6",
            "gridcolor": "white",
            "gridwidth": 2,
            "linecolor": "white",
            "showbackground": true,
            "ticks": "",
            "zerolinecolor": "white"
           }
          },
          "shapedefaults": {
           "line": {
            "color": "#2a3f5f"
           }
          },
          "ternary": {
           "aaxis": {
            "gridcolor": "white",
            "linecolor": "white",
            "ticks": ""
           },
           "baxis": {
            "gridcolor": "white",
            "linecolor": "white",
            "ticks": ""
           },
           "bgcolor": "#E5ECF6",
           "caxis": {
            "gridcolor": "white",
            "linecolor": "white",
            "ticks": ""
           }
          },
          "title": {
           "x": 0.05
          },
          "xaxis": {
           "automargin": true,
           "gridcolor": "white",
           "linecolor": "white",
           "ticks": "",
           "title": {
            "standoff": 15
           },
           "zerolinecolor": "white",
           "zerolinewidth": 2
          },
          "yaxis": {
           "automargin": true,
           "gridcolor": "white",
           "linecolor": "white",
           "ticks": "",
           "title": {
            "standoff": 15
           },
           "zerolinecolor": "white",
           "zerolinewidth": 2
          }
         }
        },
        "title": {
         "text": "Average Annual Cost of the Film Industry in the United States (Full Year Range)",
         "x": 0.5
        },
        "xaxis": {
         "anchor": "y",
         "domain": [
          0,
          1
         ],
         "dtick": 1,
         "tickmode": "linear",
         "title": {
          "text": "Year"
         }
        },
        "yaxis": {
         "anchor": "x",
         "domain": [
          0,
          1
         ],
         "title": {
          "text": "Average Production Budget (USD)"
         }
        }
       }
      }
     },
     "metadata": {},
     "output_type": "display_data"
    }
   ],
   "source": [
    "# Plot the yearly breakdown\n",
    "fig = px.bar(\n",
    "    yearly_cost,\n",
    "    x='release_year',\n",
    "    y='average_production_budget',\n",
    "    title='Average Annual Cost of the Film Industry in the United States (Full Year Range)',\n",
    "    labels={'release_year': 'Year', 'average_production_budget': 'Average Production Budget (USD)'},\n",
    "    text='average_production_budget'\n",
    ")\n",
    "\n",
    "fig.update_traces(texttemplate='%{text:.2s}', textposition='outside')\n",
    "fig.update_layout(\n",
    "    xaxis=dict(tickmode='linear', dtick=1),\n",
    "    yaxis_title='Average Production Budget (USD)',\n",
    "    xaxis_title='Year',\n",
    "    title_x=0.5\n",
    ")\n",
    "\n",
    "fig.show()"
   ]
  },
  {
   "cell_type": "markdown",
   "metadata": {},
   "source": [
    "Area Chart"
   ]
  },
  {
   "cell_type": "code",
   "execution_count": 33,
   "metadata": {},
   "outputs": [
    {
     "data": {
      "application/vnd.plotly.v1+json": {
       "config": {
        "plotlyServerURL": "https://plot.ly"
       },
       "data": [
        {
         "fillpattern": {
          "shape": ""
         },
         "hovertemplate": "Year=%{x}<br>Average Production Budget (USD)=%{y}<extra></extra>",
         "legendgroup": "",
         "line": {
          "color": "#636efa"
         },
         "marker": {
          "symbol": "circle"
         },
         "mode": "lines",
         "name": "",
         "orientation": "v",
         "showlegend": false,
         "stackgroup": "1",
         "type": "scatter",
         "x": [
          1916,
          1917,
          1918,
          1919,
          1920,
          1921,
          1922,
          1923,
          1924,
          1925,
          1926,
          1927,
          1928,
          1929,
          1930,
          1931,
          1932,
          1933,
          1934,
          1935,
          1936,
          1937,
          1938,
          1939,
          1940,
          1941,
          1942,
          1943,
          1944,
          1945,
          1946,
          1947,
          1948,
          1949,
          1950,
          1951,
          1952,
          1953,
          1954,
          1955,
          1956,
          1957,
          1958,
          1959,
          1960,
          1961,
          1962,
          1963,
          1964,
          1965,
          1966,
          1967,
          1968,
          1969,
          1970,
          1971,
          1972,
          1973,
          1974,
          1975,
          1976,
          1977,
          1978,
          1979,
          1980,
          1981,
          1982,
          1983,
          1984,
          1985,
          1986,
          1987,
          1988,
          1989,
          1990,
          1991,
          1992,
          1993,
          1994,
          1995,
          1996,
          1997,
          1998,
          1999,
          2000,
          2001,
          2002,
          2003,
          2004,
          2005,
          2006,
          2007,
          2008,
          2009,
          2010,
          2011,
          2012,
          2013,
          2014,
          2015,
          2016
         ],
         "xaxis": "x",
         "y": [
          385907,
          null,
          null,
          null,
          null,
          null,
          null,
          null,
          null,
          245000,
          null,
          null,
          null,
          379000,
          3950000,
          null,
          4,
          319500,
          325000,
          609000,
          600000.5,
          1488423,
          1822368,
          2759000,
          2042000,
          1250000,
          868000,
          null,
          2494000,
          1636666.6666666667,
          3760000,
          2000000,
          3350000,
          1300000,
          3768785,
          4116666.6666666665,
          2423600,
          1802500,
          3636666.6666666665,
          1200000,
          3166666.6666666665,
          1675000,
          3000000,
          3794616,
          2268982.6666666665,
          3580000,
          4300000,
          11116833.333333334,
          8683333.333333334,
          9700000,
          2566666.6666666665,
          3000000,
          4002375,
          7763441,
          9486493.25,
          4018750,
          2428000,
          3576972.875,
          4514166.666666667,
          5325000,
          7842857.142857143,
          11628181.818181818,
          13666667.888888888,
          16537500,
          17000000,
          14294736.842105264,
          13762500,
          18858333.333333332,
          14671739.130434783,
          15412500,
          15923529.411764706,
          17573684.210526317,
          12616000,
          20960833.333333332,
          31739130.43478261,
          31309523.80952381,
          27552592.592592593,
          22629411.76470588,
          31005675,
          34681579.0877193,
          38372452.43548387,
          48199275.36231884,
          41305545.18072289,
          40299271.303921565,
          45230097.37864078,
          43722608.69565217,
          43270083.2704918,
          49085502.18,
          45784816,
          42470457.60992908,
          40980067.567567565,
          46466504.42477876,
          46977037.03703704,
          49695195.97058824,
          48635880.344827585,
          46175033.333333336,
          52857884.615384616,
          55604926.544117644,
          51541353.383458644,
          53574561.42982456,
          66797014.92537314
         ],
         "yaxis": "y"
        }
       ],
       "layout": {
        "legend": {
         "tracegroupgap": 0
        },
        "template": {
         "data": {
          "bar": [
           {
            "error_x": {
             "color": "#2a3f5f"
            },
            "error_y": {
             "color": "#2a3f5f"
            },
            "marker": {
             "line": {
              "color": "#E5ECF6",
              "width": 0.5
             },
             "pattern": {
              "fillmode": "overlay",
              "size": 10,
              "solidity": 0.2
             }
            },
            "type": "bar"
           }
          ],
          "barpolar": [
           {
            "marker": {
             "line": {
              "color": "#E5ECF6",
              "width": 0.5
             },
             "pattern": {
              "fillmode": "overlay",
              "size": 10,
              "solidity": 0.2
             }
            },
            "type": "barpolar"
           }
          ],
          "carpet": [
           {
            "aaxis": {
             "endlinecolor": "#2a3f5f",
             "gridcolor": "white",
             "linecolor": "white",
             "minorgridcolor": "white",
             "startlinecolor": "#2a3f5f"
            },
            "baxis": {
             "endlinecolor": "#2a3f5f",
             "gridcolor": "white",
             "linecolor": "white",
             "minorgridcolor": "white",
             "startlinecolor": "#2a3f5f"
            },
            "type": "carpet"
           }
          ],
          "choropleth": [
           {
            "colorbar": {
             "outlinewidth": 0,
             "ticks": ""
            },
            "type": "choropleth"
           }
          ],
          "contour": [
           {
            "colorbar": {
             "outlinewidth": 0,
             "ticks": ""
            },
            "colorscale": [
             [
              0,
              "#0d0887"
             ],
             [
              0.1111111111111111,
              "#46039f"
             ],
             [
              0.2222222222222222,
              "#7201a8"
             ],
             [
              0.3333333333333333,
              "#9c179e"
             ],
             [
              0.4444444444444444,
              "#bd3786"
             ],
             [
              0.5555555555555556,
              "#d8576b"
             ],
             [
              0.6666666666666666,
              "#ed7953"
             ],
             [
              0.7777777777777778,
              "#fb9f3a"
             ],
             [
              0.8888888888888888,
              "#fdca26"
             ],
             [
              1,
              "#f0f921"
             ]
            ],
            "type": "contour"
           }
          ],
          "contourcarpet": [
           {
            "colorbar": {
             "outlinewidth": 0,
             "ticks": ""
            },
            "type": "contourcarpet"
           }
          ],
          "heatmap": [
           {
            "colorbar": {
             "outlinewidth": 0,
             "ticks": ""
            },
            "colorscale": [
             [
              0,
              "#0d0887"
             ],
             [
              0.1111111111111111,
              "#46039f"
             ],
             [
              0.2222222222222222,
              "#7201a8"
             ],
             [
              0.3333333333333333,
              "#9c179e"
             ],
             [
              0.4444444444444444,
              "#bd3786"
             ],
             [
              0.5555555555555556,
              "#d8576b"
             ],
             [
              0.6666666666666666,
              "#ed7953"
             ],
             [
              0.7777777777777778,
              "#fb9f3a"
             ],
             [
              0.8888888888888888,
              "#fdca26"
             ],
             [
              1,
              "#f0f921"
             ]
            ],
            "type": "heatmap"
           }
          ],
          "heatmapgl": [
           {
            "colorbar": {
             "outlinewidth": 0,
             "ticks": ""
            },
            "colorscale": [
             [
              0,
              "#0d0887"
             ],
             [
              0.1111111111111111,
              "#46039f"
             ],
             [
              0.2222222222222222,
              "#7201a8"
             ],
             [
              0.3333333333333333,
              "#9c179e"
             ],
             [
              0.4444444444444444,
              "#bd3786"
             ],
             [
              0.5555555555555556,
              "#d8576b"
             ],
             [
              0.6666666666666666,
              "#ed7953"
             ],
             [
              0.7777777777777778,
              "#fb9f3a"
             ],
             [
              0.8888888888888888,
              "#fdca26"
             ],
             [
              1,
              "#f0f921"
             ]
            ],
            "type": "heatmapgl"
           }
          ],
          "histogram": [
           {
            "marker": {
             "pattern": {
              "fillmode": "overlay",
              "size": 10,
              "solidity": 0.2
             }
            },
            "type": "histogram"
           }
          ],
          "histogram2d": [
           {
            "colorbar": {
             "outlinewidth": 0,
             "ticks": ""
            },
            "colorscale": [
             [
              0,
              "#0d0887"
             ],
             [
              0.1111111111111111,
              "#46039f"
             ],
             [
              0.2222222222222222,
              "#7201a8"
             ],
             [
              0.3333333333333333,
              "#9c179e"
             ],
             [
              0.4444444444444444,
              "#bd3786"
             ],
             [
              0.5555555555555556,
              "#d8576b"
             ],
             [
              0.6666666666666666,
              "#ed7953"
             ],
             [
              0.7777777777777778,
              "#fb9f3a"
             ],
             [
              0.8888888888888888,
              "#fdca26"
             ],
             [
              1,
              "#f0f921"
             ]
            ],
            "type": "histogram2d"
           }
          ],
          "histogram2dcontour": [
           {
            "colorbar": {
             "outlinewidth": 0,
             "ticks": ""
            },
            "colorscale": [
             [
              0,
              "#0d0887"
             ],
             [
              0.1111111111111111,
              "#46039f"
             ],
             [
              0.2222222222222222,
              "#7201a8"
             ],
             [
              0.3333333333333333,
              "#9c179e"
             ],
             [
              0.4444444444444444,
              "#bd3786"
             ],
             [
              0.5555555555555556,
              "#d8576b"
             ],
             [
              0.6666666666666666,
              "#ed7953"
             ],
             [
              0.7777777777777778,
              "#fb9f3a"
             ],
             [
              0.8888888888888888,
              "#fdca26"
             ],
             [
              1,
              "#f0f921"
             ]
            ],
            "type": "histogram2dcontour"
           }
          ],
          "mesh3d": [
           {
            "colorbar": {
             "outlinewidth": 0,
             "ticks": ""
            },
            "type": "mesh3d"
           }
          ],
          "parcoords": [
           {
            "line": {
             "colorbar": {
              "outlinewidth": 0,
              "ticks": ""
             }
            },
            "type": "parcoords"
           }
          ],
          "pie": [
           {
            "automargin": true,
            "type": "pie"
           }
          ],
          "scatter": [
           {
            "fillpattern": {
             "fillmode": "overlay",
             "size": 10,
             "solidity": 0.2
            },
            "type": "scatter"
           }
          ],
          "scatter3d": [
           {
            "line": {
             "colorbar": {
              "outlinewidth": 0,
              "ticks": ""
             }
            },
            "marker": {
             "colorbar": {
              "outlinewidth": 0,
              "ticks": ""
             }
            },
            "type": "scatter3d"
           }
          ],
          "scattercarpet": [
           {
            "marker": {
             "colorbar": {
              "outlinewidth": 0,
              "ticks": ""
             }
            },
            "type": "scattercarpet"
           }
          ],
          "scattergeo": [
           {
            "marker": {
             "colorbar": {
              "outlinewidth": 0,
              "ticks": ""
             }
            },
            "type": "scattergeo"
           }
          ],
          "scattergl": [
           {
            "marker": {
             "colorbar": {
              "outlinewidth": 0,
              "ticks": ""
             }
            },
            "type": "scattergl"
           }
          ],
          "scattermapbox": [
           {
            "marker": {
             "colorbar": {
              "outlinewidth": 0,
              "ticks": ""
             }
            },
            "type": "scattermapbox"
           }
          ],
          "scatterpolar": [
           {
            "marker": {
             "colorbar": {
              "outlinewidth": 0,
              "ticks": ""
             }
            },
            "type": "scatterpolar"
           }
          ],
          "scatterpolargl": [
           {
            "marker": {
             "colorbar": {
              "outlinewidth": 0,
              "ticks": ""
             }
            },
            "type": "scatterpolargl"
           }
          ],
          "scatterternary": [
           {
            "marker": {
             "colorbar": {
              "outlinewidth": 0,
              "ticks": ""
             }
            },
            "type": "scatterternary"
           }
          ],
          "surface": [
           {
            "colorbar": {
             "outlinewidth": 0,
             "ticks": ""
            },
            "colorscale": [
             [
              0,
              "#0d0887"
             ],
             [
              0.1111111111111111,
              "#46039f"
             ],
             [
              0.2222222222222222,
              "#7201a8"
             ],
             [
              0.3333333333333333,
              "#9c179e"
             ],
             [
              0.4444444444444444,
              "#bd3786"
             ],
             [
              0.5555555555555556,
              "#d8576b"
             ],
             [
              0.6666666666666666,
              "#ed7953"
             ],
             [
              0.7777777777777778,
              "#fb9f3a"
             ],
             [
              0.8888888888888888,
              "#fdca26"
             ],
             [
              1,
              "#f0f921"
             ]
            ],
            "type": "surface"
           }
          ],
          "table": [
           {
            "cells": {
             "fill": {
              "color": "#EBF0F8"
             },
             "line": {
              "color": "white"
             }
            },
            "header": {
             "fill": {
              "color": "#C8D4E3"
             },
             "line": {
              "color": "white"
             }
            },
            "type": "table"
           }
          ]
         },
         "layout": {
          "annotationdefaults": {
           "arrowcolor": "#2a3f5f",
           "arrowhead": 0,
           "arrowwidth": 1
          },
          "autotypenumbers": "strict",
          "coloraxis": {
           "colorbar": {
            "outlinewidth": 0,
            "ticks": ""
           }
          },
          "colorscale": {
           "diverging": [
            [
             0,
             "#8e0152"
            ],
            [
             0.1,
             "#c51b7d"
            ],
            [
             0.2,
             "#de77ae"
            ],
            [
             0.3,
             "#f1b6da"
            ],
            [
             0.4,
             "#fde0ef"
            ],
            [
             0.5,
             "#f7f7f7"
            ],
            [
             0.6,
             "#e6f5d0"
            ],
            [
             0.7,
             "#b8e186"
            ],
            [
             0.8,
             "#7fbc41"
            ],
            [
             0.9,
             "#4d9221"
            ],
            [
             1,
             "#276419"
            ]
           ],
           "sequential": [
            [
             0,
             "#0d0887"
            ],
            [
             0.1111111111111111,
             "#46039f"
            ],
            [
             0.2222222222222222,
             "#7201a8"
            ],
            [
             0.3333333333333333,
             "#9c179e"
            ],
            [
             0.4444444444444444,
             "#bd3786"
            ],
            [
             0.5555555555555556,
             "#d8576b"
            ],
            [
             0.6666666666666666,
             "#ed7953"
            ],
            [
             0.7777777777777778,
             "#fb9f3a"
            ],
            [
             0.8888888888888888,
             "#fdca26"
            ],
            [
             1,
             "#f0f921"
            ]
           ],
           "sequentialminus": [
            [
             0,
             "#0d0887"
            ],
            [
             0.1111111111111111,
             "#46039f"
            ],
            [
             0.2222222222222222,
             "#7201a8"
            ],
            [
             0.3333333333333333,
             "#9c179e"
            ],
            [
             0.4444444444444444,
             "#bd3786"
            ],
            [
             0.5555555555555556,
             "#d8576b"
            ],
            [
             0.6666666666666666,
             "#ed7953"
            ],
            [
             0.7777777777777778,
             "#fb9f3a"
            ],
            [
             0.8888888888888888,
             "#fdca26"
            ],
            [
             1,
             "#f0f921"
            ]
           ]
          },
          "colorway": [
           "#636efa",
           "#EF553B",
           "#00cc96",
           "#ab63fa",
           "#FFA15A",
           "#19d3f3",
           "#FF6692",
           "#B6E880",
           "#FF97FF",
           "#FECB52"
          ],
          "font": {
           "color": "#2a3f5f"
          },
          "geo": {
           "bgcolor": "white",
           "lakecolor": "white",
           "landcolor": "#E5ECF6",
           "showlakes": true,
           "showland": true,
           "subunitcolor": "white"
          },
          "hoverlabel": {
           "align": "left"
          },
          "hovermode": "closest",
          "mapbox": {
           "style": "light"
          },
          "paper_bgcolor": "white",
          "plot_bgcolor": "#E5ECF6",
          "polar": {
           "angularaxis": {
            "gridcolor": "white",
            "linecolor": "white",
            "ticks": ""
           },
           "bgcolor": "#E5ECF6",
           "radialaxis": {
            "gridcolor": "white",
            "linecolor": "white",
            "ticks": ""
           }
          },
          "scene": {
           "xaxis": {
            "backgroundcolor": "#E5ECF6",
            "gridcolor": "white",
            "gridwidth": 2,
            "linecolor": "white",
            "showbackground": true,
            "ticks": "",
            "zerolinecolor": "white"
           },
           "yaxis": {
            "backgroundcolor": "#E5ECF6",
            "gridcolor": "white",
            "gridwidth": 2,
            "linecolor": "white",
            "showbackground": true,
            "ticks": "",
            "zerolinecolor": "white"
           },
           "zaxis": {
            "backgroundcolor": "#E5ECF6",
            "gridcolor": "white",
            "gridwidth": 2,
            "linecolor": "white",
            "showbackground": true,
            "ticks": "",
            "zerolinecolor": "white"
           }
          },
          "shapedefaults": {
           "line": {
            "color": "#2a3f5f"
           }
          },
          "ternary": {
           "aaxis": {
            "gridcolor": "white",
            "linecolor": "white",
            "ticks": ""
           },
           "baxis": {
            "gridcolor": "white",
            "linecolor": "white",
            "ticks": ""
           },
           "bgcolor": "#E5ECF6",
           "caxis": {
            "gridcolor": "white",
            "linecolor": "white",
            "ticks": ""
           }
          },
          "title": {
           "x": 0.05
          },
          "xaxis": {
           "automargin": true,
           "gridcolor": "white",
           "linecolor": "white",
           "ticks": "",
           "title": {
            "standoff": 15
           },
           "zerolinecolor": "white",
           "zerolinewidth": 2
          },
          "yaxis": {
           "automargin": true,
           "gridcolor": "white",
           "linecolor": "white",
           "ticks": "",
           "title": {
            "standoff": 15
           },
           "zerolinecolor": "white",
           "zerolinewidth": 2
          }
         }
        },
        "title": {
         "text": "Average Annual Cost of the Film Industry in the United States (Full Year Range)",
         "x": 0.5
        },
        "xaxis": {
         "anchor": "y",
         "domain": [
          0,
          1
         ],
         "dtick": 5,
         "tickmode": "linear",
         "title": {
          "text": "Year"
         }
        },
        "yaxis": {
         "anchor": "x",
         "domain": [
          0,
          1
         ],
         "title": {
          "text": "Average Production Budget (USD)"
         }
        }
       }
      }
     },
     "metadata": {},
     "output_type": "display_data"
    }
   ],
   "source": [
    "fig = px.area(\n",
    "    yearly_cost,\n",
    "    x='release_year',\n",
    "    y='average_production_budget',\n",
    "    title='Average Annual Cost of the Film Industry in the United States (Full Year Range)',\n",
    "    labels={'release_year': 'Year', 'average_production_budget': 'Average Production Budget (USD)'}\n",
    ")\n",
    "\n",
    "fig.update_layout(\n",
    "    xaxis=dict(tickmode='linear', dtick=5),  # Show ticks every 5 years\n",
    "    yaxis_title='Average Production Budget (USD)',\n",
    "    xaxis_title='Year',\n",
    "    title_x=0.5\n",
    ")\n",
    "\n",
    "fig.show()\n"
   ]
  },
  {
   "cell_type": "markdown",
   "metadata": {},
   "source": [
    "Line Chart"
   ]
  },
  {
   "cell_type": "code",
   "execution_count": 34,
   "metadata": {},
   "outputs": [
    {
     "data": {
      "application/vnd.plotly.v1+json": {
       "config": {
        "plotlyServerURL": "https://plot.ly"
       },
       "data": [
        {
         "hovertemplate": "Year=%{x}<br>Average Production Budget (USD)=%{y}<extra></extra>",
         "legendgroup": "",
         "line": {
          "color": "#636efa",
          "dash": "solid"
         },
         "marker": {
          "symbol": "circle"
         },
         "mode": "lines+markers",
         "name": "",
         "orientation": "v",
         "showlegend": false,
         "type": "scatter",
         "x": [
          1916,
          1917,
          1918,
          1919,
          1920,
          1921,
          1922,
          1923,
          1924,
          1925,
          1926,
          1927,
          1928,
          1929,
          1930,
          1931,
          1932,
          1933,
          1934,
          1935,
          1936,
          1937,
          1938,
          1939,
          1940,
          1941,
          1942,
          1943,
          1944,
          1945,
          1946,
          1947,
          1948,
          1949,
          1950,
          1951,
          1952,
          1953,
          1954,
          1955,
          1956,
          1957,
          1958,
          1959,
          1960,
          1961,
          1962,
          1963,
          1964,
          1965,
          1966,
          1967,
          1968,
          1969,
          1970,
          1971,
          1972,
          1973,
          1974,
          1975,
          1976,
          1977,
          1978,
          1979,
          1980,
          1981,
          1982,
          1983,
          1984,
          1985,
          1986,
          1987,
          1988,
          1989,
          1990,
          1991,
          1992,
          1993,
          1994,
          1995,
          1996,
          1997,
          1998,
          1999,
          2000,
          2001,
          2002,
          2003,
          2004,
          2005,
          2006,
          2007,
          2008,
          2009,
          2010,
          2011,
          2012,
          2013,
          2014,
          2015,
          2016
         ],
         "xaxis": "x",
         "y": [
          385907,
          null,
          null,
          null,
          null,
          null,
          null,
          null,
          null,
          245000,
          null,
          null,
          null,
          379000,
          3950000,
          null,
          4,
          319500,
          325000,
          609000,
          600000.5,
          1488423,
          1822368,
          2759000,
          2042000,
          1250000,
          868000,
          null,
          2494000,
          1636666.6666666667,
          3760000,
          2000000,
          3350000,
          1300000,
          3768785,
          4116666.6666666665,
          2423600,
          1802500,
          3636666.6666666665,
          1200000,
          3166666.6666666665,
          1675000,
          3000000,
          3794616,
          2268982.6666666665,
          3580000,
          4300000,
          11116833.333333334,
          8683333.333333334,
          9700000,
          2566666.6666666665,
          3000000,
          4002375,
          7763441,
          9486493.25,
          4018750,
          2428000,
          3576972.875,
          4514166.666666667,
          5325000,
          7842857.142857143,
          11628181.818181818,
          13666667.888888888,
          16537500,
          17000000,
          14294736.842105264,
          13762500,
          18858333.333333332,
          14671739.130434783,
          15412500,
          15923529.411764706,
          17573684.210526317,
          12616000,
          20960833.333333332,
          31739130.43478261,
          31309523.80952381,
          27552592.592592593,
          22629411.76470588,
          31005675,
          34681579.0877193,
          38372452.43548387,
          48199275.36231884,
          41305545.18072289,
          40299271.303921565,
          45230097.37864078,
          43722608.69565217,
          43270083.2704918,
          49085502.18,
          45784816,
          42470457.60992908,
          40980067.567567565,
          46466504.42477876,
          46977037.03703704,
          49695195.97058824,
          48635880.344827585,
          46175033.333333336,
          52857884.615384616,
          55604926.544117644,
          51541353.383458644,
          53574561.42982456,
          66797014.92537314
         ],
         "yaxis": "y"
        }
       ],
       "layout": {
        "legend": {
         "tracegroupgap": 0
        },
        "template": {
         "data": {
          "bar": [
           {
            "error_x": {
             "color": "#2a3f5f"
            },
            "error_y": {
             "color": "#2a3f5f"
            },
            "marker": {
             "line": {
              "color": "#E5ECF6",
              "width": 0.5
             },
             "pattern": {
              "fillmode": "overlay",
              "size": 10,
              "solidity": 0.2
             }
            },
            "type": "bar"
           }
          ],
          "barpolar": [
           {
            "marker": {
             "line": {
              "color": "#E5ECF6",
              "width": 0.5
             },
             "pattern": {
              "fillmode": "overlay",
              "size": 10,
              "solidity": 0.2
             }
            },
            "type": "barpolar"
           }
          ],
          "carpet": [
           {
            "aaxis": {
             "endlinecolor": "#2a3f5f",
             "gridcolor": "white",
             "linecolor": "white",
             "minorgridcolor": "white",
             "startlinecolor": "#2a3f5f"
            },
            "baxis": {
             "endlinecolor": "#2a3f5f",
             "gridcolor": "white",
             "linecolor": "white",
             "minorgridcolor": "white",
             "startlinecolor": "#2a3f5f"
            },
            "type": "carpet"
           }
          ],
          "choropleth": [
           {
            "colorbar": {
             "outlinewidth": 0,
             "ticks": ""
            },
            "type": "choropleth"
           }
          ],
          "contour": [
           {
            "colorbar": {
             "outlinewidth": 0,
             "ticks": ""
            },
            "colorscale": [
             [
              0,
              "#0d0887"
             ],
             [
              0.1111111111111111,
              "#46039f"
             ],
             [
              0.2222222222222222,
              "#7201a8"
             ],
             [
              0.3333333333333333,
              "#9c179e"
             ],
             [
              0.4444444444444444,
              "#bd3786"
             ],
             [
              0.5555555555555556,
              "#d8576b"
             ],
             [
              0.6666666666666666,
              "#ed7953"
             ],
             [
              0.7777777777777778,
              "#fb9f3a"
             ],
             [
              0.8888888888888888,
              "#fdca26"
             ],
             [
              1,
              "#f0f921"
             ]
            ],
            "type": "contour"
           }
          ],
          "contourcarpet": [
           {
            "colorbar": {
             "outlinewidth": 0,
             "ticks": ""
            },
            "type": "contourcarpet"
           }
          ],
          "heatmap": [
           {
            "colorbar": {
             "outlinewidth": 0,
             "ticks": ""
            },
            "colorscale": [
             [
              0,
              "#0d0887"
             ],
             [
              0.1111111111111111,
              "#46039f"
             ],
             [
              0.2222222222222222,
              "#7201a8"
             ],
             [
              0.3333333333333333,
              "#9c179e"
             ],
             [
              0.4444444444444444,
              "#bd3786"
             ],
             [
              0.5555555555555556,
              "#d8576b"
             ],
             [
              0.6666666666666666,
              "#ed7953"
             ],
             [
              0.7777777777777778,
              "#fb9f3a"
             ],
             [
              0.8888888888888888,
              "#fdca26"
             ],
             [
              1,
              "#f0f921"
             ]
            ],
            "type": "heatmap"
           }
          ],
          "heatmapgl": [
           {
            "colorbar": {
             "outlinewidth": 0,
             "ticks": ""
            },
            "colorscale": [
             [
              0,
              "#0d0887"
             ],
             [
              0.1111111111111111,
              "#46039f"
             ],
             [
              0.2222222222222222,
              "#7201a8"
             ],
             [
              0.3333333333333333,
              "#9c179e"
             ],
             [
              0.4444444444444444,
              "#bd3786"
             ],
             [
              0.5555555555555556,
              "#d8576b"
             ],
             [
              0.6666666666666666,
              "#ed7953"
             ],
             [
              0.7777777777777778,
              "#fb9f3a"
             ],
             [
              0.8888888888888888,
              "#fdca26"
             ],
             [
              1,
              "#f0f921"
             ]
            ],
            "type": "heatmapgl"
           }
          ],
          "histogram": [
           {
            "marker": {
             "pattern": {
              "fillmode": "overlay",
              "size": 10,
              "solidity": 0.2
             }
            },
            "type": "histogram"
           }
          ],
          "histogram2d": [
           {
            "colorbar": {
             "outlinewidth": 0,
             "ticks": ""
            },
            "colorscale": [
             [
              0,
              "#0d0887"
             ],
             [
              0.1111111111111111,
              "#46039f"
             ],
             [
              0.2222222222222222,
              "#7201a8"
             ],
             [
              0.3333333333333333,
              "#9c179e"
             ],
             [
              0.4444444444444444,
              "#bd3786"
             ],
             [
              0.5555555555555556,
              "#d8576b"
             ],
             [
              0.6666666666666666,
              "#ed7953"
             ],
             [
              0.7777777777777778,
              "#fb9f3a"
             ],
             [
              0.8888888888888888,
              "#fdca26"
             ],
             [
              1,
              "#f0f921"
             ]
            ],
            "type": "histogram2d"
           }
          ],
          "histogram2dcontour": [
           {
            "colorbar": {
             "outlinewidth": 0,
             "ticks": ""
            },
            "colorscale": [
             [
              0,
              "#0d0887"
             ],
             [
              0.1111111111111111,
              "#46039f"
             ],
             [
              0.2222222222222222,
              "#7201a8"
             ],
             [
              0.3333333333333333,
              "#9c179e"
             ],
             [
              0.4444444444444444,
              "#bd3786"
             ],
             [
              0.5555555555555556,
              "#d8576b"
             ],
             [
              0.6666666666666666,
              "#ed7953"
             ],
             [
              0.7777777777777778,
              "#fb9f3a"
             ],
             [
              0.8888888888888888,
              "#fdca26"
             ],
             [
              1,
              "#f0f921"
             ]
            ],
            "type": "histogram2dcontour"
           }
          ],
          "mesh3d": [
           {
            "colorbar": {
             "outlinewidth": 0,
             "ticks": ""
            },
            "type": "mesh3d"
           }
          ],
          "parcoords": [
           {
            "line": {
             "colorbar": {
              "outlinewidth": 0,
              "ticks": ""
             }
            },
            "type": "parcoords"
           }
          ],
          "pie": [
           {
            "automargin": true,
            "type": "pie"
           }
          ],
          "scatter": [
           {
            "fillpattern": {
             "fillmode": "overlay",
             "size": 10,
             "solidity": 0.2
            },
            "type": "scatter"
           }
          ],
          "scatter3d": [
           {
            "line": {
             "colorbar": {
              "outlinewidth": 0,
              "ticks": ""
             }
            },
            "marker": {
             "colorbar": {
              "outlinewidth": 0,
              "ticks": ""
             }
            },
            "type": "scatter3d"
           }
          ],
          "scattercarpet": [
           {
            "marker": {
             "colorbar": {
              "outlinewidth": 0,
              "ticks": ""
             }
            },
            "type": "scattercarpet"
           }
          ],
          "scattergeo": [
           {
            "marker": {
             "colorbar": {
              "outlinewidth": 0,
              "ticks": ""
             }
            },
            "type": "scattergeo"
           }
          ],
          "scattergl": [
           {
            "marker": {
             "colorbar": {
              "outlinewidth": 0,
              "ticks": ""
             }
            },
            "type": "scattergl"
           }
          ],
          "scattermapbox": [
           {
            "marker": {
             "colorbar": {
              "outlinewidth": 0,
              "ticks": ""
             }
            },
            "type": "scattermapbox"
           }
          ],
          "scatterpolar": [
           {
            "marker": {
             "colorbar": {
              "outlinewidth": 0,
              "ticks": ""
             }
            },
            "type": "scatterpolar"
           }
          ],
          "scatterpolargl": [
           {
            "marker": {
             "colorbar": {
              "outlinewidth": 0,
              "ticks": ""
             }
            },
            "type": "scatterpolargl"
           }
          ],
          "scatterternary": [
           {
            "marker": {
             "colorbar": {
              "outlinewidth": 0,
              "ticks": ""
             }
            },
            "type": "scatterternary"
           }
          ],
          "surface": [
           {
            "colorbar": {
             "outlinewidth": 0,
             "ticks": ""
            },
            "colorscale": [
             [
              0,
              "#0d0887"
             ],
             [
              0.1111111111111111,
              "#46039f"
             ],
             [
              0.2222222222222222,
              "#7201a8"
             ],
             [
              0.3333333333333333,
              "#9c179e"
             ],
             [
              0.4444444444444444,
              "#bd3786"
             ],
             [
              0.5555555555555556,
              "#d8576b"
             ],
             [
              0.6666666666666666,
              "#ed7953"
             ],
             [
              0.7777777777777778,
              "#fb9f3a"
             ],
             [
              0.8888888888888888,
              "#fdca26"
             ],
             [
              1,
              "#f0f921"
             ]
            ],
            "type": "surface"
           }
          ],
          "table": [
           {
            "cells": {
             "fill": {
              "color": "#EBF0F8"
             },
             "line": {
              "color": "white"
             }
            },
            "header": {
             "fill": {
              "color": "#C8D4E3"
             },
             "line": {
              "color": "white"
             }
            },
            "type": "table"
           }
          ]
         },
         "layout": {
          "annotationdefaults": {
           "arrowcolor": "#2a3f5f",
           "arrowhead": 0,
           "arrowwidth": 1
          },
          "autotypenumbers": "strict",
          "coloraxis": {
           "colorbar": {
            "outlinewidth": 0,
            "ticks": ""
           }
          },
          "colorscale": {
           "diverging": [
            [
             0,
             "#8e0152"
            ],
            [
             0.1,
             "#c51b7d"
            ],
            [
             0.2,
             "#de77ae"
            ],
            [
             0.3,
             "#f1b6da"
            ],
            [
             0.4,
             "#fde0ef"
            ],
            [
             0.5,
             "#f7f7f7"
            ],
            [
             0.6,
             "#e6f5d0"
            ],
            [
             0.7,
             "#b8e186"
            ],
            [
             0.8,
             "#7fbc41"
            ],
            [
             0.9,
             "#4d9221"
            ],
            [
             1,
             "#276419"
            ]
           ],
           "sequential": [
            [
             0,
             "#0d0887"
            ],
            [
             0.1111111111111111,
             "#46039f"
            ],
            [
             0.2222222222222222,
             "#7201a8"
            ],
            [
             0.3333333333333333,
             "#9c179e"
            ],
            [
             0.4444444444444444,
             "#bd3786"
            ],
            [
             0.5555555555555556,
             "#d8576b"
            ],
            [
             0.6666666666666666,
             "#ed7953"
            ],
            [
             0.7777777777777778,
             "#fb9f3a"
            ],
            [
             0.8888888888888888,
             "#fdca26"
            ],
            [
             1,
             "#f0f921"
            ]
           ],
           "sequentialminus": [
            [
             0,
             "#0d0887"
            ],
            [
             0.1111111111111111,
             "#46039f"
            ],
            [
             0.2222222222222222,
             "#7201a8"
            ],
            [
             0.3333333333333333,
             "#9c179e"
            ],
            [
             0.4444444444444444,
             "#bd3786"
            ],
            [
             0.5555555555555556,
             "#d8576b"
            ],
            [
             0.6666666666666666,
             "#ed7953"
            ],
            [
             0.7777777777777778,
             "#fb9f3a"
            ],
            [
             0.8888888888888888,
             "#fdca26"
            ],
            [
             1,
             "#f0f921"
            ]
           ]
          },
          "colorway": [
           "#636efa",
           "#EF553B",
           "#00cc96",
           "#ab63fa",
           "#FFA15A",
           "#19d3f3",
           "#FF6692",
           "#B6E880",
           "#FF97FF",
           "#FECB52"
          ],
          "font": {
           "color": "#2a3f5f"
          },
          "geo": {
           "bgcolor": "white",
           "lakecolor": "white",
           "landcolor": "#E5ECF6",
           "showlakes": true,
           "showland": true,
           "subunitcolor": "white"
          },
          "hoverlabel": {
           "align": "left"
          },
          "hovermode": "closest",
          "mapbox": {
           "style": "light"
          },
          "paper_bgcolor": "white",
          "plot_bgcolor": "#E5ECF6",
          "polar": {
           "angularaxis": {
            "gridcolor": "white",
            "linecolor": "white",
            "ticks": ""
           },
           "bgcolor": "#E5ECF6",
           "radialaxis": {
            "gridcolor": "white",
            "linecolor": "white",
            "ticks": ""
           }
          },
          "scene": {
           "xaxis": {
            "backgroundcolor": "#E5ECF6",
            "gridcolor": "white",
            "gridwidth": 2,
            "linecolor": "white",
            "showbackground": true,
            "ticks": "",
            "zerolinecolor": "white"
           },
           "yaxis": {
            "backgroundcolor": "#E5ECF6",
            "gridcolor": "white",
            "gridwidth": 2,
            "linecolor": "white",
            "showbackground": true,
            "ticks": "",
            "zerolinecolor": "white"
           },
           "zaxis": {
            "backgroundcolor": "#E5ECF6",
            "gridcolor": "white",
            "gridwidth": 2,
            "linecolor": "white",
            "showbackground": true,
            "ticks": "",
            "zerolinecolor": "white"
           }
          },
          "shapedefaults": {
           "line": {
            "color": "#2a3f5f"
           }
          },
          "ternary": {
           "aaxis": {
            "gridcolor": "white",
            "linecolor": "white",
            "ticks": ""
           },
           "baxis": {
            "gridcolor": "white",
            "linecolor": "white",
            "ticks": ""
           },
           "bgcolor": "#E5ECF6",
           "caxis": {
            "gridcolor": "white",
            "linecolor": "white",
            "ticks": ""
           }
          },
          "title": {
           "x": 0.05
          },
          "xaxis": {
           "automargin": true,
           "gridcolor": "white",
           "linecolor": "white",
           "ticks": "",
           "title": {
            "standoff": 15
           },
           "zerolinecolor": "white",
           "zerolinewidth": 2
          },
          "yaxis": {
           "automargin": true,
           "gridcolor": "white",
           "linecolor": "white",
           "ticks": "",
           "title": {
            "standoff": 15
           },
           "zerolinecolor": "white",
           "zerolinewidth": 2
          }
         }
        },
        "title": {
         "text": "Average Annual Cost of the Film Industry in the United States (Full Year Range)",
         "x": 0.5
        },
        "xaxis": {
         "anchor": "y",
         "domain": [
          0,
          1
         ],
         "dtick": 5,
         "tickmode": "linear",
         "title": {
          "text": "Year"
         }
        },
        "yaxis": {
         "anchor": "x",
         "domain": [
          0,
          1
         ],
         "title": {
          "text": "Average Production Budget (USD)"
         }
        }
       }
      }
     },
     "metadata": {},
     "output_type": "display_data"
    }
   ],
   "source": [
    "fig = px.line(\n",
    "    yearly_cost,\n",
    "    x='release_year',\n",
    "    y='average_production_budget',\n",
    "    title='Average Annual Cost of the Film Industry in the United States (Full Year Range)',\n",
    "    labels={'release_year': 'Year', 'average_production_budget': 'Average Production Budget (USD)'}\n",
    ")\n",
    "\n",
    "fig.update_traces(mode=\"lines+markers\")  # Add markers for better readability\n",
    "fig.update_layout(\n",
    "    xaxis=dict(tickmode='linear', dtick=5),  # Show ticks every 5 years for better readability\n",
    "    yaxis_title='Average Production Budget (USD)',\n",
    "    xaxis_title='Year',\n",
    "    title_x=0.5\n",
    ")\n",
    "\n",
    "fig.show()\n"
   ]
  },
  {
   "cell_type": "markdown",
   "metadata": {},
   "source": [
    "### 7) Compare the cost trend for other countries over the past 10 years (excluding the U.S.). NOT DONE - BUGGY"
   ]
  },
  {
   "cell_type": "code",
   "execution_count": 37,
   "metadata": {},
   "outputs": [],
   "source": [
    "# Create a temporary DataFrame for processing\n",
    "temp_df = df_movies.copy()\n",
    "\n",
    "# Convert the release date column to datetime and extract the release year\n",
    "temp_df['rt_release_date'] = pd.to_datetime(temp_df['rt_release_date'], errors='coerce')\n",
    "temp_df = temp_df.dropna(subset=['rt_release_date'])  # Drop rows with invalid release dates\n",
    "temp_df['release_year'] = temp_df['rt_release_date'].dt.year\n",
    "\n",
    "# Parse the 'rt_production_countries' column\n",
    "temp_df['rt_production_countries'] = parse_list_column(temp_df['rt_production_countries'])\n",
    "\n",
    "# Expand the production countries into separate rows\n",
    "countries_expanded = temp_df.explode('rt_production_countries')\n",
    "\n",
    "# Extract country names from the dictionaries\n",
    "countries_expanded['country_name'] = countries_expanded['rt_production_countries'].apply(\n",
    "    lambda x: x['name'] if isinstance(x, dict) else None\n",
    ")\n",
    "\n",
    "# Exclude the United States\n",
    "non_us_movies = countries_expanded[countries_expanded['country_name'] != 'United States of America']\n",
    "\n",
    "# Filter movies released in the past 10 years\n",
    "current_year = pd.Timestamp.now().year\n",
    "non_us_movies_last_10_years = non_us_movies[non_us_movies['release_year'].between(current_year - 10, current_year)]\n",
    "\n",
    "# Group by release year and country, calculate the average production budget\n",
    "yearly_cost_non_us = (\n",
    "    non_us_movies_last_10_years.groupby(['release_year', 'country_name'])['rt_production_budget']\n",
    "    .mean()\n",
    "    .reset_index()\n",
    "    .rename(columns={'rt_production_budget': 'average_production_budget'})\n",
    ")"
   ]
  },
  {
   "cell_type": "markdown",
   "metadata": {},
   "source": [
    "Plot"
   ]
  },
  {
   "cell_type": "code",
   "execution_count": 38,
   "metadata": {},
   "outputs": [
    {
     "data": {
      "application/vnd.plotly.v1+json": {
       "config": {
        "plotlyServerURL": "https://plot.ly"
       },
       "data": [
        {
         "hovertemplate": "Country=Australia<br>Year=%{x}<br>Average Production Budget (USD)=%{y}<extra></extra>",
         "legendgroup": "Australia",
         "line": {
          "color": "#636efa",
          "dash": "solid"
         },
         "marker": {
          "symbol": "circle"
         },
         "mode": "lines+markers",
         "name": "Australia",
         "orientation": "v",
         "showlegend": true,
         "type": "scatter",
         "x": [
          2015,
          2016
         ],
         "xaxis": "x",
         "y": [
          72600000,
          140000000
         ],
         "yaxis": "y"
        },
        {
         "hovertemplate": "Country=Belgium<br>Year=%{x}<br>Average Production Budget (USD)=%{y}<extra></extra>",
         "legendgroup": "Belgium",
         "line": {
          "color": "#EF553B",
          "dash": "solid"
         },
         "marker": {
          "symbol": "circle"
         },
         "mode": "lines+markers",
         "name": "Belgium",
         "orientation": "v",
         "showlegend": true,
         "type": "scatter",
         "x": [
          2015
         ],
         "xaxis": "x",
         "y": [
          25000000
         ],
         "yaxis": "y"
        },
        {
         "hovertemplate": "Country=Canada<br>Year=%{x}<br>Average Production Budget (USD)=%{y}<extra></extra>",
         "legendgroup": "Canada",
         "line": {
          "color": "#00cc96",
          "dash": "solid"
         },
         "marker": {
          "symbol": "circle"
         },
         "mode": "lines+markers",
         "name": "Canada",
         "orientation": "v",
         "showlegend": true,
         "type": "scatter",
         "x": [
          2015,
          2016
         ],
         "xaxis": "x",
         "y": [
          41714285.71428572,
          58388888.88888889
         ],
         "yaxis": "y"
        },
        {
         "hovertemplate": "Country=Chile<br>Year=%{x}<br>Average Production Budget (USD)=%{y}<extra></extra>",
         "legendgroup": "Chile",
         "line": {
          "color": "#ab63fa",
          "dash": "solid"
         },
         "marker": {
          "symbol": "circle"
         },
         "mode": "lines+markers",
         "name": "Chile",
         "orientation": "v",
         "showlegend": true,
         "type": "scatter",
         "x": [
          2015
         ],
         "xaxis": "x",
         "y": [
          25000000
         ],
         "yaxis": "y"
        },
        {
         "hovertemplate": "Country=China<br>Year=%{x}<br>Average Production Budget (USD)=%{y}<extra></extra>",
         "legendgroup": "China",
         "line": {
          "color": "#FFA15A",
          "dash": "solid"
         },
         "marker": {
          "symbol": "circle"
         },
         "mode": "lines+markers",
         "name": "China",
         "orientation": "v",
         "showlegend": true,
         "type": "scatter",
         "x": [
          2015,
          2016
         ],
         "xaxis": "x",
         "y": [
          72000000,
          104070000
         ],
         "yaxis": "y"
        },
        {
         "hovertemplate": "Country=Czech Republic<br>Year=%{x}<br>Average Production Budget (USD)=%{y}<extra></extra>",
         "legendgroup": "Czech Republic",
         "line": {
          "color": "#19d3f3",
          "dash": "solid"
         },
         "marker": {
          "symbol": "circle"
         },
         "mode": "lines+markers",
         "name": "Czech Republic",
         "orientation": "v",
         "showlegend": true,
         "type": "scatter",
         "x": [
          2015
         ],
         "xaxis": "x",
         "y": [
          50000000
         ],
         "yaxis": "y"
        },
        {
         "hovertemplate": "Country=France<br>Year=%{x}<br>Average Production Budget (USD)=%{y}<extra></extra>",
         "legendgroup": "France",
         "line": {
          "color": "#FF6692",
          "dash": "solid"
         },
         "marker": {
          "symbol": "circle"
         },
         "mode": "lines+markers",
         "name": "France",
         "orientation": "v",
         "showlegend": true,
         "type": "scatter",
         "x": [
          2015,
          2016
         ],
         "xaxis": "x",
         "y": [
          26428571.42857143,
          5666666.666666667
         ],
         "yaxis": "y"
        },
        {
         "hovertemplate": "Country=Germany<br>Year=%{x}<br>Average Production Budget (USD)=%{y}<extra></extra>",
         "legendgroup": "Germany",
         "line": {
          "color": "#B6E880",
          "dash": "solid"
         },
         "marker": {
          "symbol": "circle"
         },
         "mode": "lines+markers",
         "name": "Germany",
         "orientation": "v",
         "showlegend": true,
         "type": "scatter",
         "x": [
          2015,
          2016
         ],
         "xaxis": "x",
         "y": [
          101666666.66666667,
          14000000
         ],
         "yaxis": "y"
        },
        {
         "hovertemplate": "Country=Hong Kong<br>Year=%{x}<br>Average Production Budget (USD)=%{y}<extra></extra>",
         "legendgroup": "Hong Kong",
         "line": {
          "color": "#FF97FF",
          "dash": "solid"
         },
         "marker": {
          "symbol": "circle"
         },
         "mode": "lines+markers",
         "name": "Hong Kong",
         "orientation": "v",
         "showlegend": true,
         "type": "scatter",
         "x": [
          2015,
          2016
         ],
         "xaxis": "x",
         "y": [
          62750000,
          101745000
         ],
         "yaxis": "y"
        },
        {
         "hovertemplate": "Country=Iceland<br>Year=%{x}<br>Average Production Budget (USD)=%{y}<extra></extra>",
         "legendgroup": "Iceland",
         "line": {
          "color": "#FECB52",
          "dash": "solid"
         },
         "marker": {
          "symbol": "circle"
         },
         "mode": "lines+markers",
         "name": "Iceland",
         "orientation": "v",
         "showlegend": true,
         "type": "scatter",
         "x": [
          2015
         ],
         "xaxis": "x",
         "y": [
          55000000
         ],
         "yaxis": "y"
        },
        {
         "hovertemplate": "Country=India<br>Year=%{x}<br>Average Production Budget (USD)=%{y}<extra></extra>",
         "legendgroup": "India",
         "line": {
          "color": "#636efa",
          "dash": "solid"
         },
         "marker": {
          "symbol": "circle"
         },
         "mode": "lines+markers",
         "name": "India",
         "orientation": "v",
         "showlegend": true,
         "type": "scatter",
         "x": [
          2015,
          2016
         ],
         "xaxis": "x",
         "y": [
          40000000,
          72250000
         ],
         "yaxis": "y"
        },
        {
         "hovertemplate": "Country=Ireland<br>Year=%{x}<br>Average Production Budget (USD)=%{y}<extra></extra>",
         "legendgroup": "Ireland",
         "line": {
          "color": "#EF553B",
          "dash": "solid"
         },
         "marker": {
          "symbol": "circle"
         },
         "mode": "lines+markers",
         "name": "Ireland",
         "orientation": "v",
         "showlegend": true,
         "type": "scatter",
         "x": [
          2015
         ],
         "xaxis": "x",
         "y": [
          8500000
         ],
         "yaxis": "y"
        },
        {
         "hovertemplate": "Country=Japan<br>Year=%{x}<br>Average Production Budget (USD)=%{y}<extra></extra>",
         "legendgroup": "Japan",
         "line": {
          "color": "#00cc96",
          "dash": "solid"
         },
         "marker": {
          "symbol": "circle"
         },
         "mode": "lines+markers",
         "name": "Japan",
         "orientation": "v",
         "showlegend": true,
         "type": "scatter",
         "x": [
          2015,
          2016
         ],
         "xaxis": "x",
         "y": [
          190000000,
          87500000
         ],
         "yaxis": "y"
        },
        {
         "hovertemplate": "Country=Mexico<br>Year=%{x}<br>Average Production Budget (USD)=%{y}<extra></extra>",
         "legendgroup": "Mexico",
         "line": {
          "color": "#ab63fa",
          "dash": "solid"
         },
         "marker": {
          "symbol": "circle"
         },
         "mode": "lines+markers",
         "name": "Mexico",
         "orientation": "v",
         "showlegend": true,
         "type": "scatter",
         "x": [
          2015
         ],
         "xaxis": "x",
         "y": [
          34500000
         ],
         "yaxis": "y"
        },
        {
         "hovertemplate": "Country=New Zealand<br>Year=%{x}<br>Average Production Budget (USD)=%{y}<extra></extra>",
         "legendgroup": "New Zealand",
         "line": {
          "color": "#FFA15A",
          "dash": "solid"
         },
         "marker": {
          "symbol": "circle"
         },
         "mode": "lines+markers",
         "name": "New Zealand",
         "orientation": "v",
         "showlegend": true,
         "type": "scatter",
         "x": [
          2015
         ],
         "xaxis": "x",
         "y": [
          0
         ],
         "yaxis": "y"
        },
        {
         "hovertemplate": "Country=Romania<br>Year=%{x}<br>Average Production Budget (USD)=%{y}<extra></extra>",
         "legendgroup": "Romania",
         "line": {
          "color": "#19d3f3",
          "dash": "solid"
         },
         "marker": {
          "symbol": "circle"
         },
         "mode": "lines+markers",
         "name": "Romania",
         "orientation": "v",
         "showlegend": true,
         "type": "scatter",
         "x": [
          2015
         ],
         "xaxis": "x",
         "y": [
          50000000
         ],
         "yaxis": "y"
        },
        {
         "hovertemplate": "Country=South Africa<br>Year=%{x}<br>Average Production Budget (USD)=%{y}<extra></extra>",
         "legendgroup": "South Africa",
         "line": {
          "color": "#FF6692",
          "dash": "solid"
         },
         "marker": {
          "symbol": "circle"
         },
         "mode": "lines+markers",
         "name": "South Africa",
         "orientation": "v",
         "showlegend": true,
         "type": "scatter",
         "x": [
          2015
         ],
         "xaxis": "x",
         "y": [
          49000000
         ],
         "yaxis": "y"
        },
        {
         "hovertemplate": "Country=Spain<br>Year=%{x}<br>Average Production Budget (USD)=%{y}<extra></extra>",
         "legendgroup": "Spain",
         "line": {
          "color": "#B6E880",
          "dash": "solid"
         },
         "marker": {
          "symbol": "circle"
         },
         "mode": "lines+markers",
         "name": "Spain",
         "orientation": "v",
         "showlegend": true,
         "type": "scatter",
         "x": [
          2015
         ],
         "xaxis": "x",
         "y": [
          19833333.333333332
         ],
         "yaxis": "y"
        },
        {
         "hovertemplate": "Country=Switzerland<br>Year=%{x}<br>Average Production Budget (USD)=%{y}<extra></extra>",
         "legendgroup": "Switzerland",
         "line": {
          "color": "#FF97FF",
          "dash": "solid"
         },
         "marker": {
          "symbol": "circle"
         },
         "mode": "lines+markers",
         "name": "Switzerland",
         "orientation": "v",
         "showlegend": true,
         "type": "scatter",
         "x": [
          2015
         ],
         "xaxis": "x",
         "y": [
          4000000
         ],
         "yaxis": "y"
        },
        {
         "hovertemplate": "Country=Taiwan<br>Year=%{x}<br>Average Production Budget (USD)=%{y}<extra></extra>",
         "legendgroup": "Taiwan",
         "line": {
          "color": "#FECB52",
          "dash": "solid"
         },
         "marker": {
          "symbol": "circle"
         },
         "mode": "lines+markers",
         "name": "Taiwan",
         "orientation": "v",
         "showlegend": true,
         "type": "scatter",
         "x": [
          2015
         ],
         "xaxis": "x",
         "y": [
          75000000
         ],
         "yaxis": "y"
        },
        {
         "hovertemplate": "Country=United Kingdom<br>Year=%{x}<br>Average Production Budget (USD)=%{y}<extra></extra>",
         "legendgroup": "United Kingdom",
         "line": {
          "color": "#636efa",
          "dash": "solid"
         },
         "marker": {
          "symbol": "circle"
         },
         "mode": "lines+markers",
         "name": "United Kingdom",
         "orientation": "v",
         "showlegend": true,
         "type": "scatter",
         "x": [
          2015,
          2016
         ],
         "xaxis": "x",
         "y": [
          43906250,
          82136363.63636364
         ],
         "yaxis": "y"
        },
        {
         "hovertemplate": "Country=Bulgaria<br>Year=%{x}<br>Average Production Budget (USD)=%{y}<extra></extra>",
         "legendgroup": "Bulgaria",
         "line": {
          "color": "#EF553B",
          "dash": "solid"
         },
         "marker": {
          "symbol": "circle"
         },
         "mode": "lines+markers",
         "name": "Bulgaria",
         "orientation": "v",
         "showlegend": true,
         "type": "scatter",
         "x": [
          2016
         ],
         "xaxis": "x",
         "y": [
          60000000
         ],
         "yaxis": "y"
        },
        {
         "hovertemplate": "Country=Denmark<br>Year=%{x}<br>Average Production Budget (USD)=%{y}<extra></extra>",
         "legendgroup": "Denmark",
         "line": {
          "color": "#00cc96",
          "dash": "solid"
         },
         "marker": {
          "symbol": "circle"
         },
         "mode": "lines+markers",
         "name": "Denmark",
         "orientation": "v",
         "showlegend": true,
         "type": "scatter",
         "x": [
          2016
         ],
         "xaxis": "x",
         "y": [
          7000000
         ],
         "yaxis": "y"
        },
        {
         "hovertemplate": "Country=Finland<br>Year=%{x}<br>Average Production Budget (USD)=%{y}<extra></extra>",
         "legendgroup": "Finland",
         "line": {
          "color": "#ab63fa",
          "dash": "solid"
         },
         "marker": {
          "symbol": "circle"
         },
         "mode": "lines+markers",
         "name": "Finland",
         "orientation": "v",
         "showlegend": true,
         "type": "scatter",
         "x": [
          2016
         ],
         "xaxis": "x",
         "y": [
          73000000
         ],
         "yaxis": "y"
        },
        {
         "hovertemplate": "Country=Malta<br>Year=%{x}<br>Average Production Budget (USD)=%{y}<extra></extra>",
         "legendgroup": "Malta",
         "line": {
          "color": "#FFA15A",
          "dash": "solid"
         },
         "marker": {
          "symbol": "circle"
         },
         "mode": "lines+markers",
         "name": "Malta",
         "orientation": "v",
         "showlegend": true,
         "type": "scatter",
         "x": [
          2016
         ],
         "xaxis": "x",
         "y": [
          50000000
         ],
         "yaxis": "y"
        },
        {
         "hovertemplate": "Country=Morocco<br>Year=%{x}<br>Average Production Budget (USD)=%{y}<extra></extra>",
         "legendgroup": "Morocco",
         "line": {
          "color": "#19d3f3",
          "dash": "solid"
         },
         "marker": {
          "symbol": "circle"
         },
         "mode": "lines+markers",
         "name": "Morocco",
         "orientation": "v",
         "showlegend": true,
         "type": "scatter",
         "x": [
          2016
         ],
         "xaxis": "x",
         "y": [
          50000000
         ],
         "yaxis": "y"
        }
       ],
       "layout": {
        "legend": {
         "title": {
          "text": "Country"
         },
         "tracegroupgap": 0
        },
        "template": {
         "data": {
          "bar": [
           {
            "error_x": {
             "color": "#2a3f5f"
            },
            "error_y": {
             "color": "#2a3f5f"
            },
            "marker": {
             "line": {
              "color": "#E5ECF6",
              "width": 0.5
             },
             "pattern": {
              "fillmode": "overlay",
              "size": 10,
              "solidity": 0.2
             }
            },
            "type": "bar"
           }
          ],
          "barpolar": [
           {
            "marker": {
             "line": {
              "color": "#E5ECF6",
              "width": 0.5
             },
             "pattern": {
              "fillmode": "overlay",
              "size": 10,
              "solidity": 0.2
             }
            },
            "type": "barpolar"
           }
          ],
          "carpet": [
           {
            "aaxis": {
             "endlinecolor": "#2a3f5f",
             "gridcolor": "white",
             "linecolor": "white",
             "minorgridcolor": "white",
             "startlinecolor": "#2a3f5f"
            },
            "baxis": {
             "endlinecolor": "#2a3f5f",
             "gridcolor": "white",
             "linecolor": "white",
             "minorgridcolor": "white",
             "startlinecolor": "#2a3f5f"
            },
            "type": "carpet"
           }
          ],
          "choropleth": [
           {
            "colorbar": {
             "outlinewidth": 0,
             "ticks": ""
            },
            "type": "choropleth"
           }
          ],
          "contour": [
           {
            "colorbar": {
             "outlinewidth": 0,
             "ticks": ""
            },
            "colorscale": [
             [
              0,
              "#0d0887"
             ],
             [
              0.1111111111111111,
              "#46039f"
             ],
             [
              0.2222222222222222,
              "#7201a8"
             ],
             [
              0.3333333333333333,
              "#9c179e"
             ],
             [
              0.4444444444444444,
              "#bd3786"
             ],
             [
              0.5555555555555556,
              "#d8576b"
             ],
             [
              0.6666666666666666,
              "#ed7953"
             ],
             [
              0.7777777777777778,
              "#fb9f3a"
             ],
             [
              0.8888888888888888,
              "#fdca26"
             ],
             [
              1,
              "#f0f921"
             ]
            ],
            "type": "contour"
           }
          ],
          "contourcarpet": [
           {
            "colorbar": {
             "outlinewidth": 0,
             "ticks": ""
            },
            "type": "contourcarpet"
           }
          ],
          "heatmap": [
           {
            "colorbar": {
             "outlinewidth": 0,
             "ticks": ""
            },
            "colorscale": [
             [
              0,
              "#0d0887"
             ],
             [
              0.1111111111111111,
              "#46039f"
             ],
             [
              0.2222222222222222,
              "#7201a8"
             ],
             [
              0.3333333333333333,
              "#9c179e"
             ],
             [
              0.4444444444444444,
              "#bd3786"
             ],
             [
              0.5555555555555556,
              "#d8576b"
             ],
             [
              0.6666666666666666,
              "#ed7953"
             ],
             [
              0.7777777777777778,
              "#fb9f3a"
             ],
             [
              0.8888888888888888,
              "#fdca26"
             ],
             [
              1,
              "#f0f921"
             ]
            ],
            "type": "heatmap"
           }
          ],
          "heatmapgl": [
           {
            "colorbar": {
             "outlinewidth": 0,
             "ticks": ""
            },
            "colorscale": [
             [
              0,
              "#0d0887"
             ],
             [
              0.1111111111111111,
              "#46039f"
             ],
             [
              0.2222222222222222,
              "#7201a8"
             ],
             [
              0.3333333333333333,
              "#9c179e"
             ],
             [
              0.4444444444444444,
              "#bd3786"
             ],
             [
              0.5555555555555556,
              "#d8576b"
             ],
             [
              0.6666666666666666,
              "#ed7953"
             ],
             [
              0.7777777777777778,
              "#fb9f3a"
             ],
             [
              0.8888888888888888,
              "#fdca26"
             ],
             [
              1,
              "#f0f921"
             ]
            ],
            "type": "heatmapgl"
           }
          ],
          "histogram": [
           {
            "marker": {
             "pattern": {
              "fillmode": "overlay",
              "size": 10,
              "solidity": 0.2
             }
            },
            "type": "histogram"
           }
          ],
          "histogram2d": [
           {
            "colorbar": {
             "outlinewidth": 0,
             "ticks": ""
            },
            "colorscale": [
             [
              0,
              "#0d0887"
             ],
             [
              0.1111111111111111,
              "#46039f"
             ],
             [
              0.2222222222222222,
              "#7201a8"
             ],
             [
              0.3333333333333333,
              "#9c179e"
             ],
             [
              0.4444444444444444,
              "#bd3786"
             ],
             [
              0.5555555555555556,
              "#d8576b"
             ],
             [
              0.6666666666666666,
              "#ed7953"
             ],
             [
              0.7777777777777778,
              "#fb9f3a"
             ],
             [
              0.8888888888888888,
              "#fdca26"
             ],
             [
              1,
              "#f0f921"
             ]
            ],
            "type": "histogram2d"
           }
          ],
          "histogram2dcontour": [
           {
            "colorbar": {
             "outlinewidth": 0,
             "ticks": ""
            },
            "colorscale": [
             [
              0,
              "#0d0887"
             ],
             [
              0.1111111111111111,
              "#46039f"
             ],
             [
              0.2222222222222222,
              "#7201a8"
             ],
             [
              0.3333333333333333,
              "#9c179e"
             ],
             [
              0.4444444444444444,
              "#bd3786"
             ],
             [
              0.5555555555555556,
              "#d8576b"
             ],
             [
              0.6666666666666666,
              "#ed7953"
             ],
             [
              0.7777777777777778,
              "#fb9f3a"
             ],
             [
              0.8888888888888888,
              "#fdca26"
             ],
             [
              1,
              "#f0f921"
             ]
            ],
            "type": "histogram2dcontour"
           }
          ],
          "mesh3d": [
           {
            "colorbar": {
             "outlinewidth": 0,
             "ticks": ""
            },
            "type": "mesh3d"
           }
          ],
          "parcoords": [
           {
            "line": {
             "colorbar": {
              "outlinewidth": 0,
              "ticks": ""
             }
            },
            "type": "parcoords"
           }
          ],
          "pie": [
           {
            "automargin": true,
            "type": "pie"
           }
          ],
          "scatter": [
           {
            "fillpattern": {
             "fillmode": "overlay",
             "size": 10,
             "solidity": 0.2
            },
            "type": "scatter"
           }
          ],
          "scatter3d": [
           {
            "line": {
             "colorbar": {
              "outlinewidth": 0,
              "ticks": ""
             }
            },
            "marker": {
             "colorbar": {
              "outlinewidth": 0,
              "ticks": ""
             }
            },
            "type": "scatter3d"
           }
          ],
          "scattercarpet": [
           {
            "marker": {
             "colorbar": {
              "outlinewidth": 0,
              "ticks": ""
             }
            },
            "type": "scattercarpet"
           }
          ],
          "scattergeo": [
           {
            "marker": {
             "colorbar": {
              "outlinewidth": 0,
              "ticks": ""
             }
            },
            "type": "scattergeo"
           }
          ],
          "scattergl": [
           {
            "marker": {
             "colorbar": {
              "outlinewidth": 0,
              "ticks": ""
             }
            },
            "type": "scattergl"
           }
          ],
          "scattermapbox": [
           {
            "marker": {
             "colorbar": {
              "outlinewidth": 0,
              "ticks": ""
             }
            },
            "type": "scattermapbox"
           }
          ],
          "scatterpolar": [
           {
            "marker": {
             "colorbar": {
              "outlinewidth": 0,
              "ticks": ""
             }
            },
            "type": "scatterpolar"
           }
          ],
          "scatterpolargl": [
           {
            "marker": {
             "colorbar": {
              "outlinewidth": 0,
              "ticks": ""
             }
            },
            "type": "scatterpolargl"
           }
          ],
          "scatterternary": [
           {
            "marker": {
             "colorbar": {
              "outlinewidth": 0,
              "ticks": ""
             }
            },
            "type": "scatterternary"
           }
          ],
          "surface": [
           {
            "colorbar": {
             "outlinewidth": 0,
             "ticks": ""
            },
            "colorscale": [
             [
              0,
              "#0d0887"
             ],
             [
              0.1111111111111111,
              "#46039f"
             ],
             [
              0.2222222222222222,
              "#7201a8"
             ],
             [
              0.3333333333333333,
              "#9c179e"
             ],
             [
              0.4444444444444444,
              "#bd3786"
             ],
             [
              0.5555555555555556,
              "#d8576b"
             ],
             [
              0.6666666666666666,
              "#ed7953"
             ],
             [
              0.7777777777777778,
              "#fb9f3a"
             ],
             [
              0.8888888888888888,
              "#fdca26"
             ],
             [
              1,
              "#f0f921"
             ]
            ],
            "type": "surface"
           }
          ],
          "table": [
           {
            "cells": {
             "fill": {
              "color": "#EBF0F8"
             },
             "line": {
              "color": "white"
             }
            },
            "header": {
             "fill": {
              "color": "#C8D4E3"
             },
             "line": {
              "color": "white"
             }
            },
            "type": "table"
           }
          ]
         },
         "layout": {
          "annotationdefaults": {
           "arrowcolor": "#2a3f5f",
           "arrowhead": 0,
           "arrowwidth": 1
          },
          "autotypenumbers": "strict",
          "coloraxis": {
           "colorbar": {
            "outlinewidth": 0,
            "ticks": ""
           }
          },
          "colorscale": {
           "diverging": [
            [
             0,
             "#8e0152"
            ],
            [
             0.1,
             "#c51b7d"
            ],
            [
             0.2,
             "#de77ae"
            ],
            [
             0.3,
             "#f1b6da"
            ],
            [
             0.4,
             "#fde0ef"
            ],
            [
             0.5,
             "#f7f7f7"
            ],
            [
             0.6,
             "#e6f5d0"
            ],
            [
             0.7,
             "#b8e186"
            ],
            [
             0.8,
             "#7fbc41"
            ],
            [
             0.9,
             "#4d9221"
            ],
            [
             1,
             "#276419"
            ]
           ],
           "sequential": [
            [
             0,
             "#0d0887"
            ],
            [
             0.1111111111111111,
             "#46039f"
            ],
            [
             0.2222222222222222,
             "#7201a8"
            ],
            [
             0.3333333333333333,
             "#9c179e"
            ],
            [
             0.4444444444444444,
             "#bd3786"
            ],
            [
             0.5555555555555556,
             "#d8576b"
            ],
            [
             0.6666666666666666,
             "#ed7953"
            ],
            [
             0.7777777777777778,
             "#fb9f3a"
            ],
            [
             0.8888888888888888,
             "#fdca26"
            ],
            [
             1,
             "#f0f921"
            ]
           ],
           "sequentialminus": [
            [
             0,
             "#0d0887"
            ],
            [
             0.1111111111111111,
             "#46039f"
            ],
            [
             0.2222222222222222,
             "#7201a8"
            ],
            [
             0.3333333333333333,
             "#9c179e"
            ],
            [
             0.4444444444444444,
             "#bd3786"
            ],
            [
             0.5555555555555556,
             "#d8576b"
            ],
            [
             0.6666666666666666,
             "#ed7953"
            ],
            [
             0.7777777777777778,
             "#fb9f3a"
            ],
            [
             0.8888888888888888,
             "#fdca26"
            ],
            [
             1,
             "#f0f921"
            ]
           ]
          },
          "colorway": [
           "#636efa",
           "#EF553B",
           "#00cc96",
           "#ab63fa",
           "#FFA15A",
           "#19d3f3",
           "#FF6692",
           "#B6E880",
           "#FF97FF",
           "#FECB52"
          ],
          "font": {
           "color": "#2a3f5f"
          },
          "geo": {
           "bgcolor": "white",
           "lakecolor": "white",
           "landcolor": "#E5ECF6",
           "showlakes": true,
           "showland": true,
           "subunitcolor": "white"
          },
          "hoverlabel": {
           "align": "left"
          },
          "hovermode": "closest",
          "mapbox": {
           "style": "light"
          },
          "paper_bgcolor": "white",
          "plot_bgcolor": "#E5ECF6",
          "polar": {
           "angularaxis": {
            "gridcolor": "white",
            "linecolor": "white",
            "ticks": ""
           },
           "bgcolor": "#E5ECF6",
           "radialaxis": {
            "gridcolor": "white",
            "linecolor": "white",
            "ticks": ""
           }
          },
          "scene": {
           "xaxis": {
            "backgroundcolor": "#E5ECF6",
            "gridcolor": "white",
            "gridwidth": 2,
            "linecolor": "white",
            "showbackground": true,
            "ticks": "",
            "zerolinecolor": "white"
           },
           "yaxis": {
            "backgroundcolor": "#E5ECF6",
            "gridcolor": "white",
            "gridwidth": 2,
            "linecolor": "white",
            "showbackground": true,
            "ticks": "",
            "zerolinecolor": "white"
           },
           "zaxis": {
            "backgroundcolor": "#E5ECF6",
            "gridcolor": "white",
            "gridwidth": 2,
            "linecolor": "white",
            "showbackground": true,
            "ticks": "",
            "zerolinecolor": "white"
           }
          },
          "shapedefaults": {
           "line": {
            "color": "#2a3f5f"
           }
          },
          "ternary": {
           "aaxis": {
            "gridcolor": "white",
            "linecolor": "white",
            "ticks": ""
           },
           "baxis": {
            "gridcolor": "white",
            "linecolor": "white",
            "ticks": ""
           },
           "bgcolor": "#E5ECF6",
           "caxis": {
            "gridcolor": "white",
            "linecolor": "white",
            "ticks": ""
           }
          },
          "title": {
           "x": 0.05
          },
          "xaxis": {
           "automargin": true,
           "gridcolor": "white",
           "linecolor": "white",
           "ticks": "",
           "title": {
            "standoff": 15
           },
           "zerolinecolor": "white",
           "zerolinewidth": 2
          },
          "yaxis": {
           "automargin": true,
           "gridcolor": "white",
           "linecolor": "white",
           "ticks": "",
           "title": {
            "standoff": 15
           },
           "zerolinecolor": "white",
           "zerolinewidth": 2
          }
         }
        },
        "title": {
         "text": "Average Annual Cost of the Film Industry (Excluding U.S.) Over the Past 10 Years",
         "x": 0.5
        },
        "xaxis": {
         "anchor": "y",
         "domain": [
          0,
          1
         ],
         "dtick": 1,
         "tickmode": "linear",
         "title": {
          "text": "Year"
         }
        },
        "yaxis": {
         "anchor": "x",
         "domain": [
          0,
          1
         ],
         "title": {
          "text": "Average Production Budget (USD)"
         }
        }
       }
      }
     },
     "metadata": {},
     "output_type": "display_data"
    }
   ],
   "source": [
    "# Plot the data\n",
    "fig = px.line(\n",
    "    yearly_cost_non_us,\n",
    "    x='release_year',\n",
    "    y='average_production_budget',\n",
    "    color='country_name',\n",
    "    title='Average Annual Cost of the Film Industry (Excluding U.S.) Over the Past 10 Years',\n",
    "    labels={'release_year': 'Year', 'average_production_budget': 'Average Production Budget (USD)', 'country_name': 'Country'}\n",
    ")\n",
    "\n",
    "fig.update_traces(mode=\"lines+markers\")  # Add markers for better visibility\n",
    "fig.update_layout(\n",
    "    xaxis=dict(tickmode='linear', dtick=1),  # Show yearly ticks\n",
    "    yaxis_title='Average Production Budget (USD)',\n",
    "    xaxis_title='Year',\n",
    "    title_x=0.5\n",
    ")\n",
    "\n",
    "fig.show()"
   ]
  },
  {
   "cell_type": "code",
   "execution_count": 42,
   "metadata": {},
   "outputs": [
    {
     "name": "stdout",
     "output_type": "stream",
     "text": [
      "release_year\n",
      "2015    67\n",
      "2016    44\n",
      "Name: count, dtype: int64\n"
     ]
    },
    {
     "data": {
      "application/vnd.plotly.v1+json": {
       "config": {
        "plotlyServerURL": "https://plot.ly"
       },
       "data": [
        {
         "hovertemplate": "Country=Australia<br>Year=%{x}<br>Average Production Budget (USD)=%{y}<extra></extra>",
         "legendgroup": "Australia",
         "line": {
          "color": "#636efa",
          "dash": "solid"
         },
         "marker": {
          "symbol": "circle"
         },
         "mode": "lines+markers",
         "name": "Australia",
         "orientation": "v",
         "showlegend": true,
         "type": "scatter",
         "x": [
          2005,
          2006,
          2007,
          2008,
          2009,
          2010,
          2011,
          2012,
          2013,
          2014,
          2015,
          2016
         ],
         "xaxis": "x",
         "y": [
          52666666.666666664,
          40500000,
          49666666.666666664,
          77500000,
          22900000,
          63333333.333333336,
          75333333.33333333,
          150000000,
          50800000,
          88500000,
          72600000,
          140000000
         ],
         "yaxis": "y"
        },
        {
         "hovertemplate": "Country=Belgium<br>Year=%{x}<br>Average Production Budget (USD)=%{y}<extra></extra>",
         "legendgroup": "Belgium",
         "line": {
          "color": "#EF553B",
          "dash": "solid"
         },
         "marker": {
          "symbol": "circle"
         },
         "mode": "lines+markers",
         "name": "Belgium",
         "orientation": "v",
         "showlegend": true,
         "type": "scatter",
         "x": [
          2005,
          2006,
          2007,
          2008,
          2011,
          2012,
          2013,
          2014,
          2015
         ],
         "xaxis": "x",
         "y": [
          22000000,
          6500000,
          852510,
          50625200,
          17050000,
          12516654,
          26500000,
          17000000,
          25000000
         ],
         "yaxis": "y"
        },
        {
         "hovertemplate": "Country=Canada<br>Year=%{x}<br>Average Production Budget (USD)=%{y}<extra></extra>",
         "legendgroup": "Canada",
         "line": {
          "color": "#00cc96",
          "dash": "solid"
         },
         "marker": {
          "symbol": "circle"
         },
         "mode": "lines+markers",
         "name": "Canada",
         "orientation": "v",
         "showlegend": true,
         "type": "scatter",
         "x": [
          2005,
          2006,
          2007,
          2008,
          2009,
          2010,
          2011,
          2012,
          2013,
          2014,
          2015,
          2016
         ],
         "xaxis": "x",
         "y": [
          25000000,
          51666666.666666664,
          32875000,
          40277777.777777776,
          41375000,
          32280000,
          17983000,
          20357142.85714286,
          60600000,
          69125000,
          41714285.71428572,
          58388888.88888889
         ],
         "yaxis": "y"
        },
        {
         "hovertemplate": "Country=China<br>Year=%{x}<br>Average Production Budget (USD)=%{y}<extra></extra>",
         "legendgroup": "China",
         "line": {
          "color": "#ab63fa",
          "dash": "solid"
         },
         "marker": {
          "symbol": "circle"
         },
         "mode": "lines+markers",
         "name": "China",
         "orientation": "v",
         "showlegend": true,
         "type": "scatter",
         "x": [
          2005,
          2006,
          2007,
          2008,
          2009,
          2011,
          2012,
          2013,
          2014,
          2015,
          2016
         ],
         "xaxis": "x",
         "y": [
          25000000,
          150000000,
          15000000,
          58447000,
          17500000,
          42283501.25,
          30000000,
          75620000,
          87666666.66666667,
          72000000,
          104070000
         ],
         "yaxis": "y"
        },
        {
         "hovertemplate": "Country=Czech Republic<br>Year=%{x}<br>Average Production Budget (USD)=%{y}<extra></extra>",
         "legendgroup": "Czech Republic",
         "line": {
          "color": "#FFA15A",
          "dash": "solid"
         },
         "marker": {
          "symbol": "circle"
         },
         "mode": "lines+markers",
         "name": "Czech Republic",
         "orientation": "v",
         "showlegend": true,
         "type": "scatter",
         "x": [
          2005,
          2006,
          2007,
          2008,
          2009,
          2011,
          2013,
          2015
         ],
         "xaxis": "x",
         "y": [
          69500000,
          95000000,
          50000000,
          225000000,
          175000000,
          145000000,
          39200000,
          50000000
         ],
         "yaxis": "y"
        },
        {
         "hovertemplate": "Country=Denmark<br>Year=%{x}<br>Average Production Budget (USD)=%{y}<extra></extra>",
         "legendgroup": "Denmark",
         "line": {
          "color": "#19d3f3",
          "dash": "solid"
         },
         "marker": {
          "symbol": "circle"
         },
         "mode": "lines+markers",
         "name": "Denmark",
         "orientation": "v",
         "showlegend": true,
         "type": "scatter",
         "x": [
          2005,
          2011,
          2012,
          2013,
          2016
         ],
         "xaxis": "x",
         "y": [
          14200000,
          7400000,
          1600000,
          3479640,
          7000000
         ],
         "yaxis": "y"
        },
        {
         "hovertemplate": "Country=France<br>Year=%{x}<br>Average Production Budget (USD)=%{y}<extra></extra>",
         "legendgroup": "France",
         "line": {
          "color": "#FF6692",
          "dash": "solid"
         },
         "marker": {
          "symbol": "circle"
         },
         "mode": "lines+markers",
         "name": "France",
         "orientation": "v",
         "showlegend": true,
         "type": "scatter",
         "x": [
          2005,
          2006,
          2007,
          2008,
          2009,
          2010,
          2011,
          2012,
          2013,
          2014,
          2015,
          2016
         ],
         "xaxis": "x",
         "y": [
          33325000,
          33970588.23529412,
          30363636.363636363,
          31425040,
          24192307.692307692,
          26504869.444444444,
          31541666.666666668,
          19951387.833333332,
          19638273.333333332,
          32923076.923076924,
          26428571.42857143,
          5666666.666666667
         ],
         "yaxis": "y"
        },
        {
         "hovertemplate": "Country=Germany<br>Year=%{x}<br>Average Production Budget (USD)=%{y}<extra></extra>",
         "legendgroup": "Germany",
         "line": {
          "color": "#B6E880",
          "dash": "solid"
         },
         "marker": {
          "symbol": "circle"
         },
         "mode": "lines+markers",
         "name": "Germany",
         "orientation": "v",
         "showlegend": true,
         "type": "scatter",
         "x": [
          2005,
          2006,
          2007,
          2008,
          2009,
          2010,
          2011,
          2012,
          2013,
          2014,
          2015,
          2016
         ],
         "xaxis": "x",
         "y": [
          48859259.25925926,
          48068181.81818182,
          41909090.90909091,
          52570016,
          59809776.8,
          30750000,
          23854545.454545453,
          58633333.333333336,
          22250000,
          61250000,
          101666666.66666667,
          14000000
         ],
         "yaxis": "y"
        },
        {
         "hovertemplate": "Country=Ireland<br>Year=%{x}<br>Average Production Budget (USD)=%{y}<extra></extra>",
         "legendgroup": "Ireland",
         "line": {
          "color": "#FF97FF",
          "dash": "solid"
         },
         "marker": {
          "symbol": "circle"
         },
         "mode": "lines+markers",
         "name": "Ireland",
         "orientation": "v",
         "showlegend": true,
         "type": "scatter",
         "x": [
          2005,
          2006,
          2007,
          2009,
          2010,
          2011,
          2012,
          2015
         ],
         "xaxis": "x",
         "y": [
          15000000,
          6500000,
          80000,
          12000000,
          19000000,
          12333333.333333334,
          100000,
          8500000
         ],
         "yaxis": "y"
        },
        {
         "hovertemplate": "Country=Italy<br>Year=%{x}<br>Average Production Budget (USD)=%{y}<extra></extra>",
         "legendgroup": "Italy",
         "line": {
          "color": "#FECB52",
          "dash": "solid"
         },
         "marker": {
          "symbol": "circle"
         },
         "mode": "lines+markers",
         "name": "Italy",
         "orientation": "v",
         "showlegend": true,
         "type": "scatter",
         "x": [
          2005,
          2006,
          2007,
          2008,
          2009,
          2010,
          2011,
          2012,
          2013
         ],
         "xaxis": "x",
         "y": [
          32100000,
          57166666.666666664,
          42500000,
          71125200,
          110750000,
          45666666.666666664,
          22350000,
          17000000,
          12950000
         ],
         "yaxis": "y"
        },
        {
         "hovertemplate": "Country=Japan<br>Year=%{x}<br>Average Production Budget (USD)=%{y}<extra></extra>",
         "legendgroup": "Japan",
         "line": {
          "color": "#636efa",
          "dash": "solid"
         },
         "marker": {
          "symbol": "circle"
         },
         "mode": "lines+markers",
         "name": "Japan",
         "orientation": "v",
         "showlegend": true,
         "type": "scatter",
         "x": [
          2005,
          2006,
          2007,
          2008,
          2009,
          2010,
          2013,
          2014,
          2015,
          2016
         ],
         "xaxis": "x",
         "y": [
          14500000,
          43800000,
          0,
          33338849.5,
          57500000,
          12000000,
          30000000,
          5000000,
          190000000,
          87500000
         ],
         "yaxis": "y"
        },
        {
         "hovertemplate": "Country=Luxembourg<br>Year=%{x}<br>Average Production Budget (USD)=%{y}<extra></extra>",
         "legendgroup": "Luxembourg",
         "line": {
          "color": "#EF553B",
          "dash": "solid"
         },
         "marker": {
          "symbol": "circle"
         },
         "mode": "lines+markers",
         "name": "Luxembourg",
         "orientation": "v",
         "showlegend": true,
         "type": "scatter",
         "x": [
          2005,
          2006,
          2007,
          2012
         ],
         "xaxis": "x",
         "y": [
          15000000,
          18000000,
          38000000,
          12516654
         ],
         "yaxis": "y"
        },
        {
         "hovertemplate": "Country=Mexico<br>Year=%{x}<br>Average Production Budget (USD)=%{y}<extra></extra>",
         "legendgroup": "Mexico",
         "line": {
          "color": "#00cc96",
          "dash": "solid"
         },
         "marker": {
          "symbol": "circle"
         },
         "mode": "lines+markers",
         "name": "Mexico",
         "orientation": "v",
         "showlegend": true,
         "type": "scatter",
         "x": [
          2005,
          2006,
          2007,
          2008,
          2010,
          2012,
          2013,
          2014,
          2015
         ],
         "xaxis": "x",
         "y": [
          75000000,
          26333333.333333332,
          0,
          1250000,
          12500000,
          12000000,
          5500000,
          50000000,
          34500000
         ],
         "yaxis": "y"
        },
        {
         "hovertemplate": "Country=Morocco<br>Year=%{x}<br>Average Production Budget (USD)=%{y}<extra></extra>",
         "legendgroup": "Morocco",
         "line": {
          "color": "#ab63fa",
          "dash": "solid"
         },
         "marker": {
          "symbol": "circle"
         },
         "mode": "lines+markers",
         "name": "Morocco",
         "orientation": "v",
         "showlegend": true,
         "type": "scatter",
         "x": [
          2005,
          2016
         ],
         "xaxis": "x",
         "y": [
          130000000,
          50000000
         ],
         "yaxis": "y"
        },
        {
         "hovertemplate": "Country=Netherlands<br>Year=%{x}<br>Average Production Budget (USD)=%{y}<extra></extra>",
         "legendgroup": "Netherlands",
         "line": {
          "color": "#FFA15A",
          "dash": "solid"
         },
         "marker": {
          "symbol": "circle"
         },
         "mode": "lines+markers",
         "name": "Netherlands",
         "orientation": "v",
         "showlegend": true,
         "type": "scatter",
         "x": [
          2005,
          2006,
          2008,
          2009,
          2011
         ],
         "xaxis": "x",
         "y": [
          14200000,
          21000000,
          4000000,
          21500000,
          19100000
         ],
         "yaxis": "y"
        },
        {
         "hovertemplate": "Country=New Zealand<br>Year=%{x}<br>Average Production Budget (USD)=%{y}<extra></extra>",
         "legendgroup": "New Zealand",
         "line": {
          "color": "#19d3f3",
          "dash": "solid"
         },
         "marker": {
          "symbol": "circle"
         },
         "mode": "lines+markers",
         "name": "New Zealand",
         "orientation": "v",
         "showlegend": true,
         "type": "scatter",
         "x": [
          2005,
          2007,
          2009,
          2010,
          2011,
          2012,
          2013,
          2014,
          2015
         ],
         "xaxis": "x",
         "y": [
          207000000,
          30000000,
          47500000,
          61000000,
          130000000,
          250000000,
          250000000,
          250000000,
          0
         ],
         "yaxis": "y"
        },
        {
         "hovertemplate": "Country=Norway<br>Year=%{x}<br>Average Production Budget (USD)=%{y}<extra></extra>",
         "legendgroup": "Norway",
         "line": {
          "color": "#FF6692",
          "dash": "solid"
         },
         "marker": {
          "symbol": "circle"
         },
         "mode": "lines+markers",
         "name": "Norway",
         "orientation": "v",
         "showlegend": true,
         "type": "scatter",
         "x": [
          2005,
          2009,
          2010,
          2011,
          2012,
          2013,
          2014
         ],
         "xaxis": "x",
         "y": [
          22000000,
          800000,
          3500000,
          45000000,
          1000000,
          10,
          5500000
         ],
         "yaxis": "y"
        },
        {
         "hovertemplate": "Country=Romania<br>Year=%{x}<br>Average Production Budget (USD)=%{y}<extra></extra>",
         "legendgroup": "Romania",
         "line": {
          "color": "#B6E880",
          "dash": "solid"
         },
         "marker": {
          "symbol": "circle"
         },
         "mode": "lines+markers",
         "name": "Romania",
         "orientation": "v",
         "showlegend": true,
         "type": "scatter",
         "x": [
          2005,
          2007,
          2008,
          2010,
          2015
         ],
         "xaxis": "x",
         "y": [
          22000000,
          852510,
          35000000,
          20000000,
          50000000
         ],
         "yaxis": "y"
        },
        {
         "hovertemplate": "Country=Russia<br>Year=%{x}<br>Average Production Budget (USD)=%{y}<extra></extra>",
         "legendgroup": "Russia",
         "line": {
          "color": "#FF97FF",
          "dash": "solid"
         },
         "marker": {
          "symbol": "circle"
         },
         "mode": "lines+markers",
         "name": "Russia",
         "orientation": "v",
         "showlegend": true,
         "type": "scatter",
         "x": [
          2005,
          2007,
          2008,
          2010,
          2011,
          2012,
          2013,
          2014
         ],
         "xaxis": "x",
         "y": [
          15000000,
          18000000,
          58250000,
          25000000,
          30000000,
          7000000,
          3500000,
          60000000
         ],
         "yaxis": "y"
        },
        {
         "hovertemplate": "Country=South Africa<br>Year=%{x}<br>Average Production Budget (USD)=%{y}<extra></extra>",
         "legendgroup": "South Africa",
         "line": {
          "color": "#FECB52",
          "dash": "solid"
         },
         "marker": {
          "symbol": "circle"
         },
         "mode": "lines+markers",
         "name": "South Africa",
         "orientation": "v",
         "showlegend": true,
         "type": "scatter",
         "x": [
          2005,
          2006,
          2008,
          2009,
          2012,
          2013,
          2015
         ],
         "xaxis": "x",
         "y": [
          16500000,
          0,
          30000000,
          30000000,
          50000000,
          27500000,
          49000000
         ],
         "yaxis": "y"
        },
        {
         "hovertemplate": "Country=South Korea<br>Year=%{x}<br>Average Production Budget (USD)=%{y}<extra></extra>",
         "legendgroup": "South Korea",
         "line": {
          "color": "#636efa",
          "dash": "solid"
         },
         "marker": {
          "symbol": "circle"
         },
         "mode": "lines+markers",
         "name": "South Korea",
         "orientation": "v",
         "showlegend": true,
         "type": "scatter",
         "x": [
          2005,
          2006,
          2007,
          2009,
          2010,
          2013
         ],
         "xaxis": "x",
         "y": [
          0,
          11000000,
          70000000,
          16000000,
          42000000,
          39200000
         ],
         "yaxis": "y"
        },
        {
         "hovertemplate": "Country=Spain<br>Year=%{x}<br>Average Production Budget (USD)=%{y}<extra></extra>",
         "legendgroup": "Spain",
         "line": {
          "color": "#EF553B",
          "dash": "solid"
         },
         "marker": {
          "symbol": "circle"
         },
         "mode": "lines+markers",
         "name": "Spain",
         "orientation": "v",
         "showlegend": true,
         "type": "scatter",
         "x": [
          2005,
          2006,
          2007,
          2008,
          2009,
          2010,
          2011,
          2012,
          2013,
          2014,
          2015
         ],
         "xaxis": "x",
         "y": [
          130000000,
          22479973.4,
          4775000,
          42416800,
          29520000,
          33995883.333333336,
          18333333.333333332,
          49800000,
          20666666.666666668,
          55000000,
          19833333.333333332
         ],
         "yaxis": "y"
        },
        {
         "hovertemplate": "Country=Sweden<br>Year=%{x}<br>Average Production Budget (USD)=%{y}<extra></extra>",
         "legendgroup": "Sweden",
         "line": {
          "color": "#00cc96",
          "dash": "solid"
         },
         "marker": {
          "symbol": "circle"
         },
         "mode": "lines+markers",
         "name": "Sweden",
         "orientation": "v",
         "showlegend": true,
         "type": "scatter",
         "x": [
          2005,
          2011,
          2012,
          2013,
          2014
         ],
         "xaxis": "x",
         "y": [
          14200000,
          48700000,
          10400000,
          4800000,
          22000000
         ],
         "yaxis": "y"
        },
        {
         "hovertemplate": "Country=Thailand<br>Year=%{x}<br>Average Production Budget (USD)=%{y}<extra></extra>",
         "legendgroup": "Thailand",
         "line": {
          "color": "#ab63fa",
          "dash": "solid"
         },
         "marker": {
          "symbol": "circle"
         },
         "mode": "lines+markers",
         "name": "Thailand",
         "orientation": "v",
         "showlegend": true,
         "type": "scatter",
         "x": [
          2005,
          2008,
          2013
         ],
         "xaxis": "x",
         "y": [
          6000000,
          8500000,
          4800000
         ],
         "yaxis": "y"
        },
        {
         "hovertemplate": "Country=United Kingdom<br>Year=%{x}<br>Average Production Budget (USD)=%{y}<extra></extra>",
         "legendgroup": "United Kingdom",
         "line": {
          "color": "#FFA15A",
          "dash": "solid"
         },
         "marker": {
          "symbol": "circle"
         },
         "mode": "lines+markers",
         "name": "United Kingdom",
         "orientation": "v",
         "showlegend": true,
         "type": "scatter",
         "x": [
          2005,
          2006,
          2007,
          2008,
          2009,
          2010,
          2011,
          2012,
          2013,
          2014,
          2015,
          2016
         ],
         "xaxis": "x",
         "y": [
          57578571.428571425,
          48942413.79310345,
          47892857.14285714,
          47204642.85714286,
          52070430.461538464,
          46703076.63636363,
          25189865.25,
          47514406.25,
          41282964,
          68371428.57142857,
          43906250,
          82136363.63636364
         ],
         "yaxis": "y"
        },
        {
         "hovertemplate": "Country=Bahamas<br>Year=%{x}<br>Average Production Budget (USD)=%{y}<extra></extra>",
         "legendgroup": "Bahamas",
         "line": {
          "color": "#19d3f3",
          "dash": "solid"
         },
         "marker": {
          "symbol": "circle"
         },
         "mode": "lines+markers",
         "name": "Bahamas",
         "orientation": "v",
         "showlegend": true,
         "type": "scatter",
         "x": [
          2006,
          2008
         ],
         "xaxis": "x",
         "y": [
          200000000,
          6000000
         ],
         "yaxis": "y"
        },
        {
         "hovertemplate": "Country=Dominica<br>Year=%{x}<br>Average Production Budget (USD)=%{y}<extra></extra>",
         "legendgroup": "Dominica",
         "line": {
          "color": "#FF6692",
          "dash": "solid"
         },
         "marker": {
          "symbol": "circle"
         },
         "mode": "lines+markers",
         "name": "Dominica",
         "orientation": "v",
         "showlegend": true,
         "type": "scatter",
         "x": [
          2006
         ],
         "xaxis": "x",
         "y": [
          200000000
         ],
         "yaxis": "y"
        },
        {
         "hovertemplate": "Country=Hong Kong<br>Year=%{x}<br>Average Production Budget (USD)=%{y}<extra></extra>",
         "legendgroup": "Hong Kong",
         "line": {
          "color": "#B6E880",
          "dash": "solid"
         },
         "marker": {
          "symbol": "circle"
         },
         "mode": "lines+markers",
         "name": "Hong Kong",
         "orientation": "v",
         "showlegend": true,
         "type": "scatter",
         "x": [
          2006,
          2007,
          2008,
          2009,
          2011,
          2012,
          2013,
          2015,
          2016
         ],
         "xaxis": "x",
         "y": [
          90000000,
          10000000,
          0,
          38500000,
          56333333.333333336,
          58500000,
          3860000,
          62750000,
          101745000
         ],
         "yaxis": "y"
        },
        {
         "hovertemplate": "Country=Hungary<br>Year=%{x}<br>Average Production Budget (USD)=%{y}<extra></extra>",
         "legendgroup": "Hungary",
         "line": {
          "color": "#FF97FF",
          "dash": "solid"
         },
         "marker": {
          "symbol": "circle"
         },
         "mode": "lines+markers",
         "name": "Hungary",
         "orientation": "v",
         "showlegend": true,
         "type": "scatter",
         "x": [
          2006,
          2010,
          2011,
          2012
         ],
         "xaxis": "x",
         "y": [
          100000000,
          90000000,
          28500000,
          26000000
         ],
         "yaxis": "y"
        },
        {
         "hovertemplate": "Country=India<br>Year=%{x}<br>Average Production Budget (USD)=%{y}<extra></extra>",
         "legendgroup": "India",
         "line": {
          "color": "#FECB52",
          "dash": "solid"
         },
         "marker": {
          "symbol": "circle"
         },
         "mode": "lines+markers",
         "name": "India",
         "orientation": "v",
         "showlegend": true,
         "type": "scatter",
         "x": [
          2006,
          2007,
          2008,
          2009,
          2010,
          2011,
          2012,
          2013,
          2014,
          2015,
          2016
         ],
         "xaxis": "x",
         "y": [
          7200000,
          11000000,
          27333333.333333332,
          50000000,
          16000000,
          67500000,
          57500000,
          31740000,
          22000000,
          40000000,
          72250000
         ],
         "yaxis": "y"
        },
        {
         "hovertemplate": "Country=Jamaica<br>Year=%{x}<br>Average Production Budget (USD)=%{y}<extra></extra>",
         "legendgroup": "Jamaica",
         "line": {
          "color": "#636efa",
          "dash": "solid"
         },
         "marker": {
          "symbol": "circle"
         },
         "mode": "lines+markers",
         "name": "Jamaica",
         "orientation": "v",
         "showlegend": true,
         "type": "scatter",
         "x": [
          2006
         ],
         "xaxis": "x",
         "y": [
          200000000
         ],
         "yaxis": "y"
        },
        {
         "hovertemplate": "Country=Malta<br>Year=%{x}<br>Average Production Budget (USD)=%{y}<extra></extra>",
         "legendgroup": "Malta",
         "line": {
          "color": "#EF553B",
          "dash": "solid"
         },
         "marker": {
          "symbol": "circle"
         },
         "mode": "lines+markers",
         "name": "Malta",
         "orientation": "v",
         "showlegend": true,
         "type": "scatter",
         "x": [
          2006,
          2013,
          2016
         ],
         "xaxis": "x",
         "y": [
          125000000,
          200000000,
          50000000
         ],
         "yaxis": "y"
        },
        {
         "hovertemplate": "Country=Switzerland<br>Year=%{x}<br>Average Production Budget (USD)=%{y}<extra></extra>",
         "legendgroup": "Switzerland",
         "line": {
          "color": "#00cc96",
          "dash": "solid"
         },
         "marker": {
          "symbol": "circle"
         },
         "mode": "lines+markers",
         "name": "Switzerland",
         "orientation": "v",
         "showlegend": true,
         "type": "scatter",
         "x": [
          2006,
          2009,
          2011,
          2013,
          2014,
          2015
         ],
         "xaxis": "x",
         "y": [
          13250000,
          0,
          15000000,
          55000000,
          13300000,
          4000000
         ],
         "yaxis": "y"
        },
        {
         "hovertemplate": "Country=Austria<br>Year=%{x}<br>Average Production Budget (USD)=%{y}<extra></extra>",
         "legendgroup": "Austria",
         "line": {
          "color": "#ab63fa",
          "dash": "solid"
         },
         "marker": {
          "symbol": "circle"
         },
         "mode": "lines+markers",
         "name": "Austria",
         "orientation": "v",
         "showlegend": true,
         "type": "scatter",
         "x": [
          2007,
          2012
         ],
         "xaxis": "x",
         "y": [
          15000000,
          8900000
         ],
         "yaxis": "y"
        },
        {
         "hovertemplate": "Country=Iceland<br>Year=%{x}<br>Average Production Budget (USD)=%{y}<extra></extra>",
         "legendgroup": "Iceland",
         "line": {
          "color": "#FFA15A",
          "dash": "solid"
         },
         "marker": {
          "symbol": "circle"
         },
         "mode": "lines+markers",
         "name": "Iceland",
         "orientation": "v",
         "showlegend": true,
         "type": "scatter",
         "x": [
          2007,
          2013,
          2015
         ],
         "xaxis": "x",
         "y": [
          70000000,
          10,
          55000000
         ],
         "yaxis": "y"
        },
        {
         "hovertemplate": "Country=Kazakhstan<br>Year=%{x}<br>Average Production Budget (USD)=%{y}<extra></extra>",
         "legendgroup": "Kazakhstan",
         "line": {
          "color": "#19d3f3",
          "dash": "solid"
         },
         "marker": {
          "symbol": "circle"
         },
         "mode": "lines+markers",
         "name": "Kazakhstan",
         "orientation": "v",
         "showlegend": true,
         "type": "scatter",
         "x": [
          2007
         ],
         "xaxis": "x",
         "y": [
          18000000
         ],
         "yaxis": "y"
        },
        {
         "hovertemplate": "Country=Pakistan<br>Year=%{x}<br>Average Production Budget (USD)=%{y}<extra></extra>",
         "legendgroup": "Pakistan",
         "line": {
          "color": "#FF6692",
          "dash": "solid"
         },
         "marker": {
          "symbol": "circle"
         },
         "mode": "lines+markers",
         "name": "Pakistan",
         "orientation": "v",
         "showlegend": true,
         "type": "scatter",
         "x": [
          2007
         ],
         "xaxis": "x",
         "y": [
          16000000
         ],
         "yaxis": "y"
        },
        {
         "hovertemplate": "Country=Tunisia<br>Year=%{x}<br>Average Production Budget (USD)=%{y}<extra></extra>",
         "legendgroup": "Tunisia",
         "line": {
          "color": "#B6E880",
          "dash": "solid"
         },
         "marker": {
          "symbol": "circle"
         },
         "mode": "lines+markers",
         "name": "Tunisia",
         "orientation": "v",
         "showlegend": true,
         "type": "scatter",
         "x": [
          2007
         ],
         "xaxis": "x",
         "y": [
          67000000
         ],
         "yaxis": "y"
        },
        {
         "hovertemplate": "Country=Brazil<br>Year=%{x}<br>Average Production Budget (USD)=%{y}<extra></extra>",
         "legendgroup": "Brazil",
         "line": {
          "color": "#FF97FF",
          "dash": "solid"
         },
         "marker": {
          "symbol": "circle"
         },
         "mode": "lines+markers",
         "name": "Brazil",
         "orientation": "v",
         "showlegend": true,
         "type": "scatter",
         "x": [
          2008,
          2012,
          2013
         ],
         "xaxis": "x",
         "y": [
          25000000,
          25000000,
          0
         ],
         "yaxis": "y"
        },
        {
         "hovertemplate": "Country=Bulgaria<br>Year=%{x}<br>Average Production Budget (USD)=%{y}<extra></extra>",
         "legendgroup": "Bulgaria",
         "line": {
          "color": "#FECB52",
          "dash": "solid"
         },
         "marker": {
          "symbol": "circle"
         },
         "mode": "lines+markers",
         "name": "Bulgaria",
         "orientation": "v",
         "showlegend": true,
         "type": "scatter",
         "x": [
          2008,
          2013,
          2016
         ],
         "xaxis": "x",
         "y": [
          5000000,
          18000000,
          60000000
         ],
         "yaxis": "y"
        },
        {
         "hovertemplate": "Country=Israel<br>Year=%{x}<br>Average Production Budget (USD)=%{y}<extra></extra>",
         "legendgroup": "Israel",
         "line": {
          "color": "#636efa",
          "dash": "solid"
         },
         "marker": {
          "symbol": "circle"
         },
         "mode": "lines+markers",
         "name": "Israel",
         "orientation": "v",
         "showlegend": true,
         "type": "scatter",
         "x": [
          2008
         ],
         "xaxis": "x",
         "y": [
          2000000
         ],
         "yaxis": "y"
        },
        {
         "hovertemplate": "Country=Lithuania<br>Year=%{x}<br>Average Production Budget (USD)=%{y}<extra></extra>",
         "legendgroup": "Lithuania",
         "line": {
          "color": "#EF553B",
          "dash": "solid"
         },
         "marker": {
          "symbol": "circle"
         },
         "mode": "lines+markers",
         "name": "Lithuania",
         "orientation": "v",
         "showlegend": true,
         "type": "scatter",
         "x": [
          2008
         ],
         "xaxis": "x",
         "y": [
          15000000
         ],
         "yaxis": "y"
        },
        {
         "hovertemplate": "Country=Poland<br>Year=%{x}<br>Average Production Budget (USD)=%{y}<extra></extra>",
         "legendgroup": "Poland",
         "line": {
          "color": "#00cc96",
          "dash": "solid"
         },
         "marker": {
          "symbol": "circle"
         },
         "mode": "lines+markers",
         "name": "Poland",
         "orientation": "v",
         "showlegend": true,
         "type": "scatter",
         "x": [
          2008,
          2011,
          2013
         ],
         "xaxis": "x",
         "y": [
          225000000,
          25000000,
          2159280
         ],
         "yaxis": "y"
        },
        {
         "hovertemplate": "Country=Slovenia<br>Year=%{x}<br>Average Production Budget (USD)=%{y}<extra></extra>",
         "legendgroup": "Slovenia",
         "line": {
          "color": "#ab63fa",
          "dash": "solid"
         },
         "marker": {
          "symbol": "circle"
         },
         "mode": "lines+markers",
         "name": "Slovenia",
         "orientation": "v",
         "showlegend": true,
         "type": "scatter",
         "x": [
          2008
         ],
         "xaxis": "x",
         "y": [
          225000000
         ],
         "yaxis": "y"
        },
        {
         "hovertemplate": "Country=Argentina<br>Year=%{x}<br>Average Production Budget (USD)=%{y}<extra></extra>",
         "legendgroup": "Argentina",
         "line": {
          "color": "#FFA15A",
          "dash": "solid"
         },
         "marker": {
          "symbol": "circle"
         },
         "mode": "lines+markers",
         "name": "Argentina",
         "orientation": "v",
         "showlegend": true,
         "type": "scatter",
         "x": [
          2009,
          2013
         ],
         "xaxis": "x",
         "y": [
          2000000,
          22000000
         ],
         "yaxis": "y"
        },
        {
         "hovertemplate": "Country=Greece<br>Year=%{x}<br>Average Production Budget (USD)=%{y}<extra></extra>",
         "legendgroup": "Greece",
         "line": {
          "color": "#19d3f3",
          "dash": "solid"
         },
         "marker": {
          "symbol": "circle"
         },
         "mode": "lines+markers",
         "name": "Greece",
         "orientation": "v",
         "showlegend": true,
         "type": "scatter",
         "x": [
          2009,
          2013
         ],
         "xaxis": "x",
         "y": [
          8500000,
          3000000
         ],
         "yaxis": "y"
        },
        {
         "hovertemplate": "Country=Monaco<br>Year=%{x}<br>Average Production Budget (USD)=%{y}<extra></extra>",
         "legendgroup": "Monaco",
         "line": {
          "color": "#FF6692",
          "dash": "solid"
         },
         "marker": {
          "symbol": "circle"
         },
         "mode": "lines+markers",
         "name": "Monaco",
         "orientation": "v",
         "showlegend": true,
         "type": "scatter",
         "x": [
          2009
         ],
         "xaxis": "x",
         "y": [
          0
         ],
         "yaxis": "y"
        },
        {
         "hovertemplate": "Country=United Arab Emirates<br>Year=%{x}<br>Average Production Budget (USD)=%{y}<extra></extra>",
         "legendgroup": "United Arab Emirates",
         "line": {
          "color": "#B6E880",
          "dash": "solid"
         },
         "marker": {
          "symbol": "circle"
         },
         "mode": "lines+markers",
         "name": "United Arab Emirates",
         "orientation": "v",
         "showlegend": true,
         "type": "scatter",
         "x": [
          2009,
          2010,
          2011,
          2012,
          2013,
          2014
         ],
         "xaxis": "x",
         "y": [
          40000000,
          28500000,
          53000000,
          15000000,
          35000000,
          21000000
         ],
         "yaxis": "y"
        },
        {
         "hovertemplate": "Country=Angola<br>Year=%{x}<br>Average Production Budget (USD)=%{y}<extra></extra>",
         "legendgroup": "Angola",
         "line": {
          "color": "#FF97FF",
          "dash": "solid"
         },
         "marker": {
          "symbol": "circle"
         },
         "mode": "lines+markers",
         "name": "Angola",
         "orientation": "v",
         "showlegend": true,
         "type": "scatter",
         "x": [
          2010
         ],
         "xaxis": "x",
         "y": [
          500000
         ],
         "yaxis": "y"
        },
        {
         "hovertemplate": "Country=Bolivia<br>Year=%{x}<br>Average Production Budget (USD)=%{y}<extra></extra>",
         "legendgroup": "Bolivia",
         "line": {
          "color": "#FECB52",
          "dash": "solid"
         },
         "marker": {
          "symbol": "circle"
         },
         "mode": "lines+markers",
         "name": "Bolivia",
         "orientation": "v",
         "showlegend": true,
         "type": "scatter",
         "x": [
          2011
         ],
         "xaxis": "x",
         "y": [
          0
         ],
         "yaxis": "y"
        },
        {
         "hovertemplate": "Country=Indonesia<br>Year=%{x}<br>Average Production Budget (USD)=%{y}<extra></extra>",
         "legendgroup": "Indonesia",
         "line": {
          "color": "#636efa",
          "dash": "solid"
         },
         "marker": {
          "symbol": "circle"
         },
         "mode": "lines+markers",
         "name": "Indonesia",
         "orientation": "v",
         "showlegend": true,
         "type": "scatter",
         "x": [
          2011
         ],
         "xaxis": "x",
         "y": [
          1100000
         ],
         "yaxis": "y"
        },
        {
         "hovertemplate": "Country=Serbia and Montenegro<br>Year=%{x}<br>Average Production Budget (USD)=%{y}<extra></extra>",
         "legendgroup": "Serbia and Montenegro",
         "line": {
          "color": "#EF553B",
          "dash": "solid"
         },
         "marker": {
          "symbol": "circle"
         },
         "mode": "lines+markers",
         "name": "Serbia and Montenegro",
         "orientation": "v",
         "showlegend": true,
         "type": "scatter",
         "x": [
          2011
         ],
         "xaxis": "x",
         "y": [
          7700000
         ],
         "yaxis": "y"
        },
        {
         "hovertemplate": "Country=Serbia<br>Year=%{x}<br>Average Production Budget (USD)=%{y}<extra></extra>",
         "legendgroup": "Serbia",
         "line": {
          "color": "#00cc96",
          "dash": "solid"
         },
         "marker": {
          "symbol": "circle"
         },
         "mode": "lines+markers",
         "name": "Serbia",
         "orientation": "v",
         "showlegend": true,
         "type": "scatter",
         "x": [
          2012
         ],
         "xaxis": "x",
         "y": [
          26000000
         ],
         "yaxis": "y"
        },
        {
         "hovertemplate": "Country=Singapore<br>Year=%{x}<br>Average Production Budget (USD)=%{y}<extra></extra>",
         "legendgroup": "Singapore",
         "line": {
          "color": "#ab63fa",
          "dash": "solid"
         },
         "marker": {
          "symbol": "circle"
         },
         "mode": "lines+markers",
         "name": "Singapore",
         "orientation": "v",
         "showlegend": true,
         "type": "scatter",
         "x": [
          2012
         ],
         "xaxis": "x",
         "y": [
          102000000
         ],
         "yaxis": "y"
        },
        {
         "hovertemplate": "Country=Taiwan<br>Year=%{x}<br>Average Production Budget (USD)=%{y}<extra></extra>",
         "legendgroup": "Taiwan",
         "line": {
          "color": "#FFA15A",
          "dash": "solid"
         },
         "marker": {
          "symbol": "circle"
         },
         "mode": "lines+markers",
         "name": "Taiwan",
         "orientation": "v",
         "showlegend": true,
         "type": "scatter",
         "x": [
          2012,
          2015
         ],
         "xaxis": "x",
         "y": [
          120000000,
          75000000
         ],
         "yaxis": "y"
        },
        {
         "hovertemplate": "Country=Chile<br>Year=%{x}<br>Average Production Budget (USD)=%{y}<extra></extra>",
         "legendgroup": "Chile",
         "line": {
          "color": "#19d3f3",
          "dash": "solid"
         },
         "marker": {
          "symbol": "circle"
         },
         "mode": "lines+markers",
         "name": "Chile",
         "orientation": "v",
         "showlegend": true,
         "type": "scatter",
         "x": [
          2014,
          2015
         ],
         "xaxis": "x",
         "y": [
          5000000,
          25000000
         ],
         "yaxis": "y"
        },
        {
         "hovertemplate": "Country=Philippines<br>Year=%{x}<br>Average Production Budget (USD)=%{y}<extra></extra>",
         "legendgroup": "Philippines",
         "line": {
          "color": "#FF6692",
          "dash": "solid"
         },
         "marker": {
          "symbol": "circle"
         },
         "mode": "lines+markers",
         "name": "Philippines",
         "orientation": "v",
         "showlegend": true,
         "type": "scatter",
         "x": [
          2014
         ],
         "xaxis": "x",
         "y": [
          66000000
         ],
         "yaxis": "y"
        },
        {
         "hovertemplate": "Country=Finland<br>Year=%{x}<br>Average Production Budget (USD)=%{y}<extra></extra>",
         "legendgroup": "Finland",
         "line": {
          "color": "#B6E880",
          "dash": "solid"
         },
         "marker": {
          "symbol": "circle"
         },
         "mode": "lines+markers",
         "name": "Finland",
         "orientation": "v",
         "showlegend": true,
         "type": "scatter",
         "x": [
          2016
         ],
         "xaxis": "x",
         "y": [
          73000000
         ],
         "yaxis": "y"
        }
       ],
       "layout": {
        "legend": {
         "title": {
          "text": "Country"
         },
         "tracegroupgap": 0
        },
        "template": {
         "data": {
          "bar": [
           {
            "error_x": {
             "color": "#2a3f5f"
            },
            "error_y": {
             "color": "#2a3f5f"
            },
            "marker": {
             "line": {
              "color": "#E5ECF6",
              "width": 0.5
             },
             "pattern": {
              "fillmode": "overlay",
              "size": 10,
              "solidity": 0.2
             }
            },
            "type": "bar"
           }
          ],
          "barpolar": [
           {
            "marker": {
             "line": {
              "color": "#E5ECF6",
              "width": 0.5
             },
             "pattern": {
              "fillmode": "overlay",
              "size": 10,
              "solidity": 0.2
             }
            },
            "type": "barpolar"
           }
          ],
          "carpet": [
           {
            "aaxis": {
             "endlinecolor": "#2a3f5f",
             "gridcolor": "white",
             "linecolor": "white",
             "minorgridcolor": "white",
             "startlinecolor": "#2a3f5f"
            },
            "baxis": {
             "endlinecolor": "#2a3f5f",
             "gridcolor": "white",
             "linecolor": "white",
             "minorgridcolor": "white",
             "startlinecolor": "#2a3f5f"
            },
            "type": "carpet"
           }
          ],
          "choropleth": [
           {
            "colorbar": {
             "outlinewidth": 0,
             "ticks": ""
            },
            "type": "choropleth"
           }
          ],
          "contour": [
           {
            "colorbar": {
             "outlinewidth": 0,
             "ticks": ""
            },
            "colorscale": [
             [
              0,
              "#0d0887"
             ],
             [
              0.1111111111111111,
              "#46039f"
             ],
             [
              0.2222222222222222,
              "#7201a8"
             ],
             [
              0.3333333333333333,
              "#9c179e"
             ],
             [
              0.4444444444444444,
              "#bd3786"
             ],
             [
              0.5555555555555556,
              "#d8576b"
             ],
             [
              0.6666666666666666,
              "#ed7953"
             ],
             [
              0.7777777777777778,
              "#fb9f3a"
             ],
             [
              0.8888888888888888,
              "#fdca26"
             ],
             [
              1,
              "#f0f921"
             ]
            ],
            "type": "contour"
           }
          ],
          "contourcarpet": [
           {
            "colorbar": {
             "outlinewidth": 0,
             "ticks": ""
            },
            "type": "contourcarpet"
           }
          ],
          "heatmap": [
           {
            "colorbar": {
             "outlinewidth": 0,
             "ticks": ""
            },
            "colorscale": [
             [
              0,
              "#0d0887"
             ],
             [
              0.1111111111111111,
              "#46039f"
             ],
             [
              0.2222222222222222,
              "#7201a8"
             ],
             [
              0.3333333333333333,
              "#9c179e"
             ],
             [
              0.4444444444444444,
              "#bd3786"
             ],
             [
              0.5555555555555556,
              "#d8576b"
             ],
             [
              0.6666666666666666,
              "#ed7953"
             ],
             [
              0.7777777777777778,
              "#fb9f3a"
             ],
             [
              0.8888888888888888,
              "#fdca26"
             ],
             [
              1,
              "#f0f921"
             ]
            ],
            "type": "heatmap"
           }
          ],
          "heatmapgl": [
           {
            "colorbar": {
             "outlinewidth": 0,
             "ticks": ""
            },
            "colorscale": [
             [
              0,
              "#0d0887"
             ],
             [
              0.1111111111111111,
              "#46039f"
             ],
             [
              0.2222222222222222,
              "#7201a8"
             ],
             [
              0.3333333333333333,
              "#9c179e"
             ],
             [
              0.4444444444444444,
              "#bd3786"
             ],
             [
              0.5555555555555556,
              "#d8576b"
             ],
             [
              0.6666666666666666,
              "#ed7953"
             ],
             [
              0.7777777777777778,
              "#fb9f3a"
             ],
             [
              0.8888888888888888,
              "#fdca26"
             ],
             [
              1,
              "#f0f921"
             ]
            ],
            "type": "heatmapgl"
           }
          ],
          "histogram": [
           {
            "marker": {
             "pattern": {
              "fillmode": "overlay",
              "size": 10,
              "solidity": 0.2
             }
            },
            "type": "histogram"
           }
          ],
          "histogram2d": [
           {
            "colorbar": {
             "outlinewidth": 0,
             "ticks": ""
            },
            "colorscale": [
             [
              0,
              "#0d0887"
             ],
             [
              0.1111111111111111,
              "#46039f"
             ],
             [
              0.2222222222222222,
              "#7201a8"
             ],
             [
              0.3333333333333333,
              "#9c179e"
             ],
             [
              0.4444444444444444,
              "#bd3786"
             ],
             [
              0.5555555555555556,
              "#d8576b"
             ],
             [
              0.6666666666666666,
              "#ed7953"
             ],
             [
              0.7777777777777778,
              "#fb9f3a"
             ],
             [
              0.8888888888888888,
              "#fdca26"
             ],
             [
              1,
              "#f0f921"
             ]
            ],
            "type": "histogram2d"
           }
          ],
          "histogram2dcontour": [
           {
            "colorbar": {
             "outlinewidth": 0,
             "ticks": ""
            },
            "colorscale": [
             [
              0,
              "#0d0887"
             ],
             [
              0.1111111111111111,
              "#46039f"
             ],
             [
              0.2222222222222222,
              "#7201a8"
             ],
             [
              0.3333333333333333,
              "#9c179e"
             ],
             [
              0.4444444444444444,
              "#bd3786"
             ],
             [
              0.5555555555555556,
              "#d8576b"
             ],
             [
              0.6666666666666666,
              "#ed7953"
             ],
             [
              0.7777777777777778,
              "#fb9f3a"
             ],
             [
              0.8888888888888888,
              "#fdca26"
             ],
             [
              1,
              "#f0f921"
             ]
            ],
            "type": "histogram2dcontour"
           }
          ],
          "mesh3d": [
           {
            "colorbar": {
             "outlinewidth": 0,
             "ticks": ""
            },
            "type": "mesh3d"
           }
          ],
          "parcoords": [
           {
            "line": {
             "colorbar": {
              "outlinewidth": 0,
              "ticks": ""
             }
            },
            "type": "parcoords"
           }
          ],
          "pie": [
           {
            "automargin": true,
            "type": "pie"
           }
          ],
          "scatter": [
           {
            "fillpattern": {
             "fillmode": "overlay",
             "size": 10,
             "solidity": 0.2
            },
            "type": "scatter"
           }
          ],
          "scatter3d": [
           {
            "line": {
             "colorbar": {
              "outlinewidth": 0,
              "ticks": ""
             }
            },
            "marker": {
             "colorbar": {
              "outlinewidth": 0,
              "ticks": ""
             }
            },
            "type": "scatter3d"
           }
          ],
          "scattercarpet": [
           {
            "marker": {
             "colorbar": {
              "outlinewidth": 0,
              "ticks": ""
             }
            },
            "type": "scattercarpet"
           }
          ],
          "scattergeo": [
           {
            "marker": {
             "colorbar": {
              "outlinewidth": 0,
              "ticks": ""
             }
            },
            "type": "scattergeo"
           }
          ],
          "scattergl": [
           {
            "marker": {
             "colorbar": {
              "outlinewidth": 0,
              "ticks": ""
             }
            },
            "type": "scattergl"
           }
          ],
          "scattermapbox": [
           {
            "marker": {
             "colorbar": {
              "outlinewidth": 0,
              "ticks": ""
             }
            },
            "type": "scattermapbox"
           }
          ],
          "scatterpolar": [
           {
            "marker": {
             "colorbar": {
              "outlinewidth": 0,
              "ticks": ""
             }
            },
            "type": "scatterpolar"
           }
          ],
          "scatterpolargl": [
           {
            "marker": {
             "colorbar": {
              "outlinewidth": 0,
              "ticks": ""
             }
            },
            "type": "scatterpolargl"
           }
          ],
          "scatterternary": [
           {
            "marker": {
             "colorbar": {
              "outlinewidth": 0,
              "ticks": ""
             }
            },
            "type": "scatterternary"
           }
          ],
          "surface": [
           {
            "colorbar": {
             "outlinewidth": 0,
             "ticks": ""
            },
            "colorscale": [
             [
              0,
              "#0d0887"
             ],
             [
              0.1111111111111111,
              "#46039f"
             ],
             [
              0.2222222222222222,
              "#7201a8"
             ],
             [
              0.3333333333333333,
              "#9c179e"
             ],
             [
              0.4444444444444444,
              "#bd3786"
             ],
             [
              0.5555555555555556,
              "#d8576b"
             ],
             [
              0.6666666666666666,
              "#ed7953"
             ],
             [
              0.7777777777777778,
              "#fb9f3a"
             ],
             [
              0.8888888888888888,
              "#fdca26"
             ],
             [
              1,
              "#f0f921"
             ]
            ],
            "type": "surface"
           }
          ],
          "table": [
           {
            "cells": {
             "fill": {
              "color": "#EBF0F8"
             },
             "line": {
              "color": "white"
             }
            },
            "header": {
             "fill": {
              "color": "#C8D4E3"
             },
             "line": {
              "color": "white"
             }
            },
            "type": "table"
           }
          ]
         },
         "layout": {
          "annotationdefaults": {
           "arrowcolor": "#2a3f5f",
           "arrowhead": 0,
           "arrowwidth": 1
          },
          "autotypenumbers": "strict",
          "coloraxis": {
           "colorbar": {
            "outlinewidth": 0,
            "ticks": ""
           }
          },
          "colorscale": {
           "diverging": [
            [
             0,
             "#8e0152"
            ],
            [
             0.1,
             "#c51b7d"
            ],
            [
             0.2,
             "#de77ae"
            ],
            [
             0.3,
             "#f1b6da"
            ],
            [
             0.4,
             "#fde0ef"
            ],
            [
             0.5,
             "#f7f7f7"
            ],
            [
             0.6,
             "#e6f5d0"
            ],
            [
             0.7,
             "#b8e186"
            ],
            [
             0.8,
             "#7fbc41"
            ],
            [
             0.9,
             "#4d9221"
            ],
            [
             1,
             "#276419"
            ]
           ],
           "sequential": [
            [
             0,
             "#0d0887"
            ],
            [
             0.1111111111111111,
             "#46039f"
            ],
            [
             0.2222222222222222,
             "#7201a8"
            ],
            [
             0.3333333333333333,
             "#9c179e"
            ],
            [
             0.4444444444444444,
             "#bd3786"
            ],
            [
             0.5555555555555556,
             "#d8576b"
            ],
            [
             0.6666666666666666,
             "#ed7953"
            ],
            [
             0.7777777777777778,
             "#fb9f3a"
            ],
            [
             0.8888888888888888,
             "#fdca26"
            ],
            [
             1,
             "#f0f921"
            ]
           ],
           "sequentialminus": [
            [
             0,
             "#0d0887"
            ],
            [
             0.1111111111111111,
             "#46039f"
            ],
            [
             0.2222222222222222,
             "#7201a8"
            ],
            [
             0.3333333333333333,
             "#9c179e"
            ],
            [
             0.4444444444444444,
             "#bd3786"
            ],
            [
             0.5555555555555556,
             "#d8576b"
            ],
            [
             0.6666666666666666,
             "#ed7953"
            ],
            [
             0.7777777777777778,
             "#fb9f3a"
            ],
            [
             0.8888888888888888,
             "#fdca26"
            ],
            [
             1,
             "#f0f921"
            ]
           ]
          },
          "colorway": [
           "#636efa",
           "#EF553B",
           "#00cc96",
           "#ab63fa",
           "#FFA15A",
           "#19d3f3",
           "#FF6692",
           "#B6E880",
           "#FF97FF",
           "#FECB52"
          ],
          "font": {
           "color": "#2a3f5f"
          },
          "geo": {
           "bgcolor": "white",
           "lakecolor": "white",
           "landcolor": "#E5ECF6",
           "showlakes": true,
           "showland": true,
           "subunitcolor": "white"
          },
          "hoverlabel": {
           "align": "left"
          },
          "hovermode": "closest",
          "mapbox": {
           "style": "light"
          },
          "paper_bgcolor": "white",
          "plot_bgcolor": "#E5ECF6",
          "polar": {
           "angularaxis": {
            "gridcolor": "white",
            "linecolor": "white",
            "ticks": ""
           },
           "bgcolor": "#E5ECF6",
           "radialaxis": {
            "gridcolor": "white",
            "linecolor": "white",
            "ticks": ""
           }
          },
          "scene": {
           "xaxis": {
            "backgroundcolor": "#E5ECF6",
            "gridcolor": "white",
            "gridwidth": 2,
            "linecolor": "white",
            "showbackground": true,
            "ticks": "",
            "zerolinecolor": "white"
           },
           "yaxis": {
            "backgroundcolor": "#E5ECF6",
            "gridcolor": "white",
            "gridwidth": 2,
            "linecolor": "white",
            "showbackground": true,
            "ticks": "",
            "zerolinecolor": "white"
           },
           "zaxis": {
            "backgroundcolor": "#E5ECF6",
            "gridcolor": "white",
            "gridwidth": 2,
            "linecolor": "white",
            "showbackground": true,
            "ticks": "",
            "zerolinecolor": "white"
           }
          },
          "shapedefaults": {
           "line": {
            "color": "#2a3f5f"
           }
          },
          "ternary": {
           "aaxis": {
            "gridcolor": "white",
            "linecolor": "white",
            "ticks": ""
           },
           "baxis": {
            "gridcolor": "white",
            "linecolor": "white",
            "ticks": ""
           },
           "bgcolor": "#E5ECF6",
           "caxis": {
            "gridcolor": "white",
            "linecolor": "white",
            "ticks": ""
           }
          },
          "title": {
           "x": 0.05
          },
          "xaxis": {
           "automargin": true,
           "gridcolor": "white",
           "linecolor": "white",
           "ticks": "",
           "title": {
            "standoff": 15
           },
           "zerolinecolor": "white",
           "zerolinewidth": 2
          },
          "yaxis": {
           "automargin": true,
           "gridcolor": "white",
           "linecolor": "white",
           "ticks": "",
           "title": {
            "standoff": 15
           },
           "zerolinecolor": "white",
           "zerolinewidth": 2
          }
         }
        },
        "title": {
         "text": "Average Annual Cost of the Film Industry (Excluding U.S.) Over the Past 20 Years",
         "x": 0.5
        },
        "xaxis": {
         "anchor": "y",
         "domain": [
          0,
          1
         ],
         "dtick": 1,
         "tickmode": "linear",
         "title": {
          "text": "Year"
         }
        },
        "yaxis": {
         "anchor": "x",
         "domain": [
          0,
          1
         ],
         "title": {
          "text": "Average Production Budget (USD)"
         }
        }
       }
      }
     },
     "metadata": {},
     "output_type": "display_data"
    }
   ],
   "source": [
    "# Step 1: Create a temporary DataFrame for processing\n",
    "temp_df = df_movies.copy()\n",
    "\n",
    "# Step 2: Convert the release date column to datetime and extract the release year\n",
    "temp_df['rt_release_date'] = pd.to_datetime(temp_df['rt_release_date'], errors='coerce')\n",
    "temp_df = temp_df.dropna(subset=['rt_release_date'])  # Drop rows with invalid release dates\n",
    "temp_df['release_year'] = temp_df['rt_release_date'].dt.year\n",
    "\n",
    "# Step 3: Parse the 'rt_production_countries' column\n",
    "temp_df['rt_production_countries'] = parse_list_column(temp_df['rt_production_countries'])\n",
    "\n",
    "# Step 4: Expand the production countries into separate rows\n",
    "countries_expanded = temp_df.explode('rt_production_countries')\n",
    "\n",
    "# Step 5: Extract country names from the dictionaries\n",
    "countries_expanded['country_name'] = countries_expanded['rt_production_countries'].apply(\n",
    "    lambda x: x['name'] if isinstance(x, dict) else None\n",
    ")\n",
    "\n",
    "# Step 6: Exclude the United States\n",
    "non_us_movies = countries_expanded[countries_expanded['country_name'] != 'United States of America']\n",
    "\n",
    "# Step 7: Filter movies released in the past 10 years\n",
    "current_year = pd.Timestamp.now().year\n",
    "non_us_movies_last_10_years = non_us_movies[non_us_movies['release_year'].between(current_year - 10, current_year)]\n",
    "\n",
    "# Debug: Check the year range in the filtered data\n",
    "print(non_us_movies_last_10_years['release_year'].value_counts())\n",
    "\n",
    "# Debug: Expand year range for testing (if necessary)\n",
    "if non_us_movies_last_10_years.empty:\n",
    "    print(\"No data available for the past 10 years. Expanding the year range...\")\n",
    "    non_us_movies_last_10_years = non_us_movies[non_us_movies['release_year'].between(current_year - 20, current_year)]\n",
    "\n",
    "# Step 8: Group by release year and country, calculate the average production budget\n",
    "yearly_cost_non_us = (\n",
    "    non_us_movies_last_10_years.groupby(['release_year', 'country_name'])['rt_production_budget']\n",
    "    .mean()\n",
    "    .reset_index()\n",
    "    .rename(columns={'rt_production_budget': 'average_production_budget'})\n",
    ")\n",
    "\n",
    "# Adjust year filtering to ensure meaningful analysis\n",
    "time_span = 20  # Change this to expand beyond the past 10 years if needed\n",
    "non_us_movies_last_10_years = non_us_movies[non_us_movies['release_year'].between(current_year - time_span, current_year)]\n",
    "\n",
    "\n",
    "# Group by release year and country, calculate the average production budget\n",
    "yearly_cost_non_us = (\n",
    "    non_us_movies_last_10_years.groupby(['release_year', 'country_name'])['rt_production_budget']\n",
    "    .mean()\n",
    "    .reset_index()\n",
    "    .rename(columns={'rt_production_budget': 'average_production_budget'})\n",
    ")\n",
    "\n",
    "# Plot the data\n",
    "fig = px.line(\n",
    "    yearly_cost_non_us,\n",
    "    x='release_year',\n",
    "    y='average_production_budget',\n",
    "    color='country_name',\n",
    "    title=f'Average Annual Cost of the Film Industry (Excluding U.S.) Over the Past {time_span} Years',\n",
    "    labels={'release_year': 'Year', 'average_production_budget': 'Average Production Budget (USD)', 'country_name': 'Country'}\n",
    ")\n",
    "\n",
    "fig.update_traces(mode=\"lines+markers\")  # Add markers for better visibility\n",
    "fig.update_layout(\n",
    "    xaxis=dict(tickmode='linear', dtick=1),  # Show yearly ticks\n",
    "    yaxis_title='Average Production Budget (USD)',\n",
    "    xaxis_title='Year',\n",
    "    title_x=0.5\n",
    ")\n",
    "\n",
    "fig.show()\n"
   ]
  },
  {
   "cell_type": "markdown",
   "metadata": {},
   "source": [
    "### 8) What movies has Johnny Depp acted in?"
   ]
  },
  {
   "cell_type": "code",
   "execution_count": 44,
   "metadata": {},
   "outputs": [
    {
     "name": "stdout",
     "output_type": "stream",
     "text": [
      "Movies Johnny Depp has acted in:\n",
      "                                               rt_title  rt_movie_id\n",
      "1              Pirates of the Caribbean: At World's End          285\n",
      "12           Pirates of the Caribbean: Dead Man's Chest           58\n",
      "13                                      The Lone Ranger        57201\n",
      "17          Pirates of the Caribbean: On Stranger Tides         1865\n",
      "32                                  Alice in Wonderland        12155\n",
      "105                     Alice Through the Looking Glass       241259\n",
      "117                   Charlie and the Chocolate Factory          118\n",
      "133                                        Dark Shadows        62213\n",
      "178                                               Rango        44896\n",
      "199   Pirates of the Caribbean: The Curse of the Bla...           22\n",
      "280                                      Public Enemies        11322\n",
      "295                                         The Tourist        37710\n",
      "333                                       Transcendence       157353\n",
      "499                                       Jack and Jill        71880\n",
      "783                                           Mortdecai       210860\n",
      "877                                          Black Mass       261023\n",
      "917                                      Into the Woods       224141\n",
      "1063                                          From Hell          768\n",
      "1119                                     21 Jump Street        64688\n",
      "1203                                      Secret Window         1586\n",
      "1313                                     The Ninth Gate          622\n",
      "1378                          A Nightmare on Elm Street          377\n",
      "1394                                      Donnie Brasco         9366\n",
      "1473                               The Astronaut's Wife         2900\n",
      "1581                                               Blow         4133\n",
      "1594                                       Corpse Bride         3933\n",
      "1658                The Imaginarium of Doctor Parnassus         8054\n",
      "1701                         Once Upon a Time in Mexico         1428\n",
      "1832                                           Chocolat          392\n",
      "1842                                  Finding Neverland          866\n",
      "1890                                   Don Juan DeMarco         1909\n",
      "2051                                      The Libertine         7548\n",
      "2108                                Edward Scissorhands          162\n",
      "2310                     Fear and Loathing in Las Vegas         1878\n",
      "2368                                            Ed Wood          522\n",
      "2946                        What's Eating Gilbert Grape         1587\n",
      "3445                                            Platoon          792\n",
      "3566                 Freddy's Dead: The Final Nightmare        11284\n",
      "3671                                        Yoga Hosers       290825\n",
      "3939                                               Tusk       246403\n"
     ]
    }
   ],
   "source": [
    "# Create a temporary DataFrame for processing\n",
    "temp_df = df_credit.copy()\n",
    "\n",
    "\n",
    "# Parse the 'rt_actors' column\n",
    "temp_df['rt_actors'] = parse_list_column(temp_df['rt_actors'])\n",
    "\n",
    "# Filter for movies where Johnny Depp appears in the 'rt_actors' column\n",
    "johnny_depp_movies = temp_df[temp_df['rt_actors'].apply(\n",
    "    lambda actors: any(actor['name'] == 'Johnny Depp' for actor in actors if isinstance(actor, dict))\n",
    ")]\n",
    "\n",
    "# Select relevant columns to display\n",
    "johnny_depp_movies = johnny_depp_movies[['rt_title', 'rt_movie_id']]\n",
    "\n",
    "# Display the result\n",
    "print(\"Movies Johnny Depp has acted in:\")\n",
    "print(johnny_depp_movies)"
   ]
  },
  {
   "cell_type": "code",
   "execution_count": 45,
   "metadata": {},
   "outputs": [
    {
     "data": {
      "image/png": "[encoded data removed]",
      "text/plain": [
       "<Figure size 1000x600 with 1 Axes>"
      ]
     },
     "metadata": {},
     "output_type": "display_data"
    }
   ],
   "source": [
    "from wordcloud import WordCloud\n",
    "\n",
    "# Generate a word cloud for Johnny Depp's movies\n",
    "movie_titles = \" \".join(johnny_depp_movies['rt_title'])\n",
    "wordcloud = WordCloud(width=800, height=400, background_color='white').generate(movie_titles)\n",
    "\n",
    "# Plot the word cloud\n",
    "plt.figure(figsize=(10, 6))\n",
    "plt.imshow(wordcloud, interpolation='bilinear')\n",
    "plt.axis('off')\n",
    "plt.title(\"Movies Johnny Depp Has Acted In\", fontsize=16)\n",
    "plt.show()\n"
   ]
  },
  {
   "cell_type": "markdown",
   "metadata": {},
   "source": [
    "### 9) On average, what percentage of lead roles (top 5 in movies) are played by men and what percentage by women?"
   ]
  },
  {
   "cell_type": "code",
   "execution_count": 46,
   "metadata": {},
   "outputs": [],
   "source": [
    "# Create a temporary DataFrame for analysis\n",
    "temp_df = df_credit.copy()\n",
    "\n",
    "# Parse the 'rt_actors' column into lists of dictionaries without modifying the dataset\n",
    "temp_df['parsed_actors'] = temp_df['rt_actors'].apply(\n",
    "    lambda x: ast.literal_eval(x) if isinstance(x, str) else []\n",
    ")\n",
    "\n",
    "# Expand actors into separate rows\n",
    "actors_expanded = temp_df.explode('parsed_actors')\n",
    "\n",
    "# Extract gender and order information from the parsed actors\n",
    "actors_expanded['gender'] = actors_expanded['parsed_actors'].apply(\n",
    "    lambda x: x['gender'] if isinstance(x, dict) else None\n",
    ")\n",
    "actors_expanded['order'] = actors_expanded['parsed_actors'].apply(\n",
    "    lambda x: x['order'] if isinstance(x, dict) else None\n",
    ")\n",
    "\n",
    "# Filter for lead roles (top 5 by order)\n",
    "lead_roles = actors_expanded[actors_expanded['order'] < 5]\n",
    "\n",
    "# Calculate the percentage of male and female lead roles\n",
    "gender_distribution = lead_roles['gender'].value_counts(normalize=True) * 100\n",
    "\n",
    "# Map gender codes to meaningful labels\n",
    "gender_labels = {1: 'Female', 2: 'Male', 0: 'Unknown'}\n",
    "gender_distribution.index = gender_distribution.index.map(gender_labels)\n",
    "\n"
   ]
  },
  {
   "cell_type": "code",
   "execution_count": 47,
   "metadata": {},
   "outputs": [
    {
     "name": "stdout",
     "output_type": "stream",
     "text": [
      "Average Percentage of Lead Roles by Gender:\n",
      "gender\n",
      "Male       58.909232\n",
      "Female     31.300499\n",
      "Unknown     9.790270\n",
      "Name: proportion, dtype: float64\n"
     ]
    }
   ],
   "source": [
    "# Print the results\n",
    "print(\"Average Percentage of Lead Roles by Gender:\")\n",
    "print(gender_distribution)"
   ]
  },
  {
   "cell_type": "markdown",
   "metadata": {},
   "source": [
    "Plot"
   ]
  },
  {
   "cell_type": "code",
   "execution_count": 48,
   "metadata": {},
   "outputs": [
    {
     "data": {
      "application/vnd.plotly.v1+json": {
       "config": {
        "plotlyServerURL": "https://plot.ly"
       },
       "data": [
        {
         "domain": {
          "x": [
           0,
           1
          ],
          "y": [
           0,
           1
          ]
         },
         "hovertemplate": "label=%{label}<br>value=%{value}<extra></extra>",
         "labels": [
          "Male",
          "Female",
          "Unknown"
         ],
         "legendgroup": "",
         "name": "",
         "showlegend": true,
         "textinfo": "percent+label",
         "textposition": "inside",
         "type": "pie",
         "values": [
          58.90923156266117,
          31.300498538765687,
          9.790269898573149
         ]
        }
       ],
       "layout": {
        "legend": {
         "tracegroupgap": 0
        },
        "template": {
         "data": {
          "bar": [
           {
            "error_x": {
             "color": "#2a3f5f"
            },
            "error_y": {
             "color": "#2a3f5f"
            },
            "marker": {
             "line": {
              "color": "#E5ECF6",
              "width": 0.5
             },
             "pattern": {
              "fillmode": "overlay",
              "size": 10,
              "solidity": 0.2
             }
            },
            "type": "bar"
           }
          ],
          "barpolar": [
           {
            "marker": {
             "line": {
              "color": "#E5ECF6",
              "width": 0.5
             },
             "pattern": {
              "fillmode": "overlay",
              "size": 10,
              "solidity": 0.2
             }
            },
            "type": "barpolar"
           }
          ],
          "carpet": [
           {
            "aaxis": {
             "endlinecolor": "#2a3f5f",
             "gridcolor": "white",
             "linecolor": "white",
             "minorgridcolor": "white",
             "startlinecolor": "#2a3f5f"
            },
            "baxis": {
             "endlinecolor": "#2a3f5f",
             "gridcolor": "white",
             "linecolor": "white",
             "minorgridcolor": "white",
             "startlinecolor": "#2a3f5f"
            },
            "type": "carpet"
           }
          ],
          "choropleth": [
           {
            "colorbar": {
             "outlinewidth": 0,
             "ticks": ""
            },
            "type": "choropleth"
           }
          ],
          "contour": [
           {
            "colorbar": {
             "outlinewidth": 0,
             "ticks": ""
            },
            "colorscale": [
             [
              0,
              "#0d0887"
             ],
             [
              0.1111111111111111,
              "#46039f"
             ],
             [
              0.2222222222222222,
              "#7201a8"
             ],
             [
              0.3333333333333333,
              "#9c179e"
             ],
             [
              0.4444444444444444,
              "#bd3786"
             ],
             [
              0.5555555555555556,
              "#d8576b"
             ],
             [
              0.6666666666666666,
              "#ed7953"
             ],
             [
              0.7777777777777778,
              "#fb9f3a"
             ],
             [
              0.8888888888888888,
              "#fdca26"
             ],
             [
              1,
              "#f0f921"
             ]
            ],
            "type": "contour"
           }
          ],
          "contourcarpet": [
           {
            "colorbar": {
             "outlinewidth": 0,
             "ticks": ""
            },
            "type": "contourcarpet"
           }
          ],
          "heatmap": [
           {
            "colorbar": {
             "outlinewidth": 0,
             "ticks": ""
            },
            "colorscale": [
             [
              0,
              "#0d0887"
             ],
             [
              0.1111111111111111,
              "#46039f"
             ],
             [
              0.2222222222222222,
              "#7201a8"
             ],
             [
              0.3333333333333333,
              "#9c179e"
             ],
             [
              0.4444444444444444,
              "#bd3786"
             ],
             [
              0.5555555555555556,
              "#d8576b"
             ],
             [
              0.6666666666666666,
              "#ed7953"
             ],
             [
              0.7777777777777778,
              "#fb9f3a"
             ],
             [
              0.8888888888888888,
              "#fdca26"
             ],
             [
              1,
              "#f0f921"
             ]
            ],
            "type": "heatmap"
           }
          ],
          "heatmapgl": [
           {
            "colorbar": {
             "outlinewidth": 0,
             "ticks": ""
            },
            "colorscale": [
             [
              0,
              "#0d0887"
             ],
             [
              0.1111111111111111,
              "#46039f"
             ],
             [
              0.2222222222222222,
              "#7201a8"
             ],
             [
              0.3333333333333333,
              "#9c179e"
             ],
             [
              0.4444444444444444,
              "#bd3786"
             ],
             [
              0.5555555555555556,
              "#d8576b"
             ],
             [
              0.6666666666666666,
              "#ed7953"
             ],
             [
              0.7777777777777778,
              "#fb9f3a"
             ],
             [
              0.8888888888888888,
              "#fdca26"
             ],
             [
              1,
              "#f0f921"
             ]
            ],
            "type": "heatmapgl"
           }
          ],
          "histogram": [
           {
            "marker": {
             "pattern": {
              "fillmode": "overlay",
              "size": 10,
              "solidity": 0.2
             }
            },
            "type": "histogram"
           }
          ],
          "histogram2d": [
           {
            "colorbar": {
             "outlinewidth": 0,
             "ticks": ""
            },
            "colorscale": [
             [
              0,
              "#0d0887"
             ],
             [
              0.1111111111111111,
              "#46039f"
             ],
             [
              0.2222222222222222,
              "#7201a8"
             ],
             [
              0.3333333333333333,
              "#9c179e"
             ],
             [
              0.4444444444444444,
              "#bd3786"
             ],
             [
              0.5555555555555556,
              "#d8576b"
             ],
             [
              0.6666666666666666,
              "#ed7953"
             ],
             [
              0.7777777777777778,
              "#fb9f3a"
             ],
             [
              0.8888888888888888,
              "#fdca26"
             ],
             [
              1,
              "#f0f921"
             ]
            ],
            "type": "histogram2d"
           }
          ],
          "histogram2dcontour": [
           {
            "colorbar": {
             "outlinewidth": 0,
             "ticks": ""
            },
            "colorscale": [
             [
              0,
              "#0d0887"
             ],
             [
              0.1111111111111111,
              "#46039f"
             ],
             [
              0.2222222222222222,
              "#7201a8"
             ],
             [
              0.3333333333333333,
              "#9c179e"
             ],
             [
              0.4444444444444444,
              "#bd3786"
             ],
             [
              0.5555555555555556,
              "#d8576b"
             ],
             [
              0.6666666666666666,
              "#ed7953"
             ],
             [
              0.7777777777777778,
              "#fb9f3a"
             ],
             [
              0.8888888888888888,
              "#fdca26"
             ],
             [
              1,
              "#f0f921"
             ]
            ],
            "type": "histogram2dcontour"
           }
          ],
          "mesh3d": [
           {
            "colorbar": {
             "outlinewidth": 0,
             "ticks": ""
            },
            "type": "mesh3d"
           }
          ],
          "parcoords": [
           {
            "line": {
             "colorbar": {
              "outlinewidth": 0,
              "ticks": ""
             }
            },
            "type": "parcoords"
           }
          ],
          "pie": [
           {
            "automargin": true,
            "type": "pie"
           }
          ],
          "scatter": [
           {
            "fillpattern": {
             "fillmode": "overlay",
             "size": 10,
             "solidity": 0.2
            },
            "type": "scatter"
           }
          ],
          "scatter3d": [
           {
            "line": {
             "colorbar": {
              "outlinewidth": 0,
              "ticks": ""
             }
            },
            "marker": {
             "colorbar": {
              "outlinewidth": 0,
              "ticks": ""
             }
            },
            "type": "scatter3d"
           }
          ],
          "scattercarpet": [
           {
            "marker": {
             "colorbar": {
              "outlinewidth": 0,
              "ticks": ""
             }
            },
            "type": "scattercarpet"
           }
          ],
          "scattergeo": [
           {
            "marker": {
             "colorbar": {
              "outlinewidth": 0,
              "ticks": ""
             }
            },
            "type": "scattergeo"
           }
          ],
          "scattergl": [
           {
            "marker": {
             "colorbar": {
              "outlinewidth": 0,
              "ticks": ""
             }
            },
            "type": "scattergl"
           }
          ],
          "scattermapbox": [
           {
            "marker": {
             "colorbar": {
              "outlinewidth": 0,
              "ticks": ""
             }
            },
            "type": "scattermapbox"
           }
          ],
          "scatterpolar": [
           {
            "marker": {
             "colorbar": {
              "outlinewidth": 0,
              "ticks": ""
             }
            },
            "type": "scatterpolar"
           }
          ],
          "scatterpolargl": [
           {
            "marker": {
             "colorbar": {
              "outlinewidth": 0,
              "ticks": ""
             }
            },
            "type": "scatterpolargl"
           }
          ],
          "scatterternary": [
           {
            "marker": {
             "colorbar": {
              "outlinewidth": 0,
              "ticks": ""
             }
            },
            "type": "scatterternary"
           }
          ],
          "surface": [
           {
            "colorbar": {
             "outlinewidth": 0,
             "ticks": ""
            },
            "colorscale": [
             [
              0,
              "#0d0887"
             ],
             [
              0.1111111111111111,
              "#46039f"
             ],
             [
              0.2222222222222222,
              "#7201a8"
             ],
             [
              0.3333333333333333,
              "#9c179e"
             ],
             [
              0.4444444444444444,
              "#bd3786"
             ],
             [
              0.5555555555555556,
              "#d8576b"
             ],
             [
              0.6666666666666666,
              "#ed7953"
             ],
             [
              0.7777777777777778,
              "#fb9f3a"
             ],
             [
              0.8888888888888888,
              "#fdca26"
             ],
             [
              1,
              "#f0f921"
             ]
            ],
            "type": "surface"
           }
          ],
          "table": [
           {
            "cells": {
             "fill": {
              "color": "#EBF0F8"
             },
             "line": {
              "color": "white"
             }
            },
            "header": {
             "fill": {
              "color": "#C8D4E3"
             },
             "line": {
              "color": "white"
             }
            },
            "type": "table"
           }
          ]
         },
         "layout": {
          "annotationdefaults": {
           "arrowcolor": "#2a3f5f",
           "arrowhead": 0,
           "arrowwidth": 1
          },
          "autotypenumbers": "strict",
          "coloraxis": {
           "colorbar": {
            "outlinewidth": 0,
            "ticks": ""
           }
          },
          "colorscale": {
           "diverging": [
            [
             0,
             "#8e0152"
            ],
            [
             0.1,
             "#c51b7d"
            ],
            [
             0.2,
             "#de77ae"
            ],
            [
             0.3,
             "#f1b6da"
            ],
            [
             0.4,
             "#fde0ef"
            ],
            [
             0.5,
             "#f7f7f7"
            ],
            [
             0.6,
             "#e6f5d0"
            ],
            [
             0.7,
             "#b8e186"
            ],
            [
             0.8,
             "#7fbc41"
            ],
            [
             0.9,
             "#4d9221"
            ],
            [
             1,
             "#276419"
            ]
           ],
           "sequential": [
            [
             0,
             "#0d0887"
            ],
            [
             0.1111111111111111,
             "#46039f"
            ],
            [
             0.2222222222222222,
             "#7201a8"
            ],
            [
             0.3333333333333333,
             "#9c179e"
            ],
            [
             0.4444444444444444,
             "#bd3786"
            ],
            [
             0.5555555555555556,
             "#d8576b"
            ],
            [
             0.6666666666666666,
             "#ed7953"
            ],
            [
             0.7777777777777778,
             "#fb9f3a"
            ],
            [
             0.8888888888888888,
             "#fdca26"
            ],
            [
             1,
             "#f0f921"
            ]
           ],
           "sequentialminus": [
            [
             0,
             "#0d0887"
            ],
            [
             0.1111111111111111,
             "#46039f"
            ],
            [
             0.2222222222222222,
             "#7201a8"
            ],
            [
             0.3333333333333333,
             "#9c179e"
            ],
            [
             0.4444444444444444,
             "#bd3786"
            ],
            [
             0.5555555555555556,
             "#d8576b"
            ],
            [
             0.6666666666666666,
             "#ed7953"
            ],
            [
             0.7777777777777778,
             "#fb9f3a"
            ],
            [
             0.8888888888888888,
             "#fdca26"
            ],
            [
             1,
             "#f0f921"
            ]
           ]
          },
          "colorway": [
           "#636efa",
           "#EF553B",
           "#00cc96",
           "#ab63fa",
           "#FFA15A",
           "#19d3f3",
           "#FF6692",
           "#B6E880",
           "#FF97FF",
           "#FECB52"
          ],
          "font": {
           "color": "#2a3f5f"
          },
          "geo": {
           "bgcolor": "white",
           "lakecolor": "white",
           "landcolor": "#E5ECF6",
           "showlakes": true,
           "showland": true,
           "subunitcolor": "white"
          },
          "hoverlabel": {
           "align": "left"
          },
          "hovermode": "closest",
          "mapbox": {
           "style": "light"
          },
          "paper_bgcolor": "white",
          "plot_bgcolor": "#E5ECF6",
          "polar": {
           "angularaxis": {
            "gridcolor": "white",
            "linecolor": "white",
            "ticks": ""
           },
           "bgcolor": "#E5ECF6",
           "radialaxis": {
            "gridcolor": "white",
            "linecolor": "white",
            "ticks": ""
           }
          },
          "scene": {
           "xaxis": {
            "backgroundcolor": "#E5ECF6",
            "gridcolor": "white",
            "gridwidth": 2,
            "linecolor": "white",
            "showbackground": true,
            "ticks": "",
            "zerolinecolor": "white"
           },
           "yaxis": {
            "backgroundcolor": "#E5ECF6",
            "gridcolor": "white",
            "gridwidth": 2,
            "linecolor": "white",
            "showbackground": true,
            "ticks": "",
            "zerolinecolor": "white"
           },
           "zaxis": {
            "backgroundcolor": "#E5ECF6",
            "gridcolor": "white",
            "gridwidth": 2,
            "linecolor": "white",
            "showbackground": true,
            "ticks": "",
            "zerolinecolor": "white"
           }
          },
          "shapedefaults": {
           "line": {
            "color": "#2a3f5f"
           }
          },
          "ternary": {
           "aaxis": {
            "gridcolor": "white",
            "linecolor": "white",
            "ticks": ""
           },
           "baxis": {
            "gridcolor": "white",
            "linecolor": "white",
            "ticks": ""
           },
           "bgcolor": "#E5ECF6",
           "caxis": {
            "gridcolor": "white",
            "linecolor": "white",
            "ticks": ""
           }
          },
          "title": {
           "x": 0.05
          },
          "xaxis": {
           "automargin": true,
           "gridcolor": "white",
           "linecolor": "white",
           "ticks": "",
           "title": {
            "standoff": 15
           },
           "zerolinecolor": "white",
           "zerolinewidth": 2
          },
          "yaxis": {
           "automargin": true,
           "gridcolor": "white",
           "linecolor": "white",
           "ticks": "",
           "title": {
            "standoff": 15
           },
           "zerolinecolor": "white",
           "zerolinewidth": 2
          }
         }
        },
        "title": {
         "text": "Average Percentage of Lead Roles by Gender"
        }
       }
      }
     },
     "metadata": {},
     "output_type": "display_data"
    }
   ],
   "source": [
    "# Visualize the data with a pie chart\n",
    "fig = px.pie(\n",
    "    names=gender_distribution.index,\n",
    "    values=gender_distribution.values,\n",
    "    title='Average Percentage of Lead Roles by Gender',\n",
    "    labels={'value': 'Percentage', 'index': 'Gender'}\n",
    ")\n",
    "\n",
    "fig.update_traces(textposition='inside', textinfo='percent+label')\n",
    "fig.show()"
   ]
  },
  {
   "cell_type": "markdown",
   "metadata": {},
   "source": [
    "### 11) What are the most popular genres of movies in the past 10 years? (Once based on the number of reviews and once based on the critics' scores.) (SHOULD BE RECHECKED)"
   ]
  },
  {
   "cell_type": "code",
   "execution_count": 49,
   "metadata": {},
   "outputs": [
    {
     "data": {
      "application/vnd.plotly.v1+json": {
       "config": {
        "plotlyServerURL": "https://plot.ly"
       },
       "data": [
        {
         "alignmentgroup": "True",
         "hovertemplate": "Genre=%{x}<br>Number of Reviews=%{text}<extra></extra>",
         "legendgroup": "",
         "marker": {
          "color": "#636efa",
          "pattern": {
           "shape": ""
          }
         },
         "name": "",
         "offsetgroup": "",
         "orientation": "v",
         "showlegend": false,
         "text": [
          154519,
          146806,
          105782,
          103607,
          93965,
          81043,
          41931,
          41065,
          35194,
          27174,
          26152,
          23527,
          21105,
          11322,
          9256,
          4842,
          1686
         ],
         "textposition": "outside",
         "type": "bar",
         "x": [
          "Adventure",
          "Action",
          "Drama",
          "Science Fiction",
          "Thriller",
          "Comedy",
          "Fantasy",
          "Crime",
          "Family",
          "Animation",
          "Mystery",
          "Romance",
          "Horror",
          "Western",
          "History",
          "Music",
          "War"
         ],
         "xaxis": "x",
         "y": [
          154519,
          146806,
          105782,
          103607,
          93965,
          81043,
          41931,
          41065,
          35194,
          27174,
          26152,
          23527,
          21105,
          11322,
          9256,
          4842,
          1686
         ],
         "yaxis": "y"
        }
       ],
       "layout": {
        "barmode": "relative",
        "legend": {
         "tracegroupgap": 0
        },
        "template": {
         "data": {
          "bar": [
           {
            "error_x": {
             "color": "#2a3f5f"
            },
            "error_y": {
             "color": "#2a3f5f"
            },
            "marker": {
             "line": {
              "color": "#E5ECF6",
              "width": 0.5
             },
             "pattern": {
              "fillmode": "overlay",
              "size": 10,
              "solidity": 0.2
             }
            },
            "type": "bar"
           }
          ],
          "barpolar": [
           {
            "marker": {
             "line": {
              "color": "#E5ECF6",
              "width": 0.5
             },
             "pattern": {
              "fillmode": "overlay",
              "size": 10,
              "solidity": 0.2
             }
            },
            "type": "barpolar"
           }
          ],
          "carpet": [
           {
            "aaxis": {
             "endlinecolor": "#2a3f5f",
             "gridcolor": "white",
             "linecolor": "white",
             "minorgridcolor": "white",
             "startlinecolor": "#2a3f5f"
            },
            "baxis": {
             "endlinecolor": "#2a3f5f",
             "gridcolor": "white",
             "linecolor": "white",
             "minorgridcolor": "white",
             "startlinecolor": "#2a3f5f"
            },
            "type": "carpet"
           }
          ],
          "choropleth": [
           {
            "colorbar": {
             "outlinewidth": 0,
             "ticks": ""
            },
            "type": "choropleth"
           }
          ],
          "contour": [
           {
            "colorbar": {
             "outlinewidth": 0,
             "ticks": ""
            },
            "colorscale": [
             [
              0,
              "#0d0887"
             ],
             [
              0.1111111111111111,
              "#46039f"
             ],
             [
              0.2222222222222222,
              "#7201a8"
             ],
             [
              0.3333333333333333,
              "#9c179e"
             ],
             [
              0.4444444444444444,
              "#bd3786"
             ],
             [
              0.5555555555555556,
              "#d8576b"
             ],
             [
              0.6666666666666666,
              "#ed7953"
             ],
             [
              0.7777777777777778,
              "#fb9f3a"
             ],
             [
              0.8888888888888888,
              "#fdca26"
             ],
             [
              1,
              "#f0f921"
             ]
            ],
            "type": "contour"
           }
          ],
          "contourcarpet": [
           {
            "colorbar": {
             "outlinewidth": 0,
             "ticks": ""
            },
            "type": "contourcarpet"
           }
          ],
          "heatmap": [
           {
            "colorbar": {
             "outlinewidth": 0,
             "ticks": ""
            },
            "colorscale": [
             [
              0,
              "#0d0887"
             ],
             [
              0.1111111111111111,
              "#46039f"
             ],
             [
              0.2222222222222222,
              "#7201a8"
             ],
             [
              0.3333333333333333,
              "#9c179e"
             ],
             [
              0.4444444444444444,
              "#bd3786"
             ],
             [
              0.5555555555555556,
              "#d8576b"
             ],
             [
              0.6666666666666666,
              "#ed7953"
             ],
             [
              0.7777777777777778,
              "#fb9f3a"
             ],
             [
              0.8888888888888888,
              "#fdca26"
             ],
             [
              1,
              "#f0f921"
             ]
            ],
            "type": "heatmap"
           }
          ],
          "heatmapgl": [
           {
            "colorbar": {
             "outlinewidth": 0,
             "ticks": ""
            },
            "colorscale": [
             [
              0,
              "#0d0887"
             ],
             [
              0.1111111111111111,
              "#46039f"
             ],
             [
              0.2222222222222222,
              "#7201a8"
             ],
             [
              0.3333333333333333,
              "#9c179e"
             ],
             [
              0.4444444444444444,
              "#bd3786"
             ],
             [
              0.5555555555555556,
              "#d8576b"
             ],
             [
              0.6666666666666666,
              "#ed7953"
             ],
             [
              0.7777777777777778,
              "#fb9f3a"
             ],
             [
              0.8888888888888888,
              "#fdca26"
             ],
             [
              1,
              "#f0f921"
             ]
            ],
            "type": "heatmapgl"
           }
          ],
          "histogram": [
           {
            "marker": {
             "pattern": {
              "fillmode": "overlay",
              "size": 10,
              "solidity": 0.2
             }
            },
            "type": "histogram"
           }
          ],
          "histogram2d": [
           {
            "colorbar": {
             "outlinewidth": 0,
             "ticks": ""
            },
            "colorscale": [
             [
              0,
              "#0d0887"
             ],
             [
              0.1111111111111111,
              "#46039f"
             ],
             [
              0.2222222222222222,
              "#7201a8"
             ],
             [
              0.3333333333333333,
              "#9c179e"
             ],
             [
              0.4444444444444444,
              "#bd3786"
             ],
             [
              0.5555555555555556,
              "#d8576b"
             ],
             [
              0.6666666666666666,
              "#ed7953"
             ],
             [
              0.7777777777777778,
              "#fb9f3a"
             ],
             [
              0.8888888888888888,
              "#fdca26"
             ],
             [
              1,
              "#f0f921"
             ]
            ],
            "type": "histogram2d"
           }
          ],
          "histogram2dcontour": [
           {
            "colorbar": {
             "outlinewidth": 0,
             "ticks": ""
            },
            "colorscale": [
             [
              0,
              "#0d0887"
             ],
             [
              0.1111111111111111,
              "#46039f"
             ],
             [
              0.2222222222222222,
              "#7201a8"
             ],
             [
              0.3333333333333333,
              "#9c179e"
             ],
             [
              0.4444444444444444,
              "#bd3786"
             ],
             [
              0.5555555555555556,
              "#d8576b"
             ],
             [
              0.6666666666666666,
              "#ed7953"
             ],
             [
              0.7777777777777778,
              "#fb9f3a"
             ],
             [
              0.8888888888888888,
              "#fdca26"
             ],
             [
              1,
              "#f0f921"
             ]
            ],
            "type": "histogram2dcontour"
           }
          ],
          "mesh3d": [
           {
            "colorbar": {
             "outlinewidth": 0,
             "ticks": ""
            },
            "type": "mesh3d"
           }
          ],
          "parcoords": [
           {
            "line": {
             "colorbar": {
              "outlinewidth": 0,
              "ticks": ""
             }
            },
            "type": "parcoords"
           }
          ],
          "pie": [
           {
            "automargin": true,
            "type": "pie"
           }
          ],
          "scatter": [
           {
            "fillpattern": {
             "fillmode": "overlay",
             "size": 10,
             "solidity": 0.2
            },
            "type": "scatter"
           }
          ],
          "scatter3d": [
           {
            "line": {
             "colorbar": {
              "outlinewidth": 0,
              "ticks": ""
             }
            },
            "marker": {
             "colorbar": {
              "outlinewidth": 0,
              "ticks": ""
             }
            },
            "type": "scatter3d"
           }
          ],
          "scattercarpet": [
           {
            "marker": {
             "colorbar": {
              "outlinewidth": 0,
              "ticks": ""
             }
            },
            "type": "scattercarpet"
           }
          ],
          "scattergeo": [
           {
            "marker": {
             "colorbar": {
              "outlinewidth": 0,
              "ticks": ""
             }
            },
            "type": "scattergeo"
           }
          ],
          "scattergl": [
           {
            "marker": {
             "colorbar": {
              "outlinewidth": 0,
              "ticks": ""
             }
            },
            "type": "scattergl"
           }
          ],
          "scattermapbox": [
           {
            "marker": {
             "colorbar": {
              "outlinewidth": 0,
              "ticks": ""
             }
            },
            "type": "scattermapbox"
           }
          ],
          "scatterpolar": [
           {
            "marker": {
             "colorbar": {
              "outlinewidth": 0,
              "ticks": ""
             }
            },
            "type": "scatterpolar"
           }
          ],
          "scatterpolargl": [
           {
            "marker": {
             "colorbar": {
              "outlinewidth": 0,
              "ticks": ""
             }
            },
            "type": "scatterpolargl"
           }
          ],
          "scatterternary": [
           {
            "marker": {
             "colorbar": {
              "outlinewidth": 0,
              "ticks": ""
             }
            },
            "type": "scatterternary"
           }
          ],
          "surface": [
           {
            "colorbar": {
             "outlinewidth": 0,
             "ticks": ""
            },
            "colorscale": [
             [
              0,
              "#0d0887"
             ],
             [
              0.1111111111111111,
              "#46039f"
             ],
             [
              0.2222222222222222,
              "#7201a8"
             ],
             [
              0.3333333333333333,
              "#9c179e"
             ],
             [
              0.4444444444444444,
              "#bd3786"
             ],
             [
              0.5555555555555556,
              "#d8576b"
             ],
             [
              0.6666666666666666,
              "#ed7953"
             ],
             [
              0.7777777777777778,
              "#fb9f3a"
             ],
             [
              0.8888888888888888,
              "#fdca26"
             ],
             [
              1,
              "#f0f921"
             ]
            ],
            "type": "surface"
           }
          ],
          "table": [
           {
            "cells": {
             "fill": {
              "color": "#EBF0F8"
             },
             "line": {
              "color": "white"
             }
            },
            "header": {
             "fill": {
              "color": "#C8D4E3"
             },
             "line": {
              "color": "white"
             }
            },
            "type": "table"
           }
          ]
         },
         "layout": {
          "annotationdefaults": {
           "arrowcolor": "#2a3f5f",
           "arrowhead": 0,
           "arrowwidth": 1
          },
          "autotypenumbers": "strict",
          "coloraxis": {
           "colorbar": {
            "outlinewidth": 0,
            "ticks": ""
           }
          },
          "colorscale": {
           "diverging": [
            [
             0,
             "#8e0152"
            ],
            [
             0.1,
             "#c51b7d"
            ],
            [
             0.2,
             "#de77ae"
            ],
            [
             0.3,
             "#f1b6da"
            ],
            [
             0.4,
             "#fde0ef"
            ],
            [
             0.5,
             "#f7f7f7"
            ],
            [
             0.6,
             "#e6f5d0"
            ],
            [
             0.7,
             "#b8e186"
            ],
            [
             0.8,
             "#7fbc41"
            ],
            [
             0.9,
             "#4d9221"
            ],
            [
             1,
             "#276419"
            ]
           ],
           "sequential": [
            [
             0,
             "#0d0887"
            ],
            [
             0.1111111111111111,
             "#46039f"
            ],
            [
             0.2222222222222222,
             "#7201a8"
            ],
            [
             0.3333333333333333,
             "#9c179e"
            ],
            [
             0.4444444444444444,
             "#bd3786"
            ],
            [
             0.5555555555555556,
             "#d8576b"
            ],
            [
             0.6666666666666666,
             "#ed7953"
            ],
            [
             0.7777777777777778,
             "#fb9f3a"
            ],
            [
             0.8888888888888888,
             "#fdca26"
            ],
            [
             1,
             "#f0f921"
            ]
           ],
           "sequentialminus": [
            [
             0,
             "#0d0887"
            ],
            [
             0.1111111111111111,
             "#46039f"
            ],
            [
             0.2222222222222222,
             "#7201a8"
            ],
            [
             0.3333333333333333,
             "#9c179e"
            ],
            [
             0.4444444444444444,
             "#bd3786"
            ],
            [
             0.5555555555555556,
             "#d8576b"
            ],
            [
             0.6666666666666666,
             "#ed7953"
            ],
            [
             0.7777777777777778,
             "#fb9f3a"
            ],
            [
             0.8888888888888888,
             "#fdca26"
            ],
            [
             1,
             "#f0f921"
            ]
           ]
          },
          "colorway": [
           "#636efa",
           "#EF553B",
           "#00cc96",
           "#ab63fa",
           "#FFA15A",
           "#19d3f3",
           "#FF6692",
           "#B6E880",
           "#FF97FF",
           "#FECB52"
          ],
          "font": {
           "color": "#2a3f5f"
          },
          "geo": {
           "bgcolor": "white",
           "lakecolor": "white",
           "landcolor": "#E5ECF6",
           "showlakes": true,
           "showland": true,
           "subunitcolor": "white"
          },
          "hoverlabel": {
           "align": "left"
          },
          "hovermode": "closest",
          "mapbox": {
           "style": "light"
          },
          "paper_bgcolor": "white",
          "plot_bgcolor": "#E5ECF6",
          "polar": {
           "angularaxis": {
            "gridcolor": "white",
            "linecolor": "white",
            "ticks": ""
           },
           "bgcolor": "#E5ECF6",
           "radialaxis": {
            "gridcolor": "white",
            "linecolor": "white",
            "ticks": ""
           }
          },
          "scene": {
           "xaxis": {
            "backgroundcolor": "#E5ECF6",
            "gridcolor": "white",
            "gridwidth": 2,
            "linecolor": "white",
            "showbackground": true,
            "ticks": "",
            "zerolinecolor": "white"
           },
           "yaxis": {
            "backgroundcolor": "#E5ECF6",
            "gridcolor": "white",
            "gridwidth": 2,
            "linecolor": "white",
            "showbackground": true,
            "ticks": "",
            "zerolinecolor": "white"
           },
           "zaxis": {
            "backgroundcolor": "#E5ECF6",
            "gridcolor": "white",
            "gridwidth": 2,
            "linecolor": "white",
            "showbackground": true,
            "ticks": "",
            "zerolinecolor": "white"
           }
          },
          "shapedefaults": {
           "line": {
            "color": "#2a3f5f"
           }
          },
          "ternary": {
           "aaxis": {
            "gridcolor": "white",
            "linecolor": "white",
            "ticks": ""
           },
           "baxis": {
            "gridcolor": "white",
            "linecolor": "white",
            "ticks": ""
           },
           "bgcolor": "#E5ECF6",
           "caxis": {
            "gridcolor": "white",
            "linecolor": "white",
            "ticks": ""
           }
          },
          "title": {
           "x": 0.05
          },
          "xaxis": {
           "automargin": true,
           "gridcolor": "white",
           "linecolor": "white",
           "ticks": "",
           "title": {
            "standoff": 15
           },
           "zerolinecolor": "white",
           "zerolinewidth": 2
          },
          "yaxis": {
           "automargin": true,
           "gridcolor": "white",
           "linecolor": "white",
           "ticks": "",
           "title": {
            "standoff": 15
           },
           "zerolinecolor": "white",
           "zerolinewidth": 2
          }
         }
        },
        "title": {
         "text": "Most Popular Genres (Based on Number of Reviews - Past 10 Years)",
         "x": 0.5
        },
        "xaxis": {
         "anchor": "y",
         "domain": [
          0,
          1
         ],
         "title": {
          "text": "Genre"
         }
        },
        "yaxis": {
         "anchor": "x",
         "domain": [
          0,
          1
         ],
         "title": {
          "text": "Number of Reviews"
         }
        }
       }
      }
     },
     "metadata": {},
     "output_type": "display_data"
    },
    {
     "data": {
      "application/vnd.plotly.v1+json": {
       "config": {
        "plotlyServerURL": "https://plot.ly"
       },
       "data": [
        {
         "alignmentgroup": "True",
         "hovertemplate": "Genre=%{x}<br>Average Critics' Score=%{text}<extra></extra>",
         "legendgroup": "",
         "marker": {
          "color": "#636efa",
          "pattern": {
           "shape": ""
          }
         },
         "name": "",
         "offsetgroup": "",
         "orientation": "v",
         "showlegend": false,
         "text": [
          7.025,
          6.841666666666666,
          6.74,
          6.725,
          6.521428571428571,
          6.473493975903614,
          6.3442307692307685,
          6.33,
          6.314285714285715,
          6.275,
          6.25,
          6.22063492063492,
          6.159322033898305,
          6.125,
          6.10701754385965,
          5.996,
          5.808333333333334
         ],
         "textposition": "outside",
         "type": "bar",
         "x": [
          "War",
          "History",
          "Music",
          "Western",
          "Animation",
          "Drama",
          "Adventure",
          "Romance",
          "Science Fiction",
          "Mystery",
          "Family",
          "Action",
          "Thriller",
          "Fantasy",
          "Comedy",
          "Crime",
          "Horror"
         ],
         "xaxis": "x",
         "y": [
          7.025,
          6.841666666666666,
          6.74,
          6.725,
          6.521428571428571,
          6.473493975903614,
          6.3442307692307685,
          6.33,
          6.314285714285715,
          6.275,
          6.25,
          6.22063492063492,
          6.159322033898305,
          6.125,
          6.10701754385965,
          5.996,
          5.808333333333334
         ],
         "yaxis": "y"
        }
       ],
       "layout": {
        "barmode": "relative",
        "legend": {
         "tracegroupgap": 0
        },
        "template": {
         "data": {
          "bar": [
           {
            "error_x": {
             "color": "#2a3f5f"
            },
            "error_y": {
             "color": "#2a3f5f"
            },
            "marker": {
             "line": {
              "color": "#E5ECF6",
              "width": 0.5
             },
             "pattern": {
              "fillmode": "overlay",
              "size": 10,
              "solidity": 0.2
             }
            },
            "type": "bar"
           }
          ],
          "barpolar": [
           {
            "marker": {
             "line": {
              "color": "#E5ECF6",
              "width": 0.5
             },
             "pattern": {
              "fillmode": "overlay",
              "size": 10,
              "solidity": 0.2
             }
            },
            "type": "barpolar"
           }
          ],
          "carpet": [
           {
            "aaxis": {
             "endlinecolor": "#2a3f5f",
             "gridcolor": "white",
             "linecolor": "white",
             "minorgridcolor": "white",
             "startlinecolor": "#2a3f5f"
            },
            "baxis": {
             "endlinecolor": "#2a3f5f",
             "gridcolor": "white",
             "linecolor": "white",
             "minorgridcolor": "white",
             "startlinecolor": "#2a3f5f"
            },
            "type": "carpet"
           }
          ],
          "choropleth": [
           {
            "colorbar": {
             "outlinewidth": 0,
             "ticks": ""
            },
            "type": "choropleth"
           }
          ],
          "contour": [
           {
            "colorbar": {
             "outlinewidth": 0,
             "ticks": ""
            },
            "colorscale": [
             [
              0,
              "#0d0887"
             ],
             [
              0.1111111111111111,
              "#46039f"
             ],
             [
              0.2222222222222222,
              "#7201a8"
             ],
             [
              0.3333333333333333,
              "#9c179e"
             ],
             [
              0.4444444444444444,
              "#bd3786"
             ],
             [
              0.5555555555555556,
              "#d8576b"
             ],
             [
              0.6666666666666666,
              "#ed7953"
             ],
             [
              0.7777777777777778,
              "#fb9f3a"
             ],
             [
              0.8888888888888888,
              "#fdca26"
             ],
             [
              1,
              "#f0f921"
             ]
            ],
            "type": "contour"
           }
          ],
          "contourcarpet": [
           {
            "colorbar": {
             "outlinewidth": 0,
             "ticks": ""
            },
            "type": "contourcarpet"
           }
          ],
          "heatmap": [
           {
            "colorbar": {
             "outlinewidth": 0,
             "ticks": ""
            },
            "colorscale": [
             [
              0,
              "#0d0887"
             ],
             [
              0.1111111111111111,
              "#46039f"
             ],
             [
              0.2222222222222222,
              "#7201a8"
             ],
             [
              0.3333333333333333,
              "#9c179e"
             ],
             [
              0.4444444444444444,
              "#bd3786"
             ],
             [
              0.5555555555555556,
              "#d8576b"
             ],
             [
              0.6666666666666666,
              "#ed7953"
             ],
             [
              0.7777777777777778,
              "#fb9f3a"
             ],
             [
              0.8888888888888888,
              "#fdca26"
             ],
             [
              1,
              "#f0f921"
             ]
            ],
            "type": "heatmap"
           }
          ],
          "heatmapgl": [
           {
            "colorbar": {
             "outlinewidth": 0,
             "ticks": ""
            },
            "colorscale": [
             [
              0,
              "#0d0887"
             ],
             [
              0.1111111111111111,
              "#46039f"
             ],
             [
              0.2222222222222222,
              "#7201a8"
             ],
             [
              0.3333333333333333,
              "#9c179e"
             ],
             [
              0.4444444444444444,
              "#bd3786"
             ],
             [
              0.5555555555555556,
              "#d8576b"
             ],
             [
              0.6666666666666666,
              "#ed7953"
             ],
             [
              0.7777777777777778,
              "#fb9f3a"
             ],
             [
              0.8888888888888888,
              "#fdca26"
             ],
             [
              1,
              "#f0f921"
             ]
            ],
            "type": "heatmapgl"
           }
          ],
          "histogram": [
           {
            "marker": {
             "pattern": {
              "fillmode": "overlay",
              "size": 10,
              "solidity": 0.2
             }
            },
            "type": "histogram"
           }
          ],
          "histogram2d": [
           {
            "colorbar": {
             "outlinewidth": 0,
             "ticks": ""
            },
            "colorscale": [
             [
              0,
              "#0d0887"
             ],
             [
              0.1111111111111111,
              "#46039f"
             ],
             [
              0.2222222222222222,
              "#7201a8"
             ],
             [
              0.3333333333333333,
              "#9c179e"
             ],
             [
              0.4444444444444444,
              "#bd3786"
             ],
             [
              0.5555555555555556,
              "#d8576b"
             ],
             [
              0.6666666666666666,
              "#ed7953"
             ],
             [
              0.7777777777777778,
              "#fb9f3a"
             ],
             [
              0.8888888888888888,
              "#fdca26"
             ],
             [
              1,
              "#f0f921"
             ]
            ],
            "type": "histogram2d"
           }
          ],
          "histogram2dcontour": [
           {
            "colorbar": {
             "outlinewidth": 0,
             "ticks": ""
            },
            "colorscale": [
             [
              0,
              "#0d0887"
             ],
             [
              0.1111111111111111,
              "#46039f"
             ],
             [
              0.2222222222222222,
              "#7201a8"
             ],
             [
              0.3333333333333333,
              "#9c179e"
             ],
             [
              0.4444444444444444,
              "#bd3786"
             ],
             [
              0.5555555555555556,
              "#d8576b"
             ],
             [
              0.6666666666666666,
              "#ed7953"
             ],
             [
              0.7777777777777778,
              "#fb9f3a"
             ],
             [
              0.8888888888888888,
              "#fdca26"
             ],
             [
              1,
              "#f0f921"
             ]
            ],
            "type": "histogram2dcontour"
           }
          ],
          "mesh3d": [
           {
            "colorbar": {
             "outlinewidth": 0,
             "ticks": ""
            },
            "type": "mesh3d"
           }
          ],
          "parcoords": [
           {
            "line": {
             "colorbar": {
              "outlinewidth": 0,
              "ticks": ""
             }
            },
            "type": "parcoords"
           }
          ],
          "pie": [
           {
            "automargin": true,
            "type": "pie"
           }
          ],
          "scatter": [
           {
            "fillpattern": {
             "fillmode": "overlay",
             "size": 10,
             "solidity": 0.2
            },
            "type": "scatter"
           }
          ],
          "scatter3d": [
           {
            "line": {
             "colorbar": {
              "outlinewidth": 0,
              "ticks": ""
             }
            },
            "marker": {
             "colorbar": {
              "outlinewidth": 0,
              "ticks": ""
             }
            },
            "type": "scatter3d"
           }
          ],
          "scattercarpet": [
           {
            "marker": {
             "colorbar": {
              "outlinewidth": 0,
              "ticks": ""
             }
            },
            "type": "scattercarpet"
           }
          ],
          "scattergeo": [
           {
            "marker": {
             "colorbar": {
              "outlinewidth": 0,
              "ticks": ""
             }
            },
            "type": "scattergeo"
           }
          ],
          "scattergl": [
           {
            "marker": {
             "colorbar": {
              "outlinewidth": 0,
              "ticks": ""
             }
            },
            "type": "scattergl"
           }
          ],
          "scattermapbox": [
           {
            "marker": {
             "colorbar": {
              "outlinewidth": 0,
              "ticks": ""
             }
            },
            "type": "scattermapbox"
           }
          ],
          "scatterpolar": [
           {
            "marker": {
             "colorbar": {
              "outlinewidth": 0,
              "ticks": ""
             }
            },
            "type": "scatterpolar"
           }
          ],
          "scatterpolargl": [
           {
            "marker": {
             "colorbar": {
              "outlinewidth": 0,
              "ticks": ""
             }
            },
            "type": "scatterpolargl"
           }
          ],
          "scatterternary": [
           {
            "marker": {
             "colorbar": {
              "outlinewidth": 0,
              "ticks": ""
             }
            },
            "type": "scatterternary"
           }
          ],
          "surface": [
           {
            "colorbar": {
             "outlinewidth": 0,
             "ticks": ""
            },
            "colorscale": [
             [
              0,
              "#0d0887"
             ],
             [
              0.1111111111111111,
              "#46039f"
             ],
             [
              0.2222222222222222,
              "#7201a8"
             ],
             [
              0.3333333333333333,
              "#9c179e"
             ],
             [
              0.4444444444444444,
              "#bd3786"
             ],
             [
              0.5555555555555556,
              "#d8576b"
             ],
             [
              0.6666666666666666,
              "#ed7953"
             ],
             [
              0.7777777777777778,
              "#fb9f3a"
             ],
             [
              0.8888888888888888,
              "#fdca26"
             ],
             [
              1,
              "#f0f921"
             ]
            ],
            "type": "surface"
           }
          ],
          "table": [
           {
            "cells": {
             "fill": {
              "color": "#EBF0F8"
             },
             "line": {
              "color": "white"
             }
            },
            "header": {
             "fill": {
              "color": "#C8D4E3"
             },
             "line": {
              "color": "white"
             }
            },
            "type": "table"
           }
          ]
         },
         "layout": {
          "annotationdefaults": {
           "arrowcolor": "#2a3f5f",
           "arrowhead": 0,
           "arrowwidth": 1
          },
          "autotypenumbers": "strict",
          "coloraxis": {
           "colorbar": {
            "outlinewidth": 0,
            "ticks": ""
           }
          },
          "colorscale": {
           "diverging": [
            [
             0,
             "#8e0152"
            ],
            [
             0.1,
             "#c51b7d"
            ],
            [
             0.2,
             "#de77ae"
            ],
            [
             0.3,
             "#f1b6da"
            ],
            [
             0.4,
             "#fde0ef"
            ],
            [
             0.5,
             "#f7f7f7"
            ],
            [
             0.6,
             "#e6f5d0"
            ],
            [
             0.7,
             "#b8e186"
            ],
            [
             0.8,
             "#7fbc41"
            ],
            [
             0.9,
             "#4d9221"
            ],
            [
             1,
             "#276419"
            ]
           ],
           "sequential": [
            [
             0,
             "#0d0887"
            ],
            [
             0.1111111111111111,
             "#46039f"
            ],
            [
             0.2222222222222222,
             "#7201a8"
            ],
            [
             0.3333333333333333,
             "#9c179e"
            ],
            [
             0.4444444444444444,
             "#bd3786"
            ],
            [
             0.5555555555555556,
             "#d8576b"
            ],
            [
             0.6666666666666666,
             "#ed7953"
            ],
            [
             0.7777777777777778,
             "#fb9f3a"
            ],
            [
             0.8888888888888888,
             "#fdca26"
            ],
            [
             1,
             "#f0f921"
            ]
           ],
           "sequentialminus": [
            [
             0,
             "#0d0887"
            ],
            [
             0.1111111111111111,
             "#46039f"
            ],
            [
             0.2222222222222222,
             "#7201a8"
            ],
            [
             0.3333333333333333,
             "#9c179e"
            ],
            [
             0.4444444444444444,
             "#bd3786"
            ],
            [
             0.5555555555555556,
             "#d8576b"
            ],
            [
             0.6666666666666666,
             "#ed7953"
            ],
            [
             0.7777777777777778,
             "#fb9f3a"
            ],
            [
             0.8888888888888888,
             "#fdca26"
            ],
            [
             1,
             "#f0f921"
            ]
           ]
          },
          "colorway": [
           "#636efa",
           "#EF553B",
           "#00cc96",
           "#ab63fa",
           "#FFA15A",
           "#19d3f3",
           "#FF6692",
           "#B6E880",
           "#FF97FF",
           "#FECB52"
          ],
          "font": {
           "color": "#2a3f5f"
          },
          "geo": {
           "bgcolor": "white",
           "lakecolor": "white",
           "landcolor": "#E5ECF6",
           "showlakes": true,
           "showland": true,
           "subunitcolor": "white"
          },
          "hoverlabel": {
           "align": "left"
          },
          "hovermode": "closest",
          "mapbox": {
           "style": "light"
          },
          "paper_bgcolor": "white",
          "plot_bgcolor": "#E5ECF6",
          "polar": {
           "angularaxis": {
            "gridcolor": "white",
            "linecolor": "white",
            "ticks": ""
           },
           "bgcolor": "#E5ECF6",
           "radialaxis": {
            "gridcolor": "white",
            "linecolor": "white",
            "ticks": ""
           }
          },
          "scene": {
           "xaxis": {
            "backgroundcolor": "#E5ECF6",
            "gridcolor": "white",
            "gridwidth": 2,
            "linecolor": "white",
            "showbackground": true,
            "ticks": "",
            "zerolinecolor": "white"
           },
           "yaxis": {
            "backgroundcolor": "#E5ECF6",
            "gridcolor": "white",
            "gridwidth": 2,
            "linecolor": "white",
            "showbackground": true,
            "ticks": "",
            "zerolinecolor": "white"
           },
           "zaxis": {
            "backgroundcolor": "#E5ECF6",
            "gridcolor": "white",
            "gridwidth": 2,
            "linecolor": "white",
            "showbackground": true,
            "ticks": "",
            "zerolinecolor": "white"
           }
          },
          "shapedefaults": {
           "line": {
            "color": "#2a3f5f"
           }
          },
          "ternary": {
           "aaxis": {
            "gridcolor": "white",
            "linecolor": "white",
            "ticks": ""
           },
           "baxis": {
            "gridcolor": "white",
            "linecolor": "white",
            "ticks": ""
           },
           "bgcolor": "#E5ECF6",
           "caxis": {
            "gridcolor": "white",
            "linecolor": "white",
            "ticks": ""
           }
          },
          "title": {
           "x": 0.05
          },
          "xaxis": {
           "automargin": true,
           "gridcolor": "white",
           "linecolor": "white",
           "ticks": "",
           "title": {
            "standoff": 15
           },
           "zerolinecolor": "white",
           "zerolinewidth": 2
          },
          "yaxis": {
           "automargin": true,
           "gridcolor": "white",
           "linecolor": "white",
           "ticks": "",
           "title": {
            "standoff": 15
           },
           "zerolinecolor": "white",
           "zerolinewidth": 2
          }
         }
        },
        "title": {
         "text": "Most Popular Genres (Based on Critics' Scores - Past 10 Years)",
         "x": 0.5
        },
        "xaxis": {
         "anchor": "y",
         "domain": [
          0,
          1
         ],
         "title": {
          "text": "Genre"
         }
        },
        "yaxis": {
         "anchor": "x",
         "domain": [
          0,
          1
         ],
         "title": {
          "text": "Average Critics' Score"
         }
        }
       }
      }
     },
     "metadata": {},
     "output_type": "display_data"
    }
   ],
   "source": [
    "# Step 1: Create a temporary DataFrame for analysis\n",
    "temp_df = df_movies.copy()\n",
    "\n",
    "# Step 2: Parse the 'rt_genres' column into lists of dictionaries\n",
    "temp_df['rt_genres'] = temp_df['rt_genres'].apply(\n",
    "    lambda x: ast.literal_eval(x) if isinstance(x, str) else []\n",
    ")\n",
    "\n",
    "# Step 3: Expand the genres into separate rows\n",
    "genres_expanded = temp_df.explode('rt_genres')\n",
    "\n",
    "# Step 4: Extract the genre names\n",
    "genres_expanded['genre_name'] = genres_expanded['rt_genres'].apply(\n",
    "    lambda x: x['name'] if isinstance(x, dict) else None\n",
    ")\n",
    "\n",
    "# Step 5: Filter for movies released in the past 10 years\n",
    "genres_expanded['release_year'] = pd.to_datetime(genres_expanded['rt_release_date'], errors='coerce').dt.year\n",
    "current_year = pd.Timestamp.now().year\n",
    "genres_expanded = genres_expanded[genres_expanded['release_year'].between(current_year - 10, current_year)]\n",
    "\n",
    "# Step 6: Group data by genre and calculate popularity metrics\n",
    "# Based on the number of reviews\n",
    "reviews_popularity = genres_expanded.groupby('genre_name')['rt_review_count'].sum().reset_index()\n",
    "reviews_popularity = reviews_popularity.sort_values(by='rt_review_count', ascending=False)\n",
    "\n",
    "# Based on critics' scores\n",
    "critics_popularity = genres_expanded.groupby('genre_name')['rt_critics_score'].mean().reset_index()\n",
    "critics_popularity = critics_popularity.sort_values(by='rt_critics_score', ascending=False)\n",
    "\n",
    "# Step 7: Plot the data\n",
    "\n",
    "# Plot 1: Popular genres based on the number of reviews\n",
    "fig_reviews = px.bar(\n",
    "    reviews_popularity,\n",
    "    x='genre_name',\n",
    "    y='rt_review_count',\n",
    "    title='Most Popular Genres (Based on Number of Reviews - Past 10 Years)',\n",
    "    labels={'genre_name': 'Genre', 'rt_review_count': 'Number of Reviews'},\n",
    "    text='rt_review_count'\n",
    ")\n",
    "fig_reviews.update_traces(textposition='outside')\n",
    "fig_reviews.update_layout(\n",
    "    xaxis_title='Genre',\n",
    "    yaxis_title='Number of Reviews',\n",
    "    title_x=0.5\n",
    ")\n",
    "\n",
    "# Plot 2: Popular genres based on critics' scores\n",
    "fig_critics = px.bar(\n",
    "    critics_popularity,\n",
    "    x='genre_name',\n",
    "    y='rt_critics_score',\n",
    "    title='Most Popular Genres (Based on Critics\\' Scores - Past 10 Years)',\n",
    "    labels={'genre_name': 'Genre', 'rt_critics_score': 'Average Critics\\' Score'},\n",
    "    text='rt_critics_score'\n",
    ")\n",
    "fig_critics.update_traces(textposition='outside')\n",
    "fig_critics.update_layout(\n",
    "    xaxis_title='Genre',\n",
    "    yaxis_title='Average Critics\\' Score',\n",
    "    title_x=0.5\n",
    ")\n",
    "\n",
    "# Show the plots\n",
    "fig_reviews.show()\n",
    "fig_critics.show()"
   ]
  },
  {
   "cell_type": "markdown",
   "metadata": {},
   "source": [
    "# Second Part: Movie Revenue Prediction"
   ]
  },
  {
   "cell_type": "markdown",
   "metadata": {},
   "source": [
    "## Data Preparation"
   ]
  },
  {
   "cell_type": "markdown",
   "metadata": {},
   "source": [
    "## Creating New Features"
   ]
  },
  {
   "cell_type": "markdown",
   "metadata": {},
   "source": [
    "## Training"
   ]
  },
  {
   "cell_type": "markdown",
   "metadata": {},
   "source": [
    "## Evaluation"
   ]
  },
  {
   "cell_type": "markdown",
   "metadata": {},
   "source": [
    "## Conclusion"
   ]
  }
 ],
 "metadata": {
  "kernelspec": {
   "display_name": "Python 3",
   "language": "python",
   "name": "python3"
  },
  "language_info": {
   "codemirror_mode": {
    "name": "ipython",
    "version": 3
   },
   "file_extension": ".py",
   "mimetype": "text/x-python",
   "name": "python",
   "nbconvert_exporter": "python",
   "pygments_lexer": "ipython3",
   "version": "3.12.0"
  }
 },
 "nbformat": 4,
 "nbformat_minor": 2
}
